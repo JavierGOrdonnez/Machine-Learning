{
 "cells": [
  {
   "cell_type": "markdown",
   "metadata": {
    "colab_type": "text",
    "id": "7-jkWR1LhNMh"
   },
   "source": [
    "# Homework 1   - Javier Garcia Ordonez - 100345713\n",
    "\n",
    "----------------------------------------------------\n",
    "Machine Learning                      \n",
    "\n",
    "Year 2019/2020\n",
    "\n",
    "*Vanessa Gómez Verdejo vanessa@tsc.uc3m.es* \n",
    "\n",
    "----------------------------------------------------"
   ]
  },
  {
   "cell_type": "markdown",
   "metadata": {},
   "source": [
    "<span style=\"color:red\">\n",
    "NOTEBOOK GRADE: 10 <br>\n",
    "EXAM GRADE: 8.25 <br> \n",
    "OVERALL GRADE: 9.13\n",
    "</span>"
   ]
  },
  {
   "cell_type": "markdown",
   "metadata": {
    "colab_type": "text",
    "id": "xfXCi3qshchx"
   },
   "source": [
    "The goal of this practice is to analyze the performance of different estimators on the Diabetes problem and we will analyze, by means of different approximations, which input features are more relevant to solve this problem. \n",
    "\n",
    "Note that previous week we already worked on Diabetes database, but we only used one of the input variable (BMI) to construct the regression model; in this practice we will use all the input features jointly.\n",
    "\n",
    "To solve these notebook, complete the following sections implementing the solution that you consider most appropriate and showing the results that you find most interesting. For the evaluation of this notebook,  we will take into account the methodology used, the solution adopted, the presentation of the results and the conclusions obtained at the light of the results.\n"
   ]
  },
  {
   "cell_type": "markdown",
   "metadata": {
    "colab_type": "text",
    "id": "nCXU4m2YmB2y"
   },
   "source": [
    "## 1. Data loading and preprocessing\n",
    "\n",
    "Following the ML pipeline, start loading the data, creating the partitions that you consider necessary and carrying out the preprocessing that you need.\n",
    "\n",
    "Keep in mind that there is no single valid solution, and different reasons can lead you to make different data partitions or apply different normalizations. So **please justify the steps you are taking**."
   ]
  },
  {
   "cell_type": "code",
   "execution_count": 1,
   "metadata": {
    "colab": {},
    "colab_type": "code",
    "id": "-7fqumVhhJAl"
   },
   "outputs": [],
   "source": [
    "# Data loading and preprocessing\n",
    "\n",
    "# Import necessary modules\n",
    "import numpy as np\n",
    "import pandas as pd\n",
    "import matplotlib.pyplot as plt\n",
    "\n",
    "from sklearn.datasets import load_diabetes\n",
    "from sklearn.model_selection import train_test_split\n",
    "from sklearn.preprocessing import StandardScaler"
   ]
  },
  {
   "cell_type": "code",
   "execution_count": 2,
   "metadata": {
    "colab": {},
    "colab_type": "code",
    "id": "zemNGztJfH-Z"
   },
   "outputs": [],
   "source": [
    "# Load the diabetes dataset\n",
    "diabetes = load_diabetes()\n",
    "X = diabetes.data\n",
    "Y = diabetes.target\n",
    "feature_names = diabetes.feature_names"
   ]
  },
  {
   "cell_type": "markdown",
   "metadata": {},
   "source": [
    "Data is to be partitioned into training and test data (80%-20% respectively). No validation set is to be generated as later we will be using cross-validation with the function GridSearchCV, which performs the training-validation partition by itself.\n",
    "\n",
    "Then, both data partitions are normalized."
   ]
  },
  {
   "cell_type": "code",
   "execution_count": 3,
   "metadata": {
    "colab": {},
    "colab_type": "code",
    "id": "ZT8rXwbXfiBz"
   },
   "outputs": [],
   "source": [
    "# Generate train and test partitions\n",
    "import random\n",
    "random.seed(42)\n",
    "\n",
    "X_train, X_test, Y_train, Y_test = train_test_split(X, Y, test_size=0.2, random_state=25)\n",
    "\n",
    "# Data normalization\n",
    "transformer = StandardScaler().fit(X_train)  # fit() learns mean and std parameters\n",
    "X_train = transformer.transform(X_train) # transform() normalizes\n",
    "X_test =  transformer.transform(X_test)"
   ]
  },
  {
   "cell_type": "markdown",
   "metadata": {},
   "source": [
    "**Note**: it has been observed that changing the random_state of the train_test_split function (or eliminating it, letting it random) greatly changes the test scores yielded, and sometimes the choice of the hyperparameters. This makes sense, as our database only contains 442 data points, and therefore which ones we include in the test and training sets affects the results. \n",
    "\n",
    "There is little we can do about it. To make results reproducible, the random seed has been fixed, and the random_state is also set to a fixed value (0)."
   ]
  },
  {
   "cell_type": "markdown",
   "metadata": {},
   "source": [
    "<span style=\"color:red\">\n",
    "Great, you are right. The only thing to do is repeat several times the experiments with different train/test partitions and compute the final test results as an average value over all partitions. Of course, for each partition, it's possible that you will select diferent parameters, features, ...\n",
    "</span>"
   ]
  },
  {
   "cell_type": "markdown",
   "metadata": {
    "colab_type": "text",
    "id": "fe7_QAXDmatm"
   },
   "source": [
    "## 2. Performance evaluation \n",
    "\n",
    "Now, analyze the performance of different estimators to predict the diabetes progression from all the available features. \n",
    "\n",
    "As possible estimators to be included in this study, we will consider those studied so far: K-NN, linear regressor, polynomial regressor and their regularized versions. Please, in case these methods have any free hiperparameter, **clearly justify** the selection of their optimal values.\n",
    "\n",
    "As you know, for the performance evaluation, we have seen several metrics. So, here, you can use one or several of them. But, regardless of the used metric, don't forget to include a final analysis comparing the performance of different methods and trying to justify the obtained results."
   ]
  },
  {
   "cell_type": "markdown",
   "metadata": {},
   "source": [
    "### 2.0 Score\n",
    "For evaluation of all the methods, R2 score is going to be used. It is the most used metric, as it is easy to interpret: 1.00 would mean no error; 0.00 would mean predicting always the mean, and negative would be performing even worse."
   ]
  },
  {
   "cell_type": "markdown",
   "metadata": {
    "colab_type": "text",
    "id": "PsPte6LjhO00"
   },
   "source": [
    "### 2.1 K-NN\n",
    "First of all, let's use the K-NN estimator in order to try to predict disease progression\n",
    "\n",
    "As we have a free hyperparameter, **k** (the number of neighbors), we need to cross-validate it. For cross-validation, the function GridSearchCV is going to be used."
   ]
  },
  {
   "cell_type": "code",
   "execution_count": 4,
   "metadata": {
    "colab": {
     "base_uri": "https://localhost:8080/",
     "height": 349
    },
    "colab_type": "code",
    "id": "2Z9S0szahV3M",
    "outputId": "76bcbafd-a4c1-4763-ac4d-53d5015fa40f"
   },
   "outputs": [
    {
     "data": {
      "image/png": "[encoded data removed]",
      "text/plain": [
       "<Figure size 432x288 with 1 Axes>"
      ]
     },
     "metadata": {
      "needs_background": "light"
     },
     "output_type": "display_data"
    },
    {
     "name": "stdout",
     "output_type": "stream",
     "text": [
      "The optimal k value is 23\n"
     ]
    }
   ],
   "source": [
    "from sklearn.neighbors import KNeighborsRegressor\n",
    "from sklearn.model_selection import GridSearchCV\n",
    "\n",
    "# Create a KNN object from th SKlearn module\n",
    "neigh = KNeighborsRegressor()  \n",
    "\n",
    "# Perform a Cross-Validation in order to choose the hiperparameter K\n",
    "rang_k = np.arange(1,50)\n",
    "parameters = {'n_neighbors' : rang_k}\n",
    "clf = GridSearchCV(neigh,parameters,iid=False,cv=10, scoring = 'r2')\n",
    "clf.fit(X_train,Y_train) # this executes the cross-validation\n",
    "\n",
    "# Visualize the results of CrossValidation\n",
    "plt.figure()\n",
    "plt.plot(rang_k, clf.cv_results_['mean_test_score'])\n",
    "plt.title('Cross-validation R2 score for different K values')\n",
    "plt.show()\n",
    "\n",
    "optimk = clf.best_params_['n_neighbors']\n",
    "print('The optimal k value is %d' %optimk)\n",
    "\n",
    "# The KNN estimator, already trained with the optimal K and fitted to our data\n",
    "neigh = clf.best_estimator_"
   ]
  },
  {
   "cell_type": "code",
   "execution_count": 5,
   "metadata": {
    "colab": {
     "base_uri": "https://localhost:8080/",
     "height": 34
    },
    "colab_type": "code",
    "id": "lxESgYieloZx",
    "outputId": "458ad67d-42d2-439f-9606-dc6bdc858578"
   },
   "outputs": [
    {
     "name": "stdout",
     "output_type": "stream",
     "text": [
      "The test R2 score of the KNN method is 0.403\n"
     ]
    }
   ],
   "source": [
    "# Let's now evaluate the performance of the KNN regressor over the test data\n",
    "from sklearn.metrics import r2_score\n",
    "\n",
    "knn_prediction = neigh.predict(X_test)\n",
    "knn_score = r2_score(Y_test,knn_prediction)\n",
    "print('The test R2 score of the KNN method is %.3f' %knn_score)"
   ]
  },
  {
   "cell_type": "markdown",
   "metadata": {
    "colab_type": "text",
    "id": "ZjAMKXTQhWcN"
   },
   "source": [
    "### 2.2. Linear regressor (and regularized versions)\n",
    "The linear regressor has a unique solution. No hyperparameters are needed. \n",
    "\n",
    "Nevertheless, we can include L1 (Lasso), L2 (Ridge) regularization in order to avoid overfitting, due to very large values of some of the weights. Both regularization techniques have an hyperparameter $\\alpha$ which should be cross validated. Also, we can use ElasticNet, which combines both L1 and L2 regularizations. It is necessary to cross-validate two hyperparameters, $\\alpha$ and the ratio of L1/L2 regularization."
   ]
  },
  {
   "cell_type": "code",
   "execution_count": 6,
   "metadata": {
    "colab": {
     "base_uri": "https://localhost:8080/",
     "height": 251
    },
    "colab_type": "code",
    "id": "bYh5FKUchbTE",
    "outputId": "4381fcfb-5548-46fd-e073-bb9787b2b9e8"
   },
   "outputs": [
    {
     "name": "stdout",
     "output_type": "stream",
     "text": [
      "Linear regressor :\n",
      "\tTrain R2 score 0.528. Test R2 score 0.437.\n",
      "Lasso regressor with α = 0.500 :\n",
      "\tTrain R2 score 0.527. Test R2 score 0.431.\n",
      "Ridge regressor with α = 10.000 :\n",
      "\tTrain R2 score 0.527. Test R2 score 0.433.\n",
      "ElasticNet regressor with α = 0.100 and ratio 0.3.\n",
      "\tTrain R2 score 0.526. Test R2 score 0.435.\n"
     ]
    }
   ],
   "source": [
    "import sklearn.linear_model as ln\n",
    "\n",
    "# Let's train several different linear regressors, and find their score\n",
    "\n",
    "# Ordinary least squares linear regression\n",
    "linear = ln.LinearRegression(fit_intercept=True).fit(X_train,Y_train)\n",
    "linear_prediction = linear.predict(X_test)\n",
    "linear_score = r2_score(Y_test,linear_prediction)\n",
    "print('Linear regressor :')\n",
    "print('\\tTrain R2 score %.3f. Test R2 score %.3f.' %(linear.score(X_train,Y_train),linear.score(X_test,Y_test)))\n",
    "\n",
    "\n",
    "# Lasso. Needed to cross-validate alpha\n",
    "lasso = ln.Lasso(fit_intercept=True)\n",
    "rang_alpha = [0.01, 0.05, 0.1, 0.5, 1, 5, 10, 50, 100]\n",
    "parameters = {'alpha': rang_alpha}\n",
    "clf = GridSearchCV(lasso,parameters,iid=False,cv=10, scoring= 'r2')\n",
    "clf.fit(X_train,Y_train)\n",
    "lasso = clf.best_estimator_\n",
    "lasso_prediction = lasso.predict(X_test)\n",
    "lasso_score = r2_score(Y_test,lasso_prediction)\n",
    "print('Lasso regressor with \\u03B1 = %.3f :' %(clf.best_params_['alpha']))\n",
    "print('\\tTrain R2 score %.3f. Test R2 score %.3f.' %(lasso.score(X_train,Y_train),lasso.score(X_test,Y_test)))\n",
    "\n",
    "# Ridge. Needed to cross-validate alpha\n",
    "rang_alpha = [0.01, 0.05, 0.1, 0.5, 1, 5, 10, 50, 100]\n",
    "parameters = {'alpha' : rang_alpha}\n",
    "clf = GridSearchCV(ln.Ridge(fit_intercept=True),parameters,iid=False,cv=10, scoring= 'r2')\n",
    "clf.fit(X_train,Y_train)\n",
    "ridge = clf.best_estimator_\n",
    "ridge_prediction = ridge.predict(X_test)\n",
    "ridge_score = r2_score(Y_test,ridge_prediction)\n",
    "print('Ridge regressor with \\u03B1 = %.3f :' %(clf.best_params_['alpha']))\n",
    "print('\\tTrain R2 score %.3f. Test R2 score %.3f.' %(ridge.score(X_train,Y_train),ridge.score(X_test,Y_test)))\n",
    "\n",
    "# ElasticNet. Needed to cross-validate alpha\n",
    "rang_alpha = [0.01, 0.05, 0.1, 0.5, 1, 5, 10, 50, 100]\n",
    "ratio = np.arange(0.1,1,0.1)\n",
    "parameters = {'alpha' : rang_alpha, 'l1_ratio':ratio}\n",
    "clf = GridSearchCV(ln.ElasticNet(fit_intercept=True,max_iter=1000000),parameters,iid=False,cv=10, scoring= 'r2')\n",
    "clf.fit(X_train,Y_train)\n",
    "elasticnet = clf.best_estimator_\n",
    "elasticnet_prediction = elasticnet.predict(X_test)\n",
    "elasticnet_score = r2_score(Y_test,elasticnet_prediction)\n",
    "print('ElasticNet regressor with \\u03B1 = %.3f and ratio %.1f.' %(clf.best_params_['alpha'], clf.best_params_['l1_ratio']))\n",
    "print('\\tTrain R2 score %.3f. Test R2 score %.3f.' %(elasticnet.score(X_train,Y_train),elasticnet.score(X_test,Y_test)))"
   ]
  },
  {
   "cell_type": "markdown",
   "metadata": {},
   "source": [
    "We can see that both the unregularized and regularized linear regressors perform very similarly. Probably this is due to the number of weights (which equals the number of features, 10, plus the bias) is much smaller than the number of training points (353). Therefore, the linear regressor model does not have enough flexibility to overfit, and regularization is not so necessary."
   ]
  },
  {
   "cell_type": "markdown",
   "metadata": {},
   "source": [
    "<span style=\"color:red\">\n",
    "Yes! I agree with you.\n",
    "</span>"
   ]
  },
  {
   "cell_type": "markdown",
   "metadata": {
    "colab_type": "text",
    "id": "F1RgTm6RhbjE"
   },
   "source": [
    "### 2.3. Polynomial regressor\n",
    "It may happen that a higher order combination of the features makes the model more able to predict the outcome. That is, we are able to use a linear regressor to fit non-linear (polynomial) data. In order to do so, we will use the function PolynomialFeatures to make all possible feature combinations up to a given degree.\n",
    "\n",
    "In order to include the polynomial features into a regressor, a new regressor class is to be defined. Then, the desired polynomial degree can be specified as a parameter, and so we can perform a greedy search with GridSearchCV. Moreover, we have included the kind of regressor (regularization) as another parameter, so that this can also be included in the greedy search.\n",
    "\n",
    "For the regressor class to work with GridSearchCV, the methods \"fit\",\"predict\",\"score\",\"set_params\" and \"get_params\" have been created following the requirements specified in the scikit documentation."
   ]
  },
  {
   "cell_type": "code",
   "execution_count": 7,
   "metadata": {},
   "outputs": [],
   "source": [
    "from sklearn import metrics\n",
    "from sklearn.preprocessing import PolynomialFeatures\n",
    "\n",
    "class PolyReg:\n",
    "    def __init__(self,n_degree=2,regressor='linear',alpha=1,l1_ratio=0.5):\n",
    "        self.n_degree = n_degree\n",
    "        self.alpha = alpha\n",
    "        self.regressor_mode = regressor\n",
    "        self.l1_ratio = l1_ratio\n",
    "    \n",
    "    def fit(self,X,Y):\n",
    "        # Create the regressor with the given parameters\n",
    "        if   self.regressor_mode == 'linear':\n",
    "            self.regressor = ln.LinearRegression(fit_intercept=True)\n",
    "        elif self.regressor_mode == 'Lasso':\n",
    "            self.regressor = ln.Lasso(fit_intercept=True, alpha = self.alpha , max_iter = 1000000)\n",
    "        elif self.regressor_mode == 'Ridge':\n",
    "            self.regressor = ln.Ridge(fit_intercept=True, alpha = self.alpha , max_iter = 1000000)  \n",
    "        elif self.regressor_mode == 'ElasticNet':\n",
    "            self.regressor = ln.ElasticNet(fit_intercept=True , alpha = self.alpha, l1_ratio = self.l1_ratio, max_iter = 1000000) \n",
    "            # l1_ratio is set by default to 0.5, that is, both L1 and L2 having the same weight\n",
    "\n",
    "        # Define the polynomial features\n",
    "        self.polynomial_features = PolynomialFeatures(degree=self.n_degree,include_bias=False)\n",
    "        X_poly = self.polynomial_features.fit_transform(X)  # We will find the polynomial degree that fits best for each regularization, and then we will evaluate them\n",
    "        self.transformer = StandardScaler().fit(X_poly)\n",
    "        X_poly = self.transformer.transform(X_poly)\n",
    "\n",
    "        # Fit the regressor with the polynomial features\n",
    "        self.regressor.fit(X_poly,Y)  \n",
    "        \n",
    "        return self.regressor\n",
    "\n",
    "    def predict(self,X): \n",
    "        # Transform the evaluation input in a polynomial set of features, and normalize them\n",
    "        # according to the transformations set during training\n",
    "        X_poly = self.polynomial_features.fit_transform(X)\n",
    "        X_poly = self.transformer.transform(X_poly)\n",
    "        prediction = self.regressor.predict(X_poly)\n",
    "        return prediction\n",
    "    \n",
    "    def score(self,X,Y):\n",
    "        predictions = self.predict(X)\n",
    "        score = metrics.r2_score(Y,predictions)\n",
    "        return score    \n",
    "    \n",
    "    def get_params(self,deep=False):\n",
    "        if self.regressor_mode == 'linear':\n",
    "            r = {'regressor': self.regressor_mode, 'n_degree': self.n_degree}\n",
    "        else:\n",
    "            r = {'alpha':self.alpha , 'regressor': self.regressor_mode, 'n_degree': self.n_degree}\n",
    "        return r\n",
    "    \n",
    "    def set_params(self,**parameters):\n",
    "        if self.regressor_mode == 'linear':\n",
    "            self.n_degree = parameters['n_degree']\n",
    "        else:\n",
    "            self.alpha = parameters['alpha']\n",
    "            self.n_degree = parameters['n_degree']   \n",
    "#         print(parameters)\n",
    "        return self"
   ]
  },
  {
   "cell_type": "markdown",
   "metadata": {},
   "source": [
    "<span style=\"color:red\">\n",
    "You have define your own class! Impressive!!!! You can also use pipelines!!!\n",
    "</span>"
   ]
  },
  {
   "cell_type": "markdown",
   "metadata": {},
   "source": [
    "Let's test that the regressor class that we have defined works as expected, and it yields the same results than the previous section, when setting n_degree to 1 (that is, there are no polynomial features)."
   ]
  },
  {
   "cell_type": "code",
   "execution_count": 8,
   "metadata": {},
   "outputs": [
    {
     "name": "stdout",
     "output_type": "stream",
     "text": [
      "The R2 score of the linear regressor is 0.437303. Previous section: 0.437303.\n",
      "The R2 score of the Lasso  regressor is 0.430959. Previous section: 0.430621.\n",
      "The R2 score of the Ridge  regressor is 0.433139. Previous section: 0.433139.\n",
      "The R2 score of the ElasticNet  regressor is 0.434592. Previous section: 0.435159.\n"
     ]
    }
   ],
   "source": [
    "myLinear = PolyReg(n_degree=1,regressor = 'linear')\n",
    "myLasso  = PolyReg(n_degree=1,regressor = 'Lasso', alpha = 1)\n",
    "myRidge  = PolyReg(n_degree=1,regressor = 'Ridge', alpha = 10)\n",
    "myElasticNet  = PolyReg(n_degree=1,regressor = 'ElasticNet', alpha = 0.1, l1_ratio = 0.4)\n",
    "\n",
    "myLinear.fit(X_train,Y_train)\n",
    "myLasso.fit(X_train,Y_train)\n",
    "myRidge.fit(X_train,Y_train)\n",
    "myElasticNet.fit(X_train,Y_train)\n",
    "\n",
    "print('The R2 score of the linear regressor is %f. Previous section: %f.' %(myLinear.score(X_test,Y_test),linear_score))\n",
    "print('The R2 score of the Lasso  regressor is %f. Previous section: %f.' %(myLasso.score(X_test,Y_test),lasso_score))\n",
    "print('The R2 score of the Ridge  regressor is %f. Previous section: %f.' %(myRidge.score(X_test,Y_test),ridge_score))\n",
    "print('The R2 score of the ElasticNet  regressor is %f. Previous section: %f.' %(myElasticNet.score(X_test,Y_test),elasticnet_score))"
   ]
  },
  {
   "cell_type": "markdown",
   "metadata": {},
   "source": [
    "We can see that the results are exactly identical to those of the previous section (using the same hyperparameters).\n",
    "\n",
    "Now proceed to use GridSearchCV to cross-validate the degree of the polynomial regressor and the alpha value for the different linear regressors:"
   ]
  },
  {
   "cell_type": "code",
   "execution_count": 9,
   "metadata": {},
   "outputs": [
    {
     "name": "stdout",
     "output_type": "stream",
     "text": [
      "Polynomial linear regressor with degree 1\n",
      "\tTrain R2 score 0.528. Test R2 score 0.437.\n",
      "Polynomial Lasso regressor with degree 1 and α = 0.500\n",
      "\tTrain R2 score 0.527. Test R2 score 0.431.\n",
      "Polynomial Ridge regressor with degree 1 and α = 10.000\n",
      "\tTrain R2 score 0.527. Test R2 score 0.433.\n",
      "Polynomial ElasticNet regressor with degree 1, α = 0.100 and ratio 0.1.\n",
      "\tTrain R2 score 0.526. Test R2 score 0.434.\n"
     ]
    }
   ],
   "source": [
    "rang_alpha = [0.1, 0.5, 1, 5, 10, 50, 100, 500, 1000, 5000]\n",
    "degrees = np.arange(3) + 1\n",
    "ratios = np.arange(0.1,1,0.1)\n",
    "CV = 10\n",
    "\n",
    "parameters = {'n_degree':degrees}\n",
    "clf_linear = GridSearchCV(PolyReg(regressor='linear'),parameters,iid=False,cv=CV, scoring= 'r2')\n",
    "clf_linear.fit(X_train,Y_train)\n",
    "print('Polynomial linear regressor with degree %d' %(clf_linear.best_params_['n_degree']))\n",
    "print('\\tTrain R2 score %.3f. Test R2 score %.3f.' %(clf_linear.best_estimator_.score(X_train,Y_train),clf_linear.best_estimator_.score(X_test,Y_test)))\n",
    "\n",
    "parameters = {'alpha':rang_alpha , 'n_degree':degrees}\n",
    "clf_lasso = GridSearchCV(PolyReg(regressor='Lasso'),parameters,iid=False,cv=CV, scoring= 'r2')\n",
    "clf_lasso.fit(X_train,Y_train)\n",
    "print('Polynomial Lasso regressor with degree %d and \\u03B1 = %.3f' %(clf_lasso.best_params_['n_degree'],clf_lasso.best_params_['alpha']))\n",
    "print('\\tTrain R2 score %.3f. Test R2 score %.3f.' %(clf_lasso.best_estimator_.score(X_train,Y_train),clf_lasso.best_estimator_.score(X_test,Y_test)))\n",
    "\n",
    "clf_ridge = GridSearchCV(PolyReg(regressor='Ridge'),parameters,iid=False,cv=CV, scoring= 'r2')\n",
    "clf_ridge.fit(X_train,Y_train)\n",
    "print('Polynomial Ridge regressor with degree %d and \\u03B1 = %.3f' %(clf_ridge.best_params_['n_degree'],clf_ridge.best_params_['alpha']))\n",
    "print('\\tTrain R2 score %.3f. Test R2 score %.3f.' %(clf_ridge.best_estimator_.score(X_train,Y_train),clf_ridge.best_estimator_.score(X_test,Y_test)))\n",
    "\n",
    "parameters = {'alpha':rang_alpha , 'n_degree':degrees,'l1_ratio':ratios}\n",
    "clf_elasticnet = GridSearchCV(PolyReg(regressor='ElasticNet'),parameters,iid=False,cv=CV, scoring= 'r2')\n",
    "clf_elasticnet.fit(X_train,Y_train)\n",
    "print('Polynomial ElasticNet regressor with degree %d, \\u03B1 = %.3f and ratio %.1f.' %(clf_elasticnet.best_params_['n_degree'],clf_elasticnet.best_params_['alpha'], clf_elasticnet.best_params_['l1_ratio']))\n",
    "print('\\tTrain R2 score %.3f. Test R2 score %.3f.' %(clf_elasticnet.best_estimator_.score(X_train,Y_train),clf_elasticnet.best_estimator_.score(X_test,Y_test)))"
   ]
  },
  {
   "cell_type": "markdown",
   "metadata": {},
   "source": [
    "<span style=\"color:red\">\n",
    "Be careful with the selected parameters. Elastic-net is fixing alpha to 0.1, this value is just in the extreme of the range taht you have explored; you should increase the rage of values to be explored. The same is happening with ratio. Anyway, I don't think that increasing the range is going to change the results.\n",
    "</span>"
   ]
  },
  {
   "cell_type": "markdown",
   "metadata": {},
   "source": [
    "We can see that the best results are still for degree 1. Let's visualize this (with a custom function):"
   ]
  },
  {
   "cell_type": "code",
   "execution_count": 10,
   "metadata": {},
   "outputs": [],
   "source": [
    "# Let's define a function that given the name of a parameter and a value for it, \n",
    "# plots the result for those parameter=value in the CV process\n",
    "import pandas as pd\n",
    "import matplotlib.pyplot as plt\n",
    "\n",
    "def plot_cv_results(clf,parameter,values,xaxisparameter):\n",
    "    df = pd.DataFrame(clf.cv_results_)\n",
    "    \n",
    "    sx = 'param_' + xaxisparameter\n",
    "    plt.figure()\n",
    "    \n",
    "    s = 'param_'+parameter\n",
    "    for v in values:\n",
    "        my_results_df = df.loc[df[s]==v]\n",
    "        x = my_results_df[sx]\n",
    "        y = my_results_df['mean_test_score']\n",
    "        if s == 'param_alpha':\n",
    "            plt.plot(x,y,'o-',label=parameter+' = ' + str(v))\n",
    "        elif s == 'param_n_degree':\n",
    "            plt.semilogx(x,y,'o-',label=parameter+' = ' + str(v))\n",
    "    \n",
    "    plt.ylim(0.3,0.7)\n",
    "    plt.xlabel(xaxisparameter)\n",
    "    plt.ylabel('Validation R2 score')\n",
    "    plt.legend()\n",
    "    plt.show()"
   ]
  },
  {
   "cell_type": "code",
   "execution_count": 11,
   "metadata": {},
   "outputs": [
    {
     "name": "stdout",
     "output_type": "stream",
     "text": [
      "Polynomial regressor (unregularized)\n"
     ]
    },
    {
     "data": {
      "image/png": "[encoded data removed]",
      "text/plain": [
       "<Figure size 432x288 with 1 Axes>"
      ]
     },
     "metadata": {
      "needs_background": "light"
     },
     "output_type": "display_data"
    },
    {
     "name": "stdout",
     "output_type": "stream",
     "text": [
      "\n",
      "Lasso polynomial regressor\n"
     ]
    },
    {
     "data": {
      "image/png": "[encoded data removed]",
      "text/plain": [
       "<Figure size 432x288 with 1 Axes>"
      ]
     },
     "metadata": {
      "needs_background": "light"
     },
     "output_type": "display_data"
    },
    {
     "name": "stdout",
     "output_type": "stream",
     "text": [
      "\n",
      "Ridge polynomial regressor\n"
     ]
    },
    {
     "data": {
      "image/png": "[encoded data removed]",
      "text/plain": [
       "<Figure size 432x288 with 1 Axes>"
      ]
     },
     "metadata": {
      "needs_background": "light"
     },
     "output_type": "display_data"
    }
   ],
   "source": [
    "print('Polynomial regressor (unregularized)')\n",
    "plt.plot(degrees,clf_linear.cv_results_['mean_test_score'],'o-')\n",
    "plt.xlabel('n_degree')\n",
    "plt.ylabel('Validation R2 score')\n",
    "plt.show()\n",
    "\n",
    "print('\\nLasso polynomial regressor')\n",
    "plot_cv_results(clf_lasso,'n_degree',degrees,'alpha')\n",
    "\n",
    "print('\\nRidge polynomial regressor')\n",
    "plot_cv_results(clf_ridge,'n_degree',degrees,'alpha')"
   ]
  },
  {
   "cell_type": "markdown",
   "metadata": {},
   "source": [
    "In the graphs we can see that the unregularized polynomial regressor performs very poorly for higher degrees, due to overfitting.\n",
    "\n",
    "The Lasso polynomial regressor performs well for values of $\\alpha$ around 1. Nevertheless, the best performance is still obtained for degree 1 (linear features). And we obtain a similar result for the Ridge regressor, at higher values of $\\alpha$."
   ]
  },
  {
   "cell_type": "markdown",
   "metadata": {},
   "source": [
    "#### Conclusions about polynomial regression\n",
    "First of all, higher polynomial degrees greatly increase the computational cost. Actually, for degree 4 and higher the running time was getting remarkably long. Moreover, in this case degree 2 and 3 proved to be not better than linear features, so it does not seem worth to go for higher polynomial orders.\n",
    "\n",
    "An increase in the polynomial degree greatly increases the number of features (from 10 linear features to 64 at degree 2, 285 at degree 3, 1000 at degree 4...). Therefore, the chances of overfitting greatly increase. In the unregularized polynomial regressor, the score greatly decreases for degree 3. This is very reasonable, as we are using 285 polynomial features (therefore 285+1 weights) to predict 353 data points. Therefore, overfitting is very likely to occur.\n",
    "\n",
    "Thus, it is necessary to use regularized linear models when using higher order polynomials, in order to avoid overfitting. Also, in the graphs it can be seen that values of $\\alpha$ have to be at least around the order of magnitude of 1, in order to yield good results. This makes sense, as an small $\\alpha$ means that regularization has small weight. And a very large $\\alpha$ sets most weights to zero and provides bad performance, as the regularization term has more influence than the error in the regression outcome.\n",
    "\n",
    "Additionally, it is remarkable than for small $\\alpha$ and higher degrees, the computation time largely increases, as more iterations are needed for the regressors to converge."
   ]
  },
  {
   "cell_type": "markdown",
   "metadata": {},
   "source": [
    "### Final greedy search\n",
    "Finally, we will perform a greedy search including the type of regressor as a parameter, and obtain the best performing one. In this search, we will be including what we have learnt in the previous section:\n",
    "* Regularized regressors perform poorly with low $\\alpha$, and take a lot of computation. Therefore, small values of $\\alpha$ will not be investigated, and more values around and higher of 1 will be investigated.\n",
    "\n",
    "* Higher order polynomials take more computational time and do not perform well. Therefore, we will restrict this search to degree 3 and lower.\n",
    "\n",
    "**Note**: the ratio parameter of ElasticNet is not to be cross-validated. It is 0.5 by default, giving the same relevance to L1 and L2 regularization. The reason for not including this hyperparameter in the CV is that, when performing a greedy search over all possible combinations of regressor, alpha, and ratio, GridSearchCV would compute different models for different ratios also for the Linear, Lasso and Ridge regressor, which do not depend on such parameter. Therefore, we would be making redundant computations and wasting too much computational power."
   ]
  },
  {
   "cell_type": "code",
   "execution_count": 12,
   "metadata": {},
   "outputs": [
    {
     "name": "stdout",
     "output_type": "stream",
     "text": [
      "The best estimator is the linear regressor with polynomial degree 1\n",
      "Train R2 score: 0.528295\n",
      "Test R2 score: 0.437303\n"
     ]
    }
   ],
   "source": [
    "rang_alpha = [0.1, 0.3, 0.5, 1, 3, 5, 10, 30, 50, 100, 300, 500, 1000, 5000]\n",
    "degrees = np.arange(3) + 1\n",
    "regressors = ['linear','Lasso','Ridge','ElasticNet']\n",
    "parameters = {'alpha':rang_alpha , 'n_degree':degrees,'regressor':regressors}\n",
    "CV = 10\n",
    "\n",
    "clf = GridSearchCV(PolyReg(),parameters,iid=False,cv=CV,scoring='r2')\n",
    "clf.fit(X_train,Y_train)\n",
    "regressor = clf.best_estimator_\n",
    "print('The best estimator is the '+clf.best_params_['regressor']+' regressor with polynomial degree %d' %(clf.best_params_['n_degree']))\n",
    "print('Train R2 score: %f' %regressor.score(X_train,Y_train))\n",
    "print('Test R2 score: %f' %regressor.score(X_test,Y_test))"
   ]
  },
  {
   "cell_type": "markdown",
   "metadata": {},
   "source": [
    "The linear regressor (degree 1) is finally the best performer. The polynomial approach has yielded no useful results, and this is probably due to the absence of higher-order \"good\" features, that is, non-linear combinations of the features that good predictors.\n",
    "\n",
    "Also, the unregularized linear regressor has shown better performance than the regularized ones. However, as we could see at the end of subsection 2.2. , results for all linear models (both regularized and unregularized) were extremely similar, and the fact that the unregularized one provides the slightly better performance is of little significance. Also, this similarity in all results actually may be pointing that regularization is playing little role in the regularized ones, and that regularization is not much needed in this problem, as the number of weigths is much smaller than the number of data points (in the linear case, with degree 1, of course)."
   ]
  },
  {
   "cell_type": "markdown",
   "metadata": {},
   "source": [
    "<span style=\"color:red\">\n",
    "Great!!!\n",
    "</span>"
   ]
  },
  {
   "cell_type": "markdown",
   "metadata": {},
   "source": [
    "## 3. Study of feature relevance and feature selection\n",
    "\n",
    "In this last section, using different criteria, you have to analyze the relevance of the input features. Thus, you will have to find a subset with the $D'$ most relevant features and, using this subset of features, analyze the final performance of a regressor (for the sake of simplicity, consider a linear ridge regressor as final regressor).\n",
    "\n",
    "To analyze the feature importances or relevances, you can use the following criteria:\n",
    "\n",
    "1. **Relevance ranking based on the validation error**: if there were $D$ input features, we could try to train $D$ regressors where each regressor uses one (and only one) different input feature. According to the final perfomance of each regressor (evaluated on a validation set or with a CV proccess), we could rank the features (the most relevant feature is the one providing the lowest error). Using this ranking, we can select the $D'$ most relevant features as the $D'$ top-ranked ones. Note that this scheme only analyzes the isolated relevance of each feature to predict the output; so, it is said that this approach is *univariate*.\n",
    "\n",
    " <img src=\"http://www.tsc.uc3m.es/~vanessa/Figs_notebooks/ML/Regression/FeatureRanking.png\" width=\"90%\" > \n",
    "\n",
    "\n",
    "2. **Greedy search based on the validation error**: approach (1) has the disadvantage of not taking into account relationships between features. For instance, method (1) would not realize that two features can be rendundant or that a feature, that is useless by itself, can be very useful combined with another feature. To overcome this drawback, we should have to analyze subsets of features; however, exploring all possible subsets  is usually computationally unflexible (there are $2^D$ combinations!!!!); so a greedy search (fordward or backward) is usually prefered:\n",
    "\n",
    "  2.1 *Fordward search*: It starts with an empty set and, iteratively, adds new features according to a relevance criterion (in this case, minimum validation MSE).\n",
    "\n",
    "  <img src=\"http://www.tsc.uc3m.es/~vanessa/Figs_notebooks/ML/Regression/Fig_Forward_search.png\" width=\"48%\" > \n",
    "\n",
    "  2.2 *Backward search*: It starts considering all the features and, iteratively, removes features according to a relevance criterion (in this case, minimum validation MSE).\n",
    "\n",
    "  <img src=\"http://www.tsc.uc3m.es/~vanessa/Figs_notebooks/ML/Regression/Fig_Backward_search.png\" width=\"48%\" > \n",
    "\n",
    "3. **Ridge linear regression with a prunning**: We know that the L2 regularization limits the magnitude of the weight vector to avoid overfitting problems, but these weigths do not become to null. However, in a linear model, *the weight magnitude can be an indicative of the feature relevance* and, unlike approach (1), all features are analyzed at the same time (*multivariate approach*). Use the weigth magnitude to generate a ranking of features and, later, use this ranking to select the $D'$ most relevant features.\n",
    "\n",
    "4. **Lasso linear regression**: In this case, the L1 penalty allows us to directly eliminate some of the input features. Explore different values of the regularization parameter $\\lambda$ to get a sequence of selected feature sets (from a single feature to all features).\n",
    "\n",
    "\n",
    "5. **Elastic-net linear regression**: This last approach combines L1 and L2 regularizations, thus including the advantages of both methods. Varying adequately their regularization parameters, create a sequence of feature selection subsets. \n"
   ]
  },
  {
   "cell_type": "markdown",
   "metadata": {},
   "source": [
    "Final comments:\n",
    "\n",
    "* Due to part of the feature selection process involves selecting the optimum number of features, to avoid additional complexity (having to validate this number), you can analyze the different methods by exploring the curves of MSE vs. number of selected features ($D'$).\n",
    "\n",
    "* It is not necessary to apply all these methods to complete this notebook (you can choose, at least, three of them). In fact, the implementation of greedy search approaches require an advanced knowledge of Python; so take this into account when you design your notebook solution.\n",
    "\n",
    "* **Please, analyze in detail the different results, pointing out the advantages/disadvantages of each feature selection scheme**. Think about the behaviour of the different criteria in cases where a feature is irrelevant or there are redundant features. Additional experiments helping you to support any of your conclusions will be welcome."
   ]
  },
  {
   "cell_type": "markdown",
   "metadata": {},
   "source": [
    "--------------------------------------------------------------------------------------------------------------------------"
   ]
  },
  {
   "cell_type": "markdown",
   "metadata": {},
   "source": [
    "### Evaluating of the results of feature selection\n",
    "Just at the end of the previous section, we saw that the best result (over the test set) was 0.437 (R2 score) for the linear unregularized regressor. For that regressor, we were using all available features. Therefore, using less features in this section it is not possible to get a better result than that one, and our aim is to obtain scores close to that one but using a lower number of features."
   ]
  },
  {
   "cell_type": "markdown",
   "metadata": {},
   "source": [
    "<span style=\"color:red\">\n",
    "Your comment is a little tricky. It's true because the regressor you use is linear (if any variable was uselees, it would give it a null weight and it would not use it); but with other regressors, such as a KNN or non-linear versions, it is possible that removing variables you get to improve the performance of the model that uses all....\n",
    "</span>"
   ]
  },
  {
   "cell_type": "markdown",
   "metadata": {},
   "source": [
    "### Method 4 : Feature selection with Lasso linear regression\n",
    "With Lasso (L1) regularization, some of the weigths usually tend to zero. Therefore, it can be used for feature selection. Let's start with this method in order to identify the most relevant features."
   ]
  },
  {
   "cell_type": "code",
   "execution_count": 13,
   "metadata": {},
   "outputs": [
    {
     "data": {
      "image/png": "[encoded data removed]",
      "text/plain": [
       "<Figure size 432x288 with 1 Axes>"
      ]
     },
     "metadata": {
      "needs_background": "light"
     },
     "output_type": "display_data"
    },
    {
     "data": {
      "image/png": "[encoded data removed]",
      "text/plain": [
       "<Figure size 432x288 with 2 Axes>"
      ]
     },
     "metadata": {
      "needs_background": "light"
     },
     "output_type": "display_data"
    }
   ],
   "source": [
    "import sklearn.linear_model as ln\n",
    "\n",
    "rang_alpha = [0.1,0.5,1,5,10,20,30,40,50,60] # From the polynomial regression section, this is the alpha range in which best results are obtained\n",
    "\n",
    "weights = np.zeros((len(rang_alpha),X_train.shape[1]))\n",
    "threshold = 0\n",
    "features_selected = np.zeros((len(rang_alpha),X_train.shape[1]))\n",
    "n_features = np.zeros((len(rang_alpha),))\n",
    "test_score = np.zeros((len(rang_alpha),))\n",
    "train_score = np.zeros((len(rang_alpha),))\n",
    "\n",
    "plt.plot()\n",
    "for (i,a) in enumerate(rang_alpha):\n",
    "    lasso = ln.Lasso(fit_intercept=True,alpha=a).fit(X_train,Y_train)\n",
    "    weights[i,:] = lasso.coef_\n",
    "    features_selected[i,:] = lasso.coef_ > threshold\n",
    "    n_features[i] = np.sum(features_selected[i,:])\n",
    "    test_score[i] = lasso.score(X_test,Y_test)\n",
    "    train_score[i] = lasso.score(X_train,Y_train)\n",
    "    plt.plot(lasso.coef_,label='alpha = '+str(a))\n",
    "\n",
    "plt.title('Feature weights for different \\u03B1 values')\n",
    "plt.show()\n",
    "\n",
    "plt.figure()\n",
    "plt.subplot(211)\n",
    "plt.title('Number of selected features, as a function of \\u03B1')\n",
    "plt.plot(rang_alpha,n_features,'o-',label='Number of features')\n",
    "plt.ylabel('Number of features')\n",
    "plt.xlabel('\\u03B1')\n",
    "\n",
    "\n",
    "plt.subplot(212)\n",
    "plt.plot(rang_alpha,test_score,label='Test R2 score')\n",
    "plt.plot(rang_alpha,train_score,label='Train R2 score')\n",
    "plt.title('Regressor performance, as a function of \\u03B1')\n",
    "plt.ylabel('R2 score')\n",
    "plt.xlabel('\\u03B1')\n",
    "plt.legend()\n",
    "plt.tight_layout()\n",
    "plt.show()"
   ]
  },
  {
   "cell_type": "markdown",
   "metadata": {},
   "source": [
    "From the first plot, we can easily see that features 2 and 8 are the most relevant. And features 0, 1, 4, 5, 7 and 9 are irrelevant (weight to zero) for most alphas, except low values.\n",
    "\n",
    "In the second plot (upper part), it is easy to see how increasing alpha yields a lower number number of selected features, i.e. more weights go to zero. But also the performance of the regressor gets worse. Nevertheless, we can see that reducing to 3 or 4 features, the regressor still yields a good performance, close to the optimal performance of 0.43 yield by the linear regressor at the end of section 2.\n",
    "\n",
    "For example, let's select the first alpha for which the model already only uses 3 features, $\\alpha$ = 5."
   ]
  },
  {
   "cell_type": "code",
   "execution_count": 14,
   "metadata": {},
   "outputs": [
    {
     "name": "stdout",
     "output_type": "stream",
     "text": [
      "The performance with features 2, 3 and 8 (bmi, bp and s5):\n",
      "\tTrain R2 score 0.500. Test R2 score 0.413.\n"
     ]
    }
   ],
   "source": [
    "a = 5 \n",
    "i = 3\n",
    "features = np.where(features_selected[i,:] == 1)[0]\n",
    "lasso = ln.Lasso(fit_intercept=True,alpha = 5).fit(X_train,Y_train)\n",
    "print('The performance with features %d, %d and %d (%s, %s and %s):' %(features[0],features[1],features[2],feature_names[features[0]],feature_names[features[1]],feature_names[features[2]]))\n",
    "print('\\tTrain R2 score %.3f. Test R2 score %.3f.' %(lasso.score(X_train,Y_train),lasso.score(X_test,Y_test)))"
   ]
  },
  {
   "cell_type": "markdown",
   "metadata": {},
   "source": [
    "We can see that the selected features are 2, 3 and 8, what could already be predicted from the first graph above. And the test score it yields is quite close to the 0.437 of the linear regressor with all features. Therefore, we can conclude that these 3 features are providing most of the information needed to predict the output, and therefore these 3 patient characteristics (BMI, blood pressure and S5) are the most relevant to measure in order to predict diabetes progression.\n",
    "\n",
    "The main advantage of this method is that it is multivariate, as it takes into account all features, before setting the more suitable values for the weights. Therefore, it is able to exploit relationships between features.\n",
    "\n",
    "The main disadvantage of this method is that it can be quite \"agressive\" for large values of $\\alpha$, eliminating too many features and overly decreasing the performance of the regressor. Therefore, the value of $\\alpha$ must be carefully cross-validated, inspecting the evolution of the validation score against the value of $\\alpha$, and selecting an adecuate trade-off between eliminating features of low relevance and not overly decreasing performance."
   ]
  },
  {
   "cell_type": "markdown",
   "metadata": {},
   "source": [
    "<span style=\"color:red\">\n",
    "Perfect... the figures clearly show what you want to analyze.\n",
    "</span>"
   ]
  },
  {
   "cell_type": "markdown",
   "metadata": {},
   "source": [
    "### Method 2.1 : Forward search"
   ]
  },
  {
   "cell_type": "code",
   "execution_count": 15,
   "metadata": {},
   "outputs": [
    {
     "name": "stdout",
     "output_type": "stream",
     "text": [
      "[2]\n",
      "[2, 8]\n",
      "[2, 8, 3]\n",
      "[2, 8, 3, 4]\n",
      "[2, 8, 3, 4, 1]\n",
      "[2, 8, 3, 4, 1, 7]\n",
      "[2, 8, 3, 4, 1, 7, 8]\n",
      "[2, 8, 3, 4, 1, 7, 8, 8]\n",
      "[2, 8, 3, 4, 1, 7, 8, 8, 8]\n",
      "[2, 8, 3, 4, 1, 7, 8, 8, 8, 8]\n"
     ]
    }
   ],
   "source": [
    "from sklearn.model_selection import GridSearchCV\n",
    "\n",
    "# Let's define how many features we want to select\n",
    "features_to_select = 10\n",
    "\n",
    "# We are going to use a Ridge (L2 regularization) regressor.\n",
    "# Therefore, we have to define possible alpha values\n",
    "rang_alpha = [0.1,0.5,1,5,10,20,30,50,70, 100, 200, 300, 500] \n",
    "parameters = {'alpha':rang_alpha}\n",
    "\n",
    "n_features = X_train.shape[1]\n",
    "selected_features = []  # initialize, there are no selected features at the beginning\n",
    "X_partitions = [None]*n_features  # Creates a list, to contain the different versions (combinations of features) of the training set\n",
    "regressors = [None]*n_features  # list to contain all regressors in an iteration\n",
    "scores = np.zeros((n_features,))  # An array that will contain the test score of each feature\n",
    "\n",
    "best_regressors = []  # save the best regressor in each iteration\n",
    "validation_scores = [] # and their (validation) score\n",
    "\n",
    "\n",
    "for fts in range(features_to_select):\n",
    "    \n",
    "    for f in range(n_features):\n",
    "        # Iterate along all features, and create a new training matrix with all data points, \n",
    "        # and features f and selected features (which are those selected in previous iterations of the outer loop)\n",
    "        \n",
    "        # This is the new training matrix. It has columns =  #selected_features + 1, to allow to include also feature \"f\"\n",
    "        X_sel = np.ones((X_train.shape[0],len(selected_features)+1)) \n",
    "        \n",
    "        # Include the already selected features\n",
    "        for (i,sf) in enumerate(selected_features):\n",
    "            X_sel[:,i] = X_train[:,sf]  # Create a matrix containing the previously selected features\n",
    "            \n",
    "        # Include the new feature, only if it is not already one of the selected features\n",
    "        if ((f in selected_features)==False):\n",
    "            X_sel[:,-1] = X_train[:,f]  # Add each of the other (distint) features\n",
    "        # Else, if that feature has already been selected, keep the last column full of ones\n",
    "        \n",
    "        # For the selected data, and different values of alpha, perform cross-validated search\n",
    "        clf = GridSearchCV(ln.Ridge(),parameters,cv=10,iid=False).fit(X_sel,Y_train)\n",
    "        # Find the score of the best performing alpha, that is, the best that adding this feature can provide\n",
    "        scores[f] = clf.cv_results_['mean_test_score'][np.where(clf.cv_results_['rank_test_score']==1)[0][0] ]\n",
    "        regressors[f] = clf.best_estimator_\n",
    "\n",
    "    # The feature with the highest score (the one left at the end when sorting scores) is added to the selected features\n",
    "    best_feature = np.argsort(scores)[-1]\n",
    "    selected_features.append(best_feature)\n",
    "    validation_scores.append(scores[best_feature])\n",
    "    best_regressors.append(regressors[best_feature])\n",
    "    \n",
    "    print(selected_features)"
   ]
  },
  {
   "cell_type": "markdown",
   "metadata": {},
   "source": [
    "<span style=\"color:red\">\n",
    "I don't understand why an 8 is printed. I think you should have stopped the method at that moment......\n",
    "</span>"
   ]
  },
  {
   "cell_type": "markdown",
   "metadata": {},
   "source": [
    "The obtained result is exactly the same than the one obtained before, with method 4. The same features get selected first. Moreover, we can see in which order they are selected, what can also be of interest. And the last four selected features are in fact not such, as the method estimates that not including any feature provides better performance that in fact including features 0, 5, 6 and 9.\n",
    "\n",
    "Now, let's plot the evolution of R2 scores when we progresively add more features:"
   ]
  },
  {
   "cell_type": "code",
   "execution_count": 16,
   "metadata": {},
   "outputs": [
    {
     "name": "stdout",
     "output_type": "stream",
     "text": [
      "[2, 8, 3, 4, 1, 7, 8, 8, 8, 8]\n"
     ]
    },
    {
     "data": {
      "image/png": "[encoded data removed]",
      "text/plain": [
       "<Figure size 432x288 with 1 Axes>"
      ]
     },
     "metadata": {
      "needs_background": "light"
     },
     "output_type": "display_data"
    }
   ],
   "source": [
    "print(selected_features)\n",
    "n = len(selected_features)\n",
    "test_scores = np.zeros((n,))\n",
    "train_scores = np.zeros((n,))\n",
    "\n",
    "for i in range(n):\n",
    "    X_train_sel = np.zeros((X_train.shape[0],i+1))\n",
    "    X_test_sel = np.zeros((X_test.shape[0],i+1))\n",
    "    for b in range(i):\n",
    "        X_train_sel[:,b] = X_train[:,selected_features[b]]\n",
    "        X_test_sel[:,b] = X_test[:,selected_features[b]]\n",
    "    \n",
    "    test_scores[i] = best_regressors[i].score(X_test_sel,Y_test)\n",
    "    train_scores[i]= best_regressors[i].score(X_train_sel,Y_train)\n",
    "\n",
    "plt.figure()\n",
    "x = np.arange(n)+1\n",
    "plt.plot(x,validation_scores,label='Validation score during training')\n",
    "plt.plot(x,train_scores,label='Score over train set')\n",
    "plt.plot(x,test_scores,label='Score over test set')\n",
    "plt.xticks(ticks=x)\n",
    "plt.xlabel('Number of features included')\n",
    "plt.ylabel('R2 score')\n",
    "plt.legend()\n",
    "plt.show()"
   ]
  },
  {
   "cell_type": "markdown",
   "metadata": {},
   "source": [
    "It is possible to see that by choosing 3 features we are already very close to the score provided by the linear regressor with all features. This results confirms the one provided by Method 4.\n",
    "\n",
    "The train and validation scores are monotonically increasing, and the largest increase happens for the first 3 or 4 features. Over the test set, we see an abnormal decrease after including a fourth feature. This is probably due to dissimilarities between the test and training sets. Moreover, such dissimilarities are very likely when we have a small dataset.\n",
    "\n",
    "This method could be considered univariate, as it selects features one by one. Although subsequent features are selected on combination with the ones previously selected, this method could potentially skip a combination of several features with low individual relevance but that perform well together. This is the main drawback of this method."
   ]
  },
  {
   "cell_type": "markdown",
   "metadata": {},
   "source": [
    "<span style=\"color:red\">\n",
    "In fact, this method is considered multivariate because when you include a new variable you analyze its features with which you have already added.\n",
    "</span>"
   ]
  },
  {
   "cell_type": "markdown",
   "metadata": {},
   "source": [
    "### Method 3 : Feature selection with Ridge linear regression\n",
    "At the beggining of this section, we used Lasso (L1 regularization) linear regression, which tends to set weights to zero, and therefore is selecting features. Another possible approach is to use Ridge (L2 regularization) linear regression. This method does not set weights to zero, but less relevant features will have weights of lower absolute magnitude (remember that data values have been normalized across features, so the weights do not need to \"scale\" the input).\n",
    "\n",
    "Therefore, we can simply sort the weights arising from a Ridge linear regression in order to select the most relevant features."
   ]
  },
  {
   "cell_type": "code",
   "execution_count": 17,
   "metadata": {},
   "outputs": [
    {
     "data": {
      "image/png": "[encoded data removed]",
      "text/plain": [
       "<Figure size 432x288 with 1 Axes>"
      ]
     },
     "metadata": {
      "needs_background": "light"
     },
     "output_type": "display_data"
    }
   ],
   "source": [
    "ridge = GridSearchCV(ln.Ridge(),parameters,iid=False,cv=10).fit(X_train,Y_train).best_estimator_\n",
    "w = ridge.coef_\n",
    "plt.stem(np.abs(w),use_line_collection=True)\n",
    "plt.title('Absolute magnitude of the weights')\n",
    "plt.show()"
   ]
  },
  {
   "cell_type": "markdown",
   "metadata": {},
   "source": [
    "The result of this method is very similar to the previous ones. Features 2, 3 and 8 have the largest weights meanwhile features 1, 4, 5, 6 and 7 have low weights and features 0 and 9 have extremely low weights. \n",
    "\n",
    "Now, let's plot the evolution of the performance of the Ridge regressor as we introduce the features in the order of their weight magnitude:"
   ]
  },
  {
   "cell_type": "code",
   "execution_count": 18,
   "metadata": {},
   "outputs": [
    {
     "name": "stdout",
     "output_type": "stream",
     "text": [
      "[2 8 3 1 6 7 4 5 9 0]\n"
     ]
    },
    {
     "data": {
      "image/png": "[encoded data removed]",
      "text/plain": [
       "<Figure size 432x288 with 1 Axes>"
      ]
     },
     "metadata": {
      "needs_background": "light"
     },
     "output_type": "display_data"
    }
   ],
   "source": [
    "sorted_features = np.flip(np.argsort(np.abs(w)))\n",
    "print(sorted_features)\n",
    "\n",
    "n = len(sorted_features)\n",
    "test_scores = np.zeros((n,))\n",
    "train_scores = np.zeros((n,))\n",
    "\n",
    "for i in range(n):\n",
    "    X_train_sel = np.zeros((X_train.shape[0],i+1))\n",
    "    X_test_sel = np.zeros((X_test.shape[0],i+1))\n",
    "    for b in range(i):\n",
    "        X_train_sel[:,b] = X_train[:,sorted_features[b]]\n",
    "        X_test_sel[:,b] = X_test[:,sorted_features[b]]\n",
    "    \n",
    "    ridge = GridSearchCV(ln.Ridge(),parameters,iid=False,cv=10).fit(X_train_sel,Y_train).best_estimator_\n",
    "    test_scores[i] = ridge.score(X_test_sel,Y_test)\n",
    "    train_scores[i]= ridge.score(X_train_sel,Y_train)    \n",
    "\n",
    "plt.figure()\n",
    "x = np.arange(n) + 1\n",
    "plt.plot(x,test_scores,label='Test scores')\n",
    "plt.plot(x,train_scores,label='Train scores')\n",
    "plt.xlabel('Number of included features')\n",
    "plt.ylabel('R2 score')\n",
    "plt.legend()\n",
    "plt.show()"
   ]
  },
  {
   "cell_type": "markdown",
   "metadata": {},
   "source": [
    "We can see a similar performance to previous methods.\n",
    "\n",
    "This approach is multivariate and it is able to exploit relationships between features. Nevertheless, it does not have the same tendency of L1 regularization to set weights to zero, and we can see that features 1, 4, 5, 6 and 7 have similar weight magnitude, and it is difficult to appropiately choose between them. In that aspect, this method could be considered \"weaker\" in terms of feature selection."
   ]
  },
  {
   "cell_type": "markdown",
   "metadata": {},
   "source": [
    "### Method 5 : ElasticNet feature selection\n",
    "Finally, let's use ElasticNet linear regression, which incorporates both L1 and L2 regularization."
   ]
  },
  {
   "cell_type": "code",
   "execution_count": 19,
   "metadata": {},
   "outputs": [
    {
     "data": {
      "image/png": "[encoded data removed]",
      "text/plain": [
       "<Figure size 432x288 with 1 Axes>"
      ]
     },
     "metadata": {
      "needs_background": "light"
     },
     "output_type": "display_data"
    }
   ],
   "source": [
    "rang_alpha = [0.1,0.5,1,5,10,20,30,50,70, 100, 200, 300, 500] \n",
    "rang_ratio = np.arange(0.1,1,0.1)\n",
    "parameters = {'alpha':rang_alpha,'l1_ratio':rang_ratio}\n",
    "\n",
    "elasticnet = GridSearchCV(ln.ElasticNet(max_iter=10000000),parameters,iid=False,cv=10).fit(X_train,Y_train).best_estimator_\n",
    "w = elasticnet.coef_\n",
    "plt.stem(np.abs(w),use_line_collection=True)\n",
    "plt.title('Absolute magnitude of the weights')\n",
    "plt.show()"
   ]
  },
  {
   "cell_type": "code",
   "execution_count": 20,
   "metadata": {},
   "outputs": [
    {
     "name": "stdout",
     "output_type": "stream",
     "text": [
      "[2 8 3 6 1 7 5 4 9 0]\n"
     ]
    },
    {
     "data": {
      "image/png": "[encoded data removed]",
      "text/plain": [
       "<Figure size 432x288 with 1 Axes>"
      ]
     },
     "metadata": {
      "needs_background": "light"
     },
     "output_type": "display_data"
    }
   ],
   "source": [
    "sorted_features = np.flip(np.argsort(np.abs(w)))\n",
    "print(sorted_features)\n",
    "\n",
    "n = len(sorted_features)\n",
    "test_scores = np.zeros((n,))\n",
    "train_scores = np.zeros((n,))\n",
    "\n",
    "for i in range(n):\n",
    "    X_train_sel = np.zeros((X_train.shape[0],i+1))\n",
    "    X_test_sel = np.zeros((X_test.shape[0],i+1))\n",
    "    for b in range(i):\n",
    "        X_train_sel[:,b] = X_train[:,sorted_features[b]]\n",
    "        X_test_sel[:,b] = X_test[:,sorted_features[b]]\n",
    "    \n",
    "    elasticnet = GridSearchCV(ln.ElasticNet(max_iter=10000000),parameters,iid=False,cv=10).fit(X_train_sel,Y_train).best_estimator_\n",
    "    test_scores[i] = elasticnet.score(X_test_sel,Y_test)\n",
    "    train_scores[i]= elasticnet.score(X_train_sel,Y_train)    \n",
    "\n",
    "plt.figure()\n",
    "x = np.arange(n) + 1\n",
    "plt.plot(x,test_scores,label='Test scores')\n",
    "plt.plot(x,train_scores,label='Train scores')\n",
    "plt.xlabel('Number of included features')\n",
    "plt.ylabel('R2 score')\n",
    "plt.legend()\n",
    "plt.show()"
   ]
  },
  {
   "cell_type": "markdown",
   "metadata": {},
   "source": [
    "We can see that this method performs very similarly to all the previous. This could be expected: both L1 and L2 methods are yielding similar results, so a combination of them is likely to produce the same."
   ]
  },
  {
   "cell_type": "markdown",
   "metadata": {},
   "source": [
    "## Conclusions\n",
    "\n",
    "In this homework, we have inspected the performance of linear regressors (and KNN) using linear features, polynomial features and feature selection.\n",
    "\n",
    "About incorporating polynomial features, it did not yield an improvement in the performance in this case, but it largely increases computational costs, and the chances of overfitting, as sometimes we are incorporating too much flexibility to the model.\n",
    "\n",
    "About feature selection, all methods used yielded similar results: features 2, 3 and 8 (BMI, blood pressure and S5, respectively) are the most relevant in order to predict disease progression. Also, no significant difference was observed between univariate and multivariate methods. Of all methods, L1 regression seems the most suitable as it sets many weights to zero even for low $\\alpha$, while still keeping most of the performance."
   ]
  },
  {
   "cell_type": "markdown",
   "metadata": {},
   "source": [
    "<span style=\"color:red\">\n",
    "Very good work, I think you clearly knew what I wanted to analyze, you have shown those results (with clear pictures) and the analysis of them is clear and makes sense. Congratulations!!!\n",
    "</span>\n",
    "\n"
   ]
  },
  {
   "cell_type": "code",
   "execution_count": null,
   "metadata": {},
   "outputs": [],
   "source": []
  }
 ],
 "metadata": {
  "colab": {
   "collapsed_sections": [],
   "name": "Homework1.ipynb",
   "provenance": []
  },
  "kernelspec": {
   "display_name": "Python 3",
   "language": "python",
   "name": "python3"
  },
  "language_info": {
   "codemirror_mode": {
    "name": "ipython",
    "version": 3
   },
   "file_extension": ".py",
   "mimetype": "text/x-python",
   "name": "python",
   "nbconvert_exporter": "python",
   "pygments_lexer": "ipython3",
   "version": "3.7.3"
  }
 },
 "nbformat": 4,
 "nbformat_minor": 1
}
