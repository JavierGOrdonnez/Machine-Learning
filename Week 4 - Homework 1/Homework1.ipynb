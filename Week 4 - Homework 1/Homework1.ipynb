{
 "cells": [
  {
   "cell_type": "markdown",
   "metadata": {
    "colab_type": "text",
    "id": "7-jkWR1LhNMh"
   },
   "source": [
    "# Week 4: Homework 1 \n",
    "\n",
    "----------------------------------------------------\n",
    "Machine Learning                      \n",
    "\n",
    "Year 2019/2020\n",
    "\n",
    "*Vanessa Gómez Verdejo vanessa@tsc.uc3m.es* \n",
    "\n",
    "----------------------------------------------------"
   ]
  },
  {
   "cell_type": "markdown",
   "metadata": {
    "colab_type": "text",
    "id": "xfXCi3qshchx"
   },
   "source": [
    "The goal of this practice is to analyze the performance of different estimators on the Diabetes problem and we will analyze, by means of different approximations, which input features are more relevant to solve this problem. \n",
    "\n",
    "Note that previous week we already worked on Diabetes database, but we only used one of the input variable (BMI) to construct the regression model; in this practice we will use all the input features jointly.\n",
    "\n",
    "To solve these notebook, complete the following sections implementing the solution that you consider most appropriate and showing the results that you find most interesting. For the evaluation of this notebook,  we will take into account the methodology used, the solution adopted, the presentation of the results and the conclusions obtained at the light of the results.\n"
   ]
  },
  {
   "cell_type": "markdown",
   "metadata": {
    "colab_type": "text",
    "id": "nCXU4m2YmB2y"
   },
   "source": [
    "## 1. Data loading and preprocessing\n",
    "\n",
    "Following the ML pipeline, start loading the data, creating the partitions that you consider necessary and carrying out the preprocessing that yu need.\n",
    "\n",
    "Keep in mind that there is no single valid solution, and different reasons can lead you to make different data partitions or apply different normalizations. So **please justify the steps you are taking**."
   ]
  },
  {
   "cell_type": "code",
   "execution_count": 1,
   "metadata": {
    "colab": {},
    "colab_type": "code",
    "id": "-7fqumVhhJAl"
   },
   "outputs": [],
   "source": [
    "# Data loading and preprocessing\n",
    "\n",
    "# Import necessary modules\n",
    "import numpy as np\n",
    "import pandas as pd\n",
    "import matplotlib.pyplot as plt\n",
    "\n",
    "from sklearn.datasets import load_diabetes\n",
    "from sklearn.model_selection import train_test_split\n",
    "from sklearn.preprocessing import StandardScaler"
   ]
  },
  {
   "cell_type": "code",
   "execution_count": 2,
   "metadata": {
    "colab": {},
    "colab_type": "code",
    "id": "zemNGztJfH-Z"
   },
   "outputs": [],
   "source": [
    "# Load the diabetes dataset\n",
    "diabetes = load_diabetes()\n",
    "X = diabetes.data\n",
    "Y = diabetes.target\n",
    "feature_names = diabetes.feature_names"
   ]
  },
  {
   "cell_type": "code",
   "execution_count": 3,
   "metadata": {
    "colab": {},
    "colab_type": "code",
    "id": "ZT8rXwbXfiBz"
   },
   "outputs": [],
   "source": [
    "# Generate train and test partitions\n",
    "X_train, X_test, Y_train, Y_test = train_test_split(X, Y, test_size=0.2, random_state=0)\n",
    "\n",
    "# Data normalization\n",
    "transformer = StandardScaler().fit(X_train)  # fit() learns mean and std parameters\n",
    "X_train = transformer.transform(X_train) # transform() normalizes\n",
    "X_test =  transformer.transform(X_test)"
   ]
  },
  {
   "cell_type": "markdown",
   "metadata": {
    "colab_type": "text",
    "id": "fe7_QAXDmatm"
   },
   "source": [
    "## 2. Performance evaluation \n",
    "\n",
    "Now, analyze the performance of different estimators to predict the diabetes progression from all the available features. \n",
    "\n",
    "As possible estimators to be included in this study, we will consider those studied so far: K-NN, linear regressor, polynomial regressor and their regularized versions. Please, in case these methods have any free hiperparameter, **clearly justify** the selection of their optimal values.\n",
    "\n",
    "As you know, for the performance evaluation, we have seen several metrics. So, here, you can use one or several of them. But, regardless of the used metric, don't forget to include a final analysis comparing the performance of different methods and trying to justify the obtained results."
   ]
  },
  {
   "cell_type": "code",
   "execution_count": 4,
   "metadata": {
    "colab": {},
    "colab_type": "code",
    "id": "EnOY0K4Fo62S"
   },
   "outputs": [],
   "source": [
    "## 2. Performance evaluation \n",
    "\n",
    "# Include your code here (create as many cells as you need)"
   ]
  },
  {
   "cell_type": "markdown",
   "metadata": {
    "colab_type": "text",
    "id": "PsPte6LjhO00"
   },
   "source": [
    "### 2.1 K-NN\n",
    "First of all, let's use the K-NN estimator in order to try to predict disease progression\n"
   ]
  },
  {
   "cell_type": "code",
   "execution_count": 5,
   "metadata": {
    "colab": {
     "base_uri": "https://localhost:8080/",
     "height": 349
    },
    "colab_type": "code",
    "id": "2Z9S0szahV3M",
    "outputId": "76bcbafd-a4c1-4763-ac4d-53d5015fa40f"
   },
   "outputs": [
    {
     "data": {
      "image/png": "[encoded data removed]",
      "text/plain": [
       "<Figure size 432x288 with 1 Axes>"
      ]
     },
     "metadata": {
      "needs_background": "light"
     },
     "output_type": "display_data"
    },
    {
     "name": "stdout",
     "output_type": "stream",
     "text": [
      "The optimal k value is 14\n"
     ]
    },
    {
     "data": {
      "text/plain": [
       "KNeighborsRegressor(algorithm='auto', leaf_size=30, metric='minkowski',\n",
       "                    metric_params=None, n_jobs=None, n_neighbors=14, p=2,\n",
       "                    weights='uniform')"
      ]
     },
     "execution_count": 5,
     "metadata": {},
     "output_type": "execute_result"
    }
   ],
   "source": [
    "from sklearn.neighbors import KNeighborsRegressor\n",
    "from sklearn.model_selection import GridSearchCV\n",
    "\n",
    "# Create a KNN object from th SKlearn module\n",
    "neigh = KNeighborsRegressor()  \n",
    "\n",
    "# Perform a Cross-Validation in order to choose the hiperparameter K\n",
    "rang_k = np.arange(1,50)\n",
    "parameters = {'n_neighbors' : rang_k}\n",
    "clf = GridSearchCV(neigh,parameters,iid=False,cv=10, scoring = 'neg_mean_squared_error')\n",
    "clf.fit(X_train,Y_train) # this executes the cross-validation\n",
    "\n",
    "# Visualize the results of CrossValidation\n",
    "sqerrors_k = clf.cv_results_['mean_test_score']*-1\n",
    "optimk = clf.best_params_['n_neighbors']\n",
    "plt.figure()\n",
    "plt.plot(rang_k, sqerrors_k)\n",
    "plt.title('Mean square error for different K values')\n",
    "plt.show()\n",
    "print('The optimal k value is %d' %optimk)\n",
    "\n",
    "# The KNN estimator, already trained with the optimal K\n",
    "neigh = clf.best_estimator_\n",
    "neigh.fit(X_train,Y_train) # and provide our data to the model"
   ]
  },
  {
   "cell_type": "markdown",
   "metadata": {
    "colab_type": "text",
    "id": "yzoX4HcsnuZu"
   },
   "source": [
    "For evaluation of the method, R2 score is going to be used. It is the most used metric, as it is easy to interpret: 1.00 would mean no error; 0.00 would mean predicting always the mean, and negative would be performing even worse."
   ]
  },
  {
   "cell_type": "code",
   "execution_count": 6,
   "metadata": {
    "colab": {
     "base_uri": "https://localhost:8080/",
     "height": 34
    },
    "colab_type": "code",
    "id": "lxESgYieloZx",
    "outputId": "458ad67d-42d2-439f-9606-dc6bdc858578"
   },
   "outputs": [
    {
     "name": "stdout",
     "output_type": "stream",
     "text": [
      "The R2 score of the KNN method is 0.329\n"
     ]
    }
   ],
   "source": [
    "# Let's now evaluate the performance of the KNN regressor over the test data\n",
    "from sklearn.metrics import r2_score\n",
    "\n",
    "knn_prediction = neigh.predict(X_test)\n",
    "knn_score = r2_score(Y_test,knn_prediction)\n",
    "print('The R2 score of the KNN method is %.3f' %knn_score)"
   ]
  },
  {
   "cell_type": "markdown",
   "metadata": {
    "colab_type": "text",
    "id": "ZjAMKXTQhWcN"
   },
   "source": [
    "### 2.2. Linear regressor (and regularized versions)"
   ]
  },
  {
   "cell_type": "code",
   "execution_count": 7,
   "metadata": {
    "colab": {
     "base_uri": "https://localhost:8080/",
     "height": 251
    },
    "colab_type": "code",
    "id": "bYh5FKUchbTE",
    "outputId": "4381fcfb-5548-46fd-e073-bb9787b2b9e8"
   },
   "outputs": [
    {
     "name": "stdout",
     "output_type": "stream",
     "text": [
      "The R2 score of the linear regressor is 0.332\n",
      "The R2 score of the Lasso regressor is 0.334. Optimal α = 1.000000.\n",
      "The R2 score of the Ridge regressor is 0.331. Optimal α = 10.000000.\n"
     ]
    }
   ],
   "source": [
    "import sklearn.linear_model as ln\n",
    "\n",
    "# Let's train several different linear regressors, and find their score\n",
    "\n",
    "# Ordinary least squares linear regression\n",
    "linear = ln.LinearRegression(fit_intercept=True).fit(X_train,Y_train)\n",
    "linear_prediction = linear.predict(X_test)\n",
    "linear_score = r2_score(Y_test,linear_prediction)\n",
    "print('The R2 score of the linear regressor is %.3f' %linear_score)\n",
    "\n",
    "# Lasso. Needed to cross-validate alpha\n",
    "lasso = ln.Lasso(fit_intercept=True)\n",
    "rang_alpha = [0.001, 0.005, 0.01, 0.05, 0.1, 0.5, 1, 5, 10, 50, 100]\n",
    "parameters = {'alpha' : rang_alpha}\n",
    "clf = GridSearchCV(lasso,parameters,iid=False,cv=10, scoring= 'r2')\n",
    "clf.fit(X_train,Y_train)\n",
    "lasso = clf.best_estimator_\n",
    "lasso_prediction = lasso.predict(X_test)\n",
    "lasso_score = r2_score(Y_test,lasso_prediction)\n",
    "print('The R2 score of the Lasso regressor is %.3f. Optimal \\u03B1 = %f.' %(lasso_score,clf.best_params_['alpha']))\n",
    "\n",
    "# Ridge. Needed to cross-validate alpha\n",
    "rang_alpha = [0.001, 0.005, 0.01, 0.05, 0.1, 0.5, 1, 5, 10, 50, 100]\n",
    "parameters = {'alpha' : rang_alpha}\n",
    "clf = GridSearchCV(ln.Ridge(fit_intercept=True),parameters,iid=False,cv=10, scoring= 'r2')\n",
    "clf.fit(X_train,Y_train)\n",
    "ridge = clf.best_estimator_\n",
    "ridge_prediction = ridge.predict(X_test)\n",
    "ridge_score = r2_score(Y_test,ridge_prediction)\n",
    "print('The R2 score of the Ridge regressor is %.3f. Optimal \\u03B1 = %f.' %(ridge_score,clf.best_params_['alpha']))"
   ]
  },
  {
   "cell_type": "markdown",
   "metadata": {
    "colab_type": "text",
    "id": "F1RgTm6RhbjE"
   },
   "source": [
    "### 2.3. Polynomial regressor"
   ]
  },
  {
   "cell_type": "markdown",
   "metadata": {},
   "source": [
    "Let's define a class which allows to define the polynomial regressor with the desired degree and regularization."
   ]
  },
  {
   "cell_type": "code",
   "execution_count": 8,
   "metadata": {},
   "outputs": [],
   "source": [
    "from sklearn import metrics\n",
    "from sklearn.preprocessing import PolynomialFeatures\n",
    "\n",
    "class PolyReg:\n",
    "    def __init__(self,n_degree=3,regressor='linear',alpha=1):\n",
    "        self.n_degree = n_degree\n",
    "        self.alpha = alpha\n",
    "        self.regressor_mode = regressor\n",
    "        \n",
    "#         if   regressor == 'linear':\n",
    "#             self.regressor = ln.LinearRegression(fit_intercept=True)\n",
    "#         elif regressor == 'Lasso':\n",
    "#             self.regressor = ln.Lasso(fit_intercept=True, alpha = self.alpha)\n",
    "#         elif regressor == 'Ridge':\n",
    "#             self.regressor = ln.Ridge(fit_intercept=True, alpha = self.alpha)  \n",
    "#         elif regressor == 'ElasticNet':\n",
    "#             self.regressor = ln.ElasticNet(fit_intercept=True , alpha = self.alpha)\n",
    "\n",
    "    \n",
    "    def fit(self,X,Y):\n",
    "        # Create the regressor with the given parameters\n",
    "        if   self.regressor_mode == 'linear':\n",
    "            self.regressor = ln.LinearRegression(fit_intercept=True)\n",
    "        elif self.regressor_mode == 'Lasso':\n",
    "            self.regressor = ln.Lasso(fit_intercept=True, alpha = self.alpha , max_iter = 1000000)\n",
    "        elif self.regressor_mode == 'Ridge':\n",
    "            self.regressor = ln.Ridge(fit_intercept=True, alpha = self.alpha)  \n",
    "        elif self.regressor_mode == 'ElasticNet':\n",
    "            self.regressor = ln.ElasticNet(fit_intercept=True , alpha = self.alpha)\n",
    "\n",
    "        # Define the polynomial features\n",
    "        self.polynomial_features = PolynomialFeatures(degree=self.n_degree,include_bias=False)\n",
    "        X_poly = self.polynomial_features.fit_transform(X)  # We will find the polynomial degree that fits best for each regularization, and then we will evaluate them\n",
    "        self.transformer = StandardScaler().fit(X_poly)\n",
    "        X_poly = self.transformer.transform(X_poly)\n",
    "\n",
    "        # Fit the regressor with the polynomial features\n",
    "        self.regressor.fit(X_poly,Y)  \n",
    "        \n",
    "#         print('With degree %d the train score is %f' %(self.n_degree,self.eval(X,Y)))\n",
    "        return self.regressor\n",
    "\n",
    "#     def fit(self,X,Y):\n",
    "#         X_train, X_val, Y_train, Y_val = train_test_split(X, Y, test_size=0.2, random_state=42)\n",
    "#         # Define the polynomial features\n",
    "#         self.polynomial_features = PolynomialFeatures(degree=self.n_degree,include_bias=False)\n",
    "#         X_train_poly = self.polynomial_features.fit_transform(X_train)  # We will find the polynomial degree that fits best for each regularization, and then we will evaluate them\n",
    "#         X_val_poly = self.polynomial_features.fit_transform(X_val)\n",
    "#         self.transformer = StandardScaler().fit(X_train_poly)\n",
    "#         X_train_poly = self.transformer.transform(X_train_poly)\n",
    "#         X_val_poly = self.transformer.transform(X_val_poly)\n",
    "\n",
    "#         # Fit the regressor with the polynomial features\n",
    "#         self.regressor.fit(X_train_poly,Y_train)\n",
    "        \n",
    "#         train_predictions = self.regressor.predict(X_train_poly)\n",
    "#         r2_train = metrics.r2_score(Y_train,train_predictions)\n",
    "#         val_predictions = self.regressor.predict(X_val_poly)\n",
    "#         r2_val = metrics.r2_score(Y_val,val_predictions)\n",
    "#         print('For degree %d, R2 score for train is %f and for validation is %f' %(self.n_degree,r2_train,r2_val))\n",
    "#         return self.regressor\n",
    "\n",
    "\n",
    "    def predict(self,X): \n",
    "        X_poly = self.polynomial_features.fit_transform(X)\n",
    "        X_poly = self.transformer.transform(X_poly)\n",
    "        prediction = self.regressor.predict(X_poly)\n",
    "        return prediction\n",
    "    \n",
    "    def score(self,X,Y):\n",
    "        predictions = self.predict(X)\n",
    "        score = metrics.r2_score(Y,predictions)\n",
    "        return score    \n",
    "\n",
    "    def eval(self,X,Y): # evaluate with r2 score\n",
    "        # Transform the evaluation input in a polynomial set of features, and normalize them\n",
    "        # according to the transformations set during training\n",
    "        X_poly = self.polynomial_features.fit_transform(X)\n",
    "        X_poly = self.transformer.transform(X_poly)\n",
    "        \n",
    "        # Obtain predictions with the trained regressor\n",
    "        predictions = self.regressor.predict(X_poly)\n",
    "        \n",
    "        # Compute R2 score\n",
    "        eval_score  = metrics.r2_score(Y,predictions)\n",
    "        return eval_score\n",
    "  \n",
    "    def return_regressor(self):\n",
    "        return self.regressor\n",
    "    \n",
    "    def get_params(self,deep=False):\n",
    "        if self.regressor_mode == 'linear':\n",
    "            r = {'regressor': self.regressor_mode, 'n_degree': self.n_degree}\n",
    "        else:\n",
    "            r = {'alpha':self.alpha , 'regressor': self.regressor_mode, 'n_degree': self.n_degree}\n",
    "        return r\n",
    "    \n",
    "    def set_params(self,**parameters):\n",
    "        if self.regressor_mode == 'linear':\n",
    "            self.n_degree = parameters['n_degree']\n",
    "        else:\n",
    "            self.alpha = parameters['alpha']\n",
    "            self.n_degree = parameters['n_degree']   \n",
    "        print(parameters)\n",
    "        return self"
   ]
  },
  {
   "cell_type": "markdown",
   "metadata": {},
   "source": [
    "Let's test that it yields the same results than the previous section (with n_degree = 1)"
   ]
  },
  {
   "cell_type": "code",
   "execution_count": 9,
   "metadata": {},
   "outputs": [
    {
     "name": "stdout",
     "output_type": "stream",
     "text": [
      "The R2 score of the linear regressor is 0.332222. Old method: 0.332222.\n",
      "The R2 score of the Lasso  regressor is 0.334485. Old method: 0.334485.\n",
      "The R2 score of the Ridge  regressor is 0.331254. Old method: 0.331254.\n"
     ]
    }
   ],
   "source": [
    "myLinear = PolyReg(n_degree=1,regressor = 'linear')\n",
    "myLasso  = PolyReg(n_degree=1,regressor = 'Lasso', alpha = 1)\n",
    "myRidge  = PolyReg(n_degree=1,regressor = 'Ridge', alpha = 10)\n",
    "\n",
    "myLinear.fit(X_train,Y_train)\n",
    "myLasso.fit(X_train,Y_train)\n",
    "myRidge.fit(X_train,Y_train)\n",
    "\n",
    "print('The R2 score of the linear regressor is %f. Old method: %f.' %(myLinear.eval(X_test,Y_test),linear_score))\n",
    "print('The R2 score of the Lasso  regressor is %f. Old method: %f.' %(myLasso.eval(X_test,Y_test),lasso_score))\n",
    "print('The R2 score of the Ridge  regressor is %f. Old method: %f.' %(myRidge.eval(X_test,Y_test),ridge_score))"
   ]
  },
  {
   "cell_type": "markdown",
   "metadata": {},
   "source": [
    "Now proceed to use GridSearchCV to cross-validate the degree of the polynomial regressor and the alpha value for the different linear regressors"
   ]
  },
  {
   "cell_type": "code",
   "execution_count": 25,
   "metadata": {},
   "outputs": [
    {
     "name": "stdout",
     "output_type": "stream",
     "text": [
      "{'alpha': 0.1, 'n_degree': 1}\n",
      "{'alpha': 0.1, 'n_degree': 1}\n",
      "{'alpha': 0.1, 'n_degree': 1}\n",
      "{'alpha': 0.1, 'n_degree': 1}\n",
      "{'alpha': 0.1, 'n_degree': 1}\n",
      "{'alpha': 0.1, 'n_degree': 2}\n",
      "{'alpha': 0.1, 'n_degree': 2}\n",
      "{'alpha': 0.1, 'n_degree': 2}\n",
      "{'alpha': 0.1, 'n_degree': 2}\n",
      "{'alpha': 0.1, 'n_degree': 2}\n",
      "{'alpha': 0.1, 'n_degree': 3}\n",
      "{'alpha': 0.1, 'n_degree': 3}\n",
      "{'alpha': 0.1, 'n_degree': 3}\n",
      "{'alpha': 0.1, 'n_degree': 3}\n",
      "{'alpha': 0.1, 'n_degree': 3}\n",
      "{'alpha': 0.1, 'n_degree': 4}\n",
      "{'alpha': 0.1, 'n_degree': 4}\n",
      "{'alpha': 0.1, 'n_degree': 4}\n",
      "{'alpha': 0.1, 'n_degree': 4}\n",
      "{'alpha': 0.1, 'n_degree': 4}\n",
      "{'alpha': 1, 'n_degree': 1}\n",
      "{'alpha': 1, 'n_degree': 1}\n",
      "{'alpha': 1, 'n_degree': 1}\n",
      "{'alpha': 1, 'n_degree': 1}\n",
      "{'alpha': 1, 'n_degree': 1}\n",
      "{'alpha': 1, 'n_degree': 2}\n",
      "{'alpha': 1, 'n_degree': 2}\n",
      "{'alpha': 1, 'n_degree': 2}\n",
      "{'alpha': 1, 'n_degree': 2}\n",
      "{'alpha': 1, 'n_degree': 2}\n",
      "{'alpha': 1, 'n_degree': 3}\n",
      "{'alpha': 1, 'n_degree': 3}\n",
      "{'alpha': 1, 'n_degree': 3}\n",
      "{'alpha': 1, 'n_degree': 3}\n",
      "{'alpha': 1, 'n_degree': 3}\n",
      "{'alpha': 1, 'n_degree': 4}\n",
      "{'alpha': 1, 'n_degree': 4}\n",
      "{'alpha': 1, 'n_degree': 4}\n",
      "{'alpha': 1, 'n_degree': 4}\n",
      "{'alpha': 1, 'n_degree': 4}\n",
      "{'alpha': 2, 'n_degree': 1}\n",
      "{'alpha': 2, 'n_degree': 1}\n",
      "{'alpha': 2, 'n_degree': 1}\n",
      "{'alpha': 2, 'n_degree': 1}\n",
      "{'alpha': 2, 'n_degree': 1}\n",
      "{'alpha': 2, 'n_degree': 2}\n",
      "{'alpha': 2, 'n_degree': 2}\n",
      "{'alpha': 2, 'n_degree': 2}\n",
      "{'alpha': 2, 'n_degree': 2}\n",
      "{'alpha': 2, 'n_degree': 2}\n",
      "{'alpha': 2, 'n_degree': 3}\n",
      "{'alpha': 2, 'n_degree': 3}\n",
      "{'alpha': 2, 'n_degree': 3}\n",
      "{'alpha': 2, 'n_degree': 3}\n",
      "{'alpha': 2, 'n_degree': 3}\n",
      "{'alpha': 2, 'n_degree': 4}\n",
      "{'alpha': 2, 'n_degree': 4}\n",
      "{'alpha': 2, 'n_degree': 4}\n",
      "{'alpha': 2, 'n_degree': 4}\n",
      "{'alpha': 2, 'n_degree': 4}\n",
      "{'alpha': 4, 'n_degree': 1}\n",
      "{'alpha': 4, 'n_degree': 1}\n",
      "{'alpha': 4, 'n_degree': 1}\n",
      "{'alpha': 4, 'n_degree': 1}\n",
      "{'alpha': 4, 'n_degree': 1}\n",
      "{'alpha': 4, 'n_degree': 2}\n",
      "{'alpha': 4, 'n_degree': 2}\n",
      "{'alpha': 4, 'n_degree': 2}\n",
      "{'alpha': 4, 'n_degree': 2}\n",
      "{'alpha': 4, 'n_degree': 2}\n",
      "{'alpha': 4, 'n_degree': 3}\n",
      "{'alpha': 4, 'n_degree': 3}\n",
      "{'alpha': 4, 'n_degree': 3}\n",
      "{'alpha': 4, 'n_degree': 3}\n",
      "{'alpha': 4, 'n_degree': 3}\n",
      "{'alpha': 4, 'n_degree': 4}\n",
      "{'alpha': 4, 'n_degree': 4}\n",
      "{'alpha': 4, 'n_degree': 4}\n",
      "{'alpha': 4, 'n_degree': 4}\n",
      "{'alpha': 4, 'n_degree': 4}\n",
      "{'alpha': 6, 'n_degree': 1}\n",
      "{'alpha': 6, 'n_degree': 1}\n",
      "{'alpha': 6, 'n_degree': 1}\n",
      "{'alpha': 6, 'n_degree': 1}\n",
      "{'alpha': 6, 'n_degree': 1}\n",
      "{'alpha': 6, 'n_degree': 2}\n",
      "{'alpha': 6, 'n_degree': 2}\n",
      "{'alpha': 6, 'n_degree': 2}\n",
      "{'alpha': 6, 'n_degree': 2}\n",
      "{'alpha': 6, 'n_degree': 2}\n",
      "{'alpha': 6, 'n_degree': 3}\n",
      "{'alpha': 6, 'n_degree': 3}\n",
      "{'alpha': 6, 'n_degree': 3}\n",
      "{'alpha': 6, 'n_degree': 3}\n",
      "{'alpha': 6, 'n_degree': 3}\n",
      "{'alpha': 6, 'n_degree': 4}\n",
      "{'alpha': 6, 'n_degree': 4}\n",
      "{'alpha': 6, 'n_degree': 4}\n",
      "{'alpha': 6, 'n_degree': 4}\n",
      "{'alpha': 6, 'n_degree': 4}\n",
      "{'alpha': 8, 'n_degree': 1}\n",
      "{'alpha': 8, 'n_degree': 1}\n",
      "{'alpha': 8, 'n_degree': 1}\n",
      "{'alpha': 8, 'n_degree': 1}\n",
      "{'alpha': 8, 'n_degree': 1}\n",
      "{'alpha': 8, 'n_degree': 2}\n",
      "{'alpha': 8, 'n_degree': 2}\n",
      "{'alpha': 8, 'n_degree': 2}\n",
      "{'alpha': 8, 'n_degree': 2}\n",
      "{'alpha': 8, 'n_degree': 2}\n",
      "{'alpha': 8, 'n_degree': 3}\n",
      "{'alpha': 8, 'n_degree': 3}\n",
      "{'alpha': 8, 'n_degree': 3}\n",
      "{'alpha': 8, 'n_degree': 3}\n",
      "{'alpha': 8, 'n_degree': 3}\n",
      "{'alpha': 8, 'n_degree': 4}\n",
      "{'alpha': 8, 'n_degree': 4}\n",
      "{'alpha': 8, 'n_degree': 4}\n",
      "{'alpha': 8, 'n_degree': 4}\n",
      "{'alpha': 8, 'n_degree': 4}\n",
      "{'alpha': 10, 'n_degree': 1}\n",
      "{'alpha': 10, 'n_degree': 1}\n",
      "{'alpha': 10, 'n_degree': 1}\n",
      "{'alpha': 10, 'n_degree': 1}\n",
      "{'alpha': 10, 'n_degree': 1}\n",
      "{'alpha': 10, 'n_degree': 2}\n",
      "{'alpha': 10, 'n_degree': 2}\n",
      "{'alpha': 10, 'n_degree': 2}\n",
      "{'alpha': 10, 'n_degree': 2}\n",
      "{'alpha': 10, 'n_degree': 2}\n",
      "{'alpha': 10, 'n_degree': 3}\n",
      "{'alpha': 10, 'n_degree': 3}\n",
      "{'alpha': 10, 'n_degree': 3}\n",
      "{'alpha': 10, 'n_degree': 3}\n",
      "{'alpha': 10, 'n_degree': 3}\n",
      "{'alpha': 10, 'n_degree': 4}\n",
      "{'alpha': 10, 'n_degree': 4}\n",
      "{'alpha': 10, 'n_degree': 4}\n",
      "{'alpha': 10, 'n_degree': 4}\n",
      "{'alpha': 10, 'n_degree': 4}\n",
      "{'alpha': 1, 'n_degree': 1}\n",
      "R2 score of the polynomial Lasso regressor is 0.334485 with degree 1 and alpha 1.000\n"
     ]
    }
   ],
   "source": [
    "# rang_alpha = [0.001, 0.005, 0.01, 0.05, 0.1, 0.5, 1, 5, 10, 50, 100]\n",
    "# degrees = np.arange(1,7)\n",
    "rang_alpha = [0.1, 1, 2, 4, 6, 8, 10]\n",
    "degrees = np.arange(1,5)\n",
    "\n",
    "only_degrees = {'n_degree':degrees}\n",
    "parameters = {'alpha':rang_alpha , 'n_degree':degrees}\n",
    "\n",
    "# clf_linear = GridSearchCV(PolyReg(regressor='linear'),only_degrees,iid=False,cv=10, scoring= 'r2')\n",
    "# clf_linear.fit(X_train,Y_train)\n",
    "# # clf_linear.fit(X_train, Y_train, X_test, Y_test)\n",
    "# print('R2 score of the polynomial linear regressor is %f with degree %d' %(clf_linear.best_estimator_.eval(X_test,Y_test),clf_linear.best_params_['n_degree']))\n",
    "\n",
    "clf_lasso = GridSearchCV(PolyReg(regressor='Lasso'),parameters,iid=False,cv=5, scoring= 'r2')\n",
    "clf_lasso.fit(X_train,Y_train)\n",
    "print('R2 score of the polynomial Lasso regressor is %f with degree %d and alpha %.3f' %(clf_lasso.best_estimator_.eval(X_test,Y_test),clf_lasso.best_params_['n_degree'],clf_lasso.best_params_['alpha']))"
   ]
  },
  {
   "cell_type": "code",
   "execution_count": 11,
   "metadata": {},
   "outputs": [],
   "source": [
    "# Let's define a function that given the name of a parameter and a value for it, \n",
    "# plots the result for those parameter=value in the CV process\n",
    "import pandas as pd\n",
    "import matplotlib.pyplot as plt\n",
    "\n",
    "def plot_cv_results(clf,parameter,value,xaxisparameter):\n",
    "    df = pd.DataFrame(clf_lasso.cv_results_)\n",
    "    s = 'param_'+parameter\n",
    "    my_results_df = df.loc[df[s]==value]\n",
    "    y = my_results_df['mean_test_score']\n",
    "    sx = 'param_' + xaxisparameter\n",
    "    x = my_results_df[sx]\n",
    "    plt.figure()\n",
    "    plt.plot(x,y)\n",
    "    plt.title(parameter+' = ' + str(value))\n",
    "    plt.xlabel(xaxisparameter)\n",
    "    plt.ylabel('Score')\n",
    "    plt.show()\n",
    "    "
   ]
  },
  {
   "cell_type": "code",
   "execution_count": 26,
   "metadata": {},
   "outputs": [
    {
     "data": {
      "image/png": "[encoded data removed]",
      "text/plain": [
       "<Figure size 432x288 with 1 Axes>"
      ]
     },
     "metadata": {
      "needs_background": "light"
     },
     "output_type": "display_data"
    },
    {
     "data": {
      "image/png": "[encoded data removed]",
      "text/plain": [
       "<Figure size 432x288 with 1 Axes>"
      ]
     },
     "metadata": {
      "needs_background": "light"
     },
     "output_type": "display_data"
    }
   ],
   "source": [
    "plot_cv_results(clf_lasso,'alpha',4,'n_degree')\n",
    "\n",
    "plot_cv_results(clf_lasso,'n_degree',1,'alpha')"
   ]
  },
  {
   "cell_type": "code",
   "execution_count": 42,
   "metadata": {},
   "outputs": [],
   "source": [
    "# Let's define a function that given the name of a parameter and a value for it, \n",
    "# plots the result for those parameter=value in the CV process\n",
    "import pandas as pd\n",
    "import matplotlib.pyplot as plt\n",
    "\n",
    "def plot_cv_results_extended(clf,parameter,values,xaxisparameter):\n",
    "    df = pd.DataFrame(clf_lasso.cv_results_)\n",
    "    \n",
    "    sx = 'param_' + xaxisparameter\n",
    "    plt.figure()\n",
    "    \n",
    "    s = 'param_'+parameter\n",
    "    for v in values:\n",
    "        my_results_df = df.loc[df[s]==v]\n",
    "        x = my_results_df[sx]\n",
    "        y = my_results_df['mean_test_score']\n",
    "        plt.plot(x,y,'o-',label=parameter+' = ' + str(v))\n",
    "    \n",
    "    plt.ylim(0.3,0.6)\n",
    "    plt.xlabel(xaxisparameter)\n",
    "    plt.ylabel('R2 score')\n",
    "    plt.legend()\n",
    "    plt.show()"
   ]
  },
  {
   "cell_type": "code",
   "execution_count": 44,
   "metadata": {},
   "outputs": [
    {
     "data": {
      "image/png": "[encoded data removed]",
      "text/plain": [
       "<Figure size 432x288 with 1 Axes>"
      ]
     },
     "metadata": {
      "needs_background": "light"
     },
     "output_type": "display_data"
    },
    {
     "data": {
      "image/png": "[encoded data removed]",
      "text/plain": [
       "<Figure size 432x288 with 1 Axes>"
      ]
     },
     "metadata": {
      "needs_background": "light"
     },
     "output_type": "display_data"
    }
   ],
   "source": [
    "plot_cv_results_extended(clf_lasso,'alpha',rang_alpha,'n_degree')\n",
    "\n",
    "plot_cv_results_extended(clf_lasso,'n_degree',degrees,'alpha')"
   ]
  },
  {
   "cell_type": "code",
   "execution_count": 15,
   "metadata": {},
   "outputs": [
    {
     "data": {
      "text/plain": [
       "[<matplotlib.lines.Line2D at 0x23fff60b668>]"
      ]
     },
     "execution_count": 15,
     "metadata": {},
     "output_type": "execute_result"
    },
    {
     "data": {
      "image/png": "[encoded data removed]",
      "text/plain": [
       "<Figure size 432x288 with 1 Axes>"
      ]
     },
     "metadata": {
      "needs_background": "light"
     },
     "output_type": "display_data"
    }
   ],
   "source": [
    "plt.figure()\n",
    "a = clf_lasso.cv_results_['mean_test_score']\n",
    "a[2] = 0\n",
    "plt.plot(a)"
   ]
  },
  {
   "cell_type": "code",
   "execution_count": 23,
   "metadata": {},
   "outputs": [
    {
     "name": "stdout",
     "output_type": "stream",
     "text": [
      "(353, 10)\n",
      "(353, 65)\n",
      "(353, 285)\n",
      "The R2 score for Lasso (no polynomial) is 0.343855\n",
      "The R2 score for Lasso (polynomial degree 2) is 0.351818\n",
      "The R2 score for Lasso (polynomial degree 3) is 0.342516\n"
     ]
    }
   ],
   "source": [
    "# Let's try in a normal way:\n",
    "print(X_train.shape)\n",
    "\n",
    "# Degree 2 polynomial features\n",
    "pf2 = PolynomialFeatures(degree=2,include_bias=False)\n",
    "X_poly2 = pf2.fit_transform(X_train)  \n",
    "X_test2 = pf2.fit_transform(X_test)  \n",
    "transformer2 = StandardScaler().fit(X_poly2)\n",
    "X_poly2 = transformer2.transform(X_poly2)\n",
    "X_test2 = transformer2.transform(X_test2)\n",
    "print(X_poly2.shape)\n",
    "\n",
    "\n",
    "pf3 = PolynomialFeatures(degree=3,include_bias=False)\n",
    "X_poly3 = pf3.fit_transform(X_train)  \n",
    "X_test3 = pf3.fit_transform(X_test)  \n",
    "transformer3 = StandardScaler().fit(X_poly3)\n",
    "X_poly3 = transformer3.transform(X_poly3)\n",
    "X_test3 = transformer3.transform(X_test3)\n",
    "print(X_poly3.shape)\n",
    "\n",
    "\n",
    "lasso = ln.Lasso(fit_intercept=True, alpha = 4 , max_iter = 1000000)\n",
    "lasso.fit(X_train,Y_train)\n",
    "score1 = lasso.score(X_test,Y_test)\n",
    "print('The R2 score for Lasso (no polynomial) is %f' %score1)\n",
    "\n",
    "lasso2 = ln.Lasso(fit_intercept=True, alpha = 4 , max_iter = 1000000)\n",
    "lasso2.fit(X_poly2,Y_train)\n",
    "score2 = lasso2.score(X_test2,Y_test)\n",
    "print('The R2 score for Lasso (polynomial degree 2) is %f' %score2)\n",
    "\n",
    "lasso3 = ln.Lasso(fit_intercept=True, alpha = 4 , max_iter = 1000000)\n",
    "lasso3.fit(X_poly3,Y_train)\n",
    "score3 = lasso3.score(X_test3,Y_test)\n",
    "print('The R2 score for Lasso (polynomial degree 3) is %f' %score3)\n",
    "\n"
   ]
  },
  {
   "cell_type": "markdown",
   "metadata": {
    "colab_type": "text",
    "id": "YKvDZ_FahsDl"
   },
   "source": [
    "### Regularized version"
   ]
  },
  {
   "cell_type": "code",
   "execution_count": null,
   "metadata": {
    "colab": {},
    "colab_type": "code",
    "id": "VxCrlnE0huMt"
   },
   "outputs": [],
   "source": []
  },
  {
   "cell_type": "markdown",
   "metadata": {
    "colab_type": "text",
    "id": "VHWjw1eAo_9V"
   },
   "source": [
    "## 3. Study of feature relevance and feature selection\n",
    "\n",
    "In this last section, using different criteria, you have to analyze the relevance of the input features. Thus, you will have to find a subset with the $D'$ most relevant features and, using this subset of features, analyze the final performance of a regressor (for the sake of simplicity, consider a linear ridge regressor as final regressor).\n",
    "\n",
    "To analyze the feature importances or relevances, you can use the following criteria:\n",
    "\n",
    "1. **Relevance ranking based on the validation error**: if there were $D$ input features, we could try to train $D$ regressors where each regressor uses one (and only one) different input feature. According to the final perfomance of each regressor (evaluated on a validation set or with a CV proccess), we could rank the features (the most relevant feature is the one providing the lowest error). Using this ranking, we can select the $D'$ most relevant features as the $D'$ top-ranked ones. Note that this scheme only analyzes the isolated relevance of each feature to predict the output; so, it is said that this approach is *univariate*.\n",
    "\n",
    " <img src=\"http://www.tsc.uc3m.es/~vanessa/Figs_notebooks/ML/Regression/FeatureRanking.png\" width=\"90%\" > \n",
    "\n",
    "\n",
    "2. **Greedy search based on the validation error**: approach (1) has the disadvantage of not taking into account relationships between features. For instance, method (1) would not realize that two features can be rendundant or that a feature, that is useless by itself, can be very useful combined with another feature. To overcome this drawback, we should have to analyze subsets of features; however, exploring all possible subsets  is usually computationally unflexible (there are $2^D$ combinations!!!!); so a greedy search (fordward or backward) is usually prefered:\n",
    "\n",
    "  2.1 *Fordward search*: It starts with an empty set and, iteratively, adds new features according to a relevance criterion (in this case, minimum validation MSE).\n",
    "\n",
    "  <img src=\"http://www.tsc.uc3m.es/~vanessa/Figs_notebooks/ML/Regression/Fig_Forward_search.png\" width=\"48%\" > \n",
    "\n",
    "  2.2 *Backward search*: It starts considering all the features and, iteratively, removes features according to a relevance criterion (in this case, minimum validation MSE).\n",
    "\n",
    "  <img src=\"http://www.tsc.uc3m.es/~vanessa/Figs_notebooks/ML/Regression/Fig_Backward_search.png\" width=\"48%\" > \n",
    "\n",
    "3. **Ridge linear regression with a prunning**: We know that the L2 regularization limits the magnitude of the weight vector to avoid overfitting problems, but these weigths do not become to null. However, in a linear model, *the weight magnitude can be an indicative of the feature relevance* and, unlike approach (1), all features are analyzed at the same time (*multivariate approach*). Use the weigth magnitude to generate a ranking of features and, later, use this ranking to select the $D'$ most relevant features.\n",
    "\n",
    "4. **Lasso linear regression**: In this case, the L1 penalty allows us to directly eliminate some of the input features. Explore different values of the regularization parameter $\\lambda$ to get a sequence of selected feature sets (from a single feature to all features).\n",
    "\n",
    "\n",
    "5. **Elastic-net linear regression**: This last approach combines L1 and L2 regularizations, thus including the advantages of both methods. Varying adequately their regularization parameters, create a sequence of feature selection subsets. \n",
    "\n"
   ]
  },
  {
   "cell_type": "markdown",
   "metadata": {
    "colab_type": "text",
    "id": "fe2uvnVP0-AZ"
   },
   "source": [
    "Final comments:\n",
    "\n",
    "* Due to part of the feature selection process involves selecting the optimum number of features, to avoid additional complexity (having to validate this number), you can analyze the different methods by exploring the curves of MSE vs. number of selected features ($D'$).\n",
    "\n",
    "* It is not necessary to apply all these methods to complete this notebook (you can choose, at least, three of them). In fact, the implementation of greedy search approaches require an advanced knowledge of Python; so take this into account when you design your notebook solution.\n",
    "\n",
    "* **Please, analyze in detail the different results, pointing out the advantages/disadvantages of each feature selection scheme**. Think about the behaviour of the different criteria in cases where a feature is irrelevant or there are redundant features. Additional experiments helping you to support any of your conclusions will be welcome."
   ]
  },
  {
   "cell_type": "code",
   "execution_count": 14,
   "metadata": {
    "colab": {},
    "colab_type": "code",
    "id": "jtDSa1iq-G9V"
   },
   "outputs": [],
   "source": [
    "## 3. Feature selection \n",
    "\n",
    "# Include your code here (create as many cells as you need)"
   ]
  }
 ],
 "metadata": {
  "colab": {
   "collapsed_sections": [],
   "name": "Homework1.ipynb",
   "provenance": []
  },
  "kernelspec": {
   "display_name": "Python 3",
   "language": "python",
   "name": "python3"
  },
  "language_info": {
   "codemirror_mode": {
    "name": "ipython",
    "version": 3
   },
   "file_extension": ".py",
   "mimetype": "text/x-python",
   "name": "python",
   "nbconvert_exporter": "python",
   "pygments_lexer": "ipython3",
   "version": "3.7.3"
  }
 },
 "nbformat": 4,
 "nbformat_minor": 1
}
