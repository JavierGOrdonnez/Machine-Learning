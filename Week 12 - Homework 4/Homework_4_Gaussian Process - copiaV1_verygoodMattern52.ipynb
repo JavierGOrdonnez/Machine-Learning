{
 "cells": [
  {
   "cell_type": "markdown",
   "metadata": {},
   "source": [
    "# Homework 4: Regression with Gaussian Processes\n",
    "\n",
    "------------------------------------------------------\n",
    "*Machine Learning, Master in Information Health Engineering, 2019-2020*\n",
    "\n",
    "*Pablo M. Olmos olmos@tsc.uc3m.es*\n",
    "\n",
    "------------------------------------------------------\n",
    "\n",
    "The aim of this homework is to solve a real data problem using the Gaussian Process implementation of GPy. The documentation of GPy is avaialable from the [SheffieldML github page](https://github.com/SheffieldML/GPy) or from [this page](http://gpy.readthedocs.org/en/latest/). \n",
    "\n",
    "The problem is the prediction of both the heating load (HL) and cooling load (CL) of residential buildings. We consider eight input variables for each building: relative compactness, surface area, wall area, roof area, overall height, orientation, glazing area, glazing area distribution.\n",
    "\n",
    "In this [paper](https://www.sciencedirect.com/science/article/pii/S037877881200151X) you can find a detailed description of the problem and a solution based on linear regression [(iteratively reweighted least squares (IRLS) algorithm)](https://www.google.com/url?sa=t&rct=j&q=&esrc=s&source=web&cd=10&ved=2ahUKEwjZuoLY2OjgAhUs3uAKHUZ7BVcQFjAJegQIAhAC&url=https%3A%2F%2Fpdfs.semanticscholar.org%2F9b92%2F18e7233f4d0b491e1582c893c9a099470a73.pdf&usg=AOvVaw3YDwqZh1xyF626VqfnCM2k) and random forests. Using GPs, our goal is not only estimate accurately both HL and CL, but also get a measure of uncertainty in our predictions.\n",
    "\n",
    "The data set can be downloaded from the [UCI repository](https://archive.ics.uci.edu/ml/datasets/Energy+efficiency#)."
   ]
  },
  {
   "cell_type": "markdown",
   "metadata": {},
   "source": [
    "### 1. Loading and preparing the data\n",
    "\n",
    "* Download the dataset\n",
    "* Divide at random the dataset into train (80%) and test (20%) datasets \n",
    "* Normalize data if needed"
   ]
  },
  {
   "cell_type": "code",
   "execution_count": 1,
   "metadata": {},
   "outputs": [],
   "source": [
    "import pandas as pd\n",
    "import GPy\n",
    "import numpy as np\n",
    "import matplotlib.pyplot as plt"
   ]
  },
  {
   "cell_type": "code",
   "execution_count": 2,
   "metadata": {},
   "outputs": [],
   "source": [
    "# import the data from the website\n",
    "data = pd.read_excel('https://archive.ics.uci.edu/ml/machine-learning-databases/00242/ENB2012_data.xlsx')"
   ]
  },
  {
   "cell_type": "code",
   "execution_count": 3,
   "metadata": {},
   "outputs": [
    {
     "name": "stdout",
     "output_type": "stream",
     "text": [
      "The data looks like:\n"
     ]
    },
    {
     "data": {
      "text/html": [
       "<div>\n",
       "<style scoped>\n",
       "    .dataframe tbody tr th:only-of-type {\n",
       "        vertical-align: middle;\n",
       "    }\n",
       "\n",
       "    .dataframe tbody tr th {\n",
       "        vertical-align: top;\n",
       "    }\n",
       "\n",
       "    .dataframe thead th {\n",
       "        text-align: right;\n",
       "    }\n",
       "</style>\n",
       "<table border=\"1\" class=\"dataframe\">\n",
       "  <thead>\n",
       "    <tr style=\"text-align: right;\">\n",
       "      <th></th>\n",
       "      <th>X1</th>\n",
       "      <th>X2</th>\n",
       "      <th>X3</th>\n",
       "      <th>X4</th>\n",
       "      <th>X5</th>\n",
       "      <th>X6</th>\n",
       "      <th>X7</th>\n",
       "      <th>X8</th>\n",
       "      <th>Y1</th>\n",
       "      <th>Y2</th>\n",
       "    </tr>\n",
       "  </thead>\n",
       "  <tbody>\n",
       "    <tr>\n",
       "      <td>0</td>\n",
       "      <td>0.98</td>\n",
       "      <td>514.5</td>\n",
       "      <td>294.0</td>\n",
       "      <td>110.25</td>\n",
       "      <td>7.0</td>\n",
       "      <td>2</td>\n",
       "      <td>0.0</td>\n",
       "      <td>0</td>\n",
       "      <td>15.55</td>\n",
       "      <td>21.33</td>\n",
       "    </tr>\n",
       "    <tr>\n",
       "      <td>1</td>\n",
       "      <td>0.98</td>\n",
       "      <td>514.5</td>\n",
       "      <td>294.0</td>\n",
       "      <td>110.25</td>\n",
       "      <td>7.0</td>\n",
       "      <td>3</td>\n",
       "      <td>0.0</td>\n",
       "      <td>0</td>\n",
       "      <td>15.55</td>\n",
       "      <td>21.33</td>\n",
       "    </tr>\n",
       "    <tr>\n",
       "      <td>2</td>\n",
       "      <td>0.98</td>\n",
       "      <td>514.5</td>\n",
       "      <td>294.0</td>\n",
       "      <td>110.25</td>\n",
       "      <td>7.0</td>\n",
       "      <td>4</td>\n",
       "      <td>0.0</td>\n",
       "      <td>0</td>\n",
       "      <td>15.55</td>\n",
       "      <td>21.33</td>\n",
       "    </tr>\n",
       "    <tr>\n",
       "      <td>3</td>\n",
       "      <td>0.98</td>\n",
       "      <td>514.5</td>\n",
       "      <td>294.0</td>\n",
       "      <td>110.25</td>\n",
       "      <td>7.0</td>\n",
       "      <td>5</td>\n",
       "      <td>0.0</td>\n",
       "      <td>0</td>\n",
       "      <td>15.55</td>\n",
       "      <td>21.33</td>\n",
       "    </tr>\n",
       "    <tr>\n",
       "      <td>4</td>\n",
       "      <td>0.90</td>\n",
       "      <td>563.5</td>\n",
       "      <td>318.5</td>\n",
       "      <td>122.50</td>\n",
       "      <td>7.0</td>\n",
       "      <td>2</td>\n",
       "      <td>0.0</td>\n",
       "      <td>0</td>\n",
       "      <td>20.84</td>\n",
       "      <td>28.28</td>\n",
       "    </tr>\n",
       "  </tbody>\n",
       "</table>\n",
       "</div>"
      ],
      "text/plain": [
       "     X1     X2     X3      X4   X5  X6   X7  X8     Y1     Y2\n",
       "0  0.98  514.5  294.0  110.25  7.0   2  0.0   0  15.55  21.33\n",
       "1  0.98  514.5  294.0  110.25  7.0   3  0.0   0  15.55  21.33\n",
       "2  0.98  514.5  294.0  110.25  7.0   4  0.0   0  15.55  21.33\n",
       "3  0.98  514.5  294.0  110.25  7.0   5  0.0   0  15.55  21.33\n",
       "4  0.90  563.5  318.5  122.50  7.0   2  0.0   0  20.84  28.28"
      ]
     },
     "execution_count": 3,
     "metadata": {},
     "output_type": "execute_result"
    }
   ],
   "source": [
    "print('The data looks like:')\n",
    "data.head()"
   ]
  },
  {
   "cell_type": "code",
   "execution_count": 4,
   "metadata": {},
   "outputs": [
    {
     "name": "stdout",
     "output_type": "stream",
     "text": [
      "X1    0\n",
      "X2    0\n",
      "X3    0\n",
      "X4    0\n",
      "X5    0\n",
      "X6    0\n",
      "X7    0\n",
      "X8    0\n",
      "Y1    0\n",
      "Y2    0\n",
      "dtype: int64\n"
     ]
    }
   ],
   "source": [
    "empty = data.apply(lambda col: pd.isnull(col)).sum()\n",
    "print(empty) # check whether there are missing values"
   ]
  },
  {
   "cell_type": "code",
   "execution_count": 5,
   "metadata": {},
   "outputs": [
    {
     "name": "stdout",
     "output_type": "stream",
     "text": [
      "There are 768 data samples\n"
     ]
    }
   ],
   "source": [
    "# Check how many data points we have\n",
    "print('There are %d data samples' %data.shape[0])"
   ]
  },
  {
   "cell_type": "code",
   "execution_count": 6,
   "metadata": {},
   "outputs": [],
   "source": [
    "X = data.iloc[:,0:8]\n",
    "\n",
    "Y = data.iloc[:,8:10]\n",
    "\n",
    "feature_names = {\n",
    "    'X1': 'Relative Compactness',\n",
    "    'X2': 'Surface Area',\n",
    "    'X3': 'Wall Area',\n",
    "    'X4': 'Roof Area',\n",
    "    'X5': 'Overall Height',\n",
    "    'X6': 'Orientation',\n",
    "    'X7': 'Glazing Area',\n",
    "    'X8': 'Glazing Area Distribution' }"
   ]
  },
  {
   "cell_type": "code",
   "execution_count": 7,
   "metadata": {},
   "outputs": [],
   "source": [
    "# Split and normalize the data\n",
    "from sklearn.model_selection import train_test_split\n",
    "X_train, X_test, Y_train, Y_test = train_test_split(X, Y, test_size=0.2, random_state=42) # split the data\n",
    "\n",
    "# split target between HL and CL\n",
    "HL_train = Y_train[['Y1']].to_numpy().reshape(-1,1)\n",
    "CL_train = Y_train[['Y2']].to_numpy().reshape(-1,1)\n",
    "HL_test = Y_test[['Y1']].to_numpy().reshape(-1,1)\n",
    "CL_test = Y_test[['Y2']].to_numpy().reshape(-1,1)\n",
    "\n",
    "from sklearn.preprocessing import StandardScaler\n",
    "transformer = StandardScaler() \n",
    "transformer.fit(X_train) # fit the transformer\n",
    "X_train_norm = transformer.transform(X_train) # transform\n",
    "X_test_norm =  transformer.transform(X_test) \n",
    "X_train_norm = pd.DataFrame(X_train_norm,index=X_train.index, columns=X_train.columns) # reconvert to DataFrames\n",
    "X_test_norm = pd.DataFrame(X_test_norm,index=X_test.index, columns=X_test.columns)"
   ]
  },
  {
   "cell_type": "markdown",
   "metadata": {},
   "source": [
    "### 2. Setting and optimizing the model\n",
    "\n",
    "You will train two independent GPs, one to estimate HL and one to estimate CL. For each of the two GPs ...\n",
    "\n",
    "**On the training data set:**\n",
    "\n",
    "a) Build a GP regression model based on a RBF kernel with ARD, in which each input dimension is weighted with a different lengthscale, plus some constant noise term. \n",
    "\n",
    "b) Fit the covariance function parameters and noise variance. \n",
    "\n",
    "c) According to the ARD parameters found, what variables are more important for the regression? Compare it to Table 8 in the [paper](https://www.sciencedirect.com/science/article/pii/S037877881200151X) \n",
    "\n",
    "**On the test data set:**\n",
    "\n",
    "d) Compute the test mean absolute error error and the test mean square error (MSE)  using the GP posterior mean and the optimized hyperparameters. Compare your results with Tables 6 and 7 in the [paper](https://www.sciencedirect.com/science/article/pii/S037877881200151X).\n",
    "\n",
    "\n",
    "2) Try to improve your results by using a more complicated kernel, in which you combine various covariance functions. In this [link](http://nbviewer.jupyter.org/github/SheffieldML/notebook/blob/master/GPy/basic_kernels.ipynb) you can see how to define different kernels and combine  them. Comments the results. \n",
    "\n"
   ]
  },
  {
   "cell_type": "markdown",
   "metadata": {},
   "source": [
    "## Heating Load GP"
   ]
  },
  {
   "cell_type": "code",
   "execution_count": 8,
   "metadata": {},
   "outputs": [
    {
     "name": "stdout",
     "output_type": "stream",
     "text": [
      "Optimization restart 1/10, f = 529.3901256938204\n",
      "Optimization restart 2/10, f = 535.3660192288098\n",
      "Optimization restart 3/10, f = 843.3234082987558\n",
      "Optimization restart 4/10, f = 529.360752618873\n",
      "Optimization restart 5/10, f = 531.7394473185122\n",
      "Optimization restart 6/10, f = 530.0323863561139\n",
      "Optimization restart 7/10, f = 552.908168664276\n",
      "Optimization restart 8/10, f = 615.4907074547866\n"
     ]
    },
    {
     "name": "stderr",
     "output_type": "stream",
     "text": [
      " C:\\Users\\Equipo\\Anaconda3\\envs\\py37\\lib\\site-packages\\GPy\\kern\\src\\stationary.py:243: RuntimeWarning:invalid value encountered in true_divide\n"
     ]
    },
    {
     "name": "stdout",
     "output_type": "stream",
     "text": [
      "Optimization restart 9/10, f = 733.0163299900909\n"
     ]
    },
    {
     "name": "stderr",
     "output_type": "stream",
     "text": [
      " C:\\Users\\Equipo\\Anaconda3\\envs\\py37\\lib\\site-packages\\GPy\\kern\\src\\stationary.py:166: RuntimeWarning:overflow encountered in true_divide\n",
      " C:\\Users\\Equipo\\Anaconda3\\envs\\py37\\lib\\site-packages\\GPy\\kern\\src\\stationary.py:137: RuntimeWarning:overflow encountered in square\n",
      " C:\\Users\\Equipo\\Anaconda3\\envs\\py37\\lib\\site-packages\\GPy\\kern\\src\\stationary.py:138: RuntimeWarning:invalid value encountered in add\n"
     ]
    },
    {
     "name": "stdout",
     "output_type": "stream",
     "text": [
      "Optimization restart 10/10, f = 534.6219618573489\n"
     ]
    },
    {
     "data": {
      "text/plain": [
       "[<paramz.optimization.optimization.opt_lbfgsb at 0x1b3d1bb0c08>,\n",
       " <paramz.optimization.optimization.opt_lbfgsb at 0x1b3d1bc6a88>,\n",
       " <paramz.optimization.optimization.opt_lbfgsb at 0x1b3d1bcfc08>,\n",
       " <paramz.optimization.optimization.opt_lbfgsb at 0x1b3d1be0208>,\n",
       " <paramz.optimization.optimization.opt_lbfgsb at 0x1b3d1b917c8>,\n",
       " <paramz.optimization.optimization.opt_lbfgsb at 0x1b3d1b91488>,\n",
       " <paramz.optimization.optimization.opt_lbfgsb at 0x1b3d1b916c8>,\n",
       " <paramz.optimization.optimization.opt_lbfgsb at 0x1b3d1b91888>,\n",
       " <paramz.optimization.optimization.opt_lbfgsb at 0x1b3d1b91b48>,\n",
       " <paramz.optimization.optimization.opt_lbfgsb at 0x1b3d1b8f848>]"
      ]
     },
     "execution_count": 8,
     "metadata": {},
     "output_type": "execute_result"
    }
   ],
   "source": [
    "n_features = 8\n",
    "kernelHL = GPy.kern.RBF(n_features,variance=1.0, lengthscale=1.0, ARD=True) + GPy.kern.White(n_features)\n",
    "mHL = GPy.models.GPRegression(X_train_norm, HL_train, kernelHL)\n",
    "mHL.optimize_restarts(num_restarts = 10)\n",
    "\n",
    "\n",
    "# trains faster, but yields incorrect results (much higher MAE and MSE)\n",
    "# mHL2 = GPy.models.GPRegression(X_train_norm, Y_train[['Y1']], kernelHL2)"
   ]
  },
  {
   "cell_type": "code",
   "execution_count": 127,
   "metadata": {},
   "outputs": [
    {
     "data": {
      "text/html": [
       "<style type=\"text/css\">\n",
       ".pd{\n",
       "    font-family: \"Courier New\", Courier, monospace !important;\n",
       "    width: 100%;\n",
       "    padding: 3px;\n",
       "}\n",
       "</style>\n",
       "\n",
       "<p class=pd>\n",
       "<b>Model</b>: GP regression<br>\n",
       "<b>Objective</b>: 529.360752618873<br>\n",
       "<b>Number of Parameters</b>: 11<br>\n",
       "<b>Number of Optimization Parameters</b>: 11<br>\n",
       "<b>Updates</b>: True<br>\n",
       "</p>\n",
       "<style type=\"text/css\">\n",
       ".tg  {font-family:\"Courier New\", Courier, monospace !important;padding:2px 3px;word-break:normal;border-collapse:collapse;border-spacing:0;border-color:#DCDCDC;margin:0px auto;width:100%;}\n",
       ".tg td{font-family:\"Courier New\", Courier, monospace !important;font-weight:bold;color:#444;background-color:#F7FDFA;border-style:solid;border-width:1px;overflow:hidden;word-break:normal;border-color:#DCDCDC;}\n",
       ".tg th{font-family:\"Courier New\", Courier, monospace !important;font-weight:normal;color:#fff;background-color:#26ADE4;border-style:solid;border-width:1px;overflow:hidden;word-break:normal;border-color:#DCDCDC;}\n",
       ".tg .tg-left{font-family:\"Courier New\", Courier, monospace !important;font-weight:normal;text-align:left;}\n",
       ".tg .tg-center{font-family:\"Courier New\", Courier, monospace !important;font-weight:normal;text-align:center;}\n",
       ".tg .tg-right{font-family:\"Courier New\", Courier, monospace !important;font-weight:normal;text-align:right;}\n",
       "</style>\n",
       "<table class=\"tg\"><tr><th><b>  GP_regression.         </b></th><th><b>                value</b></th><th><b>constraints</b></th><th><b>priors</b></th></tr>\n",
       "<tr><td class=tg-left>  sum.rbf.variance       </td><td class=tg-right>   1265.8830547478121</td><td class=tg-center>    +ve    </td><td class=tg-center>      </td></tr>\n",
       "<tr><td class=tg-left>  sum.rbf.lengthscale    </td><td class=tg-right>                 (8,)</td><td class=tg-center>    +ve    </td><td class=tg-center>      </td></tr>\n",
       "<tr><td class=tg-left>  sum.white.variance     </td><td class=tg-right>  0.19514644214306373</td><td class=tg-center>    +ve    </td><td class=tg-center>      </td></tr>\n",
       "<tr><td class=tg-left>  Gaussian_noise.variance</td><td class=tg-right>4.635613902633039e-50</td><td class=tg-center>    +ve    </td><td class=tg-center>      </td></tr>\n",
       "</table>"
      ],
      "text/plain": [
       "<GPy.models.gp_regression.GPRegression at 0x1b3d1be0788>"
      ]
     },
     "metadata": {},
     "output_type": "display_data"
    },
    {
     "name": "stdout",
     "output_type": "stream",
     "text": [
      "RBF lengthscales:  [  1.21221362   1.01569334   3.23674854 897.08557937  57.00087926\n",
      " 737.85049464   2.90302259 196.50623025]\n",
      "Features ordered by relevance:  [2 1 7 3 5 8 6 4]\n"
     ]
    }
   ],
   "source": [
    "display(mHL)\n",
    "print('RBF lengthscales: ',kernelHL.rbf.lengthscale.values)\n",
    "\n",
    "idx_HL = np.argsort(kernelHL.rbf.lengthscale.values) + 1 # add 1 so that indices correspond to X1...X8\n",
    "print('Features ordered by relevance: ',idx_HL)"
   ]
  },
  {
   "cell_type": "code",
   "execution_count": 10,
   "metadata": {},
   "outputs": [
    {
     "name": "stdout",
     "output_type": "stream",
     "text": [
      "MAE is 0.36 and MSE is 0.23\n"
     ]
    }
   ],
   "source": [
    "meanHLtest,_ = mHL.predict(X_test_norm.to_numpy().reshape(-1,n_features))\n",
    "from sklearn.metrics import mean_absolute_error , mean_squared_error\n",
    "MAE_HL = mean_absolute_error(HL_test,meanHLtest)\n",
    "MSE_HL = mean_squared_error(HL_test,meanHLtest)\n",
    "print('MAE is %.2f and MSE is %.2f' %(MAE_HL,MSE_HL))"
   ]
  },
  {
   "cell_type": "markdown",
   "metadata": {},
   "source": [
    "#### Visualizing the results\n",
    "Now, let's visualize the results of the GP fitting, both with the 95% confidence interval and by taking samples from the GP. As the data is multidimensional and it can not be visualized directly, we must choose one X dimension to plot. The most relevant feature (lower lengthscale) will be used."
   ]
  },
  {
   "cell_type": "code",
   "execution_count": 125,
   "metadata": {},
   "outputs": [
    {
     "data": {
      "image/png": "[encoded data removed]",
      "text/plain": [
       "<Figure size 432x288 with 1 Axes>"
      ]
     },
     "metadata": {
      "needs_background": "light"
     },
     "output_type": "display_data"
    }
   ],
   "source": [
    "# plot the results HL vs most relevant feature, and the 95% confidence interval\n",
    "x_dim = idx_HL[0]-1\n",
    "fig = mHL.plot(visible_dims=[x_dim])#, plot_density=True)\n",
    "plt.ylim((-40,80))\n",
    "plt.show()\n",
    "# mHL.plot_confidence(visible_dims=[x_dim])"
   ]
  },
  {
   "cell_type": "code",
   "execution_count": 100,
   "metadata": {},
   "outputs": [
    {
     "data": {
      "image/png": "[encoded data removed]",
      "text/plain": [
       "<Figure size 432x288 with 1 Axes>"
      ]
     },
     "metadata": {
      "needs_background": "light"
     },
     "output_type": "display_data"
    }
   ],
   "source": [
    "# sample from the GP and plot\n",
    "X_true = np.zeros((1000,n_features))\n",
    "for i in range(n_features):\n",
    "    m = np.min(X_train_norm.iloc[:,i])\n",
    "    M = np.max(X_train_norm.iloc[:,i])\n",
    "    X_true[:,i:i+1] = np.linspace(m,M,1000)[:,None]\n",
    "\n",
    "n_samples = 30\n",
    "posteriorYtest = mHL.posterior_samples_f(X_true, full_cov=True, size=n_samples)\n",
    "meanYtest,_ = mHL.predict(X_true,full_cov=True)\n",
    "\n",
    "plt.figure()\n",
    "plt.plot(X_true[:,x_dim],posteriorYtest.reshape([-1,n_samples]),'--',lw=0.5,)\n",
    "plt.plot(X_true[:,x_dim],meanYtest,'k',label='GP posterior mean',lw=2)\n",
    "plt.legend()\n",
    "plt.xlabel('X'+str(x_dim+1))\n",
    "plt.ylabel('Heating load prediction')\n",
    "plt.show()"
   ]
  },
  {
   "cell_type": "markdown",
   "metadata": {},
   "source": [
    "## Cooling Load"
   ]
  },
  {
   "cell_type": "code",
   "execution_count": 11,
   "metadata": {},
   "outputs": [
    {
     "name": "stdout",
     "output_type": "stream",
     "text": [
      "Optimization restart 1/10, f = 1236.3146225202556\n",
      "Optimization restart 2/10, f = 1236.7045621141747\n",
      "Optimization restart 3/10, f = 1310.2568772217853\n",
      "Optimization restart 4/10, f = 1236.5219278880772\n",
      "Optimization restart 5/10, f = 1239.4228498354364\n",
      "Optimization restart 6/10, f = 1264.102021816645\n",
      "Optimization restart 7/10, f = 1454.48558523907\n",
      "Optimization restart 8/10, f = 1623.1295685866774\n",
      "Optimization restart 9/10, f = 1238.9288115957406\n",
      "Optimization restart 10/10, f = 1240.0138121099678\n"
     ]
    },
    {
     "data": {
      "text/plain": [
       "[<paramz.optimization.optimization.opt_lbfgsb at 0x1b3d1b53088>,\n",
       " <paramz.optimization.optimization.opt_lbfgsb at 0x1b3d1b69288>,\n",
       " <paramz.optimization.optimization.opt_lbfgsb at 0x1b3d1b8f588>,\n",
       " <paramz.optimization.optimization.opt_lbfgsb at 0x1b3d1b35648>,\n",
       " <paramz.optimization.optimization.opt_lbfgsb at 0x1b3d1b94f48>,\n",
       " <paramz.optimization.optimization.opt_lbfgsb at 0x1b3d1b6d788>,\n",
       " <paramz.optimization.optimization.opt_lbfgsb at 0x1b3d1b7f348>,\n",
       " <paramz.optimization.optimization.opt_lbfgsb at 0x1b3d1b94148>,\n",
       " <paramz.optimization.optimization.opt_lbfgsb at 0x1b3d1b9c388>,\n",
       " <paramz.optimization.optimization.opt_lbfgsb at 0x1b3d1b5f808>]"
      ]
     },
     "execution_count": 11,
     "metadata": {},
     "output_type": "execute_result"
    }
   ],
   "source": [
    "n_features = 8\n",
    "kernelCL = GPy.kern.RBF(n_features, ARD=True) + GPy.kern.White(n_features)\n",
    "mCL = GPy.models.GPRegression(X_train_norm, CL_train, kernelCL)\n",
    "mCL.optimize_restarts(num_restarts = 10)"
   ]
  },
  {
   "cell_type": "code",
   "execution_count": 16,
   "metadata": {},
   "outputs": [
    {
     "data": {
      "text/html": [
       "<style type=\"text/css\">\n",
       ".pd{\n",
       "    font-family: \"Courier New\", Courier, monospace !important;\n",
       "    width: 100%;\n",
       "    padding: 3px;\n",
       "}\n",
       "</style>\n",
       "\n",
       "<p class=pd>\n",
       "<b>Model</b>: GP regression<br>\n",
       "<b>Objective</b>: 1236.3146225202556<br>\n",
       "<b>Number of Parameters</b>: 11<br>\n",
       "<b>Number of Optimization Parameters</b>: 11<br>\n",
       "<b>Updates</b>: True<br>\n",
       "</p>\n",
       "<style type=\"text/css\">\n",
       ".tg  {font-family:\"Courier New\", Courier, monospace !important;padding:2px 3px;word-break:normal;border-collapse:collapse;border-spacing:0;border-color:#DCDCDC;margin:0px auto;width:100%;}\n",
       ".tg td{font-family:\"Courier New\", Courier, monospace !important;font-weight:bold;color:#444;background-color:#F7FDFA;border-style:solid;border-width:1px;overflow:hidden;word-break:normal;border-color:#DCDCDC;}\n",
       ".tg th{font-family:\"Courier New\", Courier, monospace !important;font-weight:normal;color:#fff;background-color:#26ADE4;border-style:solid;border-width:1px;overflow:hidden;word-break:normal;border-color:#DCDCDC;}\n",
       ".tg .tg-left{font-family:\"Courier New\", Courier, monospace !important;font-weight:normal;text-align:left;}\n",
       ".tg .tg-center{font-family:\"Courier New\", Courier, monospace !important;font-weight:normal;text-align:center;}\n",
       ".tg .tg-right{font-family:\"Courier New\", Courier, monospace !important;font-weight:normal;text-align:right;}\n",
       "</style>\n",
       "<table class=\"tg\"><tr><th><b>  GP_regression.         </b></th><th><b>            value</b></th><th><b>constraints</b></th><th><b>priors</b></th></tr>\n",
       "<tr><td class=tg-left>  sum.rbf.variance       </td><td class=tg-right> 609.678620717389</td><td class=tg-center>    +ve    </td><td class=tg-center>      </td></tr>\n",
       "<tr><td class=tg-left>  sum.rbf.lengthscale    </td><td class=tg-right>             (8,)</td><td class=tg-center>    +ve    </td><td class=tg-center>      </td></tr>\n",
       "<tr><td class=tg-left>  sum.white.variance     </td><td class=tg-right>1.331129477894194</td><td class=tg-center>    +ve    </td><td class=tg-center>      </td></tr>\n",
       "<tr><td class=tg-left>  Gaussian_noise.variance</td><td class=tg-right>1.331129477894194</td><td class=tg-center>    +ve    </td><td class=tg-center>      </td></tr>\n",
       "</table>"
      ],
      "text/plain": [
       "<GPy.models.gp_regression.GPRegression at 0x1b3d1b3fb88>"
      ]
     },
     "metadata": {},
     "output_type": "display_data"
    },
    {
     "name": "stdout",
     "output_type": "stream",
     "text": [
      "RBF lengthscales:  [1.96950549e+00 3.21024855e+00 1.10099426e+00 1.48417503e+02\n",
      " 2.17571896e+02 4.08546805e+02 1.06918735e+01 1.32036883e+03]\n",
      "Features ordered by relevance:  [3 1 2 7 4 5 6 8]\n"
     ]
    }
   ],
   "source": [
    "display(mCL)\n",
    "# print('RBF variance: ', kernelCL.rbf.variance.values)\n",
    "print('RBF lengthscales: ',kernelCL.rbf.lengthscale.values)\n",
    "# print('White noise variance: ',kernelCL.white.variance.values)\n",
    "\n",
    "idx_CL = np.argsort(kernelCL.rbf.lengthscale.values) + 1 # add 1 so that indices correspond to X1...X8\n",
    "print('Features ordered by relevance: ',idx_CL)"
   ]
  },
  {
   "cell_type": "code",
   "execution_count": 17,
   "metadata": {},
   "outputs": [
    {
     "name": "stdout",
     "output_type": "stream",
     "text": [
      "MAE is 1.19 and MSE is 2.97\n"
     ]
    }
   ],
   "source": [
    "meanCLtest,CLcov = mCL.predict(X_test_norm.to_numpy().reshape(-1,n_features))\n",
    "MAE_CL = mean_absolute_error(CL_test,meanCLtest)\n",
    "MSE_CL = mean_squared_error(CL_test,meanCLtest)\n",
    "print('MAE is %.2f and MSE is %.2f' %(MAE_CL,MSE_CL))"
   ]
  },
  {
   "cell_type": "code",
   "execution_count": 126,
   "metadata": {},
   "outputs": [
    {
     "data": {
      "image/png": "[encoded data removed]",
      "text/plain": [
       "<Figure size 432x288 with 1 Axes>"
      ]
     },
     "metadata": {
      "needs_background": "light"
     },
     "output_type": "display_data"
    }
   ],
   "source": [
    "# plot the results CL vs most relevant feature, and the 95% confidence interval\n",
    "x_dim = idx_CL[0]-1\n",
    "fig = mCL.plot(visible_dims=[x_dim])\n",
    "plt.ylim((-40,80))\n",
    "plt.show()"
   ]
  },
  {
   "cell_type": "markdown",
   "metadata": {},
   "source": [
    "## Different kernels for cooling load\n",
    "*Although having narrower confidence intervals than the GP for heating load, the MSE for cooling load is much higher. The possible explanation is that the provided kernel is not able to appropiately model the data. Therefore, let's try other kernels for the cooling load problem.*"
   ]
  },
  {
   "cell_type": "code",
   "execution_count": 132,
   "metadata": {},
   "outputs": [],
   "source": [
    "def try_kernel(kernel):\n",
    "    n_features = 8\n",
    "#     k = GPy.kern.Linear(n_features) + GPy.kern.White(n_features)\n",
    "    m = GPy.models.GPRegression(X_train_norm, CL_train, k)\n",
    "    m.optimize_restarts(num_restarts = 10)\n",
    "    display(m)\n",
    "    meantest,_ = m.predict(X_test_norm.to_numpy().reshape(-1,n_features))\n",
    "    MAE = mean_absolute_error(CL_test,meantest)\n",
    "    MSE = mean_squared_error(CL_test,meantest)\n",
    "    print('MAE is %.2f and MSE is %.2f' %(MAE,MSE))\n",
    "    return MAE,MSE"
   ]
  },
  {
   "cell_type": "code",
   "execution_count": 136,
   "metadata": {},
   "outputs": [
    {
     "name": "stderr",
     "output_type": "stream",
     "text": [
      " C:\\Users\\Equipo\\Anaconda3\\envs\\py37\\lib\\site-packages\\paramz\\transformations.py:111: RuntimeWarning:overflow encountered in expm1\n"
     ]
    },
    {
     "name": "stdout",
     "output_type": "stream",
     "text": [
      "Optimization restart 1/10, f = 1236.2795530672063\n",
      "Optimization restart 2/10, f = 1236.5633339184017\n",
      "Optimization restart 3/10, f = 1239.4225651217835\n",
      "Optimization restart 4/10, f = 1238.9295136209005\n",
      "Optimization restart 5/10, f = 1238.9116435611045\n",
      "Optimization restart 6/10, f = 1236.650070083248\n",
      "Optimization restart 7/10, f = 1239.3273940019235\n",
      "Optimization restart 8/10, f = 1241.2901174302674\n",
      "Optimization restart 9/10, f = 1238.7369225857049\n",
      "Optimization restart 10/10, f = 1240.2946911325475\n"
     ]
    },
    {
     "data": {
      "text/html": [
       "<style type=\"text/css\">\n",
       ".pd{\n",
       "    font-family: \"Courier New\", Courier, monospace !important;\n",
       "    width: 100%;\n",
       "    padding: 3px;\n",
       "}\n",
       "</style>\n",
       "\n",
       "<p class=pd>\n",
       "<b>Model</b>: GP regression<br>\n",
       "<b>Objective</b>: 1236.2795530672063<br>\n",
       "<b>Number of Parameters</b>: 11<br>\n",
       "<b>Number of Optimization Parameters</b>: 11<br>\n",
       "<b>Updates</b>: True<br>\n",
       "</p>\n",
       "<style type=\"text/css\">\n",
       ".tg  {font-family:\"Courier New\", Courier, monospace !important;padding:2px 3px;word-break:normal;border-collapse:collapse;border-spacing:0;border-color:#DCDCDC;margin:0px auto;width:100%;}\n",
       ".tg td{font-family:\"Courier New\", Courier, monospace !important;font-weight:bold;color:#444;background-color:#F7FDFA;border-style:solid;border-width:1px;overflow:hidden;word-break:normal;border-color:#DCDCDC;}\n",
       ".tg th{font-family:\"Courier New\", Courier, monospace !important;font-weight:normal;color:#fff;background-color:#26ADE4;border-style:solid;border-width:1px;overflow:hidden;word-break:normal;border-color:#DCDCDC;}\n",
       ".tg .tg-left{font-family:\"Courier New\", Courier, monospace !important;font-weight:normal;text-align:left;}\n",
       ".tg .tg-center{font-family:\"Courier New\", Courier, monospace !important;font-weight:normal;text-align:center;}\n",
       ".tg .tg-right{font-family:\"Courier New\", Courier, monospace !important;font-weight:normal;text-align:right;}\n",
       "</style>\n",
       "<table class=\"tg\"><tr><th><b>  GP_regression.         </b></th><th><b>                value</b></th><th><b>constraints</b></th><th><b>priors</b></th></tr>\n",
       "<tr><td class=tg-left>  sum.rbf.variance       </td><td class=tg-right>    619.2047317509175</td><td class=tg-center>    +ve    </td><td class=tg-center>      </td></tr>\n",
       "<tr><td class=tg-left>  sum.rbf.lengthscale    </td><td class=tg-right>                 (8,)</td><td class=tg-center>    +ve    </td><td class=tg-center>      </td></tr>\n",
       "<tr><td class=tg-left>  sum.white.variance     </td><td class=tg-right>8.873842268130697e-24</td><td class=tg-center>    +ve    </td><td class=tg-center>      </td></tr>\n",
       "<tr><td class=tg-left>  Gaussian_noise.variance</td><td class=tg-right>   2.6612551453061166</td><td class=tg-center>    +ve    </td><td class=tg-center>      </td></tr>\n",
       "</table>"
      ],
      "text/plain": [
       "<GPy.models.gp_regression.GPRegression at 0x1b3e802c388>"
      ]
     },
     "metadata": {},
     "output_type": "display_data"
    },
    {
     "name": "stdout",
     "output_type": "stream",
     "text": [
      "MAE is 1.19 and MSE is 2.97\n"
     ]
    },
    {
     "data": {
      "text/plain": [
       "(1.186129095877438, 2.9705481603006003)"
      ]
     },
     "execution_count": 136,
     "metadata": {},
     "output_type": "execute_result"
    }
   ],
   "source": [
    "k1 = GPy.kern.Matern52(n_features) + GPy.kern.White(n_features)\n",
    "try_kernel(k1)"
   ]
  },
  {
   "cell_type": "code",
   "execution_count": 135,
   "metadata": {},
   "outputs": [
    {
     "name": "stderr",
     "output_type": "stream",
     "text": [
      " C:\\Users\\Equipo\\Anaconda3\\envs\\py37\\lib\\site-packages\\paramz\\transformations.py:111: RuntimeWarning:overflow encountered in expm1\n"
     ]
    },
    {
     "name": "stdout",
     "output_type": "stream",
     "text": [
      "Optimization restart 1/10, f = 1237.414470011303\n",
      "Optimization restart 2/10, f = 1236.2935124700991\n",
      "Optimization restart 3/10, f = 1237.4055065025898\n"
     ]
    },
    {
     "name": "stderr",
     "output_type": "stream",
     "text": [
      " C:\\Users\\Equipo\\Anaconda3\\envs\\py37\\lib\\site-packages\\GPy\\kern\\src\\stationary.py:166: RuntimeWarning:overflow encountered in true_divide\n",
      " C:\\Users\\Equipo\\Anaconda3\\envs\\py37\\lib\\site-packages\\GPy\\kern\\src\\stationary.py:137: RuntimeWarning:overflow encountered in square\n",
      " C:\\Users\\Equipo\\Anaconda3\\envs\\py37\\lib\\site-packages\\GPy\\kern\\src\\stationary.py:138: RuntimeWarning:invalid value encountered in add\n"
     ]
    },
    {
     "name": "stdout",
     "output_type": "stream",
     "text": [
      "Optimization restart 4/10, f = 1406.6543964149078\n",
      "Optimization restart 5/10, f = 1238.9288133352154\n"
     ]
    },
    {
     "name": "stderr",
     "output_type": "stream",
     "text": [
      " C:\\Users\\Equipo\\Anaconda3\\envs\\py37\\lib\\site-packages\\GPy\\kern\\src\\stationary.py:243: RuntimeWarning:invalid value encountered in true_divide\n"
     ]
    },
    {
     "name": "stdout",
     "output_type": "stream",
     "text": [
      "Optimization restart 6/10, f = 1240.188440873617\n",
      "Optimization restart 7/10, f = 1238.9288568587228\n",
      "Optimization restart 8/10, f = 1236.489201383128\n",
      "Optimization restart 9/10, f = 1236.2833297064983\n",
      "Optimization restart 10/10, f = 1236.279542654935\n"
     ]
    },
    {
     "data": {
      "text/html": [
       "<style type=\"text/css\">\n",
       ".pd{\n",
       "    font-family: \"Courier New\", Courier, monospace !important;\n",
       "    width: 100%;\n",
       "    padding: 3px;\n",
       "}\n",
       "</style>\n",
       "\n",
       "<p class=pd>\n",
       "<b>Model</b>: GP regression<br>\n",
       "<b>Objective</b>: 1236.279542654935<br>\n",
       "<b>Number of Parameters</b>: 11<br>\n",
       "<b>Number of Optimization Parameters</b>: 11<br>\n",
       "<b>Updates</b>: True<br>\n",
       "</p>\n",
       "<style type=\"text/css\">\n",
       ".tg  {font-family:\"Courier New\", Courier, monospace !important;padding:2px 3px;word-break:normal;border-collapse:collapse;border-spacing:0;border-color:#DCDCDC;margin:0px auto;width:100%;}\n",
       ".tg td{font-family:\"Courier New\", Courier, monospace !important;font-weight:bold;color:#444;background-color:#F7FDFA;border-style:solid;border-width:1px;overflow:hidden;word-break:normal;border-color:#DCDCDC;}\n",
       ".tg th{font-family:\"Courier New\", Courier, monospace !important;font-weight:normal;color:#fff;background-color:#26ADE4;border-style:solid;border-width:1px;overflow:hidden;word-break:normal;border-color:#DCDCDC;}\n",
       ".tg .tg-left{font-family:\"Courier New\", Courier, monospace !important;font-weight:normal;text-align:left;}\n",
       ".tg .tg-center{font-family:\"Courier New\", Courier, monospace !important;font-weight:normal;text-align:center;}\n",
       ".tg .tg-right{font-family:\"Courier New\", Courier, monospace !important;font-weight:normal;text-align:right;}\n",
       "</style>\n",
       "<table class=\"tg\"><tr><th><b>  GP_regression.         </b></th><th><b>                value</b></th><th><b>constraints</b></th><th><b>priors</b></th></tr>\n",
       "<tr><td class=tg-left>  sum.rbf.variance       </td><td class=tg-right>    619.2046843975875</td><td class=tg-center>    +ve    </td><td class=tg-center>      </td></tr>\n",
       "<tr><td class=tg-left>  sum.rbf.lengthscale    </td><td class=tg-right>                 (8,)</td><td class=tg-center>    +ve    </td><td class=tg-center>      </td></tr>\n",
       "<tr><td class=tg-left>  sum.white.variance     </td><td class=tg-right>8.873842268130697e-24</td><td class=tg-center>    +ve    </td><td class=tg-center>      </td></tr>\n",
       "<tr><td class=tg-left>  Gaussian_noise.variance</td><td class=tg-right>    2.661251703753035</td><td class=tg-center>    +ve    </td><td class=tg-center>      </td></tr>\n",
       "</table>"
      ],
      "text/plain": [
       "<GPy.models.gp_regression.GPRegression at 0x1b3e8316ec8>"
      ]
     },
     "metadata": {},
     "output_type": "display_data"
    },
    {
     "name": "stdout",
     "output_type": "stream",
     "text": [
      "MAE is 1.19 and MSE is 2.97\n"
     ]
    },
    {
     "data": {
      "text/plain": [
       "(1.186142796968483, 2.97060443229521)"
      ]
     },
     "execution_count": 135,
     "metadata": {},
     "output_type": "execute_result"
    }
   ],
   "source": [
    "try_kernel(kernelCL)"
   ]
  },
  {
   "cell_type": "code",
   "execution_count": 128,
   "metadata": {},
   "outputs": [
    {
     "name": "stdout",
     "output_type": "stream",
     "text": [
      "Optimization restart 1/10, f = 1352.3154748328227\n",
      "Optimization restart 2/10, f = 1352.3154748332195\n",
      "Optimization restart 3/10, f = 1352.3093641730945\n",
      "Optimization restart 4/10, f = 1325.367252428092\n",
      "Optimization restart 5/10, f = 1325.36725242592\n",
      "Optimization restart 6/10, f = 1352.3154748390812\n",
      "Optimization restart 7/10, f = 1352.3154752069277\n",
      "Optimization restart 8/10, f = 1352.3154748330167\n",
      "Optimization restart 9/10, f = 1352.3154748362429\n",
      "Optimization restart 10/10, f = 1352.3154373639427\n"
     ]
    },
    {
     "data": {
      "text/plain": [
       "[<paramz.optimization.optimization.opt_lbfgsb at 0x1b3e6da4d88>,\n",
       " <paramz.optimization.optimization.opt_lbfgsb at 0x1b3e70cb988>,\n",
       " <paramz.optimization.optimization.opt_lbfgsb at 0x1b3eb7f68c8>,\n",
       " <paramz.optimization.optimization.opt_lbfgsb at 0x1b3e7ec1c48>,\n",
       " <paramz.optimization.optimization.opt_lbfgsb at 0x1b3e7258dc8>,\n",
       " <paramz.optimization.optimization.opt_lbfgsb at 0x1b3ebab1a08>,\n",
       " <paramz.optimization.optimization.opt_lbfgsb at 0x1b3d4847c48>,\n",
       " <paramz.optimization.optimization.opt_lbfgsb at 0x1b3e7ec1ac8>,\n",
       " <paramz.optimization.optimization.opt_lbfgsb at 0x1b3f4821408>,\n",
       " <paramz.optimization.optimization.opt_lbfgsb at 0x1b3e75c2588>]"
      ]
     },
     "execution_count": 128,
     "metadata": {},
     "output_type": "execute_result"
    }
   ],
   "source": [
    "n_features = 8\n",
    "k1 = GPy.kern.Matern52(n_features) + GPy.kern.White(n_features)\n",
    "m1 = GPy.models.GPRegression(X_train_norm, CL_train, k1)\n",
    "m1.optimize_restarts(num_restarts = 10)"
   ]
  },
  {
   "cell_type": "code",
   "execution_count": 129,
   "metadata": {},
   "outputs": [
    {
     "data": {
      "text/html": [
       "<style type=\"text/css\">\n",
       ".pd{\n",
       "    font-family: \"Courier New\", Courier, monospace !important;\n",
       "    width: 100%;\n",
       "    padding: 3px;\n",
       "}\n",
       "</style>\n",
       "\n",
       "<p class=pd>\n",
       "<b>Model</b>: GP regression<br>\n",
       "<b>Objective</b>: 1325.36725242592<br>\n",
       "<b>Number of Parameters</b>: 4<br>\n",
       "<b>Number of Optimization Parameters</b>: 4<br>\n",
       "<b>Updates</b>: True<br>\n",
       "</p>\n",
       "<style type=\"text/css\">\n",
       ".tg  {font-family:\"Courier New\", Courier, monospace !important;padding:2px 3px;word-break:normal;border-collapse:collapse;border-spacing:0;border-color:#DCDCDC;margin:0px auto;width:100%;}\n",
       ".tg td{font-family:\"Courier New\", Courier, monospace !important;font-weight:bold;color:#444;background-color:#F7FDFA;border-style:solid;border-width:1px;overflow:hidden;word-break:normal;border-color:#DCDCDC;}\n",
       ".tg th{font-family:\"Courier New\", Courier, monospace !important;font-weight:normal;color:#fff;background-color:#26ADE4;border-style:solid;border-width:1px;overflow:hidden;word-break:normal;border-color:#DCDCDC;}\n",
       ".tg .tg-left{font-family:\"Courier New\", Courier, monospace !important;font-weight:normal;text-align:left;}\n",
       ".tg .tg-center{font-family:\"Courier New\", Courier, monospace !important;font-weight:normal;text-align:center;}\n",
       ".tg .tg-right{font-family:\"Courier New\", Courier, monospace !important;font-weight:normal;text-align:right;}\n",
       "</style>\n",
       "<table class=\"tg\"><tr><th><b>  GP_regression.         </b></th><th><b>                 value</b></th><th><b>constraints</b></th><th><b>priors</b></th></tr>\n",
       "<tr><td class=tg-left>  sum.Mat52.variance     </td><td class=tg-right>     4481.856053900731</td><td class=tg-center>    +ve    </td><td class=tg-center>      </td></tr>\n",
       "<tr><td class=tg-left>  sum.Mat52.lengthscale  </td><td class=tg-right>     5.591662235323929</td><td class=tg-center>    +ve    </td><td class=tg-center>      </td></tr>\n",
       "<tr><td class=tg-left>  sum.white.variance     </td><td class=tg-right>5.562684646268137e-309</td><td class=tg-center>    +ve    </td><td class=tg-center>      </td></tr>\n",
       "<tr><td class=tg-left>  Gaussian_noise.variance</td><td class=tg-right>    0.5151069729721895</td><td class=tg-center>    +ve    </td><td class=tg-center>      </td></tr>\n",
       "</table>"
      ],
      "text/plain": [
       "<GPy.models.gp_regression.GPRegression at 0x1b3e8306448>"
      ]
     },
     "metadata": {},
     "output_type": "display_data"
    },
    {
     "name": "stdout",
     "output_type": "stream",
     "text": [
      "MAE is 0.77 and MSE is 1.44\n"
     ]
    }
   ],
   "source": [
    "display(m1)\n",
    "meantest,_ = m1.predict(X_test_norm.to_numpy().reshape(-1,n_features))\n",
    "MAE1 = mean_absolute_error(CL_test,meantest)\n",
    "MSE1 = mean_squared_error(CL_test,meantest)\n",
    "print('MAE is %.2f and MSE is %.2f' %(MAE1,MSE1))"
   ]
  },
  {
   "cell_type": "markdown",
   "metadata": {},
   "source": [
    "# Results on paper \"Accurate quantitative estimation of energy performance of residential buildings using statistical machine learning tools\"\n",
    "In the paper published by A. Tsanas and A. Xifara on 2012 (where this data comes from), the following results were obtained:\n",
    "\n",
    "* Random forest (RF) largely outperforms iterative reweighted least squares (IRLS). All the following reported results will be the ones for RF.\n",
    "* According to their results (100 repetitions of 10-fold CV), the importance of the input variables for predicting HL is $X7 > X1 > X2 > X3 > X8 > X4 > X6 > X5$. And the achieved errors are MAE = 0.51 +- 0.11 and MSE = 1.03+-0.54.\n",
    "* And for CL prediction, the importance of the input variables is $X7 > X1 > X2 > X8 > X3 > X6 > X4 > X5$, and the achieved errors are MAE = 1.42+-0.25 and MSE = 6.59 +- 1.56.\n"
   ]
  },
  {
   "cell_type": "code",
   "execution_count": 14,
   "metadata": {},
   "outputs": [
    {
     "name": "stdout",
     "output_type": "stream",
     "text": [
      "HL prediction:\n",
      "Most important features:  [2 1 7 3 5 8 6 4]\n",
      "MAE = 0.36 and MSE = 0.23\n",
      "\n",
      "CL prediction:\n",
      "Most important features:  [3 1 2 7 4 5 6 8]\n",
      "MAE = 1.19 and MSE = 2.97\n"
     ]
    }
   ],
   "source": [
    "print('HL prediction:')\n",
    "print('Most important features: ',idx_HL)\n",
    "print('MAE = %.2f and MSE = %.2f' %(MAE_HL,MSE_HL))\n",
    "\n",
    "print('\\nCL prediction:')\n",
    "print('Most important features: ',idx_CL)\n",
    "print('MAE = %.2f and MSE = %.2f' %(MAE_CL,MSE_CL))"
   ]
  },
  {
   "cell_type": "markdown",
   "metadata": {},
   "source": [
    "*We can see how using GPs strongly outperforms RF in this problem, achieving substantially lower errors.*\n",
    "\n",
    "*The order in which these GPs rank the features slightly varies between different executions. Nevertheless, it is more or less consistent, always placing features X1, X2, X3 and X7 among the most useful features, and X4, X5, X6 and X8 as the less useful.*"
   ]
  },
  {
   "cell_type": "markdown",
   "metadata": {},
   "source": [
    "### Sparse GP implementation \n",
    "\n",
    "Try to implement an sparse version of the GP regressor, optimized to find a set of **inducing points** that the GP relies on to do the prediction. Measure the test error prediction for 20, 40, and 100 inducing points. "
   ]
  },
  {
   "cell_type": "code",
   "execution_count": 15,
   "metadata": {},
   "outputs": [],
   "source": [
    "#Your code here"
   ]
  }
 ],
 "metadata": {
  "kernelspec": {
   "display_name": "Python 3",
   "language": "python",
   "name": "python3"
  },
  "language_info": {
   "codemirror_mode": {
    "name": "ipython",
    "version": 3
   },
   "file_extension": ".py",
   "mimetype": "text/x-python",
   "name": "python",
   "nbconvert_exporter": "python",
   "pygments_lexer": "ipython3",
   "version": "3.7.4"
  }
 },
 "nbformat": 4,
 "nbformat_minor": 1
}
