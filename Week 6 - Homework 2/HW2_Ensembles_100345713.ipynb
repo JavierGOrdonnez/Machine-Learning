{
 "cells": [
  {
   "cell_type": "markdown",
   "metadata": {
    "colab_type": "text",
    "id": "6eAsdbmD4uOX"
   },
   "source": [
    "# Week 6: Homework 2    -    Javier Garcia Ordonez - 100345713\n",
    "\n",
    "----------------------------------------------------\n",
    "Machine Learning                      \n",
    "\n",
    "Year 2019/2020\n",
    "\n",
    "*Vanessa Gómez Verdejo vanessa@tsc.uc3m.es* \n",
    "\n",
    "----------------------------------------------------"
   ]
  },
  {
   "cell_type": "markdown",
   "metadata": {
    "colab_type": "text",
    "id": "xGWmrlvljmmv"
   },
   "source": [
    "# 1. Introduction to ensembles\n",
    "\n",
    "The goal of ensemble learning is to combine a set of base learners to build an improved prediction model. The key idea  behind ensembles lies in exploiting the diversity among the base learners; the way of generating this diversity let us classify these methods into two main types:\n",
    "\n",
    "* **Bagging**: the diversity  among classifiers is generated using different partitions of the training data.\n",
    "* **Boosting**: it sequentially train a set of weak classifiers using modified versions of the data.\n",
    "\n",
    "We have already seen a kind of these methods: *Random Forests (RF)*. Remember that RF train a set of trees, each tree use a different subset of samples and features, and later combine their outputs. So, we can say that RF is a Bagging method. \n"
   ]
  },
  {
   "cell_type": "markdown",
   "metadata": {
    "colab_type": "text",
    "id": "QLCRyCKjH0r6"
   },
   "source": [
    "# 2. Bagging: Boostrap Aggregating\n",
    "\n",
    "A bagging ensemble combines a set of classiffiers where each base learner is trained with a bagged subset of the training samples. This bagging subsampling consist in randomly, and with replacement,  choosing multiple random samples from the original training data. \n",
    "\n",
    "Once the set of base learners is trained, the final ensemble output is obtained by averaging all learner's outputs. In the classification case, usually a majority vote is applied.\n",
    "\n",
    "<img src=\"http://www.tsc.uc3m.es/~vanessa/Figs_notebooks/ML/Ensembles/Bagging.png\" width=\"48%\" > \n",
    "\n",
    "\n",
    "(*) Figure from https://medium.com/@rrfd/boosting-bagging-and-stacking-ensemble-methods-with-sklearn-and-mlens-a455c0c982de\n",
    "\n",
    "\n",
    "**References**\n",
    "\n",
    "L. Breiman, “Bagging predictors”, Machine Learning, 24(2), 123-140, 1996.\n"
   ]
  },
  {
   "cell_type": "markdown",
   "metadata": {
    "colab_type": "text",
    "id": "blmHK6yPH3Wn"
   },
   "source": [
    "\n",
    "\n",
    "# 3. Boosting: Real Adaboost\n",
    "\n",
    "Boosting methods train a sequence of weak classifiers with weighted or emphasized versions of the training data. Each one of these classifiers is weak since its error rate can be only slightly better than random guessing. Finally, to obtain the final ensemble output, the predictions from all of them are then combined through a weighted combination of all learners' outputs.\n",
    "\n",
    "\n",
    "The most popular boosting algorithm is called **AdaBoost** (Adaptive Boosting). This boosting method trains this sequence of weak classifiers in such way that each new classifier pay more attention to samples missclassified by the previous learners. Versions of this algorithm are:\n",
    "* AdaBoost.M1 or  “Discrete AdaBoost” where base learners outputs are discrete estimations of the output class.\n",
    "* “Real AdaBoost”, in this case, base classifier return a real-valued prediction (e.g., a probability mapped to the interval [−1,1]).\n",
    "\n",
    "Let's now go deeper in the working principles of the **Real AdaBoost** algorithm.\n",
    "\n",
    "**References**\n",
    "\n",
    "* Schapire, R.E. The strength of weak learnability. Machine Learning, 5(2): 1651-1686, 1990.\n",
    "\n",
    "* Freund, Y. and Schapire, R.E. Experiments with a new boosting algorithm. Proc. of the 13th International Conference on Machine Learning. pp. 148-156, 1996.\n"
   ]
  },
  {
   "cell_type": "markdown",
   "metadata": {
    "colab_type": "text",
    "id": "y9xauQN8CSOp"
   },
   "source": [
    "## Real Adaboost\n",
    "Consider we have a binary classification problem given by training dataset $S$ consisting  of $N$ pairs $(\\mathbf{x}^{(i)},y^{(i)})$, where $\\mathbf{x}^{(i)}\\in\\mathbb{R}^L$ is the $i$-th observation and $y^{(i)}\\in\\{-1,1\\}$  is its associated label.\n",
    "\n",
    "Real Adaboost (RA) sequentially trains a set of $T$ learners where each learner implements a prediction function $o_t(x) \\in [-1,1]$. To learn this prediction function each learner observes the overall training dataset $S$, but an emphasis function $D_t(\\mathbf{x})$ is used during its training to make the learner pay more attention to most erroneous samples.\n",
    "Finally, the ensemble output is obtained as an averaged weighted sum of all learner output:\n",
    "\n",
    "$$ f_T({\\bf x}) = \\displaystyle \\sum_{t=1}^T \\alpha_t o_t({\\bf x})$$\n",
    "\n",
    "<img src=\"http://www.tsc.uc3m.es/~vanessa/Figs_notebooks/ML/Ensembles/boosting.jpg\" width=\"30%\" > \n",
    "\n",
    "\n",
    "\n",
    "* **Emphasis function**:\n",
    "To force diversity among the base learners, by means of an emphasis function RA applies weights  to each of the training observations. Initially all weights are equal:\n",
    "$$ D_{1}({\\bf x}^{(i)}) = \\frac{1}{N}   $$\n",
    "\n",
    "  so that the first learner is trained in the usual manner. For next iterations,  $t = 2,3,\\ldots,T$, the emphasis function updated with the following rule:\n",
    "\n",
    "$$ D_{t+1}({\\bf x}^{(i)}) = \\frac{D_{t}({\\bf x}^{(i)}) \\exp \\left( - \\alpha_t o_t({\\bf x}^{(i)}) {y}^{(i)} \\right)}{Z_t}   $$\n",
    "\n",
    "*--> if o(x) is high and same sign than y, then we have exp(-large number)-->tends to zero. But if the sign of o(x) and y (predicted and true labels) are different (error), then we have a positive exponential --> D(t+1) increases*\n",
    "\n",
    "  where $Z_t$ is a normalization constant making $\\sum_{i=1}^N D_{t+1}({\\bf x}^{(i)})  = 1$. Note that this update rule increase the emphasis weight for those observations that were misclassified by the previous classifiers, whereas the weights are decreased for those that were  correctly classified. Thus, as new learners are added to the ensemble, most erroneous samples will receive an increased attention.\n",
    "\n",
    "* **Output weights ($\\alpha_t$)**\n",
    "\n",
    "To obtain the output weights, RA minimizes the exponential loss function:\n",
    "$${\\bf \\alpha}^* =\\displaystyle \\underset{{\\bf \\alpha}}{\\operatorname{min}} \\sum_{i=1}^N \\exp \\left( - \\sum_{t=1}^T \\alpha_t o_t({\\bf x}^{(i)}) {y}^{(i)} \\right) = \\displaystyle \\underset{{\\bf \\alpha}}{\\operatorname{min}} \\sum_{i=1}^N \\exp \\left( - f_T({\\bf x}^{(i)}) {y}^{(i)} \\right)$$\n",
    "\n",
    "which solution can be analytically computed as\n",
    "\n",
    "$$\\alpha_t = \\frac{1}{2} \\ln \\left( \\frac{1+\\gamma_t}{1-\\gamma_t}\\right)$$\n",
    "\n",
    "where $\\gamma_t = \\sum_{i=1}^N   D_{t}({\\bf x}^{(i)}) o_t({\\bf x}^{(i)}) {y}^{(i)} $. The effect of these weights is to give higher influence to the more accurate classifiers in the ensemble. \n"
   ]
  },
  {
   "cell_type": "markdown",
   "metadata": {
    "colab_type": "text",
    "id": "MiLPEEKbbCEW"
   },
   "source": [
    "**Exponential loss**\n",
    "\n",
    "This cost function, quite similar to the binomial deviance, is un upper bound of the classification error.\n"
   ]
  },
  {
   "cell_type": "code",
   "execution_count": 0,
   "metadata": {
    "colab": {},
    "colab_type": "code",
    "id": "d6a-vbVEb_fr"
   },
   "outputs": [],
   "source": [
    "%matplotlib inline\n",
    "import numpy as np\n",
    "import matplotlib.pyplot as plt"
   ]
  },
  {
   "cell_type": "code",
   "execution_count": 9,
   "metadata": {
    "colab": {
     "base_uri": "https://localhost:8080/",
     "height": 279
    },
    "colab_type": "code",
    "id": "DPzqAQDVjoiZ",
    "outputId": "17ad8f59-7431-42e8-9d79-7f84c6888ac0"
   },
   "outputs": [
    {
     "data": {
      "image/png": "[encoded data removed]",
      "text/plain": [
       "<Figure size 432x288 with 1 Axes>"
      ]
     },
     "metadata": {
      "tags": []
     },
     "output_type": "display_data"
    }
   ],
   "source": [
    "# Plot the exponential loss function (un upper bound of the classfication error)\n",
    "f = np.arange(-2,2,0.01)\n",
    "y = 1\n",
    "\n",
    "l_alpha = np.exp(-y*f)\n",
    "plt.figure()\n",
    "plt.plot(y*f,l_alpha, label='Exponential loss')\n",
    "\n",
    "\n",
    "# Compare with binomial deviance\n",
    "l_w = np.log(1+ np.exp(f))-y*f\n",
    "plt.plot(y*f,l_w, label='Binomial deviance')\n",
    "\n",
    "# Classification error\n",
    "e_class = np.zeros(f.shape)\n",
    "e_class[y*f<0] =1\n",
    "plt.plot(y*f,e_class, label='Classification error')\n",
    "\n",
    "plt.legend()\n",
    "plt.xlabel('y*f')\n",
    "plt.ylabel('Loss function')\n",
    "\n",
    "plt.show()"
   ]
  },
  {
   "cell_type": "markdown",
   "metadata": {
    "colab_type": "text",
    "id": "lgDm0Z5bcazI"
   },
   "source": [
    "# 4. Let's work\n",
    "\n",
    "The aim of this second HW is to implement and analyse the performance of these enseble methods. To do this, we will work with the Breast Cancer database (described in the next section) and you will have to complete the following exercises."
   ]
  },
  {
   "cell_type": "markdown",
   "metadata": {
    "colab_type": "text",
    "id": "CpjaOvF7Ldhq"
   },
   "source": [
    "### Exercise 1. Load and prepare the data"
   ]
  },
  {
   "cell_type": "markdown",
   "metadata": {
    "colab_type": "text",
    "id": "xo9Aei06z5cI"
   },
   "source": [
    "For this lab session, let's work over the  [Breast cancer data set](https://scikit-learn.org/stable/modules/generated/sklearn.datasets.load_breast_cancer.html) a binary classification problem aimed to detect breast cancer from a  digitized image of breast mass. For this prupose, the images have been preprocesed and characterized with 30 input features describing the mass.\n",
    "\n",
    "Complete next cell code, so that you can:\n",
    "* Load the dataset\n",
    "* Create training and testing partitions with the 60% and 40% of the original data\n",
    "* Normalize the data to zero mean and unitary standard deviation "
   ]
  },
  {
   "cell_type": "code",
   "execution_count": 0,
   "metadata": {
    "colab": {},
    "colab_type": "code",
    "id": "wo_IUPy5nOaQ"
   },
   "outputs": [],
   "source": [
    "import numpy as np\n",
    "import pandas as pd\n",
    "import matplotlib.pyplot as plt\n",
    "import copy"
   ]
  },
  {
   "cell_type": "code",
   "execution_count": 0,
   "metadata": {
    "colab": {},
    "colab_type": "code",
    "id": "7Mz8tfb9jr6x"
   },
   "outputs": [],
   "source": [
    "# <SOL>\n",
    "from sklearn.datasets import load_breast_cancer\n",
    "fulldata = load_breast_cancer()\n",
    "X = fulldata['data']\n",
    "Y = fulldata['target']\n",
    "feature_names = fulldata['feature_names']\n",
    "\n",
    "from sklearn.model_selection import train_test_split\n",
    "import random\n",
    "random.seed(42)\n",
    "X_train, X_test, Y_train, Y_test = train_test_split(X, Y, test_size=0.4, random_state=25)\n",
    "\n",
    "# Data normalization\n",
    "from sklearn.preprocessing import StandardScaler\n",
    "transformer = StandardScaler().fit(X_train)  # fit() learns mean and std parameters\n",
    "X_train = transformer.transform(X_train) # transform() normalizes\n",
    "X_test =  transformer.transform(X_test)\n",
    "# </SOL>"
   ]
  },
  {
   "cell_type": "markdown",
   "metadata": {
    "colab_type": "text",
    "id": "e-whJsmjmspR"
   },
   "source": [
    "*The breast cancer dataset has 569 data samples with 30 features each. Labels are binary (0 is malignant, 1 is benign).*"
   ]
  },
  {
   "cell_type": "markdown",
   "metadata": {
    "colab_type": "text",
    "id": "2szGWImcK10A"
   },
   "source": [
    "## Exercise 2. Bagging methods\n"
   ]
  },
  {
   "cell_type": "markdown",
   "metadata": {
    "colab_type": "text",
    "id": "JaGO7gugMxJK"
   },
   "source": [
    "### Exercise 2.1\n",
    "Complete the following code to desing a function able to train and test a bagged ensemble of $T$ decision trees where each tree have to use a subset of *nperc* of the total number of training samples. Adjust the decision tree parameters so that the maximum depth is fixed to 2 (weak learner).\n"
   ]
  },
  {
   "cell_type": "code",
   "execution_count": 0,
   "metadata": {
    "colab": {},
    "colab_type": "code",
    "id": "iOewK-s1jr4E"
   },
   "outputs": [],
   "source": [
    "from sklearn import tree\n",
    "from sklearn.metrics import accuracy_score\n",
    "from scipy import stats\n",
    "from sklearn.utils import resample\n",
    "\n",
    "\n",
    "def BaggEnsemble(X_train, Y_train, X_test, Y_test, T, nperc, only_need_last = False):\n",
    "  '''\n",
    "  Train and evaluate a bagged ensemble of decission trees\n",
    "\n",
    "    Args:\n",
    "        X_train(numpy dnarray): training (number training data x number dimensions). \n",
    "        Y_train (numpy dnarray): labels of the training data (number training data x 1).\n",
    "        X_test(numpy dnarray): test data to evaluate the ensemble performance (number test data x number dimensions).\n",
    "        Y_test (numpy dnarray): labels of the test data (number test data x 1).\n",
    "        T: number of learners in the ensemble  \n",
    "        nperc: subsampling rate for the bagging process. Value from 0 (none sample is used) to 1 (all samples are used)                                       \n",
    "   Returns:\n",
    "        acc_tree_train (numpy dnarray): accuracy over the training data for different number of learners. \n",
    "                It's a vector length T, where the t-th element is the ensemble accuracy when only t trees are used.\n",
    "        acc_tree_test (numpy dnarray): accuracy over the test data for different number of learners. \n",
    "                It's a vector length T, where the t-th element is the ensemble accuracy when only t trees are used.\n",
    "        Y_pred_train (numpy dnarray): predicted outputs over the training data. It's a matrix of dimensions T x number of training samples, \n",
    "          where the t-th row has the predicted outputs when t trees are used.\n",
    "        Y_pred_test (numpy dnarray): predicted outputs over the test data. It's a matrix of dimensions T x number of test samples, \n",
    "          where the t-th row has the predicted outputs when t trees are used.\n",
    "\n",
    "  '''\n",
    "  \n",
    "  # </SOL>\n",
    "  nsamples = int(nperc*X.shape[0])  # Number of samples to select in each iteration\n",
    "  acc_tree_train = np.zeros((T,))\n",
    "  acc_tree_test = np.zeros((T,))\n",
    "  Y_pred_train = np.zeros((T,Y_train.shape[0]))\n",
    "  Y_pred_test  = np.zeros((T,Y_test.shape[0]))\n",
    "\n",
    "  running_train = np.zeros((T,))\n",
    "  running_test  = np.zeros((T,))\n",
    "  outputs_train = np.zeros((T,Y_train.shape[0]))\n",
    "  outputs_test  = np.zeros((T,Y_test.shape[0]))\n",
    "  pred_train = np.zeros((T,Y_train.shape[0]))\n",
    "  pred_test  = np.zeros((T,Y_test.shape[0]))\n",
    "\n",
    "  for t in range(T):\n",
    "    X_sel, Y_sel = resample(X_train,Y_train,replace=True,n_samples=nsamples)\n",
    "    mytree = tree.DecisionTreeClassifier(max_depth=2)\n",
    "    mytree.fit(X_sel,Y_sel)\n",
    "\n",
    "    # Get soft outputs\n",
    "    outputs_train[t,:] = np.dot(mytree.predict_proba(X_train),mytree.classes_)\n",
    "    outputs_test[t,:]  = np.dot(mytree.predict_proba(X_test) ,mytree.classes_)\n",
    "\n",
    "    # Get binary results\n",
    "    aux = copy.deepcopy(outputs_train[t,:])\n",
    "    aux[aux>=0] = 1\n",
    "    aux[aux <0] = -1\n",
    "    pred_train[t,:] = aux\n",
    "\n",
    "    aux = copy.deepcopy(outputs_test[t,:])\n",
    "    aux[aux>=0] = 1\n",
    "    aux[aux <0] = -1\n",
    "    pred_test[t,:] = aux\n",
    "\n",
    "    # Get accuracy of each tree\n",
    "    running_train[t] = mytree.score(X_train,Y_train)\n",
    "    running_test[t]  = mytree.score(X_test,Y_test)\n",
    "\n",
    "  if only_need_last==False:\n",
    "    for i in range(T):\n",
    "      acc_tree_train[i] = np.mean(running_train[:(i+1)] )\n",
    "      acc_tree_test[i]  = np.mean(running_test[:(i+1)] )\n",
    "      Y_pred_train[i,:] = stats.mode(pred_train[:(i+1),:],axis=0)[0][0]\n",
    "      Y_pred_test[i,:]  = stats.mode(pred_test[:(i+1),:],axis=0)[0][0]  \n",
    "  else:\n",
    "    acc_tree_train[-1] = np.mean(running_train)\n",
    "    acc_tree_test[-1]  = np.mean(running_test)\n",
    "    Y_pred_train[-1,:] = stats.mode(pred_train,axis=0)[0][0]\n",
    "    Y_pred_test[-1,:]  = stats.mode(pred_test,axis=0)[0][0]      \n",
    "\n",
    "  # </SOL>\n",
    "  return acc_tree_train, acc_tree_test, Y_pred_train, Y_pred_test, outputs_train, outputs_test"
   ]
  },
  {
   "cell_type": "markdown",
   "metadata": {
    "colab_type": "text",
    "id": "i0TL6ZABd9ES"
   },
   "source": [
    "### Exercise 2.2\n",
    "\n",
    "Train an ensemble of 40 trees with a subsamplig rate of 50% (T=40 and nperc = 0.5)."
   ]
  },
  {
   "cell_type": "code",
   "execution_count": 26,
   "metadata": {
    "colab": {
     "base_uri": "https://localhost:8080/",
     "height": 313
    },
    "colab_type": "code",
    "id": "z_x-TDOgjr1R",
    "outputId": "695d4328-0e19-4606-cdf8-3fff5a9b43cc"
   },
   "outputs": [
    {
     "name": "stdout",
     "output_type": "stream",
     "text": [
      "Execution time is 0.9558348655700684\n"
     ]
    },
    {
     "data": {
      "image/png": "[encoded data removed]",
      "text/plain": [
       "<Figure size 432x288 with 1 Axes>"
      ]
     },
     "metadata": {
      "tags": []
     },
     "output_type": "display_data"
    }
   ],
   "source": [
    "# <SOL>\n",
    "import time\n",
    "\n",
    "t = time.time()\n",
    "acc_tree_train, acc_tree_test, Y_pred_train, Y_pred_test, outputs_train, outputs_test = BaggEnsemble(X_train, Y_train, X_test, Y_test, T=40, nperc=0.5)\n",
    "print('Execution time is', time.time()-t)\n",
    "\n",
    "plt.figure()\n",
    "x = np.arange(len(acc_tree_train))+1\n",
    "plt.plot(x,acc_tree_test,label='Test accuracy')\n",
    "plt.plot(x,acc_tree_train,label='Train accuracy')\n",
    "plt.legend()\n",
    "plt.title('Accuracy vs the number of trees used')\n",
    "plt.xlabel('Number of trees')\n",
    "plt.show()\n",
    "# </SOL>"
   ]
  },
  {
   "cell_type": "markdown",
   "metadata": {
    "colab_type": "text",
    "id": "rd4qdpUFI68s"
   },
   "source": [
    "*As the number of trees increases, the variability decreases and the accuracy seems to reach a plateau both for train and test accuracy. Also, the training accuracy slightly improves, and the test accuracy does increase more, as including more trees trained with a larger variety of data improves the generalization capabilities of the ensemble.*"
   ]
  },
  {
   "cell_type": "code",
   "execution_count": 78,
   "metadata": {
    "colab": {
     "base_uri": "https://localhost:8080/",
     "height": 35
    },
    "colab_type": "code",
    "id": "AooDGPk01IVl",
    "outputId": "3b66ea2e-2328-4f89-8468-c3f347595120"
   },
   "outputs": [
    {
     "name": "stdout",
     "output_type": "stream",
     "text": [
      "Execution time is 0.1460258960723877\n"
     ]
    }
   ],
   "source": [
    "t = time.time()\n",
    "acc_tree_train, acc_tree_test, Y_pred_train, Y_pred_test, outputs_train, outputs_test = BaggEnsemble(X_train, Y_train, X_test, Y_test, T=40, nperc=0.5, only_need_last=True)\n",
    "print('Execution time is', time.time()-t)"
   ]
  },
  {
   "cell_type": "markdown",
   "metadata": {
    "colab_type": "text",
    "id": "a1lgJawsJfnk"
   },
   "source": [
    "*By only retrieving the results for using all trees, we save a lot of computation. This will be used for the last section, computing Bias and variance, where we have to train many times over the Bagging method, and this speedup will result in a significant decrease of execution time.*"
   ]
  },
  {
   "cell_type": "markdown",
   "metadata": {
    "colab_type": "text",
    "id": "nZjPxTEMJG3I"
   },
   "source": [
    " ### Scikit Baggings method"
   ]
  },
  {
   "cell_type": "code",
   "execution_count": 79,
   "metadata": {
    "colab": {
     "base_uri": "https://localhost:8080/",
     "height": 35
    },
    "colab_type": "code",
    "id": "5BpIiGweAfoz",
    "outputId": "e30d34ba-f545-4379-e3ea-dd65fda4e5c4"
   },
   "outputs": [
    {
     "name": "stdout",
     "output_type": "stream",
     "text": [
      "Train accuracy is 0.9736 and test accuracy is 0.9181\n"
     ]
    }
   ],
   "source": [
    "from sklearn.ensemble import BaggingClassifier\n",
    "\n",
    "bagging = BaggingClassifier(tree.DecisionTreeClassifier(max_depth=2), n_estimators = 40, max_samples = 0.5) \n",
    "bagging.fit(X_train,Y_train)\n",
    "\n",
    "train_acc = bagging.score(X_train,Y_train)\n",
    "test_acc  = bagging.score(X_test,Y_test)\n",
    "print('Train accuracy is %.4f and test accuracy is %.4f' %(train_acc,test_acc))"
   ]
  },
  {
   "cell_type": "markdown",
   "metadata": {
    "colab_type": "text",
    "id": "XrT1c6NGIyFg"
   },
   "source": [
    "*The results very similar to those obtained with our bagging method.*"
   ]
  },
  {
   "cell_type": "markdown",
   "metadata": {
    "colab_type": "text",
    "id": "8qHKAOerp18u"
   },
   "source": [
    "### Exercise 2.3\n",
    "\n",
    "Analyze the **diversity** among the base learner' outputs for different *nperc* rates. You can analyze this diversity by measuring the correlation among the learner's soft-outputs. Firstly, obtain the matrix with all pairwaise correlation values (over the training learners' outputs) and, then, compute the ensemble diversity as one minus the averaged value of all pairwise correlation values. Finally, analyze the results.\n",
    "\n",
    "Some useful functions: [np.corrcoef](https://docs.scipy.org/doc/numpy/reference/generated/numpy.corrcoef.html)\n",
    "\n",
    "Note: You can find other ensemble diversity measurements in https://lucykuncheva.co.uk/papers/lkml.pdf"
   ]
  },
  {
   "cell_type": "code",
   "execution_count": 62,
   "metadata": {
    "colab": {
     "base_uri": "https://localhost:8080/",
     "height": 281
    },
    "colab_type": "code",
    "id": "2GabCBZFjrwD",
    "outputId": "a8ad63a6-89b4-4942-889d-7f14f8d06d17"
   },
   "outputs": [
    {
     "data": {
      "image/png": "[encoded data removed]",
      "text/plain": [
       "<Figure size 432x288 with 1 Axes>"
      ]
     },
     "metadata": {
      "tags": []
     },
     "output_type": "display_data"
    }
   ],
   "source": [
    "# <SOL>\n",
    "\n",
    "def compute_diversity(nperc):\n",
    "  acc_tree_train, acc_tree_test, Y_pred_train, Y_pred_test, outputs_train, outputs_both = BaggEnsemble(X_train, Y_train, X, Y, T=40, nperc=nperc, only_need_last=False)\n",
    "  c = np.corrcoef(outputs_both)\n",
    "\n",
    "  A = c.shape[0]\n",
    "  B = c.shape[1]\n",
    "  sum_c = 0.\n",
    "  counter = 0\n",
    "  for a in range(A):\n",
    "    for b in range(a+1,B):\n",
    "      sum_c += c[a,b]\n",
    "      counter += 1\n",
    "\n",
    "  diversity = 1 - (sum_c/counter)\n",
    "  return diversity\n",
    "  \n",
    "\n",
    "nperc_range = np.arange(0.1,1,0.1)\n",
    "diversity = []\n",
    "for nperc in nperc_range:\n",
    "  diversity.append(compute_diversity(nperc))\n",
    "\n",
    "plt.figure()\n",
    "plt.plot(nperc_range,diversity)\n",
    "plt.title('Evolution of diversity with nperc')\n",
    "plt.show()\n",
    "\n",
    "# </SOL>\n"
   ]
  },
  {
   "cell_type": "markdown",
   "metadata": {
    "colab_type": "text",
    "id": "P21dDXF-1Fr4"
   },
   "source": [
    "*We can see that diversity among trees in the ensemble decreases with nperc, that is, the relative amount of training data included for training of each of those trees. With low nperc, trees are trained with mostly different samples and so they yield more varied outputs. When nperc increases, more and more samples get to be \"shared\" by more trees during training, eventually leading (with high nperc) to very similar tree classifiers as they have been trained with mostly the same data.*"
   ]
  },
  {
   "cell_type": "markdown",
   "metadata": {
    "colab_type": "text",
    "id": "ILkeQIyk1sm3"
   },
   "source": [
    "### Exercise 2.4\n",
    "\n",
    "Compare the performace of the bagged ensemble trained in Exercise 2.1 with that of a Random Forest with the same number of learners, and using trees with a maximum depth of 2. Which differences are between both methods? \n",
    "\n",
    "Analyze the feature importances provided by the method RandomForestClassifier().\n"
   ]
  },
  {
   "cell_type": "code",
   "execution_count": 63,
   "metadata": {
    "colab": {
     "base_uri": "https://localhost:8080/",
     "height": 35
    },
    "colab_type": "code",
    "id": "I6KrlfF82coF",
    "outputId": "53ab0d75-0d54-452a-c1c5-34b994bd9f54"
   },
   "outputs": [
    {
     "name": "stdout",
     "output_type": "stream",
     "text": [
      "Train accuracy is 0.9780 and test accuracy is 0.9240\n"
     ]
    }
   ],
   "source": [
    "# <SOL>\n",
    "from sklearn.ensemble import RandomForestClassifier \n",
    "RF = RandomForestClassifier(n_estimators = 40, max_depth = 2)\n",
    "RF.fit(X_train,Y_train)\n",
    "\n",
    "acc_train = RF.score(X_train,Y_train)\n",
    "acc_test = RF.score(X_test,Y_test)\n",
    "print('Train accuracy is %.4f and test accuracy is %.4f' %(acc_train,acc_test))\n",
    "# </SOL>"
   ]
  },
  {
   "cell_type": "markdown",
   "metadata": {
    "colab_type": "text",
    "id": "Np_xUbtQ3yoo"
   },
   "source": [
    "*A Bagging ensemble improves over tree classifiers by aggregating many of them, and training each of them with different data. This decreases the variability of the overall ensemble, with respect to single trees.*\n",
    "\n",
    "*A Random Forest is an improvement of the Bagging ensemble by which not only the data gets subsampled, but also the features. Therefore, not always the same features will be used and the overall ensemble is more diverse and powerful. Selecting a subsample of features is the main difference between Bagging ensembles and Random Forest. By default, sqrt(n_features) is used.*"
   ]
  },
  {
   "cell_type": "code",
   "execution_count": 77,
   "metadata": {
    "colab": {
     "base_uri": "https://localhost:8080/",
     "height": 684
    },
    "colab_type": "code",
    "id": "k5AQphHj5gW3",
    "outputId": "5102e197-a7ed-44f5-e50e-cddeda4507ae"
   },
   "outputs": [
    {
     "data": {
      "image/png": "[encoded data removed]",
      "text/plain": [
       "<Figure size 432x288 with 1 Axes>"
      ]
     },
     "metadata": {
      "tags": []
     },
     "output_type": "display_data"
    },
    {
     "name": "stdout",
     "output_type": "stream",
     "text": [
      "The five most relevant features are:\n",
      "worst perimeter\n",
      "worst concave points\n",
      "mean concave points\n",
      "\n",
      "Together they amount for 52.81 % of the feature importance\n",
      "\n"
     ]
    },
    {
     "data": {
      "image/png": "[encoded data removed]",
      "text/plain": [
       "<Figure size 432x288 with 1 Axes>"
      ]
     },
     "metadata": {
      "tags": []
     },
     "output_type": "display_data"
    }
   ],
   "source": [
    "# <SOL>\n",
    "plt.figure()\n",
    "plt.plot(RF.feature_importances_), plt.title('Feature importance'), plt.show()\n",
    "idx = np.argsort(RF.feature_importances_)\n",
    "idx = idx[::-1] # reverse, to order higher to lower\n",
    "print('The five most relevant features are:')\n",
    "print(feature_names[idx[0]])\n",
    "print(feature_names[idx[1]])\n",
    "print(feature_names[idx[2]])\n",
    "print('\\nTogether they amount for %.2f %% of the feature importance\\n' %(np.sum(RF.feature_importances_[idx[0:3]])*100))\n",
    "\n",
    "cumulative_importance = []\n",
    "for a in range(len(RF.feature_importances_)):\n",
    "  cumulative_importance.append(np.sum(RF.feature_importances_[idx[0:a+1]])*100)\n",
    "\n",
    "plt.figure()\n",
    "plt.plot(cumulative_importance)\n",
    "plt.title('Cumulative importance of features, sorted by individual importance')\n",
    "plt.xlabel('Number of features included')\n",
    "plt.ylabel('Cumulative importance (%)')\n",
    "plt.show()\n",
    "# </SOL>"
   ]
  },
  {
   "cell_type": "markdown",
   "metadata": {
    "colab_type": "text",
    "id": "WEwtQ_-cFY38"
   },
   "source": [
    "*Additionally, Random Forest provides an estimate of which are the most relevant features, what may be very useful for feature selection.*\n",
    "\n",
    "*In this case, we can see that the three most relevant features are prominent against all the others. In fact, together they already amount to 52.81% of the feature importance, and the other 27 features amount for the remaining 47.19%. Therefore, those three features would be a good starting point for any feature selection method, although it would need to incorporate more, as 52% importance is still low. Looking at the additive importance curve, it is clear that by selecting the 10 most prominent features we would be already using 90% of the importance, and by using 15 features, almost 100%. In this way, we could dispose of redudant or useless features.*"
   ]
  },
  {
   "cell_type": "markdown",
   "metadata": {
    "colab_type": "text",
    "id": "WQtVXIQyOAEP"
   },
   "source": [
    "## Exercise 3.Boosting methods"
   ]
  },
  {
   "cell_type": "markdown",
   "metadata": {
    "colab_type": "text",
    "id": "_uE7XRoCt1Np"
   },
   "source": [
    "### Exercise 3.1\n",
    "\n",
    "Complete the following cell code to design a funtion able to train a boosting ensemble of $T$ decision trees. Again, fix the maximum depth of the tree to 2.\n",
    "\n"
   ]
  },
  {
   "cell_type": "code",
   "execution_count": 0,
   "metadata": {
    "colab": {},
    "colab_type": "code",
    "id": "BpjHqOeluE6I"
   },
   "outputs": [],
   "source": [
    "from sklearn.metrics import accuracy_score as acc\n",
    "\n",
    "def RAEnsemble(X_train, Y_train, X_test, Y_test, T):\n",
    "  '''\n",
    "  Train and evaluate a bagged ensemble of decission trees\n",
    "\n",
    "    Args:\n",
    "        X_train(numpy dnarray): training (number training data x number dimensions). \n",
    "        Y_train (numpy dnarray): labels of the training data (number training data x 1).\n",
    "        X_test(numpy dnarray): test data to evaluate the ensemble performance (number test data x number dimensions).\n",
    "        Y_test (numpy dnarray): labels of the test data (number test data x 1).\n",
    "        T: number of learners in the ensemble                                        \n",
    "   Returns:\n",
    "        acc_tree_train (numpy dnarray): accuracy over the training data for different number of learners. \n",
    "                It's a vector length T, where the t-th element is the ensemble accuracy when only t trees are used.\n",
    "        acc_tree_test (numpy dnarray): accuracy over the test data for different number of learners. \n",
    "                It's a vector length T, where the t-th element is the ensemble accuracy when only t trees are used.\n",
    "        Y_pred_train (numpy dnarray): predicted outputs over the training data. It's a matrix of dimensions T x number of training samples, \n",
    "          where the t-th row has the predicted outputs when t trees are used.\n",
    "        Y_pred_test (numpy dnarray): predicted outputs over the test data. It's a matrix of dimensions T x number of test samples, \n",
    "          where the t-th row has the predicted outputs when t trees are used.\n",
    "        alpha (numpy dnarray): weight vector of length T with the ouput weights assigned to combine the learner's outputs.\n",
    "        Dt_all (numpy dnarray): emphasis function used to train each learner. It's a matrix of dimensions T x number of training samples, \n",
    "          where the t-th row has the emphasis function used by the t-th learner.\n",
    "\n",
    "  '''  \n",
    "  # <SOL>\n",
    "  acc_tree_train = np.zeros((T,))\n",
    "  acc_tree_test = np.zeros((T,))\n",
    "\n",
    "  Y_pred_train = np.zeros((T,Y_train.shape[0]))\n",
    "  Y_pred_test  = np.zeros((T,Y_test.shape[0]))\n",
    "\n",
    "  alpha = np.zeros((T,1))\n",
    "  Dt_all = np.zeros((T,X_train.shape[0]))\n",
    "\n",
    "  outputs_train = np.zeros((T,Y_train.shape[0]))\n",
    "  outputs_test  = np.zeros((T,Y_test.shape[0]))\n",
    "\n",
    "  f_train = np.zeros((T,Y_train.shape[0]))\n",
    "  f_test  = np.zeros((T,Y_test.shape[0]))\n",
    "\n",
    "  indiv_train_acc = np.zeros((T,))\n",
    "\n",
    "  Dt_all[0,:] = np.ones((1,X_train.shape[0])) / X_train.shape[0]  # Initialize all weights as 1 / n_samples\n",
    "  for i in range(T):\n",
    "    mytree = tree.DecisionTreeClassifier(max_depth=2)\n",
    "    mytree.fit(X_train,Y_train,sample_weight=Dt_all[i,:])\n",
    "\n",
    "    # # For discrete predictions\n",
    "    # outputs_train[i,:] = mytree.predict(X_train)   \n",
    "    # outputs_test[i,:]  = mytree.predict(X_test)\n",
    "\n",
    "    # For real-valued predictions:\n",
    "    outputs_train[i,:] = np.dot(mytree.predict_proba(X_train),mytree.classes_)\n",
    "    outputs_test[i,:]  = np.dot(mytree.predict_proba(X_test) ,mytree.classes_)\n",
    "\n",
    "    # Get individual tree accuracy\n",
    "    tree_pred_train = copy.deepcopy(outputs_train[i,:])\n",
    "    tree_pred_train[tree_pred_train>=0] = 1\n",
    "    tree_pred_train[tree_pred_train <0] = -1\n",
    "    indiv_train_acc[i] = acc(Y_train,tree_pred_train)  \n",
    "\n",
    "    # Get gamma and alpha_i values\n",
    "    gamma = np.dot(Dt_all[i,:],np.multiply(outputs_train[i,:],Y_train))\n",
    "    alpha[i] = 0.5 * np.log((1+gamma)/(1-gamma))\n",
    "\n",
    "    # Update emphasis function (except if in the last iteration)\n",
    "    if (i < T-1):\n",
    "      emphasis = np.multiply(Dt_all[i,:],np.exp(-1*alpha[i]*np.multiply(outputs_train[i,:],Y_train)))\n",
    "      Dt_all[i+1,:] = emphasis / np.sum(emphasis) # normalize\n",
    "\n",
    "    # Now let's obtain the f values (outputs of each tree * alphas)\n",
    "    f_train[i,:] = np.sum(np.multiply(outputs_train[0:i+1,:],alpha[0:i+1]) , axis=0) #/ np.sum(alpha[0:i+1])\n",
    "    f_test[i,:]  = np.sum(np.multiply(outputs_test[0:i+1,:],alpha[0:i+1])  , axis=0) #/ np.sum(alpha[0:i+1])\n",
    "\n",
    "    # Depending on whether f_i is greater or smaller than 0, set the label to +1 or -1\n",
    "    predicted_labels_train = copy.deepcopy(f_train[i,:])\n",
    "    predicted_labels_train[predicted_labels_train >=0] = 1\n",
    "    predicted_labels_train[predicted_labels_train < 0] = -1\n",
    "    Y_pred_train[i,:] = predicted_labels_train\n",
    "    acc_tree_train[i] = acc(Y_train,Y_pred_train[i,:])\n",
    "\n",
    "    predicted_labels_test = copy.deepcopy(f_test[i,:])\n",
    "    predicted_labels_test[predicted_labels_test >=0] = 1\n",
    "    predicted_labels_test[predicted_labels_test < 0] = -1\n",
    "    Y_pred_test[i,:] = predicted_labels_test\n",
    "    acc_tree_test[i] = acc(Y_test,Y_pred_test[i,:])\n",
    "\n",
    "\n",
    "  # </SOL>\n",
    "  return Y_pred_train, Y_pred_test, acc_tree_train, acc_tree_test,  alpha, Dt_all, indiv_train_acc, f_train, f_test"
   ]
  },
  {
   "cell_type": "markdown",
   "metadata": {
    "colab_type": "text",
    "id": "YDWzOfnquFfV"
   },
   "source": [
    "### Exercise 3.2\n",
    "\n",
    "Train a Real Adaboost ensemble of 40 trees and analyze the accuracy results over train and test data. Discuss the results. \n",
    "\n",
    "Remember that RA learners' output have to provide outputs between $[-1,1]$, so convert the data labels to values $-1$ and $1$ to make this work."
   ]
  },
  {
   "cell_type": "code",
   "execution_count": 0,
   "metadata": {
    "colab": {},
    "colab_type": "code",
    "id": "k5tFwj-MlCUW"
   },
   "outputs": [],
   "source": [
    "# Change labels 0 to 1\n",
    "Y_train[Y_train==0] = -1\n",
    "Y_test[Y_test==0] = -1"
   ]
  },
  {
   "cell_type": "code",
   "execution_count": 21,
   "metadata": {
    "colab": {
     "base_uri": "https://localhost:8080/",
     "height": 53
    },
    "colab_type": "code",
    "id": "MBu73kuquI8J",
    "outputId": "48180db9-d3f5-4377-a7a4-f34f1817cb0e"
   },
   "outputs": [
    {
     "name": "stdout",
     "output_type": "stream",
     "text": [
      "[[ 73   6]\n",
      " [  3 146]]\n"
     ]
    }
   ],
   "source": [
    " # <SOL>\n",
    " T = 40\n",
    " Y_pred_train, Y_pred_test, acc_tree_train, acc_tree_test,  alpha, Dt_all, indiv_train_acc, f_train, f_test = RAEnsemble(X_train, Y_train, X_test, Y_test, T)\n",
    "\n",
    " from sklearn.metrics import confusion_matrix\n",
    " c = confusion_matrix(Y_test,Y_pred_test[-1,:])\n",
    " print(c)\n",
    "\n",
    " # </SOL>"
   ]
  },
  {
   "cell_type": "markdown",
   "metadata": {},
   "source": [
    "*We can see that the accuracy of the Real Adaboost ensemble is good: 219 correct vs 9 incorrect (i.e. 96% accuracy, see accuracy graph below) over the test set. This result is better than the Bagging ensemble (92% accuracy over test set) as this methods places more emphasis on those data samples that are difficult to correctly classify.*\n",
    "\n",
    "*In order to elaborate on the performance of the method, check the following plots. The respective comments are below them.*"
   ]
  },
  {
   "cell_type": "markdown",
   "metadata": {
    "colab_type": "text",
    "id": "YC3gSJ9cuJgU"
   },
   "source": [
    "### Exercise 3.3. \n",
    "Finally,  plot the evolution of the emphasis function and the alpha values. Analyze the results."
   ]
  },
  {
   "cell_type": "code",
   "execution_count": 22,
   "metadata": {
    "colab": {
     "base_uri": "https://localhost:8080/",
     "height": 1000
    },
    "colab_type": "code",
    "id": "MmrpDd_p2hcF",
    "outputId": "24920f78-3bd9-4f33-8af4-664ddf8f37df"
   },
   "outputs": [
    {
     "data": {
      "image/png": "[encoded data removed]",
      "text/plain": [
       "<Figure size 432x288 with 1 Axes>"
      ]
     },
     "metadata": {
      "tags": []
     },
     "output_type": "display_data"
    },
    {
     "data": {
      "image/png": "[encoded data removed]",
      "text/plain": [
       "<Figure size 432x288 with 1 Axes>"
      ]
     },
     "metadata": {
      "tags": []
     },
     "output_type": "display_data"
    },
    {
     "data": {
      "image/png": "[encoded data removed]",
      "text/plain": [
       "<Figure size 432x288 with 1 Axes>"
      ]
     },
     "metadata": {
      "tags": []
     },
     "output_type": "display_data"
    },
    {
     "data": {
      "image/png": "[encoded data removed]",
      "text/plain": [
       "<Figure size 432x288 with 1 Axes>"
      ]
     },
     "metadata": {
      "tags": []
     },
     "output_type": "display_data"
    }
   ],
   "source": [
    " # <SOL>\n",
    " plt.figure()\n",
    " plt.plot(alpha)\n",
    " plt.title('Output weight (alpha) of each tree')\n",
    " plt.xlabel('Alpha value')\n",
    " plt.ylabel('Emphasis value')\n",
    " plt.show()\n",
    "\n",
    " # Emphasis function for a few random points\n",
    " plt.figure()\n",
    " plt.plot(Dt_all[:,13],label='Sample 13')\n",
    " plt.plot(Dt_all[:,42],label='Sample 42')\n",
    " plt.plot(Dt_all[:,313],label='Sample 313')\n",
    " plt.legend()\n",
    " plt.xlabel('Tree number')\n",
    " plt.ylabel('Emphasis value')\n",
    " plt.title('Evolution of the emphasis function for three different training samples')\n",
    " plt.show()\n",
    "\n",
    " # Evolution of accuracy with the number of trees used\n",
    " plt.figure()\n",
    " plt.plot(acc_tree_train,label='Training accuracy')\n",
    " plt.plot(acc_tree_test,label='Test accuracy')\n",
    " plt.title('Evolution of accuracy with number of trees used')\n",
    " plt.xlabel('Number of trees used')\n",
    " plt.ylabel('Accuracy')\n",
    " plt.legend()\n",
    " plt.show()\n",
    "\n",
    " # Show the individual accuracy of all trees\n",
    " plt.figure()\n",
    " plt.plot(indiv_train_acc)\n",
    " plt.title('Accuracy of individual trees over train set')\n",
    " plt.show()\n",
    "\n",
    "\n",
    " # </SOL>"
   ]
  },
  {
   "cell_type": "markdown",
   "metadata": {
    "colab_type": "text",
    "id": "BOXRmiKI8uYY"
   },
   "source": [
    "*In the first plot, we can see how different trees have different alphas, that is, different weight when deciding the output of the ensemble. A large alpha means that that tree is able to correctly classify samples with large emphasis (or many samples with normal emphasis, at the beginning).*\n",
    "\n",
    "*In the second plot, we can see that some samples (for example, sample 42 in orange) are correctly classified from the very beginning and their emphasis (weight) quickly tends to zero. Others may take a few more trees (sample 13, in blue). And others, such as sample 313, in green, are wrongly classified so their emphasis greatly increases until they are correctly classified. Then, their emphasis decreases. If they start to be misclassified again, then their emphasis increases again, and so on.*\n",
    "\n",
    "*In the third plot, we can see that the accuracy of the ensemble (not of the individual trees) increases with the number of trees used. With just T = 5, the ensemble is able to correctly predict all training samples. Of course, this does not mean that the 5th tree is able to do so, it is just as an ensemble when it is able to perform so well. Actually, in order to check that, an additional outoput variable has been introduced,* indiv_train_acc *, which contains the accuracy of the individual trees over the train set. It is displayed in the fourth plot, and it can be seen that each tree has a different accuracy, and in no case a single tree reaches accuracy 1. This is only achieved when using the ensemble.*\n",
    "\n",
    "*We can see that the performance of the method is good, achieving 96% accuracy for the test set.*"
   ]
  },
  {
   "cell_type": "markdown",
   "metadata": {
    "colab_type": "text",
    "id": "efZYpdtnJkHA"
   },
   "source": [
    "### Scikit RealAdaBoost method\n"
   ]
  },
  {
   "cell_type": "code",
   "execution_count": 86,
   "metadata": {
    "colab": {
     "base_uri": "https://localhost:8080/",
     "height": 35
    },
    "colab_type": "code",
    "id": "pZR-dCjaJqrU",
    "outputId": "28ef578f-2d0d-4668-9bfc-f592304705a5"
   },
   "outputs": [
    {
     "name": "stdout",
     "output_type": "stream",
     "text": [
      "The accuracy of the Scikit Learn AdaBoost classifier over the training set is 1.0000 and over the test set is 0.9240\n"
     ]
    }
   ],
   "source": [
    "from sklearn.ensemble import AdaBoostClassifier\n",
    "classifier = AdaBoostClassifier(tree.DecisionTreeClassifier(max_depth=2), n_estimators=40)\n",
    "classifier.fit(X_train,Y_train)\n",
    "train_acc = classifier.score(X_train,Y_train)\n",
    "test_acc = classifier.score(X_test,Y_test)\n",
    "print('The accuracy of the Scikit Learn AdaBoost classifier over the training set is %.4f and over the test set is %.4f' %(train_acc,test_acc))"
   ]
  },
  {
   "cell_type": "markdown",
   "metadata": {
    "colab_type": "text",
    "id": "5sDRq5lsVd9I"
   },
   "source": [
    "*The Scikit method has been also included for comparison. It performs similarly to our manually-implemented method, and in fact slightly worse in this case.*"
   ]
  },
  {
   "cell_type": "markdown",
   "metadata": {
    "colab_type": "text",
    "id": "G5OlZYs5jsxc"
   },
   "source": [
    "# 5. Bias and variance trade-off\n",
    "\n",
    "Consider that the real model behind our dasaset is given by:\n",
    "\n",
    "$$Y = f(X) + \\epsilon$$\n",
    "\n",
    "so an observation $x$ is generated from the r.v.  $X$ and, then, it is transformed by a function $f(\\cdot)$ and contaminated by an additive gaussian noise $\\epsilon$ of zero mean and variance $\\sigma_{\\epsilon}^2$, to finally generate the target or label value $y$.\n",
    "\n",
    "When a classifier or estimator is designed from a set of observations and labels, we design a function $\\hat{f}(\\cdot)$ trying to approximate as well as possible the original funtion $f(\\cdot)$. In this case, **the expected squared prediction error** is:\n",
    "\n",
    "$$ \\mathbb{E} \\left[ \\left(Y−\\hat{f}(X)\\right)^2\\right] = \\mathbb{E} \\left[ \\left({f}(X) + \\epsilon −\\hat{f}(X)\\right)^2\\right] =  \\left(\\mathbb{E} \\left[ {f}(X) \\right]−\\mathbb{E} \\left[\\hat{f}(X)\\right]\\right)^2 + \\mathbb{E} \\left[ \\left(\\hat{f}(X) − \\mathbb{E}\\left[ \\hat{f}(X)\\right]\\right)^2\\right] +  \\sigma_{\\epsilon}^2$$\n",
    "\n",
    "Thus, this error can be decomposed into:\n",
    "* A squared **bias** term ($\\left(\\mathbb{E} \\left[ {f}(X) \\right]−\\mathbb{E} \\left[\\hat{f}(X)\\right]\\right)^2$): This terms represents the expected  difference between the prediction of the designed model and the value given by the real model. \n",
    "* A **variance** term ($\\mathbb{E} \\left[ \\left(\\hat{f}(X) − \\mathbb{E}\\left[ \\hat{f}(X)\\right]\\right)^2\\right]$): This term measures the variability of a model prediction.\n",
    "* The **noise** term. This is the noise term presenting in the generation data model.\n",
    "\n",
    "Usually, we have a single dataset and we train a unique model, so talking about expected or average prediction values might sounds quite strange. However, to undertand what these expectations are representing, consider that we can generate different training data sets from the distribution of $X$ and, for each data set, we can create a new model. Due to randomness in the underlying data sets, the resulting models will have a range of predictions. So, the bias term measures how far these models' predictions are from the correct value; whereas, the variance measures these predictions (for a given sample) vary between different realizations of the model.\n",
    "\n",
    "\n",
    "\n",
    "<img src=\"http://www.tsc.uc3m.es/~vanessa/Figs_notebooks/ML/Ensembles/Bias_Var.png\" width=\"40%\" > \n",
    "\n",
    "\n",
    "\n",
    "These  error terms are related to complexity of the model and to the concepts of under-fitting and over-fitting that we reviewed in the previous notebooks:\n",
    "* Imagine that we have a **complex model**, able to be adjusted to the training data. In this case, different runs of the training data will generate quite different models, presenting a high variability or **high-variance** among them. These models usually present a high risk of **overfitting** and a bad generalizaztion capability.\n",
    "* Now consider a **simpler model**, that don't tend to overfit, but may **underfit** their training data since it is not able to capture data distribution. Different realizations of this model will present similar predictions, but all of them will be far from the real value to be predicted, presenting a **high bias**.\n",
    "\n",
    "In an ideal scenario, we would have infinite data to learn our model and we should be able to reduce both the bias and variance terms to 0. However, in a real world, there is a tradeoff between minimizing the bias and minimizing the variance and we can control this with the model complexity. As we increase the model complexity (more parameters are added), we can get to reduce the bias, but the variance is increased.\n",
    "\n",
    "\n",
    "<img src=\"http://www.tsc.uc3m.es/~vanessa/Figs_notebooks/ML/Ensembles/Bias_Var_ModelComplexity.png\" width=\"40%\" > \n",
    "\n",
    "\n",
    "\n"
   ]
  },
  {
   "cell_type": "markdown",
   "metadata": {
    "colab_type": "text",
    "id": "uw4bMmw5wygO"
   },
   "source": [
    "Check the next cell code where the bias and variance term are computed for a decission tree classifier.\n",
    "\n",
    "Note that, in this example, we are modeling a noise free problem ($\\sigma_{\\epsilon}^2=0$). That is, we are considering $Y = f(X)$.\n"
   ]
  },
  {
   "cell_type": "code",
   "execution_count": 24,
   "metadata": {
    "colab": {
     "base_uri": "https://localhost:8080/",
     "height": 406
    },
    "colab_type": "code",
    "id": "eVNkGdb4jtfk",
    "outputId": "3db8672b-8d00-4c26-fa6f-5d6bc71e5544"
   },
   "outputs": [
    {
     "name": "stdout",
     "output_type": "stream",
     "text": [
      "The squared Bias term is:  [0.16723796 0.11135888 0.07884991 0.06443445 0.05359297 0.05061582\n",
      " 0.05286257 0.04856801 0.05418278]\n",
      "The Variance term is:  [0.1720239  0.13946714 0.13485835 0.13437047 0.1366355  0.13982355\n",
      " 0.14221652 0.14433181 0.14623902]\n",
      "The MSE is:  [0.33926186 0.25082601 0.21370826 0.19880492 0.19022847 0.19043937\n",
      " 0.19507909 0.19289982 0.20042179]\n",
      "We can check that MSE = Bias^2 + Variance\n"
     ]
    },
    {
     "data": {
      "image/png": "[encoded data removed]",
      "text/plain": [
       "<Figure size 432x288 with 1 Axes>"
      ]
     },
     "metadata": {
      "tags": []
     },
     "output_type": "display_data"
    }
   ],
   "source": [
    "nperc=0.4\n",
    "niter=100\n",
    "\n",
    "# Use all data together (we don not nedd test data anymore)\n",
    "X = np.vstack((X_train,X_test))\n",
    "Y = np.hstack((Y_train,Y_test))\n",
    "\n",
    "N = X.shape[0]\n",
    "Nsub = np.int(nperc*N)\n",
    "\n",
    "all_f_pred = np.zeros((niter,N))\n",
    "\n",
    "rang_depth =  np.arange(1,10)\n",
    "\n",
    "Bias2 = np.zeros((rang_depth.shape[0],N))\n",
    "Var = np.zeros((rang_depth.shape[0],N))\n",
    "MSE = np.zeros((rang_depth.shape[0],N))\n",
    "\n",
    "for d, depth in enumerate(rang_depth):\n",
    "\n",
    "  clf_tree = tree.DecisionTreeClassifier(max_depth=depth) \n",
    "  for i in range(niter):\n",
    "    # Select some random samples\n",
    "    samplesid = np.random.choice(N, Nsub, replace=False)\n",
    "    X_train_sub  = X[samplesid,:]\n",
    "    Y_train_sub  = Y[samplesid]\n",
    "\n",
    "    # Train a tree with randomized dataset\n",
    "    clf_tree.fit(X_train_sub, Y_train_sub)\n",
    "\n",
    "    # Compute predicted output (overall available data)\n",
    "    f_pred = clf_tree.predict(X)\n",
    "    all_f_pred[i,:] = f_pred\n",
    "\n",
    "  # Mean value of the predicted outputs for each data\n",
    "  avg_f = np.mean(all_f_pred,axis =0)\n",
    "\n",
    "  # Obtain the bias^2 of each data\n",
    "  Bias2[d, :] = (Y - avg_f)**2\n",
    "  # Obtain the var of each data\n",
    "  Var[d, :] = np.mean((all_f_pred - avg_f)**2,axis=0)\n",
    "  # Obtain MSE\n",
    "  MSE[d,:] = np.mean((Y-all_f_pred)**2,axis=0)\n",
    "\n",
    "\n",
    "# Print the results averaged over all data\n",
    "Bias2mean = np.mean(Bias2,axis=1)\n",
    "Varmean = np.mean(Var,axis=1)\n",
    "MSEmean = np.mean(MSE,axis=1)\n",
    "\n",
    "print(\"The squared Bias term is: \", Bias2mean)\n",
    "print(\"The Variance term is: \",Varmean)\n",
    "print(\"The MSE is: \",MSEmean)\n",
    "print(\"We can check that MSE = Bias^2 + Variance\")\n",
    "\n",
    "plt.figure()\n",
    "plt.plot(rang_depth, Bias2mean, label='Bias^2')\n",
    "plt.plot(rang_depth, Varmean, label='Variance')\n",
    "plt.plot(rang_depth, MSEmean, label='MSE')\n",
    "\n",
    "\n",
    "plt.legend()\n",
    "plt.xlabel('depth')\n",
    "plt.ylabel('MSE')\n",
    "\n",
    "plt.show()"
   ]
  },
  {
   "cell_type": "markdown",
   "metadata": {
    "colab_type": "text",
    "id": "F1EPdITNv3Ae"
   },
   "source": [
    "## Exercise 4. Advanced work: Bias and variance trade off for ensemble methods\n",
    "\n",
    "Analyze the bias and variance terms evolution with the number of base learners in:\n",
    "* the bagged ensemble designed in exercise 2.1. \n",
    "* the RA ensemble designed in exercise 3.1.\n",
    "\n",
    "\n"
   ]
  },
  {
   "cell_type": "markdown",
   "metadata": {
    "colab_type": "text",
    "id": "aWMmemHiD_Uo"
   },
   "source": [
    "### Bias and variance for the Bagging method (2.1.)\n",
    "Generate 100 random partitions of training data and you can run the ensemble with up to 20 learners. Analyze and discuss the results. \n"
   ]
  },
  {
   "cell_type": "code",
   "execution_count": 34,
   "metadata": {
    "colab": {
     "base_uri": "https://localhost:8080/",
     "height": 374
    },
    "colab_type": "code",
    "id": "M4pujFdFv2BY",
    "outputId": "6eb41aaa-4f29-4a4d-f6a1-d086161909ce"
   },
   "outputs": [
    {
     "name": "stdout",
     "output_type": "stream",
     "text": [
      "T = 1 finished\n",
      "T = 2 finished\n",
      "T = 3 finished\n",
      "T = 4 finished\n",
      "T = 5 finished\n",
      "T = 6 finished\n",
      "T = 7 finished\n",
      "T = 8 finished\n",
      "T = 9 finished\n",
      "T = 10 finished\n",
      "T = 11 finished\n",
      "T = 12 finished\n",
      "T = 13 finished\n",
      "T = 14 finished\n",
      "T = 15 finished\n",
      "T = 16 finished\n",
      "T = 17 finished\n",
      "T = 18 finished\n",
      "T = 19 finished\n",
      "T = 20 finished\n"
     ]
    }
   ],
   "source": [
    " # <SOL>\n",
    "\n",
    "niter=100\n",
    "nperc = 0.4\n",
    "rangeT = np.arange(20)+1\n",
    "N = Y.shape[0]\n",
    "\n",
    "all_f_pred = np.zeros((niter,N))\n",
    "Bias2 = np.zeros((len(rangeT),N))\n",
    "Var = np.zeros((len(rangeT),N))\n",
    "MSE = np.zeros((len(rangeT),N))\n",
    "\n",
    "# Data partition and random selection is already done in the BaggEnsemble function\n",
    "for a,T in enumerate(rangeT):\n",
    "  for i in range(niter):\n",
    "    _, _, _, Y_predictions, _, _ = BaggEnsemble(X,Y, X,Y, T, nperc, only_need_last=True) # It only returns the results with all learners\n",
    "    all_f_pred[i,:] = Y_predictions[-1,:] # The last row contains the information for all learners\n",
    "  # Mean value of the predicted outputs for each data\n",
    "  avg_f = np.mean(all_f_pred, axis =0)\n",
    "  # Obtain the bias^2 of each data\n",
    "  Bias2[a, :] = (Y - avg_f)**2\n",
    "  # Obtain the var of each data\n",
    "  Var[a, :] = np.mean((all_f_pred - avg_f)**2,axis=0)\n",
    "  # Obtain MSE\n",
    "  MSE[a,:] = np.mean((Y-all_f_pred)**2,axis=0)\n",
    "  print('T = %d finished' %T)\n",
    "\n",
    "# Print the results averaged over all data\n",
    "Bias2mean = np.mean(Bias2,axis=1)\n",
    "Varmean = np.mean(Var,axis=1)\n",
    "MSEmean = np.mean(MSE,axis=1)\n",
    "\n",
    " # </SOL>"
   ]
  },
  {
   "cell_type": "code",
   "execution_count": 35,
   "metadata": {
    "colab": {
     "base_uri": "https://localhost:8080/",
     "height": 511
    },
    "colab_type": "code",
    "id": "e90ZXU6O34V7",
    "outputId": "4013979a-7c22-45e1-cd12-503343756b3c"
   },
   "outputs": [
    {
     "name": "stdout",
     "output_type": "stream",
     "text": [
      "The squared Bias term is:  [0.1117884  0.14220316 0.10478664 0.11918313 0.1090587  0.11977153\n",
      " 0.10810756 0.11176591 0.11086749 0.11736028 0.11240351 0.11518313\n",
      " 0.11632478 0.11843866 0.11478946 0.11891388 0.11359508 0.1198826\n",
      " 0.11612373 0.11843937]\n",
      "The Variance term is:  [0.15429244 0.12422917 0.09324499 0.08327733 0.07090615 0.07108963\n",
      " 0.06250756 0.06109877 0.05426432 0.05437961 0.04829947 0.05001898\n",
      " 0.04142566 0.04641195 0.04282039 0.0422812  0.03958594 0.0400471\n",
      " 0.03783058 0.03734271]\n",
      "The MSE is:  [0.26608084 0.26643234 0.19803163 0.20246046 0.17996485 0.19086116\n",
      " 0.17061511 0.17286467 0.16513181 0.17173989 0.16070299 0.16520211\n",
      " 0.15775044 0.16485062 0.15760984 0.16119508 0.15318102 0.1599297\n",
      " 0.15395431 0.15578207]\n",
      "We can check that MSE = Bias^2 + Variance\n"
     ]
    },
    {
     "data": {
      "image/png": "[encoded data removed]",
      "text/plain": [
       "<Figure size 432x288 with 1 Axes>"
      ]
     },
     "metadata": {
      "tags": []
     },
     "output_type": "display_data"
    }
   ],
   "source": [
    " # <SOL>\n",
    "print(\"The squared Bias term is: \", Bias2mean)\n",
    "print(\"The Variance term is: \",Varmean)\n",
    "print(\"The MSE is: \",MSEmean)\n",
    "print(\"We can check that MSE = Bias^2 + Variance\")\n",
    "\n",
    "plt.figure()\n",
    "plt.plot(rangeT, Bias2mean, label='Bias^2')\n",
    "plt.plot(rangeT, Varmean, label='Variance')\n",
    "plt.plot(rangeT, MSEmean, label='MSE')\n",
    "\n",
    "\n",
    "plt.legend()\n",
    "plt.xlabel('Number of trees')\n",
    "plt.ylabel('MSE')\n",
    "plt.show()\n",
    " # </SOL>"
   ]
  },
  {
   "cell_type": "markdown",
   "metadata": {
    "colab_type": "text",
    "id": "4Mg-4kYHDDtA"
   },
   "source": [
    "*As we use more trees in the Bagging method, the overall variance decreases. This is quite logical: each individual tree can be quite diverse and produce somehow different outputs, depending in the data selected for training. Nevertheless, when we gather enough trees in an ensemble, chances are that their average output is going to be similar. Therefore, increasing the number of trees in the ensemble decreases variance.*\n",
    "\n",
    "*However, bias is not decreasing. This is due to the Baggings method not really improving the classification capabilities of any of the trees (as Adaboost does by means of the emphasis function), but simply training a number of different classifiers over different training sets and use a majority vote system to prevent overfitting and a more homogeneous result, no so depending on the training data, and therefore more likely to generalize well. Therefore, it makes sense that variance decreases as the number of trees increases, but bias does not decrease, as in fact, we are not really increasing the complexity of the model.*"
   ]
  },
  {
   "cell_type": "markdown",
   "metadata": {
    "colab_type": "text",
    "id": "17fixkSMEJQk"
   },
   "source": [
    "### Bias and variance for Adaboost method (3.1.)\n",
    "Run the ensemble with up to 20 learners, and analyze the results.\n",
    "\n",
    "Note: we should use train and test subsets separately, and evaluate bias and variance over the test set. Before this was not done as the Bagging method uses a subset of data to train each "
   ]
  },
  {
   "cell_type": "code",
   "execution_count": 32,
   "metadata": {
    "colab": {
     "base_uri": "https://localhost:8080/",
     "height": 374
    },
    "colab_type": "code",
    "id": "aRFblMMJ6RU4",
    "outputId": "e0adcfac-9612-490e-9fbb-d3c969464538"
   },
   "outputs": [
    {
     "name": "stdout",
     "output_type": "stream",
     "text": [
      "T = 1 finished\n",
      "T = 2 finished\n",
      "T = 3 finished\n",
      "T = 4 finished\n",
      "T = 5 finished\n",
      "T = 6 finished\n",
      "T = 7 finished\n",
      "T = 8 finished\n",
      "T = 9 finished\n",
      "T = 10 finished\n",
      "T = 11 finished\n",
      "T = 12 finished\n",
      "T = 13 finished\n",
      "T = 14 finished\n",
      "T = 15 finished\n",
      "T = 16 finished\n",
      "T = 17 finished\n",
      "T = 18 finished\n",
      "T = 19 finished\n",
      "T = 20 finished\n"
     ]
    }
   ],
   "source": [
    "# <SOL>\n",
    "\n",
    "niter=100\n",
    "nperc = 0.4\n",
    "rangeT = np.arange(20) + 1\n",
    "N = Y.shape[0]\n",
    "\n",
    "all_f_pred = np.zeros((niter,N))\n",
    "Bias2 = np.zeros((len(rangeT),N))\n",
    "Var = np.zeros((len(rangeT),N))\n",
    "MSE = np.zeros((len(rangeT),N))\n",
    "\n",
    "# Data partition and random selection is already done in the BaggEnsemble function\n",
    "for a, T in enumerate(rangeT):\n",
    "  for i in range(niter):\n",
    "    X_train, X_test, Y_train, Y_test = train_test_split(X, Y, test_size=(1-nperc))\n",
    "    _, Y_predictions_test, _, _, _, _, _, _, _ = RAEnsemble(X_train, Y_train, X, Y, T)\n",
    "    all_f_pred[i,:] = Y_predictions_test[-1,:] # The last row contains the information for all learners\n",
    "  # Mean value of the predicted outputs for each data\n",
    "  avg_f = np.mean(all_f_pred, axis =0)\n",
    "  # Obtain the bias^2 of each data\n",
    "\n",
    "  Bias2[a, :] = (Y - avg_f)**2\n",
    "  # Obtain the var of each data\n",
    "  Var[a, :] = np.mean((all_f_pred - avg_f)**2,axis=0)\n",
    "  # Obtain MSE\n",
    "  MSE[a,:] = np.mean((Y-all_f_pred)**2,axis=0)\n",
    "  print('T = %d finished' %T)\n",
    "\n",
    "# Print the results averaged over all data\n",
    "Bias2mean = np.mean(Bias2,axis=1)\n",
    "Varmean = np.mean(Var,axis=1)\n",
    "MSEmean = np.mean(MSE,axis=1)\n",
    "\n",
    " # </SOL>"
   ]
  },
  {
   "cell_type": "code",
   "execution_count": 33,
   "metadata": {
    "colab": {
     "base_uri": "https://localhost:8080/",
     "height": 511
    },
    "colab_type": "code",
    "id": "9LKcXHMO5dBx",
    "outputId": "332d9e1f-88ac-447d-e341-d35806c8ed96"
   },
   "outputs": [
    {
     "name": "stdout",
     "output_type": "stream",
     "text": [
      "The squared Bias term is:  [0.10867346 0.10534833 0.06684218 0.05715009 0.05432619 0.04311353\n",
      " 0.04515852 0.04099051 0.04015185 0.03934903 0.0369181  0.03935888\n",
      " 0.03768717 0.03576801 0.03884429 0.03783902 0.03815606 0.03836134\n",
      " 0.03699684 0.03766327]\n",
      "The Variance term is:  [0.14665167 0.11735817 0.1112246  0.097929   0.09590228 0.08883726\n",
      " 0.08911213 0.08477399 0.08216801 0.08029947 0.08230861 0.08085202\n",
      " 0.0781652  0.07699121 0.07897645 0.08251248 0.07720422 0.07432759\n",
      " 0.07857434 0.07439297]\n",
      "The MSE is:  [0.25532513 0.2227065  0.17806678 0.15507909 0.15022847 0.13195079\n",
      " 0.13427065 0.1257645  0.12231986 0.11964851 0.11922671 0.1202109\n",
      " 0.11585237 0.11275923 0.11782074 0.12035149 0.11536028 0.11268893\n",
      " 0.11557118 0.11205624]\n",
      "We can check that MSE = Bias^2 + Variance\n"
     ]
    },
    {
     "data": {
      "image/png": "[encoded data removed]",
      "text/plain": [
       "<Figure size 432x288 with 1 Axes>"
      ]
     },
     "metadata": {
      "tags": []
     },
     "output_type": "display_data"
    }
   ],
   "source": [
    " # <SOL>\n",
    "print(\"The squared Bias term is: \", Bias2mean)\n",
    "print(\"The Variance term is: \",Varmean)\n",
    "print(\"The MSE is: \",MSEmean)\n",
    "print(\"We can check that MSE = Bias^2 + Variance\")\n",
    "\n",
    "plt.figure()\n",
    "plt.plot(rangeT, Bias2mean, label='Bias^2')\n",
    "plt.plot(rangeT, Varmean, label='Variance')\n",
    "plt.plot(rangeT, MSEmean, label='MSE')\n",
    "\n",
    "\n",
    "plt.legend()\n",
    "plt.xlabel('Number of trees')\n",
    "plt.ylabel('MSE')\n",
    "plt.show()\n",
    " # </SOL>"
   ]
  },
  {
   "cell_type": "markdown",
   "metadata": {
    "colab_type": "text",
    "id": "juXxuJ-EH7Zc"
   },
   "source": [
    "*When having a moderate to high number of trees (>5), both variance and bias are greatly reduced, to a total MSE around 0.11 (lower than Baggings method). However, when the Adaboost method has just a few trees (less than 5), it does not have the opportunity to increase enough the emphasis on difficult samples and some of them still get misclasssified using all trees, so the bias is larger. And also depends more on which of those samples are included in the training data, so the variance is also higher.*\n",
    "\n",
    "*Then, when increasing the number of trees included, the bias decreases as accuracy of the ensemble increases, learning to classify difficult samples. This also makes the ensemble less dependent on which samples are included in the training set, so variance also decreases.*"
   ]
  },
  {
   "cell_type": "markdown",
   "metadata": {},
   "source": [
    "# Conclusions\n",
    "*To sum up, ensemble methods enable to use weak classifiers, such that tree classifiers of small depth, in order to get more robust classifiers.*\n",
    "\n",
    "* *Bagging ensembles reduce the variability of tree classifiers with respect to their training data by training many different trees over training data subsets, therefore reducing variability and also improving the generalization capabilities.*\n",
    "* *Random Forest elaborates over the Bagging ensemble concept, not only selecting data subsets, but also selecting only a limited number of features. This makes trees depends less on specific features and produce more diverse outputs, therefore making the ensemble more robust.*\n",
    "* *Adaboost ensemble focus in giving more importance to correctly classifying difficult samples. Therefore, it is able to achieve perfect performance over the training set, and moreover, also improves its performance over the test set. Therefore, by placing more emphasis on less frequent samples that are usually more difficult to classify, the ensemble is able to also improve its generalization capabilities.*"
   ]
  }
 ],
 "metadata": {
  "colab": {
   "collapsed_sections": [],
   "name": "Homework2_Ensembles_student.ipynb",
   "provenance": []
  },
  "kernelspec": {
   "display_name": "Python 3",
   "language": "python",
   "name": "python3"
  },
  "language_info": {
   "codemirror_mode": {
    "name": "ipython",
    "version": 3
   },
   "file_extension": ".py",
   "mimetype": "text/x-python",
   "name": "python",
   "nbconvert_exporter": "python",
   "pygments_lexer": "ipython3",
   "version": "3.7.3"
  }
 },
 "nbformat": 4,
 "nbformat_minor": 1
}
