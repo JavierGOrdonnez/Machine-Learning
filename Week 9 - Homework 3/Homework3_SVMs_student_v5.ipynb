{
 "cells": [
  {
   "cell_type": "markdown",
   "metadata": {
    "colab_type": "text",
    "id": "6eAsdbmD4uOX"
   },
   "source": [
    "# Week 9: Homework 3\n",
    "\n",
    "----------------------------------------------------\n",
    "Machine Learning                      \n",
    "\n",
    "Year 2019/2020\n",
    "\n",
    "*Vanessa Gómez Verdejo vanessa@tsc.uc3m.es* \n",
    "\n",
    "----------------------------------------------------"
   ]
  },
  {
   "cell_type": "markdown",
   "metadata": {
    "colab_type": "text",
    "id": "lgDm0Z5bcazI"
   },
   "source": [
    "The aim of this HW is to analyse the performance of SVMs with different cofigurations (different kernels and parameters), as well as different approaches to combine the SMV training with a feature selection stage. As in the previous homework, we will work with the Breast Cancer database.\n",
    "\n",
    "Let's start loading and preparing the data and, next, complete the given exercises."
   ]
  },
  {
   "cell_type": "markdown",
   "metadata": {
    "colab_type": "text",
    "id": "CpjaOvF7Ldhq"
   },
   "source": [
    "### Exercise 1. Load and prepare the data\n",
    "\n",
    "As you already know, the  [Breast cancer data set](https://scikit-learn.org/stable/modules/generated/sklearn.datasets.load_breast_cancer.html) is a binary classification problem aimed to detect breast cancer from a  digitized image of breast mass characterized with 30 input features describing the mass.\n",
    "\n",
    "Complete next cell code, so that you can:\n",
    "* Load the dataset\n",
    "* Create training and testing partitions with the 60% and 40% of the original data\n",
    "* Normalize the data to zero mean and unitary standard deviation "
   ]
  },
  {
   "cell_type": "markdown",
   "metadata": {
    "colab_type": "text",
    "id": "vVLGP9TtgWzs"
   },
   "source": [
    "### Solution"
   ]
  },
  {
   "cell_type": "code",
   "execution_count": 1,
   "metadata": {
    "colab": {},
    "colab_type": "code",
    "id": "r0N54vleCDp2"
   },
   "outputs": [],
   "source": [
    "import numpy as np\n",
    "import pandas as pd\n",
    "import matplotlib.pyplot as plt\n",
    "%matplotlib inline\n",
    "import copy\n",
    "from sklearn.svm import LinearSVC # \"Support vector classifier\"\n",
    "from sklearn.svm import SVC # \"Support vector classifier using the dual formulation\""
   ]
  },
  {
   "cell_type": "code",
   "execution_count": 2,
   "metadata": {
    "colab": {},
    "colab_type": "code",
    "id": "7Mz8tfb9jr6x"
   },
   "outputs": [],
   "source": [
    "# <SOL>\n",
    "from sklearn.datasets import load_breast_cancer\n",
    "fulldata = load_breast_cancer()\n",
    "X = fulldata['data']\n",
    "Y = fulldata['target']\n",
    "feature_names = fulldata['feature_names']\n",
    "\n",
    "from sklearn.model_selection import train_test_split\n",
    "import random\n",
    "random.seed(42)\n",
    "X_train, X_test, Y_train, Y_test = train_test_split(X, Y, test_size=0.4, random_state=25)\n",
    "\n",
    "# Data normalization\n",
    "from sklearn.preprocessing import StandardScaler\n",
    "transformer = StandardScaler().fit(X_train)  # fit() learns mean and std parameters\n",
    "X_train = transformer.transform(X_train) # transform() normalizes\n",
    "X_test =  transformer.transform(X_test)\n",
    "# </SOL>"
   ]
  },
  {
   "cell_type": "markdown",
   "metadata": {
    "colab_type": "text",
    "id": "2szGWImcK10A"
   },
   "source": [
    "### Exercise 2. Analysis of SVM performance\n",
    "\n",
    "The goal of Exercise 2 is to design the best possible SVM. So, please, check different configurations (kernels, parameters, ...) and select the configuration with better generalization capabilities. \n",
    "\n",
    "Be careful with the kind of analysis that you carry out. In case you only want to compare different configurations (either different kernels or different multiclass approaches), you can get the final test performance, for each configuration, and compare them. But, in case you want to select the best possible configuration (for example, either I should use a linear kernel or a RBF one), you have to use an accuracy score over a validation partition (or a cross-validation) process. "
   ]
  },
  {
   "cell_type": "markdown",
   "metadata": {
    "colab_type": "text",
    "id": "5C4S1x9ZqRAu"
   },
   "source": [
    "### Solution\n",
    "*Let's use a cross-validation procedure in order to find the best combination of kernel and parameters for this problem.*"
   ]
  },
  {
   "cell_type": "code",
   "execution_count": 3,
   "metadata": {
    "colab": {},
    "colab_type": "code",
    "id": "k5AQphHj5gW3"
   },
   "outputs": [
    {
     "name": "stdout",
     "output_type": "stream",
     "text": [
      "The best classifier is kernel = linear , C = 0.1 , degree = 2  and gamma = 0.00018257418583505537\n"
     ]
    }
   ],
   "source": [
    "# <SOL>\n",
    "from sklearn.model_selection import GridSearchCV\n",
    "\n",
    "kernels = ['linear','rbf','poly','sigmoid']\n",
    "C_vector = 10. ** np.arange(-3,3)\n",
    "degree_vector = [2,3,4,5] # for the polynomial kernel\n",
    "gamma_vector = 10. ** np.arange(-3,3) / np.sqrt(X_train.shape[1])\n",
    "\n",
    "params = {'kernel':kernels,'C':C_vector,'degree':degree_vector,'gamma':gamma_vector}\n",
    "\n",
    "grid = GridSearchCV(SVC(),param_grid = params, cv=5, iid=False)\n",
    "grid.fit(X_train,Y_train)\n",
    "\n",
    "clf = grid.best_estimator_\n",
    "print('The best classifier is kernel =',clf.kernel,', C =',clf.C,', degree =',clf.degree,' and gamma =',clf.gamma)\n",
    "# </SOL>"
   ]
  },
  {
   "cell_type": "code",
   "execution_count": 4,
   "metadata": {},
   "outputs": [
    {
     "name": "stdout",
     "output_type": "stream",
     "text": [
      "The best validation accuracy for each kernel is:\n",
      "Linear:     0.973480\n",
      "RBF:        0.979537\n",
      "Polynomial: 0.976552\n",
      "Sigmoid:    0.979537\n"
     ]
    }
   ],
   "source": [
    "results = grid.cv_results_['mean_test_score'].reshape(len(kernels),len(C_vector),len(degree_vector),len(gamma_vector))\n",
    "\n",
    "print('The best validation accuracy for each kernel is:')\n",
    "print('Linear:     %.6f' %np.max(results[0,:,:,:]))\n",
    "print('RBF:        %.6f' %np.max(results[1,:,:,:]))\n",
    "print('Polynomial: %.6f' %np.max(results[2,:,:,:]))\n",
    "print('Sigmoid:    %.6f' %np.max(results[3,:,:,:]))"
   ]
  },
  {
   "cell_type": "markdown",
   "metadata": {},
   "source": [
    "*The four kernels are producing very similar results, in terms of accuracy over the validation set.*\n",
    "\n",
    "*Sometimes, when performing a grid search over a set of parameters, the best performing is the one at the limit of a some parameter. In such cases, that parameter range should be expanded in order to truly explore useful values of the parameter.*\n",
    "\n",
    "*However, the previous section analyzes all kernels at the same time, so only the result for the best kernel and parameters is retrieved, so I can not know whether the parameter limits where reached for specific kernels. For that reason, now we will be performing a cross-validation for each of the specific kernels, and tune the range of hyperparameters if the solution is at the limit.*"
   ]
  },
  {
   "cell_type": "code",
   "execution_count": 5,
   "metadata": {},
   "outputs": [],
   "source": [
    "acc = [] # acc list stores [train_acc , test_acc] for the different kernels\n",
    "C = []  # store C for all kernels\n",
    "g = [] # store gamma for all kernels (but for linear one)"
   ]
  },
  {
   "cell_type": "code",
   "execution_count": 6,
   "metadata": {},
   "outputs": [
    {
     "name": "stdout",
     "output_type": "stream",
     "text": [
      "The best linear classifier has C = 0.1 with a cross-validation mean accuracy 0.9795370971230802\n",
      "Train accuracy: 0.9853372434017595\n",
      "Test accuracy:  0.9692982456140351\n"
     ]
    }
   ],
   "source": [
    "# Linear kernel\n",
    "C_vector = 10. ** np.arange(-3,3)\n",
    "params = {'C':C_vector}\n",
    "\n",
    "grid = GridSearchCV(SVC(kernel='linear'),param_grid=params,cv=5,iid=False)\n",
    "grid.fit(X_train,Y_train)\n",
    "clf = grid.best_estimator_\n",
    "max_score = np.max(grid.cv_results_['mean_test_score'])\n",
    "C.append(clf.C)\n",
    "\n",
    "print('The best linear classifier has C =',clf.C,'with a cross-validation mean accuracy',max_score)\n",
    "acc.append([clf.score(X_train,Y_train), clf.score(X_test,Y_test) , max_score])\n",
    "print('Train accuracy:',acc[-1][0])\n",
    "print('Test accuracy: ',acc[-1][1])"
   ]
  },
  {
   "cell_type": "code",
   "execution_count": 7,
   "metadata": {},
   "outputs": [
    {
     "name": "stdout",
     "output_type": "stream",
     "text": [
      "The best RBF classifier has C = 100.0 , gamma =  0.000357 with a cross-validation mean accuracy 0.982435647847718\n",
      "Train accuracy: 0.9824046920821115\n",
      "Test accuracy:  0.9736842105263158\n"
     ]
    }
   ],
   "source": [
    "# RBF kernel\n",
    "C_vector = 10. ** np.arange(-4,4)\n",
    "gamma_vector = 2. ** np.arange(-16,8) / np.sqrt(X_train.shape[1])\n",
    "params = {'C':C_vector, 'gamma':gamma_vector}\n",
    "\n",
    "grid = GridSearchCV(SVC(kernel='rbf'),param_grid=params,cv=5,iid=False)\n",
    "grid.fit(X_train,Y_train)\n",
    "clf = grid.best_estimator_\n",
    "max_score = np.max(grid.cv_results_['mean_test_score'])\n",
    "C.append(clf.C)\n",
    "g.append(clf.gamma)\n",
    "\n",
    "print('The best RBF classifier has C =',clf.C,', gamma = ',np.round(clf.gamma,6),'with a cross-validation mean accuracy',max_score)\n",
    "acc.append([clf.score(X_train,Y_train), clf.score(X_test,Y_test) , max_score])\n",
    "print('Train accuracy:',acc[-1][0])\n",
    "print('Test accuracy: ',acc[-1][1])"
   ]
  },
  {
   "cell_type": "code",
   "execution_count": 8,
   "metadata": {},
   "outputs": [
    {
     "name": "stdout",
     "output_type": "stream",
     "text": [
      "The best polynomial classifier has degree =  3 , C = 0.0001 , gamma =  2.9212 with a cross-validation mean accuracy 0.9764654985939867\n",
      "Train accuracy: 0.9941348973607038\n",
      "Test accuracy:  0.9649122807017544\n"
     ]
    }
   ],
   "source": [
    "# Polynomial kernel\n",
    "C_vector = 10. ** np.arange(-6,3)\n",
    "gamma_vector = 2. ** np.arange(-4,8) / np.sqrt(X_train.shape[1])\n",
    "degree_vector = [2,3,4,5,6]\n",
    "params = {'C':C_vector, 'gamma':gamma_vector, 'degree':degree_vector}\n",
    "\n",
    "grid = GridSearchCV(SVC(kernel='poly'),param_grid=params,cv=5,iid=False)\n",
    "grid.fit(X_train,Y_train)\n",
    "clf = grid.best_estimator_\n",
    "max_score = np.max(grid.cv_results_['mean_test_score'])\n",
    "C.append(clf.C)\n",
    "g.append(clf.gamma)\n",
    "\n",
    "print('The best polynomial classifier has degree = ',clf.degree,', C =',clf.C,', gamma = ',np.round(clf.gamma,4),'with a cross-validation mean accuracy',max_score)\n",
    "acc.append([clf.score(X_train,Y_train), clf.score(X_test,Y_test) , max_score])\n",
    "print('Train accuracy:',acc[-1][0])\n",
    "print('Test accuracy: ',acc[-1][1])"
   ]
  },
  {
   "cell_type": "code",
   "execution_count": 9,
   "metadata": {},
   "outputs": [
    {
     "name": "stdout",
     "output_type": "stream",
     "text": [
      "The best sigmoid classifier has C = 10.0 , gamma =  0.005705 with a cross-validation mean accuracy 0.9854207224745837\n",
      "Train accuracy: 0.9824046920821115\n",
      "Test accuracy:  0.9692982456140351\n"
     ]
    }
   ],
   "source": [
    "# Sigmoid kernel\n",
    "C_vector = 10. ** np.arange(-4,4)\n",
    "gamma_vector = 2. ** np.arange(-16,8) / np.sqrt(X_train.shape[1])\n",
    "params = {'C':C_vector, 'gamma':gamma_vector}\n",
    "\n",
    "grid = GridSearchCV(SVC(kernel='sigmoid'),param_grid=params,cv=5,iid=False)\n",
    "grid.fit(X_train,Y_train)\n",
    "clf = grid.best_estimator_\n",
    "max_score = np.max(grid.cv_results_['mean_test_score'])\n",
    "C.append(clf.C)\n",
    "g.append(clf.gamma)\n",
    "\n",
    "print('The best sigmoid classifier has C =',clf.C,', gamma = ',np.round(clf.gamma,6),'with a cross-validation mean accuracy',max_score)\n",
    "acc.append([clf.score(X_train,Y_train), clf.score(X_test,Y_test), max_score])\n",
    "print('Train accuracy:',acc[-1][0])\n",
    "print('Test accuracy: ',acc[-1][1])"
   ]
  },
  {
   "cell_type": "code",
   "execution_count": 10,
   "metadata": {},
   "outputs": [
    {
     "data": {
      "image/png": "[encoded data removed]",
      "text/plain": [
       "<Figure size 432x288 with 1 Axes>"
      ]
     },
     "metadata": {
      "needs_background": "light"
     },
     "output_type": "display_data"
    },
    {
     "data": {
      "image/png": "[encoded data removed]",
      "text/plain": [
       "<Figure size 432x288 with 1 Axes>"
      ]
     },
     "metadata": {
      "needs_background": "light"
     },
     "output_type": "display_data"
    }
   ],
   "source": [
    "# Finally, let's compare the results\n",
    "acc_test = [acc[i][1] for i in range(len(acc))]\n",
    "acc_train = [acc[i][0] for i in range(len(acc))]\n",
    "max_score = [acc[i][2] for i in range(len(acc))]\n",
    "\n",
    "plt.figure()\n",
    "plt.plot(acc_train, 'ro-',label='Training accuracy')\n",
    "plt.plot(acc_test,  'bo-',label='Test accuracy')\n",
    "# plt.plot(max_score, 'go-',label='CV accuracy')\n",
    "plt.xticks(range(len(acc_train)),['Linear','RBF','Polynomial','Sigmoid'])\n",
    "plt.legend()\n",
    "plt.ylabel('Accuracy')\n",
    "plt.title('Accuracy for each kernel (with CV parameters)')\n",
    "plt.show()\n",
    "\n",
    "plt.figure()\n",
    "plt.semilogy(C, 'ro-',label='C')\n",
    "plt.semilogy([1,2,3], g,  'bo-',label='gamma')\n",
    "# plt.plot(max_score, 'go-',label='CV accuracy')\n",
    "plt.xticks(range(len(acc_train)),['Linear','RBF','Polynomial','Sigmoid'])\n",
    "plt.legend()\n",
    "plt.ylabel('Parameter value')\n",
    "plt.title('Cross-validated parameters')\n",
    "plt.show()"
   ]
  },
  {
   "cell_type": "markdown",
   "metadata": {},
   "source": [
    "*From these plots, we can obtain several conclusions:*\n",
    "* *All kernel methods are quite powerful over this dataset, achieving all of them a test accuracy higher than 95%.*\n",
    "* *Linear and polynomial kernels have more difference between training and test accuracy, indicating that somehow they are more prone to overfitting. In fact, the polynomial kernel SVM selects a C = 10^-4 (and also a relatively high gamma), so it is overfitting, as seen by a training accuracy of 99.4%. Still, it has a test accuracy of 96.5%, so the overfitting is not critical.*\n",
    "* *The sigmoid kernel provides train and test accuracies similar to those of the linear kernel. It has reasonable values of C and $\\gamma$ that avoid overfitting.*\n",
    "* *RBF kernel provides the best test result, with an accuracy of 97.5%. Remarkably, it is also the one in which the difference between train and test accuracy is minimum, indicating that the SVM has been able to capture the true patterns inherent to the data, and it has not overfitted over the training samples. However, it is strictly penalizing errors (large C) meanwhile having wide margins (low $\\gamma$), what constitutes a curious combination. The low $\\gamma$ makes it nearly to linear, and actually it makes sense as linear and RBF kernels have very similar performance.*"
   ]
  },
  {
   "cell_type": "markdown",
   "metadata": {},
   "source": [
    "*Now, let's also explore the possibility of making a boosting ensemble of RBF support vector machines. Discrete AdaBoost will be used, as SVC does not have a \"predict_proba\" method and therefore it does not allow for RealAdaBoost implementation.*"
   ]
  },
  {
   "cell_type": "code",
   "execution_count": 59,
   "metadata": {},
   "outputs": [],
   "source": [
    "from sklearn.model_selection import KFold\n",
    "from sklearn.ensemble import AdaBoostClassifier\n",
    "\n",
    "# RBF kernel parameters\n",
    "C_vector = 10. ** np.arange(-4,4)\n",
    "gamma_vector = 2. ** np.arange(-16,8) / np.sqrt(X_train.shape[1])\n",
    "\n",
    "# GridSearch can not have nested classifiers (SVC inside Adaboost), so we perform it manually\n",
    "n_vector = [1,3,5,7,9,10,13,17,20,30,40,50,80]\n",
    "kf = KFold(n_splits=10,random_state=42) # perform cross-validation\n",
    "train_acc = []; valid_acc = []; test_acc = []; g_param = []; C_param = []; n_param = [];\n",
    "for C in C_vector:\n",
    "    for g in gamma_vector:\n",
    "        for n in n_vector:\n",
    "            counter = 0; running_train = 0. ; running_valid = 0. ; running_test = 0.;\n",
    "            for train_idx, valid_idx in kf.split(X_train):\n",
    "                X_train2 , X_valid = X_train[train_idx,:] , X_train[valid_idx,:]\n",
    "                Y_train2 , Y_valid = Y_train[train_idx]   , Y_train[valid_idx]\n",
    "                classifier = AdaBoostClassifier(SVC(kernel='rbf',C=C,gamma=g),n_estimators = n, algorithm='SAMME')\n",
    "                # SVC does not have the method \"predict_proba\", so discrete Adaboost must be used\n",
    "                classifier.fit(X_train2,Y_train2)\n",
    "                counter += 1\n",
    "                running_train += classifier.score(X_train2,Y_train2)\n",
    "                running_valid += classifier.score(X_valid,Y_valid)\n",
    "                running_test  += classifier.score(X_test,Y_test)\n",
    "            train_acc.append(running_train/counter)\n",
    "            valid_acc.append(running_valid/counter)\n",
    "            test_acc.append(running_test/counter)\n",
    "            g_param.append(g)\n",
    "            C_param.append(C)\n",
    "            n_param.append(n)\n"
   ]
  },
  {
   "cell_type": "code",
   "execution_count": 70,
   "metadata": {},
   "outputs": [
    {
     "name": "stdout",
     "output_type": "stream",
     "text": [
      "Train accuracy: 0.9732792574141491\n",
      "Validation accuracy: 0.9852941176470589\n",
      "Test accuracy: 0.9578947368421051\n",
      "\n",
      "C: 100.0\n",
      "Gamma: 0.00142636082683637\n",
      "Number of learners: 7\n"
     ]
    }
   ],
   "source": [
    "best_val = np.amax(valid_acc)\n",
    "idx = np.where(np.asarray(valid_acc)==best_val)[0][0]\n",
    "\n",
    "print('Train accuracy:',train_acc[idx])\n",
    "print('Validation accuracy:',best_val)\n",
    "print('Test accuracy:',test_acc[idx])\n",
    "\n",
    "print('\\nC:',C_param[idx])\n",
    "print('Gamma:',g_param[idx])\n",
    "print('Number of learners:',n_param[idx])"
   ]
  },
  {
   "cell_type": "markdown",
   "metadata": {},
   "source": [
    "*Using manual cross-validation and grid-search, it performed very slightly better over validation (98.53% with AdaBoost, vs 98.24% with standard RBF SVM). However, it performs slightly worse over train set, and considerably worse over test set (95.79% with AdaBoost, vs 97.37% with standard RBF SVM). Therefore, using AdaBoost is not really improving the model, and it is leading to some small overfitting. This is probably due to two factors:*\n",
    "* *Ensembles are designed to generate a strong learner by agreggation of many weak learners. However, a RBF SVM is already a strong learner, with 97.4% test accuracy. Therefore, there is little room for improvement.*\n",
    "* *Additionally, we have small amount of training data (after train-test split, the training set has 341 samples). Therefore, we are providing a lot of flexibility to the model and relatively low number of training data, causing mild overfitting (validation accuracy of 98.5%, train accuracy of 97.3%, test accuracy of 95.8%)*"
   ]
  },
  {
   "cell_type": "markdown",
   "metadata": {
    "colab_type": "text",
    "id": "WQtVXIQyOAEP"
   },
   "source": [
    "### Exercise 3. Feature selection with SVM\n",
    "Now, let's analyze two approaches for feature selection with SVMs:\n",
    "\n",
    "#### 1. L1-regularized SVM\n",
    "\n",
    "In this first case, you have to train a linear SVM regularized with a L1 or LASSO penalty. As you know, this constrain is able to provide sparsity over the weight vector; so, those input features associated to the zeros of the weight vector are not used during the classification process and we obtain an automatic feature selection. \n",
    "\n",
    "Note that, if we change the SVM formulation replacing the L2 regularization by a L1, the feature selection is obtained during the SVM training, so both stages (feature selection and classifier training) are completely linked and, therefore, the selection process is guided by the classifier. For this reason this kind of feature selection method is classified as an **embedded feature selector**. \n",
    "\n",
    "The only limitation of this approach, as other L1 based feature selection, relies in having to be applied over linear versions of the method, since the sparsity is forced over the vector weights ${\\bf w}$. \n",
    "\n",
    "#### 2. Recursive Feature Elimination (RFE)\n",
    "\n",
    "The Recursive Feature Elimination (RFE) method iteratively trains a set of SVM classifiers and, in each step, it eliminates a feature (or a subset of features) in such a way that the classification margin is reduced the least. \n",
    "\n",
    "This method is known as a **wrapper approach**, since it iteratively trains a SVM and evaluates its margin to decide which feature can be eliminated.\n",
    "\n",
    "However, unlike L1-SVM,  this method can be applied over the kernelized version of the SVM, providing a feature selection strategy for both linear and non-linear SVMs.\n",
    "\n",
    "**References**\n",
    "\n",
    "[1] Guyon, I., Weston, J., Barnhill, S., & Vapnik, V., “Gene selection for cancer classification using support vector machines”, Mach. Learn., 46(1-3), 389–422, 2002.\n",
    "\n"
   ]
  },
  {
   "cell_type": "markdown",
   "metadata": {
    "colab_type": "text",
    "id": "_uE7XRoCt1Np"
   },
   "source": [
    "### Exercise 3.1 L1-SVM\n",
    "\n",
    "Analyze the properties of the L1-SVM as feature selection approach. For this purpose, use the linear SVM implementation given by the method [LinearSVC](https://scikit-learn.org/stable/modules/generated/sklearn.svm.LinearSVC.html), which directly let's select the regularization type (L1 or L2) to be used.\n",
    "\n",
    "Unlike other feature selection methods, here we cannot obtain a ranking of variables. In this case, we have to sweep the value of the regularization parameter in order to get a higher (or lower) sparsity of the weight vector. According to this, train a linear L1-SVM for different values of the regularization parameter and, for each value of C, analyze the test accuracy, as well as the number of used features. \n",
    "\n",
    "Later, try to plot the accuracy vs. the number of features. Note that different values of C can provide the same number of features with different accuracies, so take care of this for this representation. In case you want to obtain the optimum working point, remember to compute a validation error to select the optimum value of C.\n",
    "\n",
    "Finally, don't forget to analyze the obtained results.\n",
    "\n"
   ]
  },
  {
   "cell_type": "markdown",
   "metadata": {
    "colab_type": "text",
    "id": "MgyKSyVUqTyF"
   },
   "source": [
    "### Solution"
   ]
  },
  {
   "cell_type": "code",
   "execution_count": 84,
   "metadata": {
    "colab": {},
    "colab_type": "code",
    "id": "BpjHqOeluE6I"
   },
   "outputs": [],
   "source": [
    "# <SOL>\n",
    "X_train2, X_val, Y_train2, Y_val = train_test_split(X_train, Y_train, test_size=0.3, random_state=42)\n",
    "\n",
    "C_vector = 10. ** np.arange(-3,7)\n",
    "clf = []\n",
    "coeffs = []\n",
    "n_features = []\n",
    "train_acc = []\n",
    "val_acc = []\n",
    "test_acc = []\n",
    "for a,c in enumerate(C_vector):\n",
    "  clf.append(LinearSVC(C=c,penalty='l1',dual=False,max_iter=1e6))\n",
    "  clf[-1].fit(X_train2,Y_train2) \n",
    "  coeffs.append(clf[-1].coef_)\n",
    "  n_features.append(np.sum(abs(coeffs[-1])>0))\n",
    "  train_acc.append(clf[-1].score(X_train2,Y_train2))\n",
    "  val_acc.append( clf[-1].score(X_val,Y_val) )\n",
    "  test_acc.append( clf[-1].score(X_test,Y_test) )\n",
    "# </SOL>"
   ]
  },
  {
   "cell_type": "code",
   "execution_count": 85,
   "metadata": {
    "colab": {
     "base_uri": "https://localhost:8080/",
     "height": 553
    },
    "colab_type": "code",
    "id": "LNt5_eaODbF9",
    "outputId": "f4435c4f-d66f-4a3e-8dcd-4af4b50becda"
   },
   "outputs": [
    {
     "data": {
      "image/png": "[encoded data removed]",
      "text/plain": [
       "<Figure size 432x288 with 1 Axes>"
      ]
     },
     "metadata": {
      "needs_background": "light"
     },
     "output_type": "display_data"
    },
    {
     "data": {
      "image/png": "[encoded data removed]",
      "text/plain": [
       "<Figure size 432x288 with 1 Axes>"
      ]
     },
     "metadata": {
      "needs_background": "light"
     },
     "output_type": "display_data"
    }
   ],
   "source": [
    "plt.figure()\n",
    "plt.semilogx(C_vector,val_acc,label='Validation accuracy')\n",
    "plt.semilogx(C_vector,test_acc,label='Test accuracy')\n",
    "plt.xlabel('C'); plt.ylabel('Accuracy')\n",
    "plt.legend()\n",
    "plt.show()\n",
    "\n",
    "plt.figure()\n",
    "plt.semilogx(C_vector,n_features,'bo-')\n",
    "plt.xlabel('C'); plt.ylabel('Number of features used')\n",
    "plt.show()"
   ]
  },
  {
   "cell_type": "markdown",
   "metadata": {},
   "source": [
    "*We are trying to minimize the hinge loss function, which has several terms:*\n",
    "$$\\mathbf{w}^* =\\displaystyle \\underset{{\\bf w}}{\\operatorname{min}}\\sum_{i=1}^N  \\left[ 1 - f(\\mathbf{x}^{(i)}) y^{(i)}\\right]_+ + \\frac{1}{2C} ||\\mathbf{w}||^2 $$\n",
    "\n",
    "*This can be rewritten as (with the added L1 penalty term)*\n",
    "\n",
    "$$\\mathbf{w}^* =\\displaystyle \\underset{{\\bf w}}{\\operatorname{min}}  \\left[ 2C \\cdot \\sum_{i=1}^N  \\left[ 1 - f(\\mathbf{x}^{(i)}) y^{(i)}\\right]_+ + ||\\mathbf{w}||^2  + ||\\mathbf{w}||^1_1\\right]$$\n",
    "\n",
    "*There are several elements in this loss function:*\n",
    "* *Loss due to incorrect classification, or inside the margin.*\n",
    "* *Training a SVM consist in maximizing $\\frac{1}{||w||}$ , or equivalently, minimize $||w||^2$.*\n",
    "* *Regularization term, in this case L1 regularization*\n",
    "*The hyperparameter defines the relative importance between misclassification and regularization (both minimizing the square norm of $w$, and the Lasso penalty). Therefore, a low C will place more emphasis on the penalties and so in sparsity, meanwhile high C will prioritize achieving low misclassification over the training data.*\n",
    "\n",
    "*In the first graph we can clearly see that effect:*\n",
    "* *For very low C, the penalty for any non-zero weight is so high (compared to misclassification) that all features have zero weight. Of course, accuracy is very poor, the linear model is just a bias term.*\n",
    "* *With moderately low C, the L1 penalty is still relatively important, so sparsity is enforced. The SVM is able to achieve good results with 4, 7, 11... features.*\n",
    "* *With high C, all features are used as the regularization penalty is very low compared to the misclassification penalty.*"
   ]
  },
  {
   "cell_type": "code",
   "execution_count": 86,
   "metadata": {},
   "outputs": [
    {
     "data": {
      "image/png": "[encoded data removed]",
      "text/plain": [
       "<Figure size 432x288 with 1 Axes>"
      ]
     },
     "metadata": {
      "needs_background": "light"
     },
     "output_type": "display_data"
    },
    {
     "name": "stdout",
     "output_type": "stream",
     "text": [
      "The best SVM (in validation accuracy) is the one with C = 0.100 and 7 features\n"
     ]
    }
   ],
   "source": [
    "# Now, let's plot the accuracy vs the number of features\n",
    "plt.figure()\n",
    "plt.plot(n_features,val_acc,label='Validation accuracy')\n",
    "plt.plot(n_features,test_acc,label='Test accuracy')\n",
    "plt.xlabel('Number of features used'); plt.ylabel('Accuracy')\n",
    "plt.legend()\n",
    "plt.show()\n",
    "\n",
    "# Let's find the best SVM (in terms of validation accuracy)\n",
    "idx = val_acc.index(max(val_acc))\n",
    "best_clf = clf[idx]\n",
    "best_n_features = n_features[idx]\n",
    "print('The best SVM (in validation accuracy) is the one with C = %.3f and %d features' %(best_clf.C,best_n_features))"
   ]
  },
  {
   "cell_type": "code",
   "execution_count": 87,
   "metadata": {},
   "outputs": [
    {
     "data": {
      "image/png": "[encoded data removed]",
      "text/plain": [
       "<Figure size 432x288 with 1 Axes>"
      ]
     },
     "metadata": {
      "needs_background": "light"
     },
     "output_type": "display_data"
    },
    {
     "name": "stdout",
     "output_type": "stream",
     "text": [
      "Features, ranked by importance:  [20, 23, 6, 24, 21, 28, 26]\n",
      "The three most relevant features are:\n",
      "worst radius\n",
      "worst area\n",
      "mean concavity\n"
     ]
    }
   ],
   "source": [
    "# Let's find which are the selected features for C = 0.1, \n",
    "# which is the best performing SVM (in terms of validation accuracy)\n",
    "\n",
    "w = coeffs[idx][0]\n",
    "plt.figure()\n",
    "plt.stem(w, use_line_collection=True)\n",
    "plt.title('Weights')\n",
    "plt.xlabel('Feature number'); plt.ylabel('W')\n",
    "plt.show()\n",
    "\n",
    "\n",
    "ranked_features = []\n",
    "w_sorted = []\n",
    "\n",
    "for i in range(np.sum(abs(w)>0)):\n",
    "    idx_feature = np.argmax(abs(w))\n",
    "    ranked_features.append(idx_feature)\n",
    "    w_sorted.append(w[idx_feature])\n",
    "    w[idx_feature] = 0.\n",
    "\n",
    "print('Features, ranked by importance: ',ranked_features)\n",
    "print('The three most relevant features are:')\n",
    "print(feature_names[ranked_features[0]])\n",
    "print(feature_names[ranked_features[1]])\n",
    "print(feature_names[ranked_features[2]])"
   ]
  },
  {
   "cell_type": "markdown",
   "metadata": {},
   "source": [
    "*According to feature selection using L1 regularization, the most relevant features are feature 20, 23 and 6 (worst radius, worst area and mean concavity, respectively).*"
   ]
  },
  {
   "cell_type": "markdown",
   "metadata": {
    "colab_type": "text",
    "id": "YDWzOfnquFfV"
   },
   "source": [
    "### Exercise 3.2 Recursive Feature Elimination (RFE)\n",
    "\n",
    "To understand the working principles of the RFE method, let's present its pseudocode:\n",
    "* Start with all the variables selected. Let's define $S=\\left\\lbrace 1, \\ldots, D\\right\\rbrace $ the set of indexes with the selected features (we start with all of them).\n",
    "\n",
    "* For $d = 1, \\ldots, D$\n",
    "  * Train a SVM with using the features in $S$\n",
    "  * Compute $ \\displaystyle \\Vert {\\bf w} \\Vert_2^2$ with the training data and using the features in $S$. That is, if ${\\bf x}_S$ is the data ${\\bf x}$, but limited to the features in $S$, we have to compute:\n",
    "$$  \\Vert {\\bf w}_S \\Vert_2^2 = \\sum_{i=1}^N  \\sum_{j=1}^N \\alpha^{(i)} \\alpha^{(j)} K({\\bf x}^{(i)}_S,{\\bf x}^{(j)}_S)$$ \n",
    "\n",
    "  * For each variable $d' \\in S$, built ${\\bf x}_{S-d'}= {\\bf x}_S \\setminus x_{d'}$ and compute $ \\displaystyle \\Vert {\\bf w} \\Vert_2^2$ with the data in ${\\bf x}_{S-d'}$\n",
    "$$  \\Vert {\\bf w}_{S-d'} \\Vert_2^2 = \\sum_{l=1}^L  \\sum_{l'=1}^L \\alpha^{(l)} \\alpha^{(l')} K({\\bf x}^{(l)}_{S-d'},{\\bf x}^{(l')}_{S-d'})$$  \n",
    "  * Remove the feature $d^*$, where \n",
    "  $$d^{*} = \\underset{d'}{\\operatorname{argmin}} \\left\\lbrace \\Vert {\\bf w}_S \\Vert_2^2 -\\Vert {\\bf w}_{S-d'} \\Vert_2^2 \\right\\rbrace $$\n",
    "  * Define $S = S \\setminus d^*$\n",
    "  * Stop when any criteria is reached (a given number of features or a degradation in the SVM performance)\n",
    "\n",
    "<br>\n",
    "\n",
    "Starting from this pseudocode, implement the RFE method for a kernelized SVM. Then,  analyze the curve test accuracy vs. number of selected features when a linear kernel and a RBF kernel are used (you can use the default values of $C$ and $\\gamma$ ). Finally, don't forget to analyze the obtained results. \n",
    "\n",
    "\n",
    "Note: Scikit-Learn provides a function with a full implementation of the RFE method and extend this implementation for any classifier. In fact, this function, [RFE( )](http://scikit-learn.org/stable/modules/generated/sklearn.feature_selection.RFE.html), let user select the classifier to consider, the number of selected features (parameter n\\_features\\_to\\_select) and the number of features removed in each step (parameter step).  As result, in parameter .ranking returns the ranking position of the each feature (i.e., .ranking\\_[i] corresponds to the ranking position of the i-th feature). However, this implementation is only thought for linear methods (it is quite similar to the pruning scheme for ridge regression used in the first HW). Here, I want you to work with the original version of this method [1] which is specifically proposed for no-linear SMVs; so, you have to implement the given method. Anyway, in case you have time, you can try to compare the proposed RFE method with that of Scikit-Learn."
   ]
  },
  {
   "cell_type": "markdown",
   "metadata": {
    "colab_type": "text",
    "id": "Cx1YFJPwqVnP"
   },
   "source": [
    "### Solution"
   ]
  },
  {
   "cell_type": "code",
   "execution_count": 93,
   "metadata": {},
   "outputs": [],
   "source": [
    "# First, let's define the functions to compute the squared modulus of w\n",
    "from sklearn.metrics.pairwise import rbf_kernel, linear_kernel\n",
    "\n",
    "def compute_w2_rbf_kernel(clf):\n",
    "    # Computes the squared modulus of the weight vector\n",
    "    alphas = np.abs(clf.dual_coef_)\n",
    "    sv = clf.support_vectors_\n",
    "\n",
    "    w2 = 0.\n",
    "    for i in range(sv.shape[0]):\n",
    "        for j in range(sv.shape[0]):\n",
    "            w2 += alphas[0,i]*alphas[0,j]*rbf_kernel(sv[i,:].reshape(1, -1),sv[j,:].reshape(1, -1))\n",
    "       \n",
    "    return w2[0][0]\n",
    "\n",
    "def compute_w2_linear_kernel(clf):\n",
    "    w = clf.coef_ # with a linear kernel, it is possible to directly get the weight vector\n",
    "    w2 = np.dot(w,w.T)\n",
    "    # Doing it this way is much faster than using \"linear_kernel(xi,xj)\"\n",
    "    return w2[0][0]\n",
    "\n",
    "def save_feature_rank(feature_ranking,d,N):\n",
    "    # The idea is that we have a feature ranking vector where\n",
    "    # feat[3] = 28 means that feature 3 was eliminated when having 28 features\n",
    "    \n",
    "    # For that, we need to find the true position of that feature in the original set\n",
    "    n_eliminated_features = np.sum(feature_ranking > 1.) # The vector is initialized to zeros\n",
    "    \n",
    "    D = d\n",
    "    for i,f in enumerate(feature_ranking):\n",
    "        if f != 1.: # it that feature has already been eliminated\n",
    "            if i <= D: # that is, if that eliminated feature was before d\n",
    "                D = D+1\n",
    "    \n",
    "    # once we know the true d\n",
    "    feature_ranking[D] = N   \n",
    "    \n",
    "    return feature_ranking, D"
   ]
  },
  {
   "cell_type": "code",
   "execution_count": 35,
   "metadata": {},
   "outputs": [
    {
     "name": "stdout",
     "output_type": "stream",
     "text": [
      "[1. 1. 5. 2. 8. 1.]\n"
     ]
    }
   ],
   "source": [
    "feat = np.ones(6,)\n",
    "feat[2] = 5\n",
    "feat[3] = 2\n",
    "\n",
    "feat = save_feature_rank(feat,2,8)\n",
    "print(feat)"
   ]
  },
  {
   "cell_type": "code",
   "execution_count": 79,
   "metadata": {
    "colab": {
     "base_uri": "https://localhost:8080/",
     "height": 221
    },
    "colab_type": "code",
    "id": "PJWjr0WrKb-5",
    "outputId": "c442d88c-18d4-48ec-8d55-c260f6c6570d"
   },
   "outputs": [
    {
     "name": "stdout",
     "output_type": "stream",
     "text": [
      "Iteration 0 : N = 30 , eliminated feature = 4\n",
      "Iteration 1 : N = 29 , eliminated feature = 24\n",
      "Iteration 2 : N = 28 , eliminated feature = 15\n",
      "Iteration 3 : N = 27 , eliminated feature = 13\n",
      "Iteration 4 : N = 26 , eliminated feature = 15\n",
      "Iteration 5 : N = 25 , eliminated feature = 13\n",
      "Iteration 6 : N = 24 , eliminated feature = 22\n",
      "Iteration 7 : N = 23 , eliminated feature = 11\n",
      "Iteration 8 : N = 22 , eliminated feature = 8\n",
      "Iteration 9 : N = 21 , eliminated feature = 20\n",
      "Iteration 10 : N = 20 , eliminated feature = 12\n",
      "Iteration 11 : N = 19 , eliminated feature = 10\n",
      "Iteration 12 : N = 18 , eliminated feature = 4\n",
      "Iteration 13 : N = 17 , eliminated feature = 2\n",
      "Iteration 14 : N = 16 , eliminated feature = 5\n",
      "Iteration 15 : N = 15 , eliminated feature = 0\n",
      "Iteration 16 : N = 14 , eliminated feature = 0\n",
      "Iteration 17 : N = 13 , eliminated feature = 0\n",
      "Iteration 18 : N = 12 , eliminated feature = 0\n",
      "Iteration 19 : N = 11 , eliminated feature = 9\n",
      "Iteration 20 : N = 10 , eliminated feature = 0\n",
      "Iteration 21 : N = 9 , eliminated feature = 4\n",
      "Iteration 22 : N = 8 , eliminated feature = 0\n",
      "Iteration 23 : N = 7 , eliminated feature = 1\n",
      "Iteration 24 : N = 6 , eliminated feature = 3\n",
      "Iteration 25 : N = 5 , eliminated feature = 0\n",
      "Iteration 26 : N = 4 , eliminated feature = 0\n",
      "Iteration 27 : N = 3 , eliminated feature = 0\n",
      "Iteration 28 : N = 2 , eliminated feature = 0\n",
      "Iteration 29 : N = 1 , eliminated feature = 0\n"
     ]
    }
   ],
   "source": [
    "################### LINEAR KERNEL ############################\n",
    "\n",
    "from sklearn.model_selection import GridSearchCV\n",
    "C_vector = 10. ** np.arange(-3,4)\n",
    "params = {'C': C_vector}\n",
    "\n",
    "\n",
    "# Let's make a copy of the data from which to progressively delete columns\n",
    "X_train2 = copy.deepcopy(X_train)\n",
    "X_test2 = copy.deepcopy(X_test)\n",
    "\n",
    "# Let's define a list for storing the classifiers, and another one for the squared weight norms\n",
    "N = X_train.shape[1] # Number of features\n",
    "# Positions i = (0 to N-1) will store the result when eliminating feature i\n",
    "# Position i = N will store the result with all features (all remaining at that level)\n",
    "# They will be nested list. clf[5][i] will be the result when already 5 features have been eliminated, \n",
    "# and we are searching for the sixth. \n",
    "clf = [None]*(N+1)\n",
    "w2  = [None]*(N+1)\n",
    "test_acc  = [None]*(N+1)\n",
    "train_acc = [None]*(N+1)\n",
    "\n",
    "linear_feature_ranking = np.ones((N,))\n",
    "sorted_features = np.zeros((N,))\n",
    "\n",
    "for n in range(N):\n",
    "    # initialize the list for this iteration\n",
    "    N = X_train2.shape[1]\n",
    "    clf[n] = [None]*(N+1)\n",
    "    w2[n] = [None]*(N+1)\n",
    "    test_acc[n]  = [None]*(N+1)\n",
    "    train_acc[n] = [None]*(N+1)\n",
    "    \n",
    "    for i in range(N+1):\n",
    "        if (i < N)&(N > 1):\n",
    "            Xs = np.delete(X_train2,[i],1)\n",
    "            Xtest = np.delete(X_test2,[i],1)\n",
    "        else: # just for when using all features at that stage\n",
    "            Xs = X_train2\n",
    "            Xtest = X_test2\n",
    "        cv = GridSearchCV(SVC(max_iter=1e7,kernel='linear'),param_grid=params,cv=5, iid=False)\n",
    "        cv.fit(Xs,Y_train)\n",
    "        clf[n][i] = cv.best_estimator_\n",
    "        w2[n][i] = compute_w2_linear_kernel(clf[n][i]) \n",
    "        train_acc[n][i] = clf[n][i].score(Xs,Y_train)\n",
    "        test_acc[n][i]  = clf[n][i].score(Xtest,Y_test)\n",
    "    \n",
    "    # Find the feature that minimizes the difference\n",
    "    diff = w2[n][N]-w2[n][:N] \n",
    "    diff = np.abs(diff)\n",
    "    d = np.argmin(diff)\n",
    "    \n",
    "    print('Iteration %d : N = %d , eliminated feature = %d' %(n,N,d))\n",
    "    \n",
    "    # to compare with sklearn RFE method\n",
    "    linear_feature_ranking, D = save_feature_rank(linear_feature_ranking,d,N)\n",
    "    # get a vector with sorted features\n",
    "    sorted_features[-(n+1)] = D\n",
    "    \n",
    "    X_train2 = np.delete(X_train2,[d],1)\n",
    "    X_test2  = np.delete(X_test2 ,[d],1)\n",
    "    "
   ]
  },
  {
   "cell_type": "code",
   "execution_count": 80,
   "metadata": {},
   "outputs": [
    {
     "data": {
      "image/png": "[encoded data removed]",
      "text/plain": [
       "<Figure size 432x288 with 1 Axes>"
      ]
     },
     "metadata": {
      "needs_background": "light"
     },
     "output_type": "display_data"
    }
   ],
   "source": [
    "# Let's plot the evolution of accuracy over the recursive elimination\n",
    "# (taking the accuracy with all features at that step)\n",
    "final_test_acc = [test_acc[i][-1] for i in range(X_train.shape[1]-1)]\n",
    "final_train_acc = [train_acc[i][-1] for i in range(X_train.shape[1]-1)]\n",
    "\n",
    "plt.figure()\n",
    "plt.plot(final_train_acc,label='Train acc')\n",
    "plt.plot(final_test_acc,label='Test acc')\n",
    "plt.legend()\n",
    "plt.show()"
   ]
  },
  {
   "cell_type": "markdown",
   "metadata": {},
   "source": [
    "*We can see how performance gets worse slowly as features get progressively eliminated. There is only a sharp decrease in performance when going below three features. This result indicates that most features are either redundant or non-informative. And even with one feature, the SVM preserves an accuracy around 90%.*"
   ]
  },
  {
   "cell_type": "code",
   "execution_count": 81,
   "metadata": {},
   "outputs": [
    {
     "data": {
      "image/png": "[encoded data removed]",
      "text/plain": [
       "<Figure size 432x288 with 1 Axes>"
      ]
     },
     "metadata": {
      "needs_background": "light"
     },
     "output_type": "display_data"
    }
   ],
   "source": [
    "# Now let's compare with SKlearn RFE implementation for linear SVC\n",
    "from sklearn.feature_selection import RFE\n",
    "selector = RFE(SVC(kernel='linear',C=1000),1, step = 1)\n",
    "selector.fit(X_train,Y_train)\n",
    "\n",
    "plt.figure()\n",
    "plt.plot(linear_feature_ranking,label='Manual RFE implementation')\n",
    "plt.plot(selector.ranking_,label='Sklearn RFE implementation')\n",
    "plt.legend()\n",
    "plt.show()"
   ]
  },
  {
   "cell_type": "markdown",
   "metadata": {},
   "source": [
    "*In the plot above it can be seen how each of the methods classifies each feature. A high position indicates that it has been eliminated early, and therefore that it has low relevance.*\n",
    "\n",
    "*Both methods yield similar results for many of the features (although some diverge significantly). In any case, I believe it is due to using a fixed C for the sklearn RFE, meanwhile crossvalidating different C values in the manual method.*"
   ]
  },
  {
   "cell_type": "code",
   "execution_count": null,
   "metadata": {},
   "outputs": [],
   "source": []
  },
  {
   "cell_type": "code",
   "execution_count": null,
   "metadata": {},
   "outputs": [],
   "source": []
  },
  {
   "cell_type": "code",
   "execution_count": null,
   "metadata": {},
   "outputs": [],
   "source": []
  },
  {
   "cell_type": "code",
   "execution_count": 94,
   "metadata": {},
   "outputs": [
    {
     "name": "stdout",
     "output_type": "stream",
     "text": [
      "Iteration 0 : N = 30 , eliminated feature = 16\n",
      "Iteration 1 : N = 29 , eliminated feature = 16\n",
      "Iteration 2 : N = 28 , eliminated feature = 23\n",
      "Iteration 3 : N = 27 , eliminated feature = 9\n",
      "Iteration 4 : N = 26 , eliminated feature = 7\n",
      "Iteration 5 : N = 25 , eliminated feature = 15\n",
      "Iteration 6 : N = 24 , eliminated feature = 12\n",
      "Iteration 7 : N = 23 , eliminated feature = 10\n",
      "Iteration 8 : N = 22 , eliminated feature = 11\n",
      "Iteration 9 : N = 21 , eliminated feature = 10\n",
      "Iteration 10 : N = 20 , eliminated feature = 19\n",
      "Iteration 11 : N = 19 , eliminated feature = 4\n",
      "Iteration 12 : N = 18 , eliminated feature = 16\n",
      "Iteration 13 : N = 17 , eliminated feature = 13\n",
      "Iteration 14 : N = 16 , eliminated feature = 4\n",
      "Iteration 15 : N = 15 , eliminated feature = 3\n",
      "Iteration 16 : N = 14 , eliminated feature = 4\n",
      "Iteration 17 : N = 13 , eliminated feature = 12\n",
      "Iteration 18 : N = 12 , eliminated feature = 5\n",
      "Iteration 19 : N = 11 , eliminated feature = 0\n",
      "Iteration 20 : N = 10 , eliminated feature = 1\n",
      "Iteration 21 : N = 9 , eliminated feature = 2\n",
      "Iteration 22 : N = 8 , eliminated feature = 1\n",
      "Iteration 23 : N = 7 , eliminated feature = 4\n",
      "Iteration 24 : N = 6 , eliminated feature = 5\n",
      "Iteration 25 : N = 5 , eliminated feature = 2\n",
      "Iteration 26 : N = 4 , eliminated feature = 3\n",
      "Iteration 27 : N = 3 , eliminated feature = 2\n",
      "Iteration 28 : N = 2 , eliminated feature = 1\n"
     ]
    }
   ],
   "source": [
    "# Now, let's do the same for the RBF kernel\n",
    "\n",
    "################### RBF KERNEL ############################\n",
    "from sklearn.model_selection import GridSearchCV\n",
    "C_vector = 10. ** np.arange(-3,4)\n",
    "gamma_vector = 10. ** np.arange(-5,3)\n",
    "params = {'C': C_vector,'gamma':gamma_vector}\n",
    "\n",
    "# Let's make a copy of the data from which to progressively delete columns\n",
    "X_train2 = copy.deepcopy(X_train)\n",
    "X_test2 = copy.deepcopy(X_test)\n",
    "\n",
    "# Let's define a list for storing the classifiers, and another one for the squared weight norms\n",
    "N = X_train.shape[1] # Number of features\n",
    "# Positions i = (0 to N-1) will store the result when eliminating feature i\n",
    "# Position i = N will store the result with all features (all remaining at that level)\n",
    "# They will be nested list. clf[5][i] will be the result when already 5 features have been eliminated, \n",
    "# and we are searching for the sixth. \n",
    "clf = [None]*(N+1)\n",
    "w2  = [None]*(N+1)\n",
    "test_acc  = [None]*(N+1)\n",
    "train_acc = [None]*(N+1)\n",
    "\n",
    "rbf_feature_ranking = np.ones((N,))\n",
    "rbf_sorted_features = np.zeros((N,))\n",
    "\n",
    "for n in range(N):# later change to N, in order to eliminate all features progressively\n",
    "    # initialize the list for this iteration\n",
    "    N = X_train2.shape[1]\n",
    "    clf[n] = [None]*(N+1)\n",
    "    w2[n] = [None]*(N+1)\n",
    "    test_acc[n]  = [None]*(N+1)\n",
    "    train_acc[n] = [None]*(N+1)\n",
    "    \n",
    "    for i in range(N+1):\n",
    "        if (i < N)&(N > 1):\n",
    "            Xs = np.delete(X_train2,[i],1)\n",
    "            Xtest = np.delete(X_test2,[i],1)\n",
    "        else: # just for when using all features at that stage\n",
    "            Xs = X_train2\n",
    "            Xtest = X_test2\n",
    "        cv = GridSearchCV(SVC(max_iter=1e7,kernel='rbf'),param_grid=params,cv=5, iid=False)\n",
    "        cv.fit(Xs,Y_train)\n",
    "        clf[n][i] = cv.best_estimator_\n",
    "        w2[n][i] = compute_w2_rbf_kernel(clf[n][i]) \n",
    "        train_acc[n][i] = clf[n][i].score(Xs,Y_train)\n",
    "        test_acc[n][i]  = clf[n][i].score(Xtest,Y_test)\n",
    "    \n",
    "    # Find the feature that minimizes the difference\n",
    "    diff = w2[n][N]-w2[n][:N] \n",
    "    diff = np.abs(diff) # probably it has to be absolute diff\n",
    "    d = np.argmin(diff)\n",
    "    \n",
    "    print('Iteration %d : N = %d , eliminated feature = %d' %(n,N,d))\n",
    "    \n",
    "    rbf_feature_ranking, D = save_feature_rank(rbf_feature_ranking,d,N)\n",
    "    # get a vector with sorted features\n",
    "    rbf_sorted_features[-(n+1)] = D\n",
    "    \n",
    "    X_train2 = np.delete(X_train2,[d],1)\n",
    "    X_test2  = np.delete(X_test2 ,[d],1)"
   ]
  },
  {
   "cell_type": "code",
   "execution_count": 95,
   "metadata": {},
   "outputs": [
    {
     "data": {
      "image/png": "[encoded data removed]",
      "text/plain": [
       "<Figure size 432x288 with 1 Axes>"
      ]
     },
     "metadata": {
      "needs_background": "light"
     },
     "output_type": "display_data"
    }
   ],
   "source": [
    "# Let's plot the evolution of accuracy over the recursive elimination\n",
    "# (taking the accuracy with all features at that step)\n",
    "final_test_acc = [test_acc[i][-1] for i in range(X_train.shape[1]-1)]\n",
    "final_train_acc = [train_acc[i][-1] for i in range(X_train.shape[1]-1)]\n",
    "\n",
    "plt.figure()\n",
    "plt.plot(final_train_acc,label='Train acc')\n",
    "plt.plot(final_test_acc,label='Test acc')\n",
    "plt.legend()\n",
    "plt.show()"
   ]
  },
  {
   "cell_type": "code",
   "execution_count": 96,
   "metadata": {},
   "outputs": [
    {
     "name": "stdout",
     "output_type": "stream",
     "text": [
      "Best five features according to each method\n",
      "L1 feature selection:  [20, 23, 6, 24, 21]\n",
      "Manual linear SVC RFE:  [27. 24. 22. 20. 11.]\n",
      "Manual RBF SVC RFE:  [ 0. 18. 21. 24. 20.]\n",
      "Sklearn RFE:  [ 2 30 18 24 26]\n"
     ]
    }
   ],
   "source": [
    "print(\"Best five features according to each method\")\n",
    "print('L1 feature selection: ',ranked_features[:5])\n",
    "print('Manual linear SVC RFE: ', sorted_features[:5])\n",
    "print('Manual RBF SVC RFE: ', rbf_sorted_features[:5])\n",
    "print('Sklearn RFE: ', selector.ranking_[:5])"
   ]
  },
  {
   "cell_type": "markdown",
   "metadata": {},
   "source": [
    "*As we can see, the sorting of features by different methods yields quite varied results. This may be due to the different methodologies, as in some methods we substract features one by one, and in others we select their ranking with a single model (in which the weights decide the rank). Also, the different kernels may yield different weights and therefore different choices.*\n",
    "\n",
    "*In any case, even choosing some different features, there are some which are widely repeated: 24, 20, 21... The other features, which appear in some of the methods and not in the others, are likely to be redundant. Also, it is worth to note that until most of the features have been eliminated, there is no major decrease in performance.*"
   ]
  },
  {
   "cell_type": "code",
   "execution_count": null,
   "metadata": {},
   "outputs": [],
   "source": []
  }
 ],
 "metadata": {
  "colab": {
   "collapsed_sections": [],
   "name": "Homework3_SVMs_student.ipynb",
   "provenance": []
  },
  "kernelspec": {
   "display_name": "Python 3",
   "language": "python",
   "name": "python3"
  },
  "language_info": {
   "codemirror_mode": {
    "name": "ipython",
    "version": 3
   },
   "file_extension": ".py",
   "mimetype": "text/x-python",
   "name": "python",
   "nbconvert_exporter": "python",
   "pygments_lexer": "ipython3",
   "version": "3.7.3"
  }
 },
 "nbformat": 4,
 "nbformat_minor": 1
}
