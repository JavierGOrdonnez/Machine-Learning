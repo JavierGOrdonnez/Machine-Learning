{
 "cells": [
  {
   "cell_type": "markdown",
   "metadata": {
    "colab_type": "text",
    "id": "6eAsdbmD4uOX"
   },
   "source": [
    "# Week 9: Homework 3\n",
    "\n",
    "----------------------------------------------------\n",
    "Machine Learning                      \n",
    "\n",
    "Year 2019/2020\n",
    "\n",
    "*Vanessa Gómez Verdejo vanessa@tsc.uc3m.es* \n",
    "\n",
    "----------------------------------------------------"
   ]
  },
  {
   "cell_type": "markdown",
   "metadata": {
    "colab_type": "text",
    "id": "lgDm0Z5bcazI"
   },
   "source": [
    "The aim of this HW is to analyse the performance of SVMs with different cofigurations (different kernels and parameters), as well as different approaches to combine the SMV training with a feature selection stage. As in the previous homework, we will work with the Breast Cancer database.\n",
    "\n",
    "Let's start loading and preparing the data and, next, complete the given exercises."
   ]
  },
  {
   "cell_type": "markdown",
   "metadata": {
    "colab_type": "text",
    "id": "CpjaOvF7Ldhq"
   },
   "source": [
    "### Exercise 1. Load and prepare the data\n",
    "\n",
    "As you already know, the  [Breast cancer data set](https://scikit-learn.org/stable/modules/generated/sklearn.datasets.load_breast_cancer.html) is a binary classification problem aimed to detect breast cancer from a  digitized image of breast mass characterized with 30 input features describing the mass.\n",
    "\n",
    "Complete next cell code, so that you can:\n",
    "* Load the dataset\n",
    "* Create training and testing partitions with the 60% and 40% of the original data\n",
    "* Normalize the data to zero mean and unitary standard deviation "
   ]
  },
  {
   "cell_type": "markdown",
   "metadata": {
    "colab_type": "text",
    "id": "vVLGP9TtgWzs"
   },
   "source": [
    "### Solution"
   ]
  },
  {
   "cell_type": "code",
   "execution_count": 0,
   "metadata": {
    "colab": {},
    "colab_type": "code",
    "id": "r0N54vleCDp2"
   },
   "outputs": [],
   "source": [
    "import numpy as np\n",
    "import pandas as pd\n",
    "import matplotlib.pyplot as plt\n",
    "%matplotlib inline\n",
    "import copy\n",
    "from sklearn.svm import LinearSVC # \"Support vector classifier\"\n",
    "from sklearn.svm import SVC # \"Support vector classifier using the dual formulation\""
   ]
  },
  {
   "cell_type": "code",
   "execution_count": 0,
   "metadata": {
    "colab": {},
    "colab_type": "code",
    "id": "7Mz8tfb9jr6x"
   },
   "outputs": [],
   "source": [
    "# <SOL>\n",
    "from sklearn.datasets import load_breast_cancer\n",
    "fulldata = load_breast_cancer()\n",
    "X = fulldata['data']\n",
    "Y = fulldata['target']\n",
    "feature_names = fulldata['feature_names']\n",
    "\n",
    "from sklearn.model_selection import train_test_split\n",
    "import random\n",
    "random.seed(42)\n",
    "X_train, X_test, Y_train, Y_test = train_test_split(X, Y, test_size=0.4, random_state=25)\n",
    "\n",
    "# Data normalization\n",
    "from sklearn.preprocessing import StandardScaler\n",
    "transformer = StandardScaler().fit(X_train)  # fit() learns mean and std parameters\n",
    "X_train = transformer.transform(X_train) # transform() normalizes\n",
    "X_test =  transformer.transform(X_test)\n",
    "# </SOL>"
   ]
  },
  {
   "cell_type": "markdown",
   "metadata": {
    "colab_type": "text",
    "id": "2szGWImcK10A"
   },
   "source": [
    "### Exercise 2. Analysis of SVM performance\n",
    "\n",
    "The goal of Exercise 2 is to design the best possible SVM. So, please, check different configurations (kernels, parameters, ...) and select the configuration with better generalization capabilities. \n",
    "\n",
    "Be careful with the kind of analysis that you carry out. In case you only want to compare different configurations (either different kernels or different multiclass approaches), you can get the final test performance, for each configuration, and compare them. But, in case you want to select the best possible configuration (for example, either I should use a linear kernel or a RBF one), you have to use an accuracy score over a validation partition (or a cross-validation) process. "
   ]
  },
  {
   "cell_type": "markdown",
   "metadata": {
    "colab_type": "text",
    "id": "5C4S1x9ZqRAu"
   },
   "source": [
    "### Solution"
   ]
  },
  {
   "cell_type": "markdown",
   "metadata": {
    "colab_type": "text",
    "id": "yJxse72iEWO3"
   },
   "source": [
    "Let's include a plotting function in order to visualize the decision line and margins. It is based on the function that was given by the professor in IntroductionSVM class notebook. It will be useful in order to visualize the performance of the different methods."
   ]
  },
  {
   "cell_type": "code",
   "execution_count": 0,
   "metadata": {
    "colab": {},
    "colab_type": "code",
    "id": "k5AQphHj5gW3"
   },
   "outputs": [],
   "source": [
    "# <SOL>\n",
    "# </SOL>"
   ]
  },
  {
   "cell_type": "code",
   "execution_count": 0,
   "metadata": {
    "colab": {},
    "colab_type": "code",
    "id": "T4k1hDAGEUqz"
   },
   "outputs": [],
   "source": [
    "def plot_svc_decision_function(model, data, feature_x = 0, feature_y = 1, ax=None):\n",
    "    \"\"\"Plot the decision function for a 2D SVC\"\"\"\n",
    "    if ax is None:            #If no figure handle is provided, it opens the current figure\n",
    "        ax = plt.gca()\n",
    "        \n",
    "    xlim = ax.get_xlim()\n",
    "    ylim = ax.get_ylim()\n",
    "    \n",
    "    # create grid to evaluate model\n",
    "    x = np.linspace(xlim[0], xlim[1], 30)    #30 points in the grid axis\n",
    "    y = np.linspace(ylim[0], ylim[1], 30)\n",
    "    Y, X = np.meshgrid(y, x)                 # We create a grid with the x,y coordinates defined above\n",
    "    # From the grid to a list of (x,y) values. \n",
    "    # Check Numpy help for ravel()\n",
    "    \n",
    "    xy = np.vstack([X.ravel(), Y.ravel()]).T \n",
    "    ###########################################\n",
    "    P = model.decision_function(xy).reshape(X.shape)  # This gives error, because it uses model.decision_function, which expects xy to have as many features as X_train\n",
    "    ###########################################\n",
    "    \n",
    "    # plot decision boundary and margins\n",
    "    # In levels we provide a list of floating point numbers indicating \n",
    "    #the level curves to draw, in increasing order; e.g., to draw just the zero contour pass\n",
    "    ax.contour(X, Y, P, colors='k',\n",
    "               levels=[-1, 0, 1], alpha=0.5,\n",
    "               linestyles=['--', '-', '--'])\n",
    "    \n",
    "    # plot the points themselves\n",
    "    plt.scatter(data[:, feature_x], data[:, feature_y], c=y, s=50, cmap='autumn')\n",
    "    \n",
    "    ax.set_xlim(xlim)\n",
    "    ax.set_ylim(ylim)\n",
    "    plt.rcParams[\"figure.figsize\"] = [8,8]"
   ]
  },
  {
   "cell_type": "markdown",
   "metadata": {
    "colab_type": "text",
    "id": "WQtVXIQyOAEP"
   },
   "source": [
    "### Exercise 3. Feature selection with SVM\n",
    "Now, let's analyze two approaches for feature selection with SVMs:\n",
    "\n",
    "#### 1. L1-regularized SVM\n",
    "\n",
    "In this first case, you have to train a linear SVM regularized with a L1 or LASSO penalty. As you know, this constrain is able to provide sparsity over the weight vector; so, those input features associated to the zeros of the weight vector are not used during the classification process and we obtain an automatic feature selection. \n",
    "\n",
    "Note that, if we change the SVM formulation replacing the L2 regularization by a L1, the feature selection is obtained during the SVM training, so both stages (feature selection and classifier training) are completely linked and, therefore, the selection process is guided by the classifier. For this reason this kind of feature selection method is classified as an **embedded feature selector**. \n",
    "\n",
    "The only limitation of this approach, as other L1 based feature selection, relies in having to be applied over linear versions of the method, since the sparsity is forced over the vector weights ${\\bf w}$. \n",
    "\n",
    "#### 2. Recursive Feature Elimination (RFE)\n",
    "\n",
    "The Recursive Feature Elimination (RFE) method iteratively trains a set of SVM classifiers and, in each step, it eliminates a feature (or a subset of features) in such a way that the classification margin is reduced the least. \n",
    "\n",
    "This method is known as a **wrapper approach**, since it iteratively trains a SVM and evaluates its margin to decide which feature can be eliminated.\n",
    "\n",
    "However, unlike L1-SVM,  this method can be applied over the kernelized version of the SVM, providing a feature selection strategy for both linear and non-linear SVMs.\n",
    "\n",
    "**References**\n",
    "\n",
    "[1] Guyon, I., Weston, J., Barnhill, S., & Vapnik, V., “Gene selection for cancer classification using support vector machines”, Mach. Learn., 46(1-3), 389–422, 2002.\n",
    "\n"
   ]
  },
  {
   "cell_type": "markdown",
   "metadata": {
    "colab_type": "text",
    "id": "_uE7XRoCt1Np"
   },
   "source": [
    "### Exercise 3.1 L1-SVM\n",
    "\n",
    "Analyze the properties of the L1-SVM as feature selection approach. For this purpose, use the linear SVM implementation given by the method [LinearSVC](https://scikit-learn.org/stable/modules/generated/sklearn.svm.LinearSVC.html), which directly let's select the regularization type (L1 or L2) to be used.\n",
    "\n",
    "Unlike other feature selection methods, here we cannot obtain a ranking of variables. In this case, we have to sweep the value of the regularization parameter in order to get a higher (or lower) sparsity of the weight vector. According to this, train a linear L1-SVM for different values of the regularization parameter and, for each value of C, analyze the test accuracy, as well as the number of used features. \n",
    "\n",
    "Later, try to plot the accuracy vs. the number of features. Note that different values of C can provide the same number of features with different accuracies, so take care of this for this representation. In case you want to obtain the optimum working point, remember to compute a validation error to select the optimum value of C.\n",
    "\n",
    "Finally, don't forget to analyze the obtained results.\n",
    "\n"
   ]
  },
  {
   "cell_type": "markdown",
   "metadata": {
    "colab_type": "text",
    "id": "MgyKSyVUqTyF"
   },
   "source": [
    "### Solution"
   ]
  },
  {
   "cell_type": "code",
   "execution_count": 0,
   "metadata": {
    "colab": {},
    "colab_type": "code",
    "id": "BpjHqOeluE6I"
   },
   "outputs": [],
   "source": [
    "# <SOL>\n",
    "X_train2, X_val, Y_train2, Y_val = train_test_split(X_train, Y_train, test_size=0.3, random_state=42)\n",
    "\n",
    "C_vector = [1e-3, 1e-2, 1e-1, 1, 1e1, 1e2, 1e3, 1e4, 1e5, 1e6]\n",
    "clf = []\n",
    "coeffs = []\n",
    "n_features = []\n",
    "val_acc = []\n",
    "test_acc = []\n",
    "for a,c in enumerate(C_vector):\n",
    "  clf.append( LinearSVC(C=c,penalty='l1',dual=False,max_iter=1e6))\n",
    "  clf[-1].fit(X_train2,Y_train2) \n",
    "  coeffs.append(clf[-1].coef_)\n",
    "  n_features.append(np.sum(abs(coeffs[-1])>0))\n",
    "  val_acc.append( clf[-1].score(X_val,Y_val) )\n",
    "  test_acc.append( clf[-1].score(X_test,Y_test) )\n",
    "# </SOL>"
   ]
  },
  {
   "cell_type": "code",
   "execution_count": 0,
   "metadata": {
    "colab": {
     "base_uri": "https://localhost:8080/",
     "height": 553
    },
    "colab_type": "code",
    "id": "LNt5_eaODbF9",
    "outputId": "f4435c4f-d66f-4a3e-8dcd-4af4b50becda"
   },
   "outputs": [
    {
     "data": {
      "image/png": "[encoded data removed]",
      "text/plain": [
       "<Figure size 432x288 with 1 Axes>"
      ]
     },
     "metadata": {
      "tags": []
     },
     "output_type": "display_data"
    },
    {
     "data": {
      "image/png": "[encoded data removed]",
      "text/plain": [
       "<Figure size 432x288 with 1 Axes>"
      ]
     },
     "metadata": {
      "tags": []
     },
     "output_type": "display_data"
    },
    {
     "name": "stdout",
     "output_type": "stream",
     "text": [
      "The best SVM (in validation accuracy) is the 2, with 7 features\n"
     ]
    }
   ],
   "source": [
    "plt.figure()\n",
    "plt.semilogx(C_vector,val_acc,label='Validation accuracy')\n",
    "plt.semilogx(C_vector,test_acc,label='Test accuracy')\n",
    "plt.xlabel('C'); plt.ylabel('Accuracy')\n",
    "plt.legend()\n",
    "plt.show()\n",
    "\n",
    "plt.figure()\n",
    "plt.semilogx(C_vector,n_features,label='Number of features used')\n",
    "plt.legend(); plt.show()\n",
    "\n",
    "# Let's find the best SVM (in terms of validation accuracy)\n",
    "idx = val_acc.index(max(val_acc))\n",
    "best_clf = clf[idx]\n",
    "best_n_features = n_features[idx]\n",
    "print('The best SVM (in validation accuracy) is the %d, with %d features' %(idx,best_n_features))"
   ]
  },
  {
   "cell_type": "markdown",
   "metadata": {
    "colab_type": "text",
    "id": "YDWzOfnquFfV"
   },
   "source": [
    "### Exercise 3.2 Recursive Feature Elimination (RFE)\n",
    "\n",
    "To understand the working principles of the RFE method, let's present its pseudocode:\n",
    "* Start with all the variables selected. Let's define $S=\\left\\lbrace 1, \\ldots, D\\right\\rbrace $ the set of indexes with the selected features (we start with all of them).\n",
    "\n",
    "* For $d = 1, \\ldots, D$\n",
    "  * Train a SVM with using the features in $S$\n",
    "  * Compute $ \\displaystyle \\Vert {\\bf w} \\Vert_2^2$ with the training data and using the features in $S$. That is, if ${\\bf x}_S$ is the data ${\\bf x}$, but limited to the features in $S$, we have to compute:\n",
    "$$  \\Vert {\\bf w}_S \\Vert_2^2 = \\sum_{i=1}^N  \\sum_{j=1}^N \\alpha^{(i)} \\alpha^{(j)} K({\\bf x}^{(i)}_S,{\\bf x}^{(j)}_S)$$ \n",
    "\n",
    "  * For each variable $d' \\in S$, built ${\\bf x}_{S-d'}= {\\bf x}_S \\setminus x_{d'}$ and compute $ \\displaystyle \\Vert {\\bf w} \\Vert_2^2$ with the data in ${\\bf x}_{S-d'}$\n",
    "$$  \\Vert {\\bf w}_{S-d'} \\Vert_2^2 = \\sum_{l=1}^L  \\sum_{l'=1}^L \\alpha^{(l)} \\alpha^{(l')} K({\\bf x}^{(l)}_{S-d'},{\\bf x}^{(l')}_{S-d'})$$  \n",
    "  * Remove the feature $d^*$, where \n",
    "  $$d^{*} = \\underset{d'}{\\operatorname{argmin}} \\left\\lbrace \\Vert {\\bf w}_S \\Vert_2^2 -\\Vert {\\bf w}_{S-d'} \\Vert_2^2 \\right\\rbrace $$\n",
    "  * Define $S = S \\setminus d^*$\n",
    "  * Stop when any criteria is reached (a given number of features or a degradation in the SVM performance)\n",
    "\n",
    "<br>\n",
    "\n",
    "Starting from this pseudocode, implement the RFE method for a kernelized SVM. Then,  analyze the curve test accuracy vs. number of selected features when a linear kernel and a RBF kernel are used (you can use the default values of $C$ and $\\gamma$ ). Finally, don't forget to analyze the obtained results. \n",
    "\n",
    "\n",
    "Note: Scikit-Learn provides a function with a full implementation of the RFE method and extend this implementation for any classifier. In fact, this function, [RFE( )](http://scikit-learn.org/stable/modules/generated/sklearn.feature_selection.RFE.html), let user select the classifier to consider, the number of selected features (parameter n\\_features\\_to\\_select) and the number of features removed in each step (parameter step).  As result, in parameter .ranking returns the ranking position of the each feature (i.e., .ranking\\_[i] corresponds to the ranking position of the i-th feature). However, this implementation is only thought for linear methods (it is quite similar to the pruning scheme for ridge regression used in the first HW). Here, I want you to work with the original version of this method [1] which is specifically proposed for no-linear SMVs; so, you have to implement the given method. Anyway, in case you have time, you can try to compare the proposed RFE method with that of Scikit-Learn."
   ]
  },
  {
   "cell_type": "markdown",
   "metadata": {
    "colab_type": "text",
    "id": "Cx1YFJPwqVnP"
   },
   "source": [
    "### Solution"
   ]
  },
  {
   "cell_type": "code",
   "execution_count": 0,
   "metadata": {
    "colab": {},
    "colab_type": "code",
    "id": "ccbt596hH-Gn"
   },
   "outputs": [],
   "source": [
    "from sklearn.metrics.pairwise import rbf_kernel, linear_kernel\n",
    "\n",
    "x1 = X_train[1,:].reshape(1, -1)\n",
    "x2 = X_train[2,:].reshape(1, -1)\n",
    "\n",
    "r = rbf_kernel(x1,x2)\n",
    "l = linear_kernel(x1,x2)"
   ]
  },
  {
   "cell_type": "code",
   "execution_count": 0,
   "metadata": {
    "colab": {
     "base_uri": "https://localhost:8080/",
     "height": 221
    },
    "colab_type": "code",
    "id": "PJWjr0WrKb-5",
    "outputId": "c442d88c-18d4-48ec-8d55-c260f6c6570d"
   },
   "outputs": [
    {
     "name": "stdout",
     "output_type": "stream",
     "text": [
      "[[-0.00948146 -0.1        -0.1        -0.1        -0.1        -0.1\n",
      "  -0.1        -0.1        -0.1        -0.1        -0.03688213 -0.1\n",
      "  -0.07676484 -0.03734916 -0.1        -0.1        -0.1        -0.1\n",
      "  -0.1        -0.1         0.1         0.02706352  0.05823194  0.05279013\n",
      "   0.1         0.1         0.1         0.08991876  0.1         0.00696815\n",
      "   0.1         0.0093895   0.1         0.1         0.03402636  0.05643459\n",
      "   0.1         0.1         0.02565465  0.1         0.1         0.1\n",
      "   0.1       ]]\n"
     ]
    },
    {
     "name": "stderr",
     "output_type": "stream",
     "text": [
      "/usr/local/lib/python3.6/dist-packages/sklearn/model_selection/_search.py:814: DeprecationWarning: The default of the `iid` parameter will change from True to False in version 0.22 and will be removed in 0.24. This will change numeric results when test-set sizes are unequal.\n",
      "  DeprecationWarning)\n"
     ]
    }
   ],
   "source": [
    "from sklearn.model_selection import GridSearchCV\n",
    "\n",
    "C_vector = [1e-3, 1e-2, 1e-1, 1, 1e1, 1e2, 1e3, 1e4, 1e5, 1e6]\n",
    "params = {'C': C_vector}\n",
    "cv = GridSearchCV(SVC(max_iter=1e6,kernel='linear'),param_grid=params,cv=5)\n",
    "cv.fit(X_train,Y_train)\n",
    "clf_original = cv.best_estimator_\n",
    "alphas = clf_original.dual_coef_\n",
    "print(alphas)\n"
   ]
  },
  {
   "cell_type": "code",
   "execution_count": 0,
   "metadata": {
    "colab": {},
    "colab_type": "code",
    "id": "gWkqy7wDzigZ"
   },
   "outputs": [],
   "source": [
    "# https://scikit-learn.org/stable/modules/generated/sklearn.metrics.pairwise.rbf_kernel.html\n",
    "# a = np.arange(25).reshape((5,5))\n",
    "# b = np.delete(a,[2],1)"
   ]
  }
 ],
 "metadata": {
  "colab": {
   "collapsed_sections": [],
   "name": "Homework3_SVMs_student.ipynb",
   "provenance": []
  },
  "kernelspec": {
   "display_name": "Python 3",
   "language": "python",
   "name": "python3"
  },
  "language_info": {
   "codemirror_mode": {
    "name": "ipython",
    "version": 3
   },
   "file_extension": ".py",
   "mimetype": "text/x-python",
   "name": "python",
   "nbconvert_exporter": "python",
   "pygments_lexer": "ipython3",
   "version": "3.7.3"
  }
 },
 "nbformat": 4,
 "nbformat_minor": 1
}
