{
 "cells": [
  {
   "cell_type": "markdown",
   "metadata": {
    "colab_type": "text",
    "id": "v65uQSS7bUYT"
   },
   "source": [
    "# Imports"
   ]
  },
  {
   "cell_type": "code",
   "execution_count": 0,
   "metadata": {
    "colab": {},
    "colab_type": "code",
    "id": "pUbv9aojbUYa",
    "scrolled": true
   },
   "outputs": [],
   "source": [
    "import matplotlib.pyplot as plt\n",
    "import numpy as np\n",
    "import pandas as pd\n",
    "import zipfile\n",
    "import _pickle\n",
    "from sklearn.model_selection import train_test_split\n",
    "from sklearn.model_selection import GridSearchCV\n",
    "from sklearn.ensemble import RandomForestClassifier\n",
    "from sklearn.metrics import roc_curve, auc, roc_auc_score\n",
    "import time\n",
    "import copy"
   ]
  },
  {
   "cell_type": "markdown",
   "metadata": {
    "colab_type": "text",
    "id": "MMvCy_NBbUYp"
   },
   "source": [
    "# Data loading\n",
    "Remember to change path if needed"
   ]
  },
  {
   "cell_type": "code",
   "execution_count": 27,
   "metadata": {
    "colab": {
     "base_uri": "https://localhost:8080/",
     "height": 55
    },
    "colab_type": "code",
    "executionInfo": {
     "elapsed": 1245,
     "status": "ok",
     "timestamp": 1577194474164,
     "user": {
      "displayName": "JESUS HERRERA LOPEZ",
      "photoUrl": "",
      "userId": "16448325777196326447"
     },
     "user_tz": -60
    },
    "id": "e-vBeRjmE4SO",
    "outputId": "903715e6-fddd-4bbf-f3a5-6c590cfb8ccd"
   },
   "outputs": [
    {
     "name": "stdout",
     "output_type": "stream",
     "text": [
      "Drive already mounted at /content/drive; to attempt to forcibly remount, call drive.mount(\"/content/drive\", force_remount=True).\n"
     ]
    }
   ],
   "source": [
    "# Take the data from Google Drive\n",
    "from google.colab import drive\n",
    "drive.mount('/content/drive')\n",
    "path = \"/content/drive/My Drive/Colab Notebooks/Kaggle/Kaggle_data/\"\n",
    "path_results = \"/content/drive/My Drive/Colab Notebooks/Kaggle/Kaggle_results/\""
   ]
  },
  {
   "cell_type": "markdown",
   "metadata": {
    "colab_type": "text",
    "id": "OoI5WFfsbUY4"
   },
   "source": [
    "# Data split & Spectrum in regular bins\n",
    "Data is split between a proper training set (later used in cross-validation), and a test_train set, which will help us in determining under/overfitting as we do have labels for them.\n",
    "\n",
    "Spectrums are divided in regular size bins, always the same, so that we can treat them as features, not worrying about different mz scales. According to the literature the peaks contain the relevant information, then we only save the maximum value in the bin (range of mz coordinates) so that peak information is never lost. Moreover, by performing this regularization in bins, peaks at very close mz values (same compound, small mz differences due to experimental uncertainty) are seen by the machine as belonging to the same bin and therefore the same feature. Therefore, it facilitates to use peaks as values.\n",
    "\n",
    "Also, peak values are normalized by the maximum peak value of the spectrum, as specific values are experiment-dependent and do not carry information, only the relation between peak sizes does."
   ]
  },
  {
   "cell_type": "code",
   "execution_count": 0,
   "metadata": {
    "colab": {},
    "colab_type": "code",
    "id": "pb4OK1vtbUY7",
    "scrolled": true
   },
   "outputs": [],
   "source": [
    "def spectrum_in_bins(df,m,M,bin_size):\n",
    "    # Now, let's define the mz ranges, and the label associated to each of them (the mean of the limiting values of each bin)\n",
    "    range_min = []; range_max = []; range_label = [];\n",
    "    for mz in range(m,M,bin_size):\n",
    "        range_min.append(mz)\n",
    "        range_max.append(mz+bin_size)\n",
    "        range_label.append(np.mean([range_min[-1],range_max[-1]]).astype(int))\n",
    "\n",
    "\n",
    "    N = len(df)  # number of samples\n",
    "    L = len(range_min)  # length of new spectrum (number of bins)\n",
    "    all_data = np.zeros((N,L))\n",
    "    for idx in range(N): \n",
    "        intensity = df[['intensity']].iloc[idx].values[0]\n",
    "        mzcoord   = df[['coord_mz']].iloc[idx].values[0]\n",
    "        idx_data_in_bins = np.zeros((1,L))\n",
    "        for i,mz in enumerate(range_min):\n",
    "            intensity_range = intensity[(mzcoord > mz) & (mzcoord < (mz+bin_size))]\n",
    "            if len(intensity_range) > 0 :\n",
    "                idx_data_in_bins[0,i] = np.max(intensity_range)\n",
    "            else: # if those mz coordinates are not in that spectrum\n",
    "                idx_data_in_bins[0,i] = 0   \n",
    "\n",
    "        # Normalize the amplitude of the spectrum\n",
    "        idx_data_in_bins[0,:] = idx_data_in_bins[0,:] / np.max(idx_data_in_bins[0,:])\n",
    "        \n",
    "        \n",
    "        all_data[idx,:] = idx_data_in_bins\n",
    "    new_df = pd.DataFrame(data=all_data, columns = range_label, index = df.index)\n",
    "    return new_df"
   ]
  },
  {
   "cell_type": "code",
   "execution_count": 0,
   "metadata": {
    "colab": {},
    "colab_type": "code",
    "id": "KOx7ayitoDt8"
   },
   "outputs": [],
   "source": [
    "# Hyperparameters of the spectrum processing\n",
    "m = 2000; M = 20000; \n",
    "bin_size = 50;"
   ]
  },
  {
   "cell_type": "code",
   "execution_count": 0,
   "metadata": {
    "colab": {},
    "colab_type": "code",
    "id": "PSFVS5i0prL0"
   },
   "outputs": [],
   "source": [
    "from sklearn.svm import SVC\n",
    "from sklearn.linear_model import LogisticRegression\n",
    "from sklearn.neighbors import KNeighborsClassifier\n",
    "\n",
    "# Let's create manually a list of good classifiers\n",
    "clf_oxalacina       = SVC(kernel='rbf',class_weight='balanced', C=10000, gamma=0.1, probability=True)\n",
    "clf_amikacina       = LogisticRegression(max_iter=1e6,solver='lbfgs',class_weight='balanced', C=100000)\n",
    "clf_amoxiclav       = LogisticRegression(max_iter=1e6,solver='lbfgs',class_weight='balanced', C=100)\n",
    "clf_ciprofloxacino  = LogisticRegression(max_iter=1e6,solver='lbfgs',class_weight='balanced', C=100)\n",
    "clf_clindamicina    = KNeighborsClassifier(n_neighbors=16)\n",
    "clf_eritromicina    = LogisticRegression(max_iter=1e6,solver='lbfgs',class_weight='balanced', C=1000)\n",
    "clf_levofloxacino   = LogisticRegression(max_iter=1e6,solver='lbfgs',class_weight='balanced', C=10000)\n",
    "clf_penicilina      = LogisticRegression(max_iter=1e6,solver='lbfgs',class_weight='balanced', C=100000)\n",
    "clf_tobramicina     = LogisticRegression(max_iter=1e6,solver='lbfgs',class_weight='balanced', C=10000)\n",
    "\n",
    "clf_list = [clf_oxalacina, clf_amikacina, clf_amoxiclav, clf_ciprofloxacino, clf_clindamicina,\n",
    "            clf_eritromicina, clf_levofloxacino, clf_penicilina, clf_tobramicina]"
   ]
  },
  {
   "cell_type": "code",
   "execution_count": 0,
   "metadata": {
    "colab": {},
    "colab_type": "code",
    "id": "7GrSaFrQB1um"
   },
   "outputs": [],
   "source": [
    "# Change the way the spectre is handled: Now is MEAN\n",
    "# Could be changed to the highest value of both or the lowest, susceptible to changes\n",
    "\n",
    "def get_unique_spectre(spectre, df):\n",
    "\n",
    "  # Include the ID_sample column for the group_by\n",
    "  spectre['ID_sample'] = df.ID_sample\n",
    "  # MEAN OF THE SPECTRE\n",
    "  spectre = spectre.groupby('ID_sample').mean().reset_index()\n",
    "  # To remove the ID_sample\n",
    "  return spectre"
   ]
  },
  {
   "cell_type": "code",
   "execution_count": 0,
   "metadata": {
    "colab": {},
    "colab_type": "code",
    "id": "he4cLalLoszo"
   },
   "outputs": [],
   "source": [
    "def generate_csv_from_clf(clf_list, path,path_results, file_name):\n",
    "  # classifiers must be provided with parameters, and in a list [clf_antibiotic0, clf_antibiotic1, ...]\n",
    "  # spectrum and targets full train (containing all training points) will be used for training the clfs in clf list\n",
    "  # df_test must be provided as loaded from the file\n",
    "\n",
    "  # read all data from files\n",
    "  zf = zipfile.ZipFile(path+'zipped_TrainData.zip', 'r')\n",
    "  df_full_train = _pickle.loads(zf.open('TrainData.pkl').read());   zf.close()\n",
    "\n",
    "  zf = zipfile.ZipFile(path+'zipped_TestDataUnlabeled.zip', 'r')\n",
    "  df_test = _pickle.loads(zf.open('TestDataUnlabeled.pkl').read());   zf.close()\n",
    "\n",
    "  # Process test df to get UNIQUE samples and convert to spectrum\n",
    "\n",
    "  # df_unique_test = df_test.drop_duplicates(subset='ID_sample')\n",
    "\n",
    "  spectrum_test_forcsv = spectrum_in_bins(df_test,m,M,bin_size)\n",
    "  spectrum_test_forcsv = get_unique_spectre(spectrum_test_forcsv, df_test)\n",
    "  print('Spectrum regularized!')\n",
    "\n",
    "  # Process train set to later train the clfs\n",
    "  spectrum_full_train = spectrum_in_bins(df_full_train.iloc[:,-2:],m,M,bin_size)\n",
    "  targets_full_train  = df_full_train.iloc[:,1:-2]  \n",
    "\n",
    "  # read the submission example file\n",
    "  df_submission = pd.read_csv(path+'SubmissionSample.csv') \n",
    "  categories = df_submission.columns[1:]\n",
    "  # df_submission['ID']= df_unique_test['ID_sample'].values\n",
    "  df_submission['ID']= spectrum_test_forcsv['ID_sample'].values\n",
    "  # To eliminate the ID_sample from the spectrum\n",
    "  spectrum_test_forcsv = spectrum_test_forcsv.drop(columns=['ID_sample'])\n",
    "  for c, cat in enumerate(categories): \n",
    "    # clean NaN values\n",
    "      if (df_full_train[cat].isnull().sum() > 0).all(): # if there are NaN values, we should remove those samples\n",
    "          merged_full_train = pd.concat([spectrum_full_train , targets_full_train],axis=1,copy=True)\n",
    "          clean_full_train = merged_full_train.dropna(subset=[cat])\n",
    "          print('Dropped ',len(merged_full_train)-len(clean_full_train),' from training set')\n",
    "\n",
    "          Y_train = clean_full_train.iloc[:,-9 + c].to_numpy().reshape(-1,)\n",
    "          X_train = clean_full_train.iloc[:,:-9]\n",
    "      else:\n",
    "          Y_train = targets_full_train.iloc[:,c].to_numpy().reshape(-1,)\n",
    "          X_train = spectrum_full_train.copy(deep=True)\n",
    "\n",
    "      # Use a Log-regressor as classifier   \n",
    "      clf_base = clf_list[c].fit(X_train,Y_train)\n",
    "      # Compute its test prestiction and save this output\n",
    "      o_test = clf_base.predict_proba(spectrum_test_forcsv)[:,1]\n",
    "      df_submission[cat] = o_test\n",
    "\n",
    "  # Save the dataframe with the predicted outputs\n",
    "  df_submission = df_submission.set_index('ID')\n",
    "  df_submission.to_csv(path_results + file_name + '.csv')\n",
    "  return df_submission"
   ]
  },
  {
   "cell_type": "code",
   "execution_count": 33,
   "metadata": {
    "colab": {
     "base_uri": "https://localhost:8080/",
     "height": 90
    },
    "colab_type": "code",
    "executionInfo": {
     "elapsed": 19884,
     "status": "ok",
     "timestamp": 1577194509119,
     "user": {
      "displayName": "JESUS HERRERA LOPEZ",
      "photoUrl": "",
      "userId": "16448325777196326447"
     },
     "user_tz": -60
    },
    "id": "gA-YvcNzos7c",
    "outputId": "d3f6b23c-d4dc-484b-dd98-51cbb2776057"
   },
   "outputs": [
    {
     "name": "stdout",
     "output_type": "stream",
     "text": [
      "Spectrum regularized!\n",
      "Dropped  88  from training set\n",
      "Dropped  4  from training set\n",
      "Dropped  82  from training set\n"
     ]
    }
   ],
   "source": [
    "df_submission = generate_csv_from_clf(clf_list,path,path_results, 'Submission_24_12_19_mean_spectrum')"
   ]
  },
  {
   "cell_type": "code",
   "execution_count": 34,
   "metadata": {
    "colab": {
     "base_uri": "https://localhost:8080/",
     "height": 475
    },
    "colab_type": "code",
    "executionInfo": {
     "elapsed": 642,
     "status": "ok",
     "timestamp": 1577194576088,
     "user": {
      "displayName": "JESUS HERRERA LOPEZ",
      "photoUrl": "",
      "userId": "16448325777196326447"
     },
     "user_tz": -60
    },
    "id": "G14cAXUlos4U",
    "outputId": "6b7e12d2-50d0-4986-a8f3-6159c707fbf5"
   },
   "outputs": [
    {
     "data": {
      "text/html": [
       "<div>\n",
       "<style scoped>\n",
       "    .dataframe tbody tr th:only-of-type {\n",
       "        vertical-align: middle;\n",
       "    }\n",
       "\n",
       "    .dataframe tbody tr th {\n",
       "        vertical-align: top;\n",
       "    }\n",
       "\n",
       "    .dataframe thead th {\n",
       "        text-align: right;\n",
       "    }\n",
       "</style>\n",
       "<table border=\"1\" class=\"dataframe\">\n",
       "  <thead>\n",
       "    <tr style=\"text-align: right;\">\n",
       "      <th></th>\n",
       "      <th>OXACILINA</th>\n",
       "      <th>AMIKACINA</th>\n",
       "      <th>AMOXI/CLAV</th>\n",
       "      <th>CIPROFLOXACINO</th>\n",
       "      <th>CLINDAMICINA</th>\n",
       "      <th>ERITROMICINA</th>\n",
       "      <th>LEVOFLOXACINO</th>\n",
       "      <th>PENICILINA</th>\n",
       "      <th>TOBRAMICINA</th>\n",
       "    </tr>\n",
       "    <tr>\n",
       "      <th>ID</th>\n",
       "      <th></th>\n",
       "      <th></th>\n",
       "      <th></th>\n",
       "      <th></th>\n",
       "      <th></th>\n",
       "      <th></th>\n",
       "      <th></th>\n",
       "      <th></th>\n",
       "      <th></th>\n",
       "    </tr>\n",
       "  </thead>\n",
       "  <tbody>\n",
       "    <tr>\n",
       "      <th>1081</th>\n",
       "      <td>0.549597</td>\n",
       "      <td>0.996773</td>\n",
       "      <td>0.877526</td>\n",
       "      <td>0.898037</td>\n",
       "      <td>0.1875</td>\n",
       "      <td>0.893843</td>\n",
       "      <td>0.922348</td>\n",
       "      <td>9.999988e-01</td>\n",
       "      <td>0.990350</td>\n",
       "    </tr>\n",
       "    <tr>\n",
       "      <th>1154</th>\n",
       "      <td>0.297002</td>\n",
       "      <td>0.048897</td>\n",
       "      <td>0.376745</td>\n",
       "      <td>0.305007</td>\n",
       "      <td>0.1875</td>\n",
       "      <td>0.253599</td>\n",
       "      <td>0.054317</td>\n",
       "      <td>9.955802e-01</td>\n",
       "      <td>0.214822</td>\n",
       "    </tr>\n",
       "    <tr>\n",
       "      <th>1225</th>\n",
       "      <td>0.313024</td>\n",
       "      <td>0.005590</td>\n",
       "      <td>0.328433</td>\n",
       "      <td>0.288530</td>\n",
       "      <td>0.2500</td>\n",
       "      <td>0.408853</td>\n",
       "      <td>0.174503</td>\n",
       "      <td>9.999804e-01</td>\n",
       "      <td>0.037910</td>\n",
       "    </tr>\n",
       "    <tr>\n",
       "      <th>124</th>\n",
       "      <td>0.370963</td>\n",
       "      <td>0.017339</td>\n",
       "      <td>0.477202</td>\n",
       "      <td>0.544697</td>\n",
       "      <td>0.2500</td>\n",
       "      <td>0.904494</td>\n",
       "      <td>0.295287</td>\n",
       "      <td>1.944845e-03</td>\n",
       "      <td>0.169274</td>\n",
       "    </tr>\n",
       "    <tr>\n",
       "      <th>1246</th>\n",
       "      <td>0.170610</td>\n",
       "      <td>0.007236</td>\n",
       "      <td>0.250758</td>\n",
       "      <td>0.366112</td>\n",
       "      <td>0.0000</td>\n",
       "      <td>0.420852</td>\n",
       "      <td>0.005410</td>\n",
       "      <td>9.990929e-01</td>\n",
       "      <td>0.045022</td>\n",
       "    </tr>\n",
       "    <tr>\n",
       "      <th>...</th>\n",
       "      <td>...</td>\n",
       "      <td>...</td>\n",
       "      <td>...</td>\n",
       "      <td>...</td>\n",
       "      <td>...</td>\n",
       "      <td>...</td>\n",
       "      <td>...</td>\n",
       "      <td>...</td>\n",
       "      <td>...</td>\n",
       "    </tr>\n",
       "    <tr>\n",
       "      <th>903</th>\n",
       "      <td>0.276074</td>\n",
       "      <td>0.007039</td>\n",
       "      <td>0.409275</td>\n",
       "      <td>0.507775</td>\n",
       "      <td>0.1875</td>\n",
       "      <td>0.496348</td>\n",
       "      <td>0.155639</td>\n",
       "      <td>9.999908e-01</td>\n",
       "      <td>0.045119</td>\n",
       "    </tr>\n",
       "    <tr>\n",
       "      <th>973</th>\n",
       "      <td>0.655200</td>\n",
       "      <td>0.999998</td>\n",
       "      <td>0.556672</td>\n",
       "      <td>0.763900</td>\n",
       "      <td>0.1250</td>\n",
       "      <td>0.460080</td>\n",
       "      <td>0.988612</td>\n",
       "      <td>1.445490e-14</td>\n",
       "      <td>0.999375</td>\n",
       "    </tr>\n",
       "    <tr>\n",
       "      <th>979</th>\n",
       "      <td>0.422596</td>\n",
       "      <td>0.000060</td>\n",
       "      <td>0.674887</td>\n",
       "      <td>0.716651</td>\n",
       "      <td>0.0625</td>\n",
       "      <td>0.762016</td>\n",
       "      <td>0.112157</td>\n",
       "      <td>9.999653e-01</td>\n",
       "      <td>0.026855</td>\n",
       "    </tr>\n",
       "    <tr>\n",
       "      <th>984</th>\n",
       "      <td>0.389032</td>\n",
       "      <td>0.156456</td>\n",
       "      <td>0.587273</td>\n",
       "      <td>0.602408</td>\n",
       "      <td>0.1875</td>\n",
       "      <td>0.529558</td>\n",
       "      <td>0.377147</td>\n",
       "      <td>9.992390e-01</td>\n",
       "      <td>0.422688</td>\n",
       "    </tr>\n",
       "    <tr>\n",
       "      <th>988</th>\n",
       "      <td>0.370778</td>\n",
       "      <td>0.611748</td>\n",
       "      <td>0.599909</td>\n",
       "      <td>0.381355</td>\n",
       "      <td>0.0625</td>\n",
       "      <td>0.186566</td>\n",
       "      <td>0.053496</td>\n",
       "      <td>9.038168e-01</td>\n",
       "      <td>0.435980</td>\n",
       "    </tr>\n",
       "  </tbody>\n",
       "</table>\n",
       "<p>112 rows × 9 columns</p>\n",
       "</div>"
      ],
      "text/plain": [
       "      OXACILINA  AMIKACINA  ...    PENICILINA  TOBRAMICINA\n",
       "ID                          ...                           \n",
       "1081   0.549597   0.996773  ...  9.999988e-01     0.990350\n",
       "1154   0.297002   0.048897  ...  9.955802e-01     0.214822\n",
       "1225   0.313024   0.005590  ...  9.999804e-01     0.037910\n",
       "124    0.370963   0.017339  ...  1.944845e-03     0.169274\n",
       "1246   0.170610   0.007236  ...  9.990929e-01     0.045022\n",
       "...         ...        ...  ...           ...          ...\n",
       "903    0.276074   0.007039  ...  9.999908e-01     0.045119\n",
       "973    0.655200   0.999998  ...  1.445490e-14     0.999375\n",
       "979    0.422596   0.000060  ...  9.999653e-01     0.026855\n",
       "984    0.389032   0.156456  ...  9.992390e-01     0.422688\n",
       "988    0.370778   0.611748  ...  9.038168e-01     0.435980\n",
       "\n",
       "[112 rows x 9 columns]"
      ]
     },
     "execution_count": 34,
     "metadata": {
      "tags": []
     },
     "output_type": "execute_result"
    }
   ],
   "source": [
    "df_submission"
   ]
  }
 ],
 "metadata": {
  "colab": {
   "collapsed_sections": [],
   "name": " Jagger_4_GenerateCSV_v2.ipynb",
   "provenance": [],
   "toc_visible": true
  },
  "kernelspec": {
   "display_name": "Python 3",
   "language": "python",
   "name": "python3"
  },
  "language_info": {
   "codemirror_mode": {
    "name": "ipython",
    "version": 3
   },
   "file_extension": ".py",
   "mimetype": "text/x-python",
   "name": "python",
   "nbconvert_exporter": "python",
   "pygments_lexer": "ipython3",
   "version": "3.7.4"
  }
 },
 "nbformat": 4,
 "nbformat_minor": 1
}
