{
 "cells": [
  {
   "cell_type": "markdown",
   "metadata": {},
   "source": [
    "# Preprocessing\n",
    "First, let's focus on correctly preprocessing the data. Probably this is the key for a successful classification later on."
   ]
  },
  {
   "cell_type": "code",
   "execution_count": 1,
   "metadata": {},
   "outputs": [],
   "source": [
    "import matplotlib.pyplot as plt\n",
    "import numpy as np\n",
    "import pandas as pd\n",
    "import zipfile\n",
    "import _pickle"
   ]
  },
  {
   "cell_type": "code",
   "execution_count": 2,
   "metadata": {},
   "outputs": [],
   "source": [
    "path = \"D:/GitHub/Machine-Learning/Kaggle/\"\n",
    "\n",
    "zf = zipfile.ZipFile(path+'zipped_TrainData.zip', 'r')\n",
    "df_train = _pickle.loads(zf.open('TrainData.pkl').read())\n",
    "zf.close()\n",
    "\n",
    "zf = zipfile.ZipFile(path+'zipped_TestDataUnlabeled.zip', 'r')\n",
    "df_test = _pickle.loads(zf.open('TestDataUnlabeled.pkl').read())\n",
    "zf.close()"
   ]
  },
  {
   "cell_type": "code",
   "execution_count": 3,
   "metadata": {},
   "outputs": [
    {
     "data": {
      "text/html": [
       "<div>\n",
       "<style scoped>\n",
       "    .dataframe tbody tr th:only-of-type {\n",
       "        vertical-align: middle;\n",
       "    }\n",
       "\n",
       "    .dataframe tbody tr th {\n",
       "        vertical-align: top;\n",
       "    }\n",
       "\n",
       "    .dataframe thead th {\n",
       "        text-align: right;\n",
       "    }\n",
       "</style>\n",
       "<table border=\"1\" class=\"dataframe\">\n",
       "  <thead>\n",
       "    <tr style=\"text-align: right;\">\n",
       "      <th></th>\n",
       "      <th>ID_sample</th>\n",
       "      <th>OXACILINA</th>\n",
       "      <th>AMIKACINA</th>\n",
       "      <th>AMOXI/CLAV</th>\n",
       "      <th>CIPROFLOXACINO</th>\n",
       "      <th>CLINDAMICINA</th>\n",
       "      <th>ERITROMICINA</th>\n",
       "      <th>LEVOFLOXACINO</th>\n",
       "      <th>PENICILINA</th>\n",
       "      <th>TOBRAMICINA</th>\n",
       "      <th>intensity</th>\n",
       "      <th>coord_mz</th>\n",
       "    </tr>\n",
       "    <tr>\n",
       "      <th>ID</th>\n",
       "      <th></th>\n",
       "      <th></th>\n",
       "      <th></th>\n",
       "      <th></th>\n",
       "      <th></th>\n",
       "      <th></th>\n",
       "      <th></th>\n",
       "      <th></th>\n",
       "      <th></th>\n",
       "      <th></th>\n",
       "      <th></th>\n",
       "      <th></th>\n",
       "    </tr>\n",
       "  </thead>\n",
       "  <tbody>\n",
       "    <tr>\n",
       "      <td>0</td>\n",
       "      <td>38</td>\n",
       "      <td>0</td>\n",
       "      <td>0.0</td>\n",
       "      <td>0</td>\n",
       "      <td>0</td>\n",
       "      <td>0</td>\n",
       "      <td>0</td>\n",
       "      <td>NaN</td>\n",
       "      <td>1</td>\n",
       "      <td>0.0</td>\n",
       "      <td>[2504.0, 2587.0, 2566.0, 2529.0, 2440.0, 2345....</td>\n",
       "      <td>[1999.8537952394886, 2000.270974900746, 2000.6...</td>\n",
       "    </tr>\n",
       "    <tr>\n",
       "      <td>1</td>\n",
       "      <td>38</td>\n",
       "      <td>0</td>\n",
       "      <td>0.0</td>\n",
       "      <td>0</td>\n",
       "      <td>0</td>\n",
       "      <td>0</td>\n",
       "      <td>0</td>\n",
       "      <td>NaN</td>\n",
       "      <td>1</td>\n",
       "      <td>0.0</td>\n",
       "      <td>[2016.0, 2046.0, 2020.0, 1975.0, 1960.0, 1948....</td>\n",
       "      <td>[1999.8537952394886, 2000.270974900746, 2000.6...</td>\n",
       "    </tr>\n",
       "    <tr>\n",
       "      <td>2</td>\n",
       "      <td>42</td>\n",
       "      <td>0</td>\n",
       "      <td>NaN</td>\n",
       "      <td>0</td>\n",
       "      <td>0</td>\n",
       "      <td>0</td>\n",
       "      <td>0</td>\n",
       "      <td>0.0</td>\n",
       "      <td>1</td>\n",
       "      <td>NaN</td>\n",
       "      <td>[5482.0, 5433.0, 5446.0, 5395.0, 5295.0, 5154....</td>\n",
       "      <td>[1998.4098728475867, 1998.827574358552, 1999.2...</td>\n",
       "    </tr>\n",
       "    <tr>\n",
       "      <td>3</td>\n",
       "      <td>42</td>\n",
       "      <td>0</td>\n",
       "      <td>NaN</td>\n",
       "      <td>0</td>\n",
       "      <td>0</td>\n",
       "      <td>0</td>\n",
       "      <td>0</td>\n",
       "      <td>0.0</td>\n",
       "      <td>1</td>\n",
       "      <td>NaN</td>\n",
       "      <td>[5179.0, 5103.0, 5080.0, 4958.0, 4930.0, 4836....</td>\n",
       "      <td>[1998.4098728475867, 1998.827574358552, 1999.2...</td>\n",
       "    </tr>\n",
       "    <tr>\n",
       "      <td>4</td>\n",
       "      <td>50</td>\n",
       "      <td>0</td>\n",
       "      <td>NaN</td>\n",
       "      <td>0</td>\n",
       "      <td>0</td>\n",
       "      <td>0</td>\n",
       "      <td>0</td>\n",
       "      <td>0.0</td>\n",
       "      <td>0</td>\n",
       "      <td>NaN</td>\n",
       "      <td>[2731.0, 2695.0, 2638.0, 2641.0, 2640.0, 2518....</td>\n",
       "      <td>[1999.9947504661932, 2000.4119868539617, 2000....</td>\n",
       "    </tr>\n",
       "  </tbody>\n",
       "</table>\n",
       "</div>"
      ],
      "text/plain": [
       "   ID_sample  OXACILINA  AMIKACINA  AMOXI/CLAV  CIPROFLOXACINO  CLINDAMICINA  \\\n",
       "ID                                                                             \n",
       "0         38          0        0.0           0               0             0   \n",
       "1         38          0        0.0           0               0             0   \n",
       "2         42          0        NaN           0               0             0   \n",
       "3         42          0        NaN           0               0             0   \n",
       "4         50          0        NaN           0               0             0   \n",
       "\n",
       "    ERITROMICINA  LEVOFLOXACINO  PENICILINA  TOBRAMICINA  \\\n",
       "ID                                                         \n",
       "0              0            NaN           1          0.0   \n",
       "1              0            NaN           1          0.0   \n",
       "2              0            0.0           1          NaN   \n",
       "3              0            0.0           1          NaN   \n",
       "4              0            0.0           0          NaN   \n",
       "\n",
       "                                            intensity  \\\n",
       "ID                                                      \n",
       "0   [2504.0, 2587.0, 2566.0, 2529.0, 2440.0, 2345....   \n",
       "1   [2016.0, 2046.0, 2020.0, 1975.0, 1960.0, 1948....   \n",
       "2   [5482.0, 5433.0, 5446.0, 5395.0, 5295.0, 5154....   \n",
       "3   [5179.0, 5103.0, 5080.0, 4958.0, 4930.0, 4836....   \n",
       "4   [2731.0, 2695.0, 2638.0, 2641.0, 2640.0, 2518....   \n",
       "\n",
       "                                             coord_mz  \n",
       "ID                                                     \n",
       "0   [1999.8537952394886, 2000.270974900746, 2000.6...  \n",
       "1   [1999.8537952394886, 2000.270974900746, 2000.6...  \n",
       "2   [1998.4098728475867, 1998.827574358552, 1999.2...  \n",
       "3   [1998.4098728475867, 1998.827574358552, 1999.2...  \n",
       "4   [1999.9947504661932, 2000.4119868539617, 2000....  "
      ]
     },
     "execution_count": 3,
     "metadata": {},
     "output_type": "execute_result"
    }
   ],
   "source": [
    "df_train.head()"
   ]
  },
  {
   "cell_type": "markdown",
   "metadata": {},
   "source": [
    "As we can see, the data contains different columns:\n",
    "* **ID**: Just the basic index per row\n",
    "* **ID_sample**: the ID of the physical sample this is coming from. We should think about how to use different experimental results coming from the same sample. For the moment being, let's just treat them as different samples.\n",
    "* **Different antibiotics**: data of whether the sample is resistant of not to 9 different antibiotics. Our goal is to predict separately these resistances (one binary classifier for each antibiotic).\n",
    "* **MZ coordinate**: mass spectrometry is defined over the so-called m/z spectra. Therefore, this constitutes the X axis of the plot.\n",
    "* **Intensity**: Intensity of the spectra at each point (Y values)."
   ]
  },
  {
   "cell_type": "markdown",
   "metadata": {},
   "source": [
    "Literature:\n",
    "https://www.ncbi.nlm.nih.gov/pmc/articles/PMC6088204/\n",
    "\n",
    "Basically, it seems that MALDI TOF MS is routinely used for sample identification. Also, it is used for susceptibility testing (antibiotic resistance classification), mainly using the peaks of the spectra."
   ]
  },
  {
   "cell_type": "markdown",
   "metadata": {},
   "source": [
    "### Preprocessing of the data\n",
    "First, we should remove all the NaN values present in the data. We have two options, either replace by the most frequent value, or conversely, not use those samples to train the classifiers for those antibiotics. This could be done creating an index (a kind of mask) of which samples are to be used for each classifier. I will try the second approach."
   ]
  },
  {
   "cell_type": "code",
   "execution_count": null,
   "metadata": {},
   "outputs": [],
   "source": []
  },
  {
   "cell_type": "code",
   "execution_count": null,
   "metadata": {},
   "outputs": [],
   "source": []
  },
  {
   "cell_type": "markdown",
   "metadata": {},
   "source": [
    "Also, we should preprocess the spectra. We have several options:\n",
    "* Try to just obtain the peaks and their associated mz value.\n",
    "* Put all spectra in the same mz scale, and use the full spectra as a set of features (each spectral point, one feature). To avoid noise or interpolation errors, we could \"bin\" the spectra in small ranges of mz coordinate. That is, the bin 2000-2010 mz contains the highest value in that range of that spectra.\n",
    "\n",
    "For the moment being, let's try the second one."
   ]
  },
  {
   "cell_type": "code",
   "execution_count": 4,
   "metadata": {},
   "outputs": [
    {
     "data": {
      "image/png": "[encoded data removed]",
      "text/plain": [
       "<Figure size 432x288 with 1 Axes>"
      ]
     },
     "metadata": {
      "needs_background": "light"
     },
     "output_type": "display_data"
    }
   ],
   "source": [
    "# Let's plot one original spectra\n",
    "idx = 0\n",
    "y_axis = df_train.loc[idx,'intensity']\n",
    "x_axis = df_train.loc[idx,'coord_mz']\n",
    "\n",
    "plt.plot(x_axis,y_axis)\n",
    "plt.xlabel('m/z axis')\n",
    "plt.ylabel('Intensity')\n",
    "plt.title('Spectrum of sample '+str(idx))\n",
    "plt.show()"
   ]
  },
  {
   "cell_type": "markdown",
   "metadata": {},
   "source": [
    "We have a problem: each data comes as a (x,y) pair. A mz coordinate with an associated intensity. The classifiers we have seen so far work in a different way: for each feature, there is a value. The classifier/regressor learns how to combine the different values of the features to give a prediction. Therefore, having a single feature with (mz,intensity) pairs does not seem an option. For that reason, let's try to create \"bins\" in which to segment the spectra and provide a unified feature set (consisting of the peaks at the different mz ranges)."
   ]
  },
  {
   "cell_type": "code",
   "execution_count": 10,
   "metadata": {},
   "outputs": [],
   "source": [
    "bin_size = 20 # let's first do it coarsely to check that it works\n",
    "# First, let's find the maximum mz coordinates, in order to define all ranges appropiately\n",
    "maxs = [np.max(sp[0]) for sp in df_train[['intensity']].values ]\n",
    "M = np.ceil(np.max(maxs)).astype(int)\n",
    "# In order to always be coherent with the ranges, let's always start in 0.\n",
    "m = 0\n",
    "\n",
    "# Now, let's define the mz ranges, and the label associated to each of them (the mean of the limiting values of each bin)\n",
    "range_min = []; range_max = []; range_label = [];\n",
    "for mz in range(m,M,bin_size):\n",
    "#     print('Mz: ',mz)\n",
    "    range_min.append(mz)\n",
    "    range_max.append(mz+bin_size)\n",
    "    range_label.append(np.mean([range_min[-1],range_max[-1]]).astype(int))\n",
    "#     print(range_label[-1])\n",
    "\n",
    "# for  # this sould be done in a loop for all samples.\n",
    "idx = 0 # Let's first do it for just sample 0\n",
    "intensity = df_train[['intensity']].loc[idx].values[0]\n",
    "mzcoord   = df_train[['coord_mz']].loc[idx].values[0]\n",
    "idx_data_in_bins = np.zeros((len(range_min),1))\n",
    "for i,mz in enumerate(range_min):\n",
    "    intensity_range = intensity[(mzcoord > mz) & (mzcoord < (mz+bin_size))]\n",
    "    if len(intensity_range) > 0 :\n",
    "        idx_data_in_bins[i] = np.max(intensity_range)\n",
    "    else: # if those mz coordinates are not in that spectrum\n",
    "        idx_data_in_bins[i] = 0    \n",
    "    "
   ]
  },
  {
   "cell_type": "code",
   "execution_count": 11,
   "metadata": {},
   "outputs": [
    {
     "data": {
      "image/png": "[encoded data removed]",
      "text/plain": [
       "<Figure size 1440x720 with 1 Axes>"
      ]
     },
     "metadata": {
      "needs_background": "light"
     },
     "output_type": "display_data"
    }
   ],
   "source": [
    "plt.figure(figsize=(20,10))\n",
    "plt.plot(x_axis,y_axis,'b',label='Original')\n",
    "plt.plot(range_label,idx_data_in_bins,'ro',label='In bins')\n",
    "plt.legend()\n",
    "plt.xlabel('m/z axis')\n",
    "plt.ylabel('Intensity')\n",
    "plt.title('Spectrum of sample '+str(idx))\n",
    "plt.xlim(2000,12000)\n",
    "plt.xlim(6000,7000)\n",
    "plt.show()"
   ]
  },
  {
   "cell_type": "markdown",
   "metadata": {},
   "source": [
    "As we can see, the aproximation is quite good, and in this way we have an \"standard feature set\". Now, let's generalize this to a function to which we can pass different dataframes (namely, test and train dataframes)."
   ]
  },
  {
   "cell_type": "code",
   "execution_count": 7,
   "metadata": {},
   "outputs": [
    {
     "ename": "IndentationError",
     "evalue": "expected an indented block (<ipython-input-7-234795dd358a>, line 18)",
     "output_type": "error",
     "traceback": [
      "\u001b[1;36m  File \u001b[1;32m\"<ipython-input-7-234795dd358a>\"\u001b[1;36m, line \u001b[1;32m18\u001b[0m\n\u001b[1;33m    idx = 0 # Let's first do it for just sample 0\u001b[0m\n\u001b[1;37m      ^\u001b[0m\n\u001b[1;31mIndentationError\u001b[0m\u001b[1;31m:\u001b[0m expected an indented block\n"
     ]
    }
   ],
   "source": [
    "bin_size = 20 # let's first do it coarsely to check that it works\n",
    "# First, let's find the maximum mz coordinates, in order to define all ranges appropiately\n",
    "maxs = [np.max(sp[0]) for sp in df_train[['intensity']].values ]\n",
    "M = np.ceil(np.max(maxs)).astype(int)\n",
    "# In order to always be coherent with the ranges, let's always start in 0.\n",
    "m = 0\n",
    "\n",
    "def spectrum_in_bins(df,m,M,bin_size):\n",
    "    # Now, let's define the mz ranges, and the label associated to each of them (the mean of the limiting values of each bin)\n",
    "    range_min = []; range_max = []; range_label = [];\n",
    "    for mz in range(m,M,bin_size):\n",
    "        range_min.append(mz)\n",
    "        range_max.append(mz+bin_size)\n",
    "        range_label.append(np.mean([range_min[-1],range_max[-1]]).astype(int))\n",
    "\n",
    "    for idx in enumerate(df): # TODO , find out how to do this for a pandas dataframe\n",
    "        # for  # this sould be done in a loop for all samples.\n",
    "        idx = 0 # Let's first do it for just sample 0\n",
    "        intensity = df_train[['intensity']].loc[idx].values[0]\n",
    "        mzcoord   = df_train[['coord_mz']].loc[idx].values[0]\n",
    "        idx_data_in_bins = np.zeros((len(range_min),1))\n",
    "        for i,mz in enumerate(range_min):\n",
    "            intensity_range = intensity[(mzcoord > mz) & (mzcoord < (mz+bin_size))]\n",
    "            if len(intensity_range) > 0 :\n",
    "                idx_data_in_bins[i] = np.max(intensity_range)\n",
    "            else: # if those mz coordinates are not in that spectrum\n",
    "                idx_data_in_bins[i] = 0   \n",
    "\n",
    "        # store it in a new dataframe, with appropiate labels (range_label)\n",
    "        # TODO"
   ]
  },
  {
   "cell_type": "markdown",
   "metadata": {},
   "source": [
    "### Data split\n",
    "Separate data in data and targets, as well as in train, validation and test data"
   ]
  },
  {
   "cell_type": "code",
   "execution_count": null,
   "metadata": {},
   "outputs": [],
   "source": [
    "data_train = df_train.iloc[[]]"
   ]
  }
 ],
 "metadata": {
  "kernelspec": {
   "display_name": "Python 3",
   "language": "python",
   "name": "python3"
  },
  "language_info": {
   "codemirror_mode": {
    "name": "ipython",
    "version": 3
   },
   "file_extension": ".py",
   "mimetype": "text/x-python",
   "name": "python",
   "nbconvert_exporter": "python",
   "pygments_lexer": "ipython3",
   "version": "3.7.4"
  }
 },
 "nbformat": 4,
 "nbformat_minor": 2
}
