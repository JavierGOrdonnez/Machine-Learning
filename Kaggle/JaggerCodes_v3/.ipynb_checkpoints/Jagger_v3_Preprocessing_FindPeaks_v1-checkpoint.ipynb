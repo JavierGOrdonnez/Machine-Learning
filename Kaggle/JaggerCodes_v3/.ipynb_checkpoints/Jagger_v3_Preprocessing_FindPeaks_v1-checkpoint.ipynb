{
 "cells": [
  {
   "cell_type": "code",
   "execution_count": null,
   "metadata": {},
   "outputs": [],
   "source": [
    "import matplotlib.pyplot as plt\n",
    "import numpy as np\n",
    "import pandas as pd\n",
    "import zipfile\n",
    "import _pickle\n",
    "import pickle\n",
    "from sklearn.model_selection import train_test_split\n",
    "from sklearn.model_selection import GridSearchCV\n",
    "from sklearn.metrics import roc_curve, auc, roc_auc_score\n",
    "import time\n",
    "import os"
   ]
  },
  {
   "cell_type": "code",
   "execution_count": null,
   "metadata": {},
   "outputs": [],
   "source": [
    "m = 2000; M = 12000; \n",
    "bin_size = 5\n",
    "step_size = 1; # interpolation step size\n",
    "\n",
    "path = \"D:/GitHub/Machine-Learning/Kaggle/\"\n",
    "\n",
    "savepath = path + 'Kaggle classifiers/bin size 5/'\n",
    "path_results = path + 'Kaggle_results/'\n",
    "\n",
    "ncpu = os.cpu_count()\n",
    "if (ncpu>2): njobs = ncpu - 2; \n",
    "else: njobs = 1;\n",
    "    \n",
    "zf = zipfile.ZipFile(path+'zipped_TrainData.zip', 'r')\n",
    "df_train = _pickle.loads(zf.open('TrainData.pkl').read())\n",
    "zf.close()\n",
    "\n",
    "zf = zipfile.ZipFile(path+'zipped_TestDataUnlabeled.zip', 'r')\n",
    "df_test = _pickle.loads(zf.open('TestDataUnlabeled.pkl').read())\n",
    "zf.close()\n",
    "\n",
    "def remove_noise(df):\n",
    "    N = len(df)  # number of samples\n",
    "    idx_list = []\n",
    "    for idx in range(N): \n",
    "        intensity = df[['intensity']].iloc[idx].values[0]\n",
    "        mzcoord   = df[['coord_mz']].iloc[idx].values[0]\n",
    "\n",
    "        if np.var(intensity) < 100:\n",
    "          idx_list.append(idx)\n",
    "          print('Training sample', idx, ' eliminated')\n",
    "    new_df = df.drop(index = idx_list)\n",
    "    return new_df\n",
    "\n",
    "df_train = remove_noise(df_train)"
   ]
  },
  {
   "cell_type": "code",
   "execution_count": null,
   "metadata": {},
   "outputs": [],
   "source": [
    "def interpolate_spectra(df, m, M, step_size):\n",
    "    # step_size is the size of each step; 1 interpolates very well.\n",
    "    mz_range = np.arange(m,M+1,step_size)\n",
    "    \n",
    "    N = len(df)  # number of samples\n",
    "    L = len(mz_range)  # length of new spectrum (number of bins)\n",
    "    all_data = np.zeros((N,L))\n",
    "    idx_list = []\n",
    "    \n",
    "    for idx in range(N): \n",
    "        intensity = df[['intensity']].iloc[idx].values[0]       \n",
    "        mzcoord   = df[['coord_mz']].iloc[idx].values[0]\n",
    "        interpolated_spectrum = np.interp(x=mz_range,xp=mzcoord,fp=intensity)\n",
    "        interpolated_spectrum = interpolated_spectrum / np.max(interpolated_spectrum)\n",
    "        plt.plot(interpolated_spectrum)\n",
    "        all_data[idx,:] = interpolated_spectrum\n",
    "    new_df = pd.DataFrame(data=all_data, columns = mz_range, index = df.index)\n",
    "    plt.show()\n",
    "    return new_df"
   ]
  },
  {
   "cell_type": "code",
   "execution_count": null,
   "metadata": {},
   "outputs": [],
   "source": [
    "def spectrum_in_peaks(spectrum,peak_width):\n",
    "    df = spectrum.copy()\n",
    "    spectrum  = spectrum.to_numpy()\n",
    "    new_spectrum = np.zeros(spectrum.shape)\n",
    "    \n",
    "    for i,x in enumerate(spectrum):\n",
    "        spectrum_train_aux = np.zeros(len(x))\n",
    "        peaks =  find_peaks_cwt(vector=x,widths=peak_width)\n",
    "        spectrum_train_aux[peaks] = x[peaks]\n",
    "        new_spectrum[i,:] = spectrum_train_aux\n",
    "\n",
    "    new_df = pd.DataFrame(data=new_spectrum, columns = df.columns, index = df.index)\n",
    "    return new_df"
   ]
  }
 ],
 "metadata": {
  "kernelspec": {
   "display_name": "Python 3",
   "language": "python",
   "name": "python3"
  },
  "language_info": {
   "codemirror_mode": {
    "name": "ipython",
    "version": 3
   },
   "file_extension": ".py",
   "mimetype": "text/x-python",
   "name": "python",
   "nbconvert_exporter": "python",
   "pygments_lexer": "ipython3",
   "version": "3.7.4"
  }
 },
 "nbformat": 4,
 "nbformat_minor": 2
}
