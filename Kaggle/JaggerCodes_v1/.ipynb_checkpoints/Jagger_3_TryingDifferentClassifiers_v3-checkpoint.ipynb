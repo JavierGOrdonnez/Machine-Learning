{
 "cells": [
  {
   "cell_type": "markdown",
   "metadata": {},
   "source": [
    "# Imports"
   ]
  },
  {
   "cell_type": "code",
   "execution_count": 1,
   "metadata": {
    "scrolled": true
   },
   "outputs": [],
   "source": [
    "import matplotlib.pyplot as plt\n",
    "import numpy as np\n",
    "import pandas as pd\n",
    "import zipfile\n",
    "import _pickle\n",
    "import pickle\n",
    "from sklearn.model_selection import train_test_split\n",
    "from sklearn.model_selection import GridSearchCV\n",
    "from sklearn.metrics import roc_curve, auc, roc_auc_score\n",
    "import time\n",
    "\n",
    "from sklearn.linear_model import LogisticRegression\n",
    "from sklearn.neighbors import KNeighborsClassifier\n",
    "from sklearn.svm import SVC\n",
    "from sklearn.ensemble import RandomForestClassifier\n",
    "from sklearn.ensemble import AdaBoostClassifier\n",
    "from sklearn.tree import DecisionTreeClassifier"
   ]
  },
  {
   "cell_type": "markdown",
   "metadata": {},
   "source": [
    "# Data loading and preprocessing\n",
    "Remember to change the path if needed be\n",
    "\n",
    "### Hyperparameters of preprocessing"
   ]
  },
  {
   "cell_type": "code",
   "execution_count": null,
   "metadata": {},
   "outputs": [],
   "source": [
    "m = 2000; M = 20000; \n",
    "bin_size = 50;\n",
    "\n",
    "path = \"D:/GitHub/Machine-Learning/Kaggle/\"\n",
    "# path = \"C:/Users/Javi/Documents/GitHub/Machine-Learning/Kaggle/\"\n",
    "\n",
    "# # Take the data from Google Drive\n",
    "# from google.colab import drive\n",
    "# drive.mount('/content/drive')\n",
    "# path = \"/content/drive/My Drive/Colab Notebooks/Kaggle/Kaggle_data/\"\n",
    "# path_results = \"/content/drive/My Drive/Colab Notebooks/Kaggle/Kaggle_results/\""
   ]
  },
  {
   "cell_type": "code",
   "execution_count": 2,
   "metadata": {
    "scrolled": true
   },
   "outputs": [],
   "source": [
    "zf = zipfile.ZipFile(path+'zipped_TrainData.zip', 'r')\n",
    "df_train = _pickle.loads(zf.open('TrainData.pkl').read())\n",
    "zf.close()\n",
    "\n",
    "zf = zipfile.ZipFile(path+'zipped_TestDataUnlabeled.zip', 'r')\n",
    "df_test = _pickle.loads(zf.open('TestDataUnlabeled.pkl').read())\n",
    "zf.close()"
   ]
  },
  {
   "cell_type": "code",
   "execution_count": 3,
   "metadata": {
    "scrolled": true
   },
   "outputs": [],
   "source": [
    "def spectrum_in_bins(df,m,M,bin_size):\n",
    "    # Now, let's define the mz ranges, and the label associated to each of them (the mean of the limiting values of each bin)\n",
    "    range_min = []; range_max = []; range_label = [];\n",
    "    for mz in range(m,M,bin_size):\n",
    "        range_min.append(mz)\n",
    "        range_max.append(mz+bin_size)\n",
    "        range_label.append(np.mean([range_min[-1],range_max[-1]]).astype(int))\n",
    "    N = len(df)  # number of samples\n",
    "    L = len(range_min)  # length of new spectrum (number of bins)\n",
    "    all_data = np.zeros((N,L))\n",
    "    for idx in range(N): \n",
    "        intensity = df[['intensity']].iloc[idx].values[0]\n",
    "        mzcoord   = df[['coord_mz']].iloc[idx].values[0]\n",
    "        idx_data_in_bins = np.zeros((1,L))\n",
    "        for i,mz in enumerate(range_min):\n",
    "            intensity_range = intensity[(mzcoord > mz) & (mzcoord < (mz+bin_size))]\n",
    "            if len(intensity_range) > 0 :\n",
    "                idx_data_in_bins[0,i] = np.max(intensity_range)\n",
    "            else: # if those mz coordinates are not in that spectrum\n",
    "                idx_data_in_bins[0,i] = 0   \n",
    "\n",
    "        # Normalize the amplitude of the spectrum\n",
    "        idx_data_in_bins[0,:] = idx_data_in_bins[0,:] / np.max(idx_data_in_bins[0,:])\n",
    "        all_data[idx,:] = idx_data_in_bins\n",
    "    new_df = pd.DataFrame(data=all_data, columns = range_label, index = df.index)\n",
    "    return new_df"
   ]
  },
  {
   "cell_type": "code",
   "execution_count": 4,
   "metadata": {
    "scrolled": true
   },
   "outputs": [
    {
     "name": "stdout",
     "output_type": "stream",
     "text": [
      "Training samples: 412 and test_train samples: 104\n",
      "Spectrum regularized!\n"
     ]
    }
   ],
   "source": [
    "# Extract data (spectra) and targets of the df_train set\n",
    "data = df_train.iloc[:,-2:]\n",
    "targets = df_train.iloc[:,1:-2]\n",
    "\n",
    "# Then, split into a train and test_train set\n",
    "data_train, data_test_train, targets_train, targets_test_train = train_test_split(data, targets, test_size=0.2, random_state=42) # split the data\n",
    "print('Training samples: '+str(len(data_train))+' and test_train samples: ' + str(len(data_test_train)) )\n",
    "\n",
    "# apply the bins to all spectra, so that our feature space becomes the same for all samples (make them regular, all the same)\n",
    "spectrum_train = spectrum_in_bins(data_train,m,M,bin_size)\n",
    "spectrum_test_train = spectrum_in_bins(data_test_train,m,M,bin_size)\n",
    "print('Spectrum regularized!')\n",
    "# these spectrum_... are our X for training"
   ]
  },
  {
   "cell_type": "code",
   "execution_count": null,
   "metadata": {},
   "outputs": [],
   "source": [
    "def clean_nan_samples(spectrum,targets, c, cat):\n",
    "# if there are any NaN values, we should remove those samples\n",
    "    if (targets[cat].isnull().sum() > 0).all(): \n",
    "        merged = pd.concat([spectrum , targets],axis=1,copy=True)\n",
    "        clean = merged.dropna(subset=[cat])\n",
    "        print('Dropped ',len(merged)-len(clean))\n",
    "        Y = clean.iloc[:,-9+c].to_numpy().reshape(-1,)\n",
    "        X = clean.iloc[:,:-9]\n",
    "\n",
    "    else:\n",
    "        Y = targets.iloc[:,c].to_numpy().reshape(-1,)\n",
    "        X = spectrum.copy(deep=True)\n",
    "    return X , Y"
   ]
  },
  {
   "cell_type": "markdown",
   "metadata": {},
   "source": [
    "# Try different classifiers\n",
    "The try_clf function has been built for, given a classifier and a parameter dictionary (for hyperparameter cross-validation), create a classifier for each antibiotic, and return the results. This enables for fast testing of different classifiers. Moreover, the function also takes charge of suppressing NaN values in the targets ocurring for amikacina, levofloxacino and tobramicina."
   ]
  },
  {
   "cell_type": "code",
   "execution_count": 5,
   "metadata": {
    "scrolled": true
   },
   "outputs": [],
   "source": [
    "def try_clf(clf,params,n_cv=10):\n",
    "    t1 = time.time()\n",
    "    \n",
    "    best_classifiers = [];\n",
    "    accuracies_train = []; accuracies_test_train = [];\n",
    "    AUC_train = []; AUC_test_train = [];\n",
    "    \n",
    "    categories = targets_train.columns[:]    \n",
    "    for c,cat in enumerate(categories):\n",
    "\n",
    "        print([cat]) # indicate in which antibiotic we are\n",
    "        \n",
    "        # Selection of train and test data (depending on whether there are NaN target values)\n",
    "        X_train, Y_train = clean_nan_samples(spectrum_train,targets_train, c, cat)\n",
    "        X_test_train, Y_test_train = clean_nan_samples(spectrum_test_train,targets_test_train, c, cat)\n",
    "            \n",
    "        # perform a GridSearchCV in order to train a classifier for this antibiotic\n",
    "        grid = GridSearchCV(clf,param_grid=params, cv=n_cv, iid=False)\n",
    "        grid.fit(X_train, Y_train)\n",
    "\n",
    "        # print the best parameters (to detect edge values), and save that classifier\n",
    "        print('The best parameters are: ',grid.best_params_)\n",
    "        best_clf = grid.best_estimator_\n",
    "        best_classifiers.append(best_clf)\n",
    "        \n",
    "        # compute the accuracy of the classifier\n",
    "        acc_train = best_clf.score(X_train, Y_train)\n",
    "        acc_test = best_clf.score(X_test_train, Y_test_train)\n",
    "        print('Train accuracy: ',np.round(acc_train,4),' and test_train accuracy: ',np.round(acc_test,4))\n",
    "        accuracies_train.append(acc_train)\n",
    "        accuracies_test_train.append(acc_test)\n",
    "        \n",
    "        # compute the AUC of the classifier\n",
    "        if callable(getattr(best_clf,\"predict_proba\",None)):\n",
    "            pred_train = best_clf.predict_proba(X_train)[:,-1] # only take last column, the prob of Y = +1\n",
    "            pred_test = best_clf.predict_proba(X_test_train)[:,-1]\n",
    "        else:\n",
    "            print('Using decision_function instead of predict_proba')\n",
    "            pred_train = best_clf.decision_function(X_train)\n",
    "            pred_test = best_clf.decision_function(X_test_train)            \n",
    "        auc_score_train = roc_auc_score(Y_train, pred_train)\n",
    "        auc_score_test = roc_auc_score(Y_test_train, pred_test)\n",
    "        print('Train AUC: ',np.round(auc_score_train,4),' and test_train AUC: ',np.round(auc_score_test,4))\n",
    "        AUC_train.append(auc_score_train)\n",
    "        AUC_test_train.append(auc_score_test)\n",
    "        \n",
    "    avg_AUC_train = np.mean(AUC_train)\n",
    "    avg_AUC_test_train = np.mean(AUC_test_train)\n",
    "    print('\\n\\nThe average train AUC is',np.round(avg_AUC_train,4),'and the avg test_train AUC is',np.round(avg_AUC_test_train,4))\n",
    "    \n",
    "    t2 = time.time()\n",
    "    print('\\nFull execution took ',np.round(t2-t1,1),'seconds')\n",
    "    print('\\nDONE!')\n",
    "    return best_classifiers, accuracies_train, accuracies_test_train, AUC_train, AUC_test_train"
   ]
  },
  {
   "cell_type": "markdown",
   "metadata": {},
   "source": [
    "## Also enable L1 feature selection"
   ]
  },
  {
   "cell_type": "code",
   "execution_count": null,
   "metadata": {},
   "outputs": [],
   "source": [
    "def get_l1_clfs():\n",
    "    from sklearn.linear_model import LogisticRegression\n",
    "    clf = LogisticRegression(penalty='l1',solver='liblinear',max_iter=1e6, class_weight='balanced')\n",
    "    params = {'C':10.**np.arange(-2,5)}\n",
    "    l1_best_clfs,_,_,_,_ = try_clf(clf,params)\n",
    "    return l1_best_clfs\n",
    "\n",
    "def obtain_l1_vects(l1_best_clfs,spectrum_train,targets_train):\n",
    "    l1_feat_list = []    \n",
    "    categories = targets_train.columns[:]\n",
    "    \n",
    "    for c, cat in enumerate(categories):\n",
    "        n = np.sum(np.abs(l1_best_clfs[c].coef_) > 0)\n",
    "        print('Number of features:',n)\n",
    "        while n == 0:\n",
    "            clf = l1_best_clfs[c]\n",
    "            c_value = clf.get_params()['C']\n",
    "            new_c = c_value * 10\n",
    "            clf.set_params(C=new_c)\n",
    "            X_train, Y_train = clean_nan_samples(spectrum_train,targets_train, c, cat)            \n",
    "            clf.fit(X_train, Y_train) # refit with higher C\n",
    "            l1_best_clfs[c] = clf\n",
    "            n = np.sum(np.abs(clf.coef_) > 0)\n",
    "            print(n)\n",
    "    \n",
    "        # once we know we have at least one non-zero feature\n",
    "        vect = (np.abs(l1_best_clfs[c].coef_)>0).reshape(-1,)\n",
    "        l1_feat_list.append(vect)\n",
    "    return l1_feat_list\n",
    "\n",
    "# to be applyied to each category\n",
    "def apply_l1_feature_selection(spectrum_train,vect): # vect is l1_feat_list[c]\n",
    "    new_spectrum = spectrum_train.copy(deep=True).iloc[:,vect]   \n",
    "    return new_spectrum"
   ]
  },
  {
   "cell_type": "code",
   "execution_count": null,
   "metadata": {},
   "outputs": [],
   "source": [
    "def try_clf_feat_selection(clf, params, feature_vector_list, n_cv=10):\n",
    "    t1 = time.time()\n",
    "    \n",
    "    best_classifiers = [];\n",
    "    accuracies_train = []; accuracies_test_train = [];\n",
    "    AUC_train = []; AUC_test_train = [];\n",
    "    \n",
    "    categories = targets_train.columns[:]    \n",
    "    for c,cat in enumerate(categories):\n",
    "\n",
    "        print([cat]) # indicate in which antibiotic we are\n",
    "        \n",
    "        # Selection of train and test data (depending on whether there are NaN target values)\n",
    "        X_train, Y_train = clean_nan_samples(spectrum_train,targets_train, c, cat)\n",
    "        X_test_train, Y_test_train = clean_nan_samples(spectrum_test_train,targets_test_train, c, cat)\n",
    "        \n",
    "        X_train = apply_l1_feature_selection(X_train,feature_vector_list[c])\n",
    "        X_test_train = apply_l1_feature_selection(X_test_train,feature_vector_list[c])\n",
    "            \n",
    "        # perform a GridSearchCV in order to train a classifier for this antibiotic\n",
    "        grid = GridSearchCV(clf,param_grid=params, cv=n_cv, iid=False)\n",
    "        grid.fit(X_train, Y_train)\n",
    "\n",
    "        # print the best parameters (to detect edge values), and save that classifier\n",
    "        print('The best parameters are: ',grid.best_params_)\n",
    "        best_clf = grid.best_estimator_\n",
    "        best_classifiers.append(best_clf)\n",
    "        \n",
    "        # compute the accuracy of the classifier\n",
    "        acc_train = best_clf.score(X_train, Y_train)\n",
    "        acc_test = best_clf.score(X_test_train, Y_test_train)\n",
    "        print('Train accuracy: ',np.round(acc_train,4),' and test_train accuracy: ',np.round(acc_test,4))\n",
    "        accuracies_train.append(acc_train)\n",
    "        accuracies_test_train.append(acc_test)\n",
    "        \n",
    "        # compute the AUC of the classifier\n",
    "        if callable(getattr(best_clf,\"predict_proba\",None)):\n",
    "            pred_train = best_clf.predict_proba(X_train)[:,-1] # only take last column, the prob of Y = +1\n",
    "            pred_test = best_clf.predict_proba(X_test_train)[:,-1]\n",
    "        else:\n",
    "            print('Using decision_function instead of predict_proba')\n",
    "            pred_train = best_clf.decision_function(X_train)\n",
    "            pred_test = best_clf.decision_function(X_test_train)            \n",
    "        auc_score_train = roc_auc_score(Y_train, pred_train)\n",
    "        auc_score_test = roc_auc_score(Y_test_train, pred_test)\n",
    "        print('Train AUC: ',np.round(auc_score_train,4),' and test_train AUC: ',np.round(auc_score_test,4))\n",
    "        AUC_train.append(auc_score_train)\n",
    "        AUC_test_train.append(auc_score_test)\n",
    "        \n",
    "    avg_AUC_train = np.mean(AUC_train)\n",
    "    avg_AUC_test_train = np.mean(AUC_test_train)\n",
    "    print('\\n\\nThe average train AUC is',np.round(avg_AUC_train,4),'and the avg test_train AUC is',np.round(avg_AUC_test_train,4))\n",
    "    \n",
    "    t2 = time.time()\n",
    "    print('\\nFull execution took ',np.round(t2-t1,1),'seconds')\n",
    "    print('\\nDONE!')\n",
    "    return best_classifiers, accuracies_train, accuracies_test_train, AUC_train, AUC_test_train"
   ]
  },
  {
   "cell_type": "code",
   "execution_count": null,
   "metadata": {},
   "outputs": [],
   "source": [
    "with open(path+'l1_best_clfs.data', 'rb') as filehandle:\n",
    "    # read the data as binary data stream\n",
    "    l1_best_clfs = pickle.load(filehandle)\n",
    "with open(path+'l1_feat_list.data', 'rb') as filehandle:\n",
    "    # store the data as binary data stream\n",
    "    l1_feat_list = pickle.load(filehandle)"
   ]
  },
  {
   "cell_type": "markdown",
   "metadata": {},
   "source": [
    "## Logistic regressor classifier"
   ]
  },
  {
   "cell_type": "code",
   "execution_count": 14,
   "metadata": {},
   "outputs": [
    {
     "name": "stdout",
     "output_type": "stream",
     "text": [
      "\n",
      "['OXACILINA']\n",
      "The best parameters are:  {'C': 1000.0}\n",
      "Train accuracy:  0.8932  and test_train accuracy:  0.7404\n",
      "Train AUC:  0.9553  and test_train AUC:  0.8335\n",
      "\n",
      "['AMIKACINA']\n",
      "The best parameters are:  {'C': 10000.0}\n",
      "Train accuracy:  0.9335  and test_train accuracy:  0.7439\n",
      "Train AUC:  0.9862  and test_train AUC:  0.7544\n",
      "\n",
      "['AMOXI/CLAV']\n",
      "The best parameters are:  {'C': 1000.0}\n",
      "Train accuracy:  0.8859  and test_train accuracy:  0.7404\n",
      "Train AUC:  0.9543  and test_train AUC:  0.8102\n",
      "\n",
      "['CIPROFLOXACINO']\n",
      "The best parameters are:  {'C': 10000.0}\n",
      "Train accuracy:  0.9005  and test_train accuracy:  0.75\n",
      "Train AUC:  0.9729  and test_train AUC:  0.8179\n",
      "\n",
      "['CLINDAMICINA']\n",
      "The best parameters are:  {'C': 1000.0}\n",
      "Train accuracy:  0.835  and test_train accuracy:  0.6635\n",
      "Train AUC:  0.9278  and test_train AUC:  0.6906\n",
      "\n",
      "['ERITROMICINA']\n",
      "The best parameters are:  {'C': 1000.0}\n",
      "Train accuracy:  0.8155  and test_train accuracy:  0.6827\n",
      "Train AUC:  0.9052  and test_train AUC:  0.7118\n",
      "\n",
      "['LEVOFLOXACINO']\n",
      "The best parameters are:  {'C': 10000.0}\n",
      "Train accuracy:  0.9415  and test_train accuracy:  0.7647\n",
      "Train AUC:  0.9824  and test_train AUC:  0.8176\n",
      "\n",
      "['PENICILINA']\n",
      "The best parameters are:  {'C': 100000.0}\n",
      "Train accuracy:  1.0  and test_train accuracy:  0.8558\n",
      "Train AUC:  1.0  and test_train AUC:  0.8064\n",
      "\n",
      "['TOBRAMICINA']\n",
      "The best parameters are:  {'C': 10000.0}\n",
      "Train accuracy:  0.9345  and test_train accuracy:  0.7711\n",
      "Train AUC:  0.9861  and test_train AUC:  0.7953\n",
      "\n",
      "\n",
      "The average train AUC is 0.9634 and the avg test_train AUC is 0.782\n",
      "\n",
      "Full execution took  106.7 seconds\n",
      "\n",
      "DONE!\n"
     ]
    }
   ],
   "source": [
    "clf = LogisticRegression(max_iter=1e6, solver='lbfgs',class_weight='balanced')\n",
    "params = {'C':10.**np.arange(-2,6)}\n",
    "lr_best_clfs, _, _, lr_AUC_train, lr_AUC_test_train = try_clf(clf,params,10)"
   ]
  },
  {
   "cell_type": "code",
   "execution_count": 15,
   "metadata": {},
   "outputs": [
    {
     "data": {
      "image/png": "[encoded data removed]",
      "text/plain": [
       "<Figure size 1440x720 with 1 Axes>"
      ]
     },
     "metadata": {
      "needs_background": "light"
     },
     "output_type": "display_data"
    }
   ],
   "source": [
    "plt.figure(figsize=(20,10))\n",
    "col_names = targets_train.columns.values\n",
    "plt.plot(col_names,lr_AUC_test_train,label='Unbalanced LR')\n",
    "plt.plot(col_names,lr_balanced_AUC_test_train,label='Balanced LR')\n",
    "plt.title('AUC for test_train set')\n",
    "plt.legend()\n",
    "plt.show()"
   ]
  },
  {
   "cell_type": "markdown",
   "metadata": {},
   "source": [
    "### Important note\n",
    "It is better to use balanced class weights (in general), and also a 10-fold cross-validation instead of 5."
   ]
  },
  {
   "cell_type": "markdown",
   "metadata": {},
   "source": [
    "## KNN"
   ]
  },
  {
   "cell_type": "code",
   "execution_count": 16,
   "metadata": {
    "scrolled": true
   },
   "outputs": [
    {
     "name": "stdout",
     "output_type": "stream",
     "text": [
      "\n",
      "['OXACILINA']\n",
      "The best parameters are:  {'n_neighbors': 5}\n",
      "Train accuracy:  0.7985  and test_train accuracy:  0.6442\n",
      "Train AUC:  0.866  and test_train AUC:  0.6757\n",
      "\n",
      "['AMIKACINA']\n",
      "The best parameters are:  {'n_neighbors': 8}\n",
      "Train accuracy:  0.7746  and test_train accuracy:  0.7195\n",
      "Train AUC:  0.7849  and test_train AUC:  0.5831\n",
      "\n",
      "['AMOXI/CLAV']\n",
      "The best parameters are:  {'n_neighbors': 8}\n",
      "Train accuracy:  0.7646  and test_train accuracy:  0.6635\n",
      "Train AUC:  0.8197  and test_train AUC:  0.6531\n",
      "\n",
      "['CIPROFLOXACINO']\n",
      "The best parameters are:  {'n_neighbors': 16}\n",
      "Train accuracy:  0.7233  and test_train accuracy:  0.6923\n",
      "Train AUC:  0.7164  and test_train AUC:  0.5801\n",
      "\n",
      "['CLINDAMICINA']\n",
      "The best parameters are:  {'n_neighbors': 16}\n",
      "Train accuracy:  0.7961  and test_train accuracy:  0.7788\n",
      "Train AUC:  0.7727  and test_train AUC:  0.7295\n",
      "\n",
      "['ERITROMICINA']\n",
      "The best parameters are:  {'n_neighbors': 2}\n",
      "Train accuracy:  0.8131  and test_train accuracy:  0.6923\n",
      "Train AUC:  0.9326  and test_train AUC:  0.6573\n",
      "\n",
      "['LEVOFLOXACINO']\n",
      "The best parameters are:  {'n_neighbors': 2}\n",
      "Train accuracy:  0.8488  and test_train accuracy:  0.6569\n",
      "Train AUC:  0.9407  and test_train AUC:  0.5632\n",
      "\n",
      "['PENICILINA']\n",
      "The best parameters are:  {'n_neighbors': 13}\n",
      "Train accuracy:  0.8932  and test_train accuracy:  0.9038\n",
      "Train AUC:  0.8335  and test_train AUC:  0.6399\n",
      "\n",
      "['TOBRAMICINA']\n",
      "The best parameters are:  {'n_neighbors': 8}\n",
      "Train accuracy:  0.7749  and test_train accuracy:  0.7108\n",
      "Train AUC:  0.7839  and test_train AUC:  0.5978\n",
      "\n",
      "\n",
      "The average train AUC is 0.8278 and the avg test_train AUC is 0.6311\n",
      "\n",
      "Full execution took  47.2 seconds\n",
      "\n",
      "DONE!\n"
     ]
    }
   ],
   "source": [
    "from sklearn.neighbors import KNeighborsClassifier\n",
    "clf = KNeighborsClassifier()\n",
    "params = {'n_neighbors':np.arange(1,40)}\n",
    "knn_best_clfs, _, _, knn_AUC_train, knn_AUC_test_train = try_clf(clf,params,10)"
   ]
  },
  {
   "cell_type": "markdown",
   "metadata": {},
   "source": [
    "## SVM - Linear"
   ]
  },
  {
   "cell_type": "code",
   "execution_count": 17,
   "metadata": {
    "scrolled": true
   },
   "outputs": [
    {
     "name": "stdout",
     "output_type": "stream",
     "text": [
      "\n",
      "['OXACILINA']\n",
      "The best parameters are:  {'C': 1000.0}\n",
      "Train accuracy:  0.9126  and test_train accuracy:  0.7788\n",
      "Using decision_function instead of predict_proba\n",
      "Train AUC:  0.9623  and test_train AUC:  0.8462\n",
      "\n",
      "['AMIKACINA']\n",
      "The best parameters are:  {'C': 100.0}\n",
      "Train accuracy:  0.8497  and test_train accuracy:  0.7317\n",
      "Using decision_function instead of predict_proba\n",
      "Train AUC:  0.9164  and test_train AUC:  0.7157\n",
      "\n",
      "['AMOXI/CLAV']\n",
      "The best parameters are:  {'C': 10000.0}\n",
      "Train accuracy:  0.9563  and test_train accuracy:  0.7115\n",
      "Using decision_function instead of predict_proba\n",
      "Train AUC:  0.9869  and test_train AUC:  0.8187\n",
      "\n",
      "['CIPROFLOXACINO']\n",
      "The best parameters are:  {'C': 100.0}\n",
      "Train accuracy:  0.8252  and test_train accuracy:  0.7788\n",
      "Using decision_function instead of predict_proba\n",
      "Train AUC:  0.8995  and test_train AUC:  0.8023\n",
      "\n",
      "['CLINDAMICINA']\n",
      "The best parameters are:  {'C': 100000.0}\n",
      "Train accuracy:  0.9903  and test_train accuracy:  0.7404\n",
      "Using decision_function instead of predict_proba\n",
      "Train AUC:  0.9963  and test_train AUC:  0.6653\n",
      "\n",
      "['ERITROMICINA']\n",
      "The best parameters are:  {'C': 100.0}\n",
      "Train accuracy:  0.7913  and test_train accuracy:  0.6827\n",
      "Using decision_function instead of predict_proba\n",
      "Train AUC:  0.8565  and test_train AUC:  0.7251\n",
      "\n",
      "['LEVOFLOXACINO']\n",
      "The best parameters are:  {'C': 1000.0}\n",
      "Train accuracy:  0.8951  and test_train accuracy:  0.7549\n",
      "Using decision_function instead of predict_proba\n",
      "Train AUC:  0.9543  and test_train AUC:  0.7797\n",
      "\n",
      "['PENICILINA']\n",
      "The best parameters are:  {'C': 1000.0}\n",
      "Train accuracy:  0.9417  and test_train accuracy:  0.8462\n",
      "Using decision_function instead of predict_proba\n",
      "Train AUC:  0.9827  and test_train AUC:  0.7617\n",
      "\n",
      "['TOBRAMICINA']\n",
      "The best parameters are:  {'C': 100.0}\n",
      "Train accuracy:  0.8348  and test_train accuracy:  0.7349\n",
      "Using decision_function instead of predict_proba\n",
      "Train AUC:  0.9148  and test_train AUC:  0.7692\n",
      "\n",
      "\n",
      "The average train AUC is 0.9411 and the avg test_train AUC is 0.7649\n",
      "\n",
      "Full execution took  291.1 seconds\n",
      "\n",
      "DONE!\n"
     ]
    }
   ],
   "source": [
    "from sklearn.svm import SVC\n",
    "clf = SVC(kernel='linear', class_weight='balanced')\n",
    "params = {'C':10.**np.arange(-3,7)}\n",
    "linear_SVM_best_clfs, _, _, linear_SVM_AUC_train, linear_SVM_AUC_test_train = try_clf(clf,params,10)"
   ]
  },
  {
   "cell_type": "markdown",
   "metadata": {},
   "source": [
    "### Important note:\n",
    "Both with \"decision_function\" and with \"predict_proba\" are yielding the same results (AUC), and for the latter it is necessary to set probability = True, and takes much more time. So, it will not be used from now on."
   ]
  },
  {
   "cell_type": "markdown",
   "metadata": {},
   "source": [
    "## SVM - Polynomial\n",
    "*It can not be done, the huge amount of features makes it computationally unfeasible*"
   ]
  },
  {
   "cell_type": "markdown",
   "metadata": {},
   "source": [
    "## SVM - RBF"
   ]
  },
  {
   "cell_type": "code",
   "execution_count": 8,
   "metadata": {
    "scrolled": true
   },
   "outputs": [
    {
     "name": "stdout",
     "output_type": "stream",
     "text": [
      "\n",
      "['OXACILINA']\n",
      "The best parameters are:  {'C': 10000.0, 'gamma': 0.1}\n",
      "Train accuracy:  0.9806  and test_train accuracy:  0.8269\n",
      "Using decision_function instead of predict_proba\n",
      "Train AUC:  0.9906  and test_train AUC:  0.8511\n",
      "\n",
      "['AMIKACINA']\n",
      "The best parameters are:  {'C': 1000.0, 'gamma': 0.1}\n",
      "Train accuracy:  0.8988  and test_train accuracy:  0.6951\n",
      "Using decision_function instead of predict_proba\n",
      "Train AUC:  0.969  and test_train AUC:  0.6698\n",
      "\n",
      "['AMOXI/CLAV']\n",
      "The best parameters are:  {'C': 1000.0, 'gamma': 0.1}\n",
      "Train accuracy:  0.9126  and test_train accuracy:  0.7404\n",
      "Using decision_function instead of predict_proba\n",
      "Train AUC:  0.9605  and test_train AUC:  0.7933\n",
      "\n",
      "['CIPROFLOXACINO']\n",
      "The best parameters are:  {'C': 1000.0, 'gamma': 0.1}\n",
      "Train accuracy:  0.8835  and test_train accuracy:  0.75\n",
      "Using decision_function instead of predict_proba\n",
      "Train AUC:  0.9501  and test_train AUC:  0.8162\n",
      "\n",
      "['CLINDAMICINA']\n",
      "The best parameters are:  {'C': 1.0, 'gamma': 100.0}\n",
      "Train accuracy:  0.9903  and test_train accuracy:  0.75\n",
      "Using decision_function instead of predict_proba\n",
      "Train AUC:  0.9938  and test_train AUC:  0.5993\n",
      "\n",
      "['ERITROMICINA']\n",
      "The best parameters are:  {'C': 10000.0, 'gamma': 0.1}\n",
      "Train accuracy:  0.966  and test_train accuracy:  0.7308\n",
      "Using decision_function instead of predict_proba\n",
      "Train AUC:  0.992  and test_train AUC:  0.7557\n",
      "\n",
      "['LEVOFLOXACINO']\n",
      "The best parameters are:  {'C': 100.0, 'gamma': 1.0}\n",
      "Train accuracy:  0.9659  and test_train accuracy:  0.7647\n",
      "Using decision_function instead of predict_proba\n",
      "Train AUC:  0.9915  and test_train AUC:  0.8069\n",
      "\n",
      "['PENICILINA']\n",
      "The best parameters are:  {'C': 1.0, 'gamma': 100.0}\n",
      "Train accuracy:  1.0  and test_train accuracy:  0.9231\n",
      "Using decision_function instead of predict_proba\n",
      "Train AUC:  1.0  and test_train AUC:  0.5819\n",
      "\n",
      "['TOBRAMICINA']\n",
      "The best parameters are:  {'C': 1000.0, 'gamma': 0.1}\n",
      "Train accuracy:  0.9003  and test_train accuracy:  0.7229\n",
      "Using decision_function instead of predict_proba\n",
      "Train AUC:  0.9703  and test_train AUC:  0.7185\n",
      "\n",
      "\n",
      "The average train AUC is 0.9798 and the avg test_train AUC is 0.7325\n",
      "\n",
      "Full execution took  416.9 seconds\n",
      "\n",
      "DONE!\n"
     ]
    }
   ],
   "source": [
    "clf = SVC(kernel='rbf', class_weight='balanced')\n",
    "\n",
    "C_vector = 10. ** np.arange(-4,6)\n",
    "gamma_vector = 10. ** np.arange(-4,4)\n",
    "params = {'C':C_vector, 'gamma':gamma_vector}\n",
    "\n",
    "rbf_SVM_best_clfs, _, _, rbf_SVM_AUC_train, rbf_SVM_AUC_test_train = try_clf(clf,params,10)"
   ]
  },
  {
   "cell_type": "markdown",
   "metadata": {},
   "source": [
    "# RF with balanced classes"
   ]
  },
  {
   "cell_type": "code",
   "execution_count": 7,
   "metadata": {
    "scrolled": true
   },
   "outputs": [
    {
     "name": "stdout",
     "output_type": "stream",
     "text": [
      "\n",
      "['OXACILINA']\n",
      "The best parameters are:  {'max_depth': 8, 'n_estimators': 70}\n",
      "Train accuracy:  0.9951  and test_train accuracy:  0.7692\n",
      "Train AUC:  1.0  and test_train AUC:  0.7825\n",
      "\n",
      "['AMIKACINA']\n",
      "The best parameters are:  {'max_depth': 8, 'n_estimators': 20}\n",
      "Train accuracy:  0.9769  and test_train accuracy:  0.7073\n",
      "Train AUC:  0.998  and test_train AUC:  0.6198\n",
      "\n",
      "['AMOXI/CLAV']\n",
      "The best parameters are:  {'max_depth': 9, 'n_estimators': 50}\n",
      "Train accuracy:  0.9951  and test_train accuracy:  0.7788\n",
      "Train AUC:  0.9999  and test_train AUC:  0.7896\n",
      "\n",
      "['CIPROFLOXACINO']\n",
      "The best parameters are:  {'max_depth': 6, 'n_estimators': 70}\n",
      "Train accuracy:  0.966  and test_train accuracy:  0.6923\n",
      "Train AUC:  0.993  and test_train AUC:  0.7029\n",
      "\n",
      "['CLINDAMICINA']\n",
      "The best parameters are:  {'max_depth': 8, 'n_estimators': 50}\n",
      "Train accuracy:  0.983  and test_train accuracy:  0.7212\n",
      "Train AUC:  0.9983  and test_train AUC:  0.5875\n",
      "\n",
      "['ERITROMICINA']\n",
      "The best parameters are:  {'max_depth': 8, 'n_estimators': 70}\n",
      "Train accuracy:  0.9903  and test_train accuracy:  0.6635\n",
      "Train AUC:  0.9987  and test_train AUC:  0.6787\n",
      "\n",
      "['LEVOFLOXACINO']\n",
      "The best parameters are:  {'max_depth': 7, 'n_estimators': 20}\n",
      "Train accuracy:  0.9683  and test_train accuracy:  0.6863\n",
      "Train AUC:  0.9953  and test_train AUC:  0.6386\n",
      "\n",
      "['PENICILINA']\n",
      "The best parameters are:  {'max_depth': 9, 'n_estimators': 50}\n",
      "Train accuracy:  1.0  and test_train accuracy:  0.9327\n",
      "Train AUC:  1.0  and test_train AUC:  0.7596\n",
      "\n",
      "['TOBRAMICINA']\n",
      "The best parameters are:  {'max_depth': 8, 'n_estimators': 50}\n",
      "Train accuracy:  0.9886  and test_train accuracy:  0.7711\n",
      "Train AUC:  0.9968  and test_train AUC:  0.7011\n",
      "\n",
      "\n",
      "The average train AUC is 0.9978 and the avg test_train AUC is 0.6956\n",
      "\n",
      "Full execution took  242.5 seconds\n",
      "\n",
      "DONE!\n"
     ]
    }
   ],
   "source": [
    "clf = RandomForestClassifier(class_weight='balanced',min_samples_split=5)\n",
    "params = {'n_estimators':[10,20,30,50,70],'max_depth':np.arange(1,10)}\n",
    "# later try\n",
    "# params = {'n_estimators':[10,20,30,50,70,100,150],'max_depth':np.arange(1,30)}\n",
    "rf_best_clfs, _, _, rf_AUC_train, rf_AUC_test_train = try_clf(clf,params)"
   ]
  },
  {
   "cell_type": "code",
   "execution_count": 16,
   "metadata": {
    "scrolled": true
   },
   "outputs": [
    {
     "name": "stdout",
     "output_type": "stream",
     "text": [
      "\n",
      "['OXACILINA']\n",
      "The best parameters are:  {'max_depth': 3, 'n_estimators': 70}\n",
      "Train accuracy:  0.8277  and test_train accuracy:  0.6731\n",
      "Train AUC:  0.8952  and test_train AUC:  0.711\n",
      "\n",
      "['AMIKACINA']\n",
      "The best parameters are:  {'max_depth': 3, 'n_estimators': 150}\n",
      "Train accuracy:  0.8642  and test_train accuracy:  0.7195\n",
      "Train AUC:  0.9294  and test_train AUC:  0.6407\n",
      "\n",
      "['AMOXI/CLAV']\n",
      "The best parameters are:  {'max_depth': 3, 'n_estimators': 70}\n",
      "Train accuracy:  0.8107  and test_train accuracy:  0.7212\n",
      "Train AUC:  0.9101  and test_train AUC:  0.7477\n",
      "\n",
      "['CIPROFLOXACINO']\n",
      "The best parameters are:  {'max_depth': 3, 'n_estimators': 30}\n",
      "Train accuracy:  0.835  and test_train accuracy:  0.6442\n",
      "Train AUC:  0.8775  and test_train AUC:  0.6209\n",
      "\n",
      "['CLINDAMICINA']\n",
      "The best parameters are:  {'max_depth': 3, 'n_estimators': 70}\n",
      "Train accuracy:  0.8932  and test_train accuracy:  0.7308\n",
      "Train AUC:  0.9366  and test_train AUC:  0.6014\n",
      "\n",
      "['ERITROMICINA']\n",
      "The best parameters are:  {'max_depth': 2, 'n_estimators': 50}\n",
      "Train accuracy:  0.7451  and test_train accuracy:  0.6538\n",
      "Train AUC:  0.8265  and test_train AUC:  0.6287\n",
      "\n",
      "['LEVOFLOXACINO']\n",
      "The best parameters are:  {'max_depth': 3, 'n_estimators': 70}\n",
      "Train accuracy:  0.8244  and test_train accuracy:  0.6176\n",
      "Train AUC:  0.8891  and test_train AUC:  0.6127\n",
      "\n",
      "['PENICILINA']\n",
      "The best parameters are:  {'max_depth': 3, 'n_estimators': 70}\n",
      "Train accuracy:  0.8786  and test_train accuracy:  0.8173\n",
      "Train AUC:  0.94  and test_train AUC:  0.7628\n",
      "\n",
      "['TOBRAMICINA']\n",
      "The best parameters are:  {'max_depth': 3, 'n_estimators': 150}\n",
      "Train accuracy:  0.8889  and test_train accuracy:  0.7229\n",
      "Train AUC:  0.9492  and test_train AUC:  0.696\n",
      "\n",
      "\n",
      "The average train AUC is 0.906 and the avg test_train AUC is 0.6691\n",
      "\n",
      "Full execution took  266.8 seconds\n",
      "\n",
      "DONE!\n"
     ]
    }
   ],
   "source": [
    "clf = RandomForestClassifier(class_weight='balanced',min_samples_split=5)\n",
    "params = {'n_estimators':[10,20,30,50,70,100,150,200],'max_depth':np.arange(1,4)}\n",
    "# later try\n",
    "# params = {'n_estimators':[10,20,30,50,70,100,150],'max_depth':np.arange(1,30)}\n",
    "rf2_best_clfs, _, _, rf2_AUC_train, rf2_AUC_test_train = try_clf(clf,params)"
   ]
  },
  {
   "cell_type": "markdown",
   "metadata": {
    "scrolled": true
   },
   "source": [
    "# Real Adaboost"
   ]
  },
  {
   "cell_type": "code",
   "execution_count": 18,
   "metadata": {
    "scrolled": true
   },
   "outputs": [
    {
     "name": "stdout",
     "output_type": "stream",
     "text": [
      "\n",
      "['OXACILINA']\n",
      "The best parameters are:  {'n_estimators': 200}\n",
      "Train accuracy:  0.9951  and test_train accuracy:  0.7019\n",
      "Train AUC:  1.0  and test_train AUC:  0.7571\n",
      "\n",
      "['AMIKACINA']\n",
      "The best parameters are:  {'n_estimators': 200}\n",
      "Train accuracy:  0.9884  and test_train accuracy:  0.7317\n",
      "Train AUC:  0.9997  and test_train AUC:  0.652\n",
      "\n",
      "['AMOXI/CLAV']\n",
      "The best parameters are:  {'n_estimators': 200}\n",
      "Train accuracy:  0.9951  and test_train accuracy:  0.7308\n",
      "Train AUC:  0.9999  and test_train AUC:  0.7816\n",
      "\n",
      "['CIPROFLOXACINO']\n",
      "The best parameters are:  {'n_estimators': 200}\n",
      "Train accuracy:  0.9879  and test_train accuracy:  0.7019\n",
      "Train AUC:  0.9997  and test_train AUC:  0.6313\n",
      "\n",
      "['CLINDAMICINA']\n",
      "The best parameters are:  {'n_estimators': 200}\n",
      "Train accuracy:  0.9903  and test_train accuracy:  0.7115\n",
      "Train AUC:  0.9997  and test_train AUC:  0.5644\n",
      "\n",
      "['ERITROMICINA']\n",
      "The best parameters are:  {'n_estimators': 200}\n",
      "Train accuracy:  0.9951  and test_train accuracy:  0.6635\n",
      "Train AUC:  0.9999  and test_train AUC:  0.7239\n",
      "\n",
      "['LEVOFLOXACINO']\n",
      "The best parameters are:  {'n_estimators': 200}\n",
      "Train accuracy:  0.9902  and test_train accuracy:  0.7059\n",
      "Train AUC:  0.9998  and test_train AUC:  0.6493\n",
      "\n",
      "['PENICILINA']\n",
      "The best parameters are:  {'n_estimators': 200}\n",
      "Train accuracy:  1.0  and test_train accuracy:  0.9038\n",
      "Train AUC:  1.0  and test_train AUC:  0.7138\n",
      "\n",
      "['TOBRAMICINA']\n",
      "The best parameters are:  {'n_estimators': 200}\n",
      "Train accuracy:  0.9886  and test_train accuracy:  0.7108\n",
      "Train AUC:  0.9997  and test_train AUC:  0.6873\n",
      "\n",
      "\n",
      "The average train AUC is 0.9998 and the avg test_train AUC is 0.6845\n",
      "\n",
      "Full execution took  445.0 seconds\n",
      "\n",
      "DONE!\n"
     ]
    }
   ],
   "source": [
    "clf = AdaBoostClassifier(DecisionTreeClassifier(max_depth=2)) # we can change that\n",
    "params = {'n_estimators':[200]}\n",
    "ab_best_clfs, _, _, ab_AUC_train, ab_AUC_test_train = try_clf(clf,params)"
   ]
  },
  {
   "cell_type": "code",
   "execution_count": null,
   "metadata": {},
   "outputs": [],
   "source": []
  },
  {
   "cell_type": "code",
   "execution_count": null,
   "metadata": {},
   "outputs": [],
   "source": []
  },
  {
   "cell_type": "code",
   "execution_count": null,
   "metadata": {},
   "outputs": [],
   "source": []
  },
  {
   "cell_type": "markdown",
   "metadata": {},
   "source": [
    "# Generate final results in CSV format\n",
    "From \"Jagger_4_GenerateCSV_v2\""
   ]
  },
  {
   "cell_type": "code",
   "execution_count": null,
   "metadata": {},
   "outputs": [],
   "source": [
    "def get_unique_spectre(spectre, df):\n",
    "  # Include the ID_sample column for the group_by\n",
    "  spectre['ID_sample'] = df.ID_sample\n",
    "  # MEAN OF THE SPECTRE\n",
    "  spectre = spectre.groupby('ID_sample').mean().reset_index()\n",
    "  return spectre\n",
    "\n",
    "def generate_csv_from_clf(clf_list, path, path_results, file_name):\n",
    "  # classifiers must be provided with parameters, and in a list [clf_antibiotic0, clf_antibiotic1, ...]\n",
    "  # spectrum and targets full train (containing all training points) will be used for training the clfs in clf list\n",
    "  # df_test must be provided as loaded from the file\n",
    "\n",
    "  # read all data from files\n",
    "  zf = zipfile.ZipFile(path+'zipped_TrainData.zip', 'r')\n",
    "  df_full_train = _pickle.loads(zf.open('TrainData.pkl').read());   zf.close()\n",
    "\n",
    "  zf = zipfile.ZipFile(path+'zipped_TestDataUnlabeled.zip', 'r')\n",
    "  df_test = _pickle.loads(zf.open('TestDataUnlabeled.pkl').read());   zf.close()\n",
    "\n",
    "  # Process test df to get UNIQUE samples and convert to spectrum\n",
    "\n",
    "  # df_unique_test = df_test.drop_duplicates(subset='ID_sample')\n",
    "\n",
    "  spectrum_test_forcsv = spectrum_in_bins(df_test,m,M,bin_size)\n",
    "  spectrum_test_forcsv = get_unique_spectre(spectrum_test_forcsv, df_test)\n",
    "\n",
    "  # Process train set to later train the clfs\n",
    "  spectrum_full_train = spectrum_in_bins(df_full_train.iloc[:,-2:],m,M,bin_size)\n",
    "  targets_full_train  = df_full_train.iloc[:,1:-2]  \n",
    "\n",
    "  # read the submission example file\n",
    "  df_submission = pd.read_csv(path+'SubmissionSample.csv') \n",
    "  categories = df_submission.columns[1:]\n",
    "  df_submission['ID']= spectrum_test_forcsv['ID_sample'].values\n",
    "  # To eliminate the ID_sample from the spectrum\n",
    "  spectrum_test_forcsv = spectrum_test_forcsv.drop(columns=['ID_sample'])\n",
    "  for c, cat in enumerate(categories): \n",
    "      # clean NaN values\n",
    "      X_train, Y_train = clean_nan_samples(spectrum_full_train,targets_full_train, c, cat)\n",
    "\n",
    "      # fit the classifier\n",
    "      clf_base = clf_list[c].fit(X_train,Y_train)\n",
    "      # Compute its test prestiction and save this output\n",
    "      o_test = clf_base.predict_proba(spectrum_test_forcsv)[:,1]\n",
    "      df_submission[cat] = o_test\n",
    "\n",
    "  # Save the dataframe with the predicted outputs\n",
    "  df_submission = df_submission.set_index('ID')\n",
    "  df_submission.to_csv(path_results + file_name + '.csv')\n",
    "  print('DONE!')\n",
    "  return df_submission"
   ]
  },
  {
   "cell_type": "code",
   "execution_count": null,
   "metadata": {},
   "outputs": [],
   "source": [
    "# Let's create manually a list of good classifiers\n",
    "clf_oxalacina       = #\n",
    "clf_amikacina       = #\n",
    "clf_amoxiclav       = #\n",
    "clf_ciprofloxacino  = #\n",
    "clf_clindamicina    = #\n",
    "clf_eritromicina    = #\n",
    "clf_levofloxacino   = #\n",
    "clf_penicilina      = #\n",
    "clf_tobramicina     = #\n",
    "\n",
    "clf_list = [clf_oxalacina, clf_amikacina, clf_amoxiclav, clf_ciprofloxacino, clf_clindamicina,\n",
    "            clf_eritromicina, clf_levofloxacino, clf_penicilina, clf_tobramicina]"
   ]
  },
  {
   "cell_type": "code",
   "execution_count": null,
   "metadata": {},
   "outputs": [],
   "source": [
    "name = 'filename'\n",
    "df_submission = generate_csv_from_clf(clf_list,path,path_results, name)\n",
    "print('File: '+name+' has been successfully generated')"
   ]
  }
 ],
 "metadata": {
  "kernelspec": {
   "display_name": "Python 3",
   "language": "python",
   "name": "python3"
  },
  "language_info": {
   "codemirror_mode": {
    "name": "ipython",
    "version": 3
   },
   "file_extension": ".py",
   "mimetype": "text/x-python",
   "name": "python",
   "nbconvert_exporter": "python",
   "pygments_lexer": "ipython3",
   "version": "3.7.3"
  }
 },
 "nbformat": 4,
 "nbformat_minor": 2
}
