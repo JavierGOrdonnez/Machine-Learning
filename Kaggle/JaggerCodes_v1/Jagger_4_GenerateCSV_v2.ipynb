{
 "cells": [
  {
   "cell_type": "markdown",
   "metadata": {
    "colab_type": "text",
    "id": "v65uQSS7bUYT"
   },
   "source": [
    "# Imports"
   ]
  },
  {
   "cell_type": "code",
   "execution_count": 1,
   "metadata": {
    "colab": {},
    "colab_type": "code",
    "id": "pUbv9aojbUYa",
    "scrolled": true
   },
   "outputs": [],
   "source": [
    "import matplotlib.pyplot as plt\n",
    "import numpy as np\n",
    "import pandas as pd\n",
    "import zipfile\n",
    "import _pickle\n",
    "from sklearn.model_selection import train_test_split\n",
    "from sklearn.model_selection import GridSearchCV\n",
    "from sklearn.ensemble import RandomForestClassifier\n",
    "from sklearn.metrics import roc_curve, auc, roc_auc_score\n",
    "import time\n",
    "import copy"
   ]
  },
  {
   "cell_type": "markdown",
   "metadata": {
    "colab_type": "text",
    "id": "MMvCy_NBbUYp"
   },
   "source": [
    "# Data loading\n",
    "Remember to change path if needed"
   ]
  },
  {
   "cell_type": "code",
   "execution_count": 2,
   "metadata": {
    "colab": {
     "base_uri": "https://localhost:8080/",
     "height": 55
    },
    "colab_type": "code",
    "executionInfo": {
     "elapsed": 1245,
     "status": "ok",
     "timestamp": 1577194474164,
     "user": {
      "displayName": "JESUS HERRERA LOPEZ",
      "photoUrl": "",
      "userId": "16448325777196326447"
     },
     "user_tz": -60
    },
    "id": "e-vBeRjmE4SO",
    "outputId": "903715e6-fddd-4bbf-f3a5-6c590cfb8ccd"
   },
   "outputs": [],
   "source": [
    "# # Take the data from Google Drive\n",
    "# from google.colab import drive\n",
    "# drive.mount('/content/drive')\n",
    "# path = \"/content/drive/My Drive/Colab Notebooks/Kaggle/Kaggle_data/\"\n",
    "# path_results = \"/content/drive/My Drive/Colab Notebooks/Kaggle/Kaggle_results/\"\n",
    "\n",
    "path = \"D:/GitHub/Machine-Learning/Kaggle/\"\n",
    "# path = \"C:/Users/Javi/Documents/GitHub/Machine-Learning/Kaggle/\"\n",
    "path_results = path+\"results/\"\n",
    "\n",
    "zf = zipfile.ZipFile(path+'zipped_TrainData.zip', 'r')\n",
    "df_train = _pickle.loads(zf.open('TrainData.pkl').read())\n",
    "zf.close()\n",
    "\n",
    "zf = zipfile.ZipFile(path+'zipped_TestDataUnlabeled.zip', 'r')\n",
    "df_test = _pickle.loads(zf.open('TestDataUnlabeled.pkl').read())\n",
    "zf.close()"
   ]
  },
  {
   "cell_type": "markdown",
   "metadata": {
    "colab_type": "text",
    "id": "OoI5WFfsbUY4"
   },
   "source": [
    "# Data split & Spectrum in regular bins\n",
    "Data is split between a proper training set (later used in cross-validation), and a test_train set, which will help us in determining under/overfitting as we do have labels for them.\n",
    "\n",
    "Spectrums are divided in regular size bins, always the same, so that we can treat them as features, not worrying about different mz scales. According to the literature the peaks contain the relevant information, then we only save the maximum value in the bin (range of mz coordinates) so that peak information is never lost. Moreover, by performing this regularization in bins, peaks at very close mz values (same compound, small mz differences due to experimental uncertainty) are seen by the machine as belonging to the same bin and therefore the same feature. Therefore, it facilitates to use peaks as values.\n",
    "\n",
    "Also, peak values are normalized by the maximum peak value of the spectrum, as specific values are experiment-dependent and do not carry information, only the relation between peak sizes does."
   ]
  },
  {
   "cell_type": "code",
   "execution_count": 3,
   "metadata": {
    "colab": {},
    "colab_type": "code",
    "id": "pb4OK1vtbUY7",
    "scrolled": true
   },
   "outputs": [],
   "source": [
    "def spectrum_in_bins(df,m,M,bin_size):\n",
    "    # Now, let's define the mz ranges, and the label associated to each of them (the mean of the limiting values of each bin)\n",
    "    range_min = []; range_max = []; range_label = [];\n",
    "    for mz in range(m,M,bin_size):\n",
    "        range_min.append(mz)\n",
    "        range_max.append(mz+bin_size)\n",
    "        range_label.append(np.mean([range_min[-1],range_max[-1]]).astype(int))\n",
    "\n",
    "\n",
    "    N = len(df)  # number of samples\n",
    "    L = len(range_min)  # length of new spectrum (number of bins)\n",
    "    all_data = np.zeros((N,L))\n",
    "    for idx in range(N): \n",
    "        intensity = df[['intensity']].iloc[idx].values[0]\n",
    "        mzcoord   = df[['coord_mz']].iloc[idx].values[0]\n",
    "        idx_data_in_bins = np.zeros((1,L))\n",
    "        for i,mz in enumerate(range_min):\n",
    "            intensity_range = intensity[(mzcoord > mz) & (mzcoord < (mz+bin_size))]\n",
    "            if len(intensity_range) > 0 :\n",
    "                idx_data_in_bins[0,i] = np.max(intensity_range)\n",
    "            else: # if those mz coordinates are not in that spectrum\n",
    "                idx_data_in_bins[0,i] = 0   \n",
    "\n",
    "        # Normalize the amplitude of the spectrum\n",
    "        idx_data_in_bins[0,:] = idx_data_in_bins[0,:] / np.max(idx_data_in_bins[0,:])\n",
    "        \n",
    "        \n",
    "        all_data[idx,:] = idx_data_in_bins\n",
    "    new_df = pd.DataFrame(data=all_data, columns = range_label, index = df.index)\n",
    "    return new_df"
   ]
  },
  {
   "cell_type": "code",
   "execution_count": 4,
   "metadata": {},
   "outputs": [],
   "source": [
    "def clean_nan_samples(spectrum,targets, c, cat):\n",
    "# if there are any NaN values, we should remove those samples\n",
    "    if (targets[cat].isnull().sum() > 0).all(): \n",
    "        merged = pd.concat([spectrum , targets],axis=1,copy=True)\n",
    "        clean = merged.dropna(subset=[cat])\n",
    "        print('Dropped ',len(merged)-len(clean))\n",
    "        Y = clean.iloc[:,-9+c].to_numpy().reshape(-1,)\n",
    "        X = clean.iloc[:,:-9]\n",
    "\n",
    "    else:\n",
    "        Y = targets.iloc[:,c].to_numpy().reshape(-1,)\n",
    "        X = spectrum.copy(deep=True)\n",
    "    return X , Y"
   ]
  },
  {
   "cell_type": "code",
   "execution_count": 5,
   "metadata": {
    "colab": {},
    "colab_type": "code",
    "id": "KOx7ayitoDt8"
   },
   "outputs": [],
   "source": [
    "# Hyperparameters of the spectrum processing\n",
    "m = 2000; M = 20000; \n",
    "bin_size = 50;"
   ]
  },
  {
   "cell_type": "code",
   "execution_count": 6,
   "metadata": {
    "colab": {},
    "colab_type": "code",
    "id": "7GrSaFrQB1um"
   },
   "outputs": [],
   "source": [
    "# Change the way the spectre is handled: Now is MEAN\n",
    "# Could be changed to the highest value of both or the lowest, susceptible to changes\n",
    "\n",
    "def get_unique_spectre(spectre, df):\n",
    "  # Include the ID_sample column for the group_by\n",
    "  spectre['ID_sample'] = df.ID_sample\n",
    "  # MEAN OF THE SPECTRE\n",
    "  spectre = spectre.groupby('ID_sample').mean().reset_index()\n",
    "  return spectre"
   ]
  },
  {
   "cell_type": "code",
   "execution_count": 7,
   "metadata": {
    "colab": {},
    "colab_type": "code",
    "id": "he4cLalLoszo"
   },
   "outputs": [],
   "source": [
    "def generate_csv_from_clf(clf_list, path, path_results, file_name):\n",
    "  # classifiers must be provided with parameters, and in a list [clf_antibiotic0, clf_antibiotic1, ...]\n",
    "  # spectrum and targets full train (containing all training points) will be used for training the clfs in clf list\n",
    "  # df_test must be provided as loaded from the file\n",
    "\n",
    "  # read all data from files\n",
    "  zf = zipfile.ZipFile(path+'zipped_TrainData.zip', 'r')\n",
    "  df_full_train = _pickle.loads(zf.open('TrainData.pkl').read());   zf.close()\n",
    "\n",
    "  zf = zipfile.ZipFile(path+'zipped_TestDataUnlabeled.zip', 'r')\n",
    "  df_test = _pickle.loads(zf.open('TestDataUnlabeled.pkl').read());   zf.close()\n",
    "\n",
    "  # Process test df to get UNIQUE samples and convert to spectrum\n",
    "\n",
    "  # df_unique_test = df_test.drop_duplicates(subset='ID_sample')\n",
    "\n",
    "  spectrum_test_forcsv = spectrum_in_bins(df_test,m,M,bin_size)\n",
    "  spectrum_test_forcsv = get_unique_spectre(spectrum_test_forcsv, df_test)\n",
    "\n",
    "  # Process train set to later train the clfs\n",
    "  spectrum_full_train = spectrum_in_bins(df_full_train.iloc[:,-2:],m,M,bin_size)\n",
    "  targets_full_train  = df_full_train.iloc[:,1:-2]  \n",
    "\n",
    "  # read the submission example file\n",
    "  df_submission = pd.read_csv(path+'SubmissionSample.csv') \n",
    "  categories = df_submission.columns[1:]\n",
    "  df_submission['ID']= spectrum_test_forcsv['ID_sample'].values\n",
    "  # To eliminate the ID_sample from the spectrum\n",
    "  spectrum_test_forcsv = spectrum_test_forcsv.drop(columns=['ID_sample'])\n",
    "  for c, cat in enumerate(categories): \n",
    "      # clean NaN values\n",
    "      X_train, Y_train = clean_nan_samples(spectrum_full_train,targets_full_train, c, cat)\n",
    "\n",
    "      # fit the classifier\n",
    "      clf_base = clf_list[c].fit(X_train,Y_train)\n",
    "      # Compute its test prestiction and save this output\n",
    "      o_test = clf_base.predict_proba(spectrum_test_forcsv)[:,1]\n",
    "      df_submission[cat] = o_test\n",
    "\n",
    "  # Save the dataframe with the predicted outputs\n",
    "  df_submission = df_submission.set_index('ID')\n",
    "  df_submission.to_csv(path_results + file_name + '.csv')\n",
    "  print('DONE!')\n",
    "  return df_submission"
   ]
  },
  {
   "cell_type": "code",
   "execution_count": 8,
   "metadata": {
    "colab": {},
    "colab_type": "code",
    "id": "PSFVS5i0prL0"
   },
   "outputs": [],
   "source": [
    "# Just to make a trial\n",
    "from sklearn.svm import SVC\n",
    "from sklearn.linear_model import LogisticRegression\n",
    "from sklearn.neighbors import KNeighborsClassifier\n",
    "\n",
    "# Let's create manually a list of good classifiers\n",
    "clf_oxalacina       = SVC(kernel='rbf',class_weight='balanced', C=10000, gamma=0.1, probability=True)\n",
    "clf_amikacina       = LogisticRegression(max_iter=1e6,solver='lbfgs',class_weight='balanced', C=100000)\n",
    "clf_amoxiclav       = LogisticRegression(max_iter=1e6,solver='lbfgs',class_weight='balanced', C=100)\n",
    "clf_ciprofloxacino  = LogisticRegression(max_iter=1e6,solver='lbfgs',class_weight='balanced', C=100)\n",
    "clf_clindamicina    = KNeighborsClassifier(n_neighbors=16)\n",
    "clf_eritromicina    = LogisticRegression(max_iter=1e6,solver='lbfgs',class_weight='balanced', C=1000)\n",
    "clf_levofloxacino   = LogisticRegression(max_iter=1e6,solver='lbfgs',class_weight='balanced', C=10000)\n",
    "clf_penicilina      = LogisticRegression(max_iter=1e6,solver='lbfgs',class_weight='balanced', C=100000)\n",
    "clf_tobramicina     = LogisticRegression(max_iter=1e6,solver='lbfgs',class_weight='balanced', C=10000)\n",
    "\n",
    "clf_list = [clf_oxalacina, clf_amikacina, clf_amoxiclav, clf_ciprofloxacino, clf_clindamicina,\n",
    "            clf_eritromicina, clf_levofloxacino, clf_penicilina, clf_tobramicina]"
   ]
  },
  {
   "cell_type": "code",
   "execution_count": 9,
   "metadata": {
    "colab": {
     "base_uri": "https://localhost:8080/",
     "height": 90
    },
    "colab_type": "code",
    "executionInfo": {
     "elapsed": 19884,
     "status": "ok",
     "timestamp": 1577194509119,
     "user": {
      "displayName": "JESUS HERRERA LOPEZ",
      "photoUrl": "",
      "userId": "16448325777196326447"
     },
     "user_tz": -60
    },
    "id": "gA-YvcNzos7c",
    "outputId": "d3f6b23c-d4dc-484b-dd98-51cbb2776057"
   },
   "outputs": [
    {
     "name": "stdout",
     "output_type": "stream",
     "text": [
      "Dropped  88\n",
      "Dropped  4\n",
      "Dropped  82\n",
      "DONE!\n"
     ]
    }
   ],
   "source": [
    "df_submission = generate_csv_from_clf(clf_list,path,path_results, 'Submission_24_12_19_mean_spectrum')"
   ]
  },
  {
   "cell_type": "code",
   "execution_count": 10,
   "metadata": {
    "colab": {
     "base_uri": "https://localhost:8080/",
     "height": 475
    },
    "colab_type": "code",
    "executionInfo": {
     "elapsed": 642,
     "status": "ok",
     "timestamp": 1577194576088,
     "user": {
      "displayName": "JESUS HERRERA LOPEZ",
      "photoUrl": "",
      "userId": "16448325777196326447"
     },
     "user_tz": -60
    },
    "id": "G14cAXUlos4U",
    "outputId": "6b7e12d2-50d0-4986-a8f3-6159c707fbf5"
   },
   "outputs": [
    {
     "data": {
      "text/html": [
       "<div>\n",
       "<style scoped>\n",
       "    .dataframe tbody tr th:only-of-type {\n",
       "        vertical-align: middle;\n",
       "    }\n",
       "\n",
       "    .dataframe tbody tr th {\n",
       "        vertical-align: top;\n",
       "    }\n",
       "\n",
       "    .dataframe thead th {\n",
       "        text-align: right;\n",
       "    }\n",
       "</style>\n",
       "<table border=\"1\" class=\"dataframe\">\n",
       "  <thead>\n",
       "    <tr style=\"text-align: right;\">\n",
       "      <th></th>\n",
       "      <th>OXACILINA</th>\n",
       "      <th>AMIKACINA</th>\n",
       "      <th>AMOXI/CLAV</th>\n",
       "      <th>CIPROFLOXACINO</th>\n",
       "      <th>CLINDAMICINA</th>\n",
       "      <th>ERITROMICINA</th>\n",
       "      <th>LEVOFLOXACINO</th>\n",
       "      <th>PENICILINA</th>\n",
       "      <th>TOBRAMICINA</th>\n",
       "    </tr>\n",
       "    <tr>\n",
       "      <th>ID</th>\n",
       "      <th></th>\n",
       "      <th></th>\n",
       "      <th></th>\n",
       "      <th></th>\n",
       "      <th></th>\n",
       "      <th></th>\n",
       "      <th></th>\n",
       "      <th></th>\n",
       "      <th></th>\n",
       "    </tr>\n",
       "  </thead>\n",
       "  <tbody>\n",
       "    <tr>\n",
       "      <td>1081</td>\n",
       "      <td>0.612776</td>\n",
       "      <td>0.996739</td>\n",
       "      <td>0.877438</td>\n",
       "      <td>0.898146</td>\n",
       "      <td>0.1875</td>\n",
       "      <td>0.894030</td>\n",
       "      <td>0.922472</td>\n",
       "      <td>9.999988e-01</td>\n",
       "      <td>0.990395</td>\n",
       "    </tr>\n",
       "    <tr>\n",
       "      <td>1154</td>\n",
       "      <td>0.259207</td>\n",
       "      <td>0.049574</td>\n",
       "      <td>0.376553</td>\n",
       "      <td>0.304935</td>\n",
       "      <td>0.1875</td>\n",
       "      <td>0.253805</td>\n",
       "      <td>0.054409</td>\n",
       "      <td>9.955751e-01</td>\n",
       "      <td>0.215462</td>\n",
       "    </tr>\n",
       "    <tr>\n",
       "      <td>1225</td>\n",
       "      <td>0.280309</td>\n",
       "      <td>0.005619</td>\n",
       "      <td>0.328012</td>\n",
       "      <td>0.288620</td>\n",
       "      <td>0.2500</td>\n",
       "      <td>0.408429</td>\n",
       "      <td>0.174744</td>\n",
       "      <td>9.999803e-01</td>\n",
       "      <td>0.037936</td>\n",
       "    </tr>\n",
       "    <tr>\n",
       "      <td>124</td>\n",
       "      <td>0.359459</td>\n",
       "      <td>0.017563</td>\n",
       "      <td>0.477589</td>\n",
       "      <td>0.544543</td>\n",
       "      <td>0.2500</td>\n",
       "      <td>0.904559</td>\n",
       "      <td>0.295553</td>\n",
       "      <td>1.993916e-03</td>\n",
       "      <td>0.168926</td>\n",
       "    </tr>\n",
       "    <tr>\n",
       "      <td>1246</td>\n",
       "      <td>0.112013</td>\n",
       "      <td>0.007062</td>\n",
       "      <td>0.251122</td>\n",
       "      <td>0.365844</td>\n",
       "      <td>0.0000</td>\n",
       "      <td>0.421068</td>\n",
       "      <td>0.005400</td>\n",
       "      <td>9.990985e-01</td>\n",
       "      <td>0.045050</td>\n",
       "    </tr>\n",
       "    <tr>\n",
       "      <td>...</td>\n",
       "      <td>...</td>\n",
       "      <td>...</td>\n",
       "      <td>...</td>\n",
       "      <td>...</td>\n",
       "      <td>...</td>\n",
       "      <td>...</td>\n",
       "      <td>...</td>\n",
       "      <td>...</td>\n",
       "      <td>...</td>\n",
       "    </tr>\n",
       "    <tr>\n",
       "      <td>903</td>\n",
       "      <td>0.232318</td>\n",
       "      <td>0.007145</td>\n",
       "      <td>0.409132</td>\n",
       "      <td>0.508067</td>\n",
       "      <td>0.1875</td>\n",
       "      <td>0.496443</td>\n",
       "      <td>0.155544</td>\n",
       "      <td>9.999909e-01</td>\n",
       "      <td>0.045153</td>\n",
       "    </tr>\n",
       "    <tr>\n",
       "      <td>973</td>\n",
       "      <td>0.746764</td>\n",
       "      <td>0.999997</td>\n",
       "      <td>0.556959</td>\n",
       "      <td>0.763790</td>\n",
       "      <td>0.1250</td>\n",
       "      <td>0.458465</td>\n",
       "      <td>0.988598</td>\n",
       "      <td>1.501920e-14</td>\n",
       "      <td>0.999376</td>\n",
       "    </tr>\n",
       "    <tr>\n",
       "      <td>979</td>\n",
       "      <td>0.432437</td>\n",
       "      <td>0.000062</td>\n",
       "      <td>0.675015</td>\n",
       "      <td>0.716639</td>\n",
       "      <td>0.0625</td>\n",
       "      <td>0.761987</td>\n",
       "      <td>0.112098</td>\n",
       "      <td>9.999648e-01</td>\n",
       "      <td>0.026874</td>\n",
       "    </tr>\n",
       "    <tr>\n",
       "      <td>984</td>\n",
       "      <td>0.384727</td>\n",
       "      <td>0.156794</td>\n",
       "      <td>0.587175</td>\n",
       "      <td>0.602416</td>\n",
       "      <td>0.1875</td>\n",
       "      <td>0.529819</td>\n",
       "      <td>0.377163</td>\n",
       "      <td>9.992376e-01</td>\n",
       "      <td>0.423357</td>\n",
       "    </tr>\n",
       "    <tr>\n",
       "      <td>988</td>\n",
       "      <td>0.359204</td>\n",
       "      <td>0.612245</td>\n",
       "      <td>0.599773</td>\n",
       "      <td>0.381154</td>\n",
       "      <td>0.0625</td>\n",
       "      <td>0.186017</td>\n",
       "      <td>0.053826</td>\n",
       "      <td>9.031381e-01</td>\n",
       "      <td>0.435799</td>\n",
       "    </tr>\n",
       "  </tbody>\n",
       "</table>\n",
       "<p>112 rows × 9 columns</p>\n",
       "</div>"
      ],
      "text/plain": [
       "      OXACILINA  AMIKACINA  AMOXI/CLAV  CIPROFLOXACINO  CLINDAMICINA  \\\n",
       "ID                                                                     \n",
       "1081   0.612776   0.996739    0.877438        0.898146        0.1875   \n",
       "1154   0.259207   0.049574    0.376553        0.304935        0.1875   \n",
       "1225   0.280309   0.005619    0.328012        0.288620        0.2500   \n",
       "124    0.359459   0.017563    0.477589        0.544543        0.2500   \n",
       "1246   0.112013   0.007062    0.251122        0.365844        0.0000   \n",
       "...         ...        ...         ...             ...           ...   \n",
       "903    0.232318   0.007145    0.409132        0.508067        0.1875   \n",
       "973    0.746764   0.999997    0.556959        0.763790        0.1250   \n",
       "979    0.432437   0.000062    0.675015        0.716639        0.0625   \n",
       "984    0.384727   0.156794    0.587175        0.602416        0.1875   \n",
       "988    0.359204   0.612245    0.599773        0.381154        0.0625   \n",
       "\n",
       "      ERITROMICINA  LEVOFLOXACINO    PENICILINA  TOBRAMICINA  \n",
       "ID                                                            \n",
       "1081      0.894030       0.922472  9.999988e-01     0.990395  \n",
       "1154      0.253805       0.054409  9.955751e-01     0.215462  \n",
       "1225      0.408429       0.174744  9.999803e-01     0.037936  \n",
       "124       0.904559       0.295553  1.993916e-03     0.168926  \n",
       "1246      0.421068       0.005400  9.990985e-01     0.045050  \n",
       "...            ...            ...           ...          ...  \n",
       "903       0.496443       0.155544  9.999909e-01     0.045153  \n",
       "973       0.458465       0.988598  1.501920e-14     0.999376  \n",
       "979       0.761987       0.112098  9.999648e-01     0.026874  \n",
       "984       0.529819       0.377163  9.992376e-01     0.423357  \n",
       "988       0.186017       0.053826  9.031381e-01     0.435799  \n",
       "\n",
       "[112 rows x 9 columns]"
      ]
     },
     "execution_count": 10,
     "metadata": {},
     "output_type": "execute_result"
    }
   ],
   "source": [
    "df_submission"
   ]
  }
 ],
 "metadata": {
  "colab": {
   "collapsed_sections": [],
   "name": " Jagger_4_GenerateCSV_v2.ipynb",
   "provenance": [],
   "toc_visible": true
  },
  "kernelspec": {
   "display_name": "Python 3",
   "language": "python",
   "name": "python3"
  },
  "language_info": {
   "codemirror_mode": {
    "name": "ipython",
    "version": 3
   },
   "file_extension": ".py",
   "mimetype": "text/x-python",
   "name": "python",
   "nbconvert_exporter": "python",
   "pygments_lexer": "ipython3",
   "version": "3.7.4"
  }
 },
 "nbformat": 4,
 "nbformat_minor": 1
}
