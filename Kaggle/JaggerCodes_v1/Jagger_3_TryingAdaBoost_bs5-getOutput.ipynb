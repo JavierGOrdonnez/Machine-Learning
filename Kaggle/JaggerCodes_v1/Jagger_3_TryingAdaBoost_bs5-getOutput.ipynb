{
 "cells": [
  {
   "cell_type": "markdown",
   "metadata": {},
   "source": [
    "# Imports"
   ]
  },
  {
   "cell_type": "code",
   "execution_count": 11,
   "metadata": {
    "scrolled": true
   },
   "outputs": [],
   "source": [
    "import matplotlib.pyplot as plt\n",
    "import numpy as np\n",
    "import pandas as pd\n",
    "import zipfile\n",
    "import _pickle\n",
    "import pickle\n",
    "from sklearn.model_selection import train_test_split\n",
    "from sklearn.model_selection import GridSearchCV\n",
    "from sklearn.metrics import roc_curve, auc, roc_auc_score\n",
    "import time\n",
    "import copy\n",
    "import os"
   ]
  },
  {
   "cell_type": "markdown",
   "metadata": {},
   "source": [
    "# Data loading and preprocessing\n",
    "Remember to change the path if needed be\n",
    "\n",
    "### Hyperparameters of preprocessing"
   ]
  },
  {
   "cell_type": "code",
   "execution_count": 12,
   "metadata": {},
   "outputs": [],
   "source": [
    "m = 2000; M = 12000; \n",
    "bin_size = 5;\n",
    "\n",
    "path = \"D:/GitHub/Machine-Learning/Kaggle/\"\n",
    "# path = \"C:/Users/Javi/Documents/GitHub/Machine-Learning/Kaggle/\"\n",
    "\n",
    "# # Take the data from Google Drive\n",
    "# from google.colab import drive\n",
    "# drive.mount('/content/drive')\n",
    "# path = \"/content/drive/My Drive/Colab Notebooks/Kaggle/Kaggle_data/\"\n",
    "# path_results = \"/content/drive/My Drive/Colab Notebooks/Kaggle/Kaggle_results/\""
   ]
  },
  {
   "cell_type": "code",
   "execution_count": 13,
   "metadata": {},
   "outputs": [],
   "source": [
    "savepath = path + 'Kaggle classifiers/bin size 5/'\n",
    "path_results = path + 'Kaggle_results/'\n",
    "\n",
    "ncpu = os.cpu_count()\n",
    "if (ncpu>2): njobs = ncpu - 2; \n",
    "else: njobs = 1;"
   ]
  },
  {
   "cell_type": "code",
   "execution_count": 14,
   "metadata": {
    "scrolled": true
   },
   "outputs": [],
   "source": [
    "zf = zipfile.ZipFile(path+'zipped_TrainData.zip', 'r')\n",
    "df_train = _pickle.loads(zf.open('TrainData.pkl').read())\n",
    "zf.close()\n",
    "\n",
    "zf = zipfile.ZipFile(path+'zipped_TestDataUnlabeled.zip', 'r')\n",
    "df_test = _pickle.loads(zf.open('TestDataUnlabeled.pkl').read())\n",
    "zf.close()"
   ]
  },
  {
   "cell_type": "code",
   "execution_count": 15,
   "metadata": {
    "scrolled": true
   },
   "outputs": [],
   "source": [
    "def spectrum_in_bins(df,m,M,bin_size):\n",
    "    # Now, let's define the mz ranges, and the label associated to each of them (the mean of the limiting values of each bin)\n",
    "    range_min = []; range_max = []; range_label = [];\n",
    "    for mz in range(m,M,bin_size):\n",
    "        range_min.append(mz)\n",
    "        range_max.append(mz+bin_size)\n",
    "        range_label.append(np.mean([range_min[-1],range_max[-1]]).astype(int))\n",
    "    N = len(df)  # number of samples\n",
    "    L = len(range_min)  # length of new spectrum (number of bins)\n",
    "    all_data = np.zeros((N,L))\n",
    "    for idx in range(N): \n",
    "        intensity = df[['intensity']].iloc[idx].values[0]\n",
    "        mzcoord   = df[['coord_mz']].iloc[idx].values[0]\n",
    "        idx_data_in_bins = np.zeros((1,L))\n",
    "        for i,mz in enumerate(range_min):\n",
    "            intensity_range = intensity[(mzcoord > mz) & (mzcoord < (mz+bin_size))]\n",
    "            if len(intensity_range) > 0 :\n",
    "                idx_data_in_bins[0,i] = np.max(intensity_range)\n",
    "            else: # if those mz coordinates are not in that spectrum\n",
    "                idx_data_in_bins[0,i] = 0   \n",
    "\n",
    "        # Normalize the amplitude of the spectrum\n",
    "        idx_data_in_bins[0,:] = idx_data_in_bins[0,:] / np.max(idx_data_in_bins[0,:])\n",
    "        all_data[idx,:] = idx_data_in_bins\n",
    "    new_df = pd.DataFrame(data=all_data, columns = range_label, index = df.index)\n",
    "    return new_df"
   ]
  },
  {
   "cell_type": "code",
   "execution_count": 16,
   "metadata": {
    "scrolled": true
   },
   "outputs": [
    {
     "name": "stdout",
     "output_type": "stream",
     "text": [
      "Training samples: 205 and test_train samples: 52\n",
      "Spectrum regularized!\n"
     ]
    }
   ],
   "source": [
    "df_train = df_train.drop_duplicates(subset='ID_sample') # eliminate duplicates\n",
    "# Let's work without duplicates from now on, to avoid having same sample in training and test_training sets\n",
    "\n",
    "# Extract data (spectra) and targets of the df_train set\n",
    "data = df_train.iloc[:,-2:]\n",
    "targets = df_train.iloc[:,1:-2]\n",
    "\n",
    "# Then, split into a train and test_train set\n",
    "data_train, data_test_train, targets_train, targets_test_train = train_test_split(data, targets, test_size=0.2, random_state=42) # split the data\n",
    "print('Training samples: '+str(len(data_train))+' and test_train samples: ' + str(len(data_test_train)) )\n",
    "\n",
    "# apply the bins to all spectra, so that our feature space becomes the same for all samples (make them regular, all the same)\n",
    "spectrum_train = spectrum_in_bins(data_train,m,M,bin_size)\n",
    "spectrum_test_train = spectrum_in_bins(data_test_train,m,M,bin_size)\n",
    "print('Spectrum regularized!')\n",
    "# these spectrum_... are our X for training"
   ]
  },
  {
   "cell_type": "code",
   "execution_count": 17,
   "metadata": {},
   "outputs": [],
   "source": [
    "def clean_nan_samples(spectrum,targets, c, cat):\n",
    "# if there are any NaN values, we should remove those samples\n",
    "    if (targets[cat].isnull().sum() > 0).all(): \n",
    "        merged = pd.concat([spectrum , targets],axis=1,copy=True)\n",
    "        clean = merged.dropna(subset=[cat])\n",
    "        Y = clean.iloc[:,-9+c].to_numpy().reshape(-1,)\n",
    "        X = clean.iloc[:,:-9]\n",
    "\n",
    "    else:\n",
    "        Y = targets.iloc[:,c].to_numpy().reshape(-1,)\n",
    "        X = spectrum.copy(deep=True)\n",
    "    return X , Y"
   ]
  },
  {
   "cell_type": "markdown",
   "metadata": {},
   "source": [
    "# Try different classifiers\n",
    "The try_clf function has been built for, given a classifier and a parameter dictionary (for hyperparameter cross-validation), create a classifier for each antibiotic, and return the results. This enables for fast testing of different classifiers. Moreover, the function also takes charge of suppressing NaN values in the targets ocurring for amikacina, levofloxacino and tobramicina."
   ]
  },
  {
   "cell_type": "code",
   "execution_count": 18,
   "metadata": {
    "scrolled": true
   },
   "outputs": [],
   "source": [
    "def try_clf(clf,params,n_cv=5,L1_FEATURE_SELECTION=False, feature_vector_list=None):  # new version! (after Sevilla)\n",
    "    # new version --> Incorporates feature selection\n",
    "    t1 = time.time()\n",
    "    \n",
    "    best_classifiers = [];\n",
    "    grid_list = [];\n",
    "    AUC_train = []; AUC_valid = [];\n",
    "    \n",
    "    categories = targets_train.columns[:]    \n",
    "    for c,cat in enumerate(categories):\n",
    "\n",
    "        print([cat]) # indicate in which antibiotic we are\n",
    "        \n",
    "        # Selection of train and test data (depending on whether there are NaN target values)\n",
    "        X_train, Y_train = clean_nan_samples(spectrum_train,targets_train, c, cat)\n",
    "        \n",
    "        if L1_FEATURE_SELECTION: # a boolean that decides whether to apply L1 feature selection (L1 feature list has to be already defined, and input to the function)\n",
    "            X_train = apply_l1_feature_selection(X_train,feature_vector_list[c])\n",
    "            \n",
    "        # perform a GridSearchCV in order to train a classifier for this antibiotic\n",
    "        grid = GridSearchCV(clf,param_grid=params,scoring='roc_auc',n_jobs=njobs,pre_dispatch='2*n_jobs', cv=n_cv, iid=False,return_train_score=True)\n",
    "        grid.fit(X_train, Y_train)\n",
    "\n",
    "        # print the best parameters (to detect edge values), and save that classifier\n",
    "        print('The best parameters are: ',grid.best_params_)\n",
    "        best_clf = grid.best_estimator_\n",
    "        best_classifiers.append(best_clf)\n",
    "        grid_list.append(grid)\n",
    "        \n",
    "        best_clf = np.where(grid.cv_results_['rank_test_score']==1)[0][0]\n",
    "        AUC_train.append(grid.cv_results_['mean_train_score'][best_clf])\n",
    "        AUC_valid.append(grid.cv_results_['mean_test_score'][best_clf])\n",
    "        \n",
    "        print('Train AUC: ',np.round(AUC_train[-1],4),' and validation AUC: ',np.round(AUC_valid[-1],4))\n",
    "        \n",
    "    avg_AUC_train = np.mean(AUC_train)\n",
    "    avg_AUC_valid = np.mean(AUC_valid)\n",
    "    print('\\n\\nThe average train AUC is',np.round(avg_AUC_train,4),'and the avg validation AUC is',np.round(avg_AUC_valid,4))\n",
    "    \n",
    "    t2 = time.time()\n",
    "    print('\\nFull execution took ',np.round(t2-t1,1),'seconds')\n",
    "    print('\\nDONE!')\n",
    "    return best_classifiers, grid_list, AUC_train, AUC_valid"
   ]
  },
  {
   "cell_type": "markdown",
   "metadata": {},
   "source": [
    "## Real AdaBoost with HW2 method"
   ]
  },
  {
   "cell_type": "code",
   "execution_count": 42,
   "metadata": {},
   "outputs": [],
   "source": [
    "from sklearn.metrics import accuracy_score as acc\n",
    "from sklearn.tree import DecisionTreeClassifier\n",
    "\n",
    "class OurAdaBoostEnsemble():\n",
    "    def __init__(self,T):\n",
    "        self.T = T\n",
    "\n",
    "    def fit(self,X_train, Y_train):\n",
    "        T = self.T\n",
    "        \n",
    "        Y_train[Y_train==0] = -1 # change labels 0 to -1, if needed\n",
    "\n",
    "        alpha = np.zeros((T,1))\n",
    "        Dt_all = np.zeros((T,X_train.shape[0]))\n",
    "        Dt_all[0,:] = np.ones((1,X_train.shape[0])) / X_train.shape[0]  # Initialize all weights as 1 / n_samples\n",
    "\n",
    "        outputs_train = np.zeros((T,Y_train.shape[0]))\n",
    "\n",
    "        tree_list = []\n",
    "\n",
    "        for i in range(T):\n",
    "            mytree = DecisionTreeClassifier(max_depth=2)\n",
    "            mytree.fit(X_train,Y_train,sample_weight=Dt_all[i,:])\n",
    "            tree_list.append(mytree)\n",
    "\n",
    "            # For real-valued predictions:\n",
    "            outputs_train[i,:] = np.dot(mytree.predict_proba(X_train),mytree.classes_)\n",
    "            \n",
    "            # Get gamma and alpha_i values\n",
    "            gamma = np.dot(Dt_all[i,:],np.multiply(outputs_train[i,:],Y_train))\n",
    "            alpha[i] = 0.5 * np.log((1+gamma)/(1-gamma))\n",
    "\n",
    "            # Update emphasis function (except if in the last iteration)\n",
    "            if (i < T-1):\n",
    "                emphasis = np.multiply(Dt_all[i,:],np.exp(-1*alpha[i]*np.multiply(outputs_train[i,:],Y_train)))\n",
    "                Dt_all[i+1,:] = emphasis / np.sum(emphasis) # normalize\n",
    "\n",
    "        # save neccessary parameters for the other methods\n",
    "        self.T = T\n",
    "        self.alpha = alpha\n",
    "        self.tree_list = tree_list\n",
    "\n",
    "        return self\n",
    "\n",
    "    def predict_proba(self, X):\n",
    "#         outputs = np.zeros((self.T,X.shape[0]))\n",
    "#         for t in range(self.T):\n",
    "#             mytree = self.tree_list[t]\n",
    "#             outputs[t,:] = mytree.predict_proba(X)[:,-1].T\n",
    "#         f = np.sum(np.multiply(outputs,self.alpha),axis=0).reshape((-1,1))\n",
    "\n",
    "\n",
    "        outputs = np.zeros((self.T,X.shape[0]))\n",
    "        for t in range(self.T):\n",
    "            mytree = self.tree_list[t]\n",
    "            outputs[t,:] = mytree.predict_proba(X)[:,1].T\n",
    "        f = np.sum(np.multiply(outputs,self.alpha),axis=0).reshape((-1,1)) / np.sum(self.alpha)\n",
    "        return f\n"
   ]
  },
  {
   "cell_type": "markdown",
   "metadata": {},
   "source": [
    "Results are not very good, but actually somehow better than those of other methods (LogReg, RF...). Remarkably, they are substantially better than those of AdaBoostClassifier of sklearn (with 200 estimators, also depth 2, it yields 0.5644)."
   ]
  },
  {
   "cell_type": "markdown",
   "metadata": {},
   "source": [
    "## Implementing AdaBoost for all categories, and getting Y_test predictions"
   ]
  },
  {
   "cell_type": "code",
   "execution_count": null,
   "metadata": {},
   "outputs": [],
   "source": [
    "spectrum_full_train = spectrum_in_bins(data,m,M,bin_size)\n",
    "targets_full_train = targets.copy(deep=True)"
   ]
  },
  {
   "cell_type": "code",
   "execution_count": 44,
   "metadata": {},
   "outputs": [
    {
     "name": "stdout",
     "output_type": "stream",
     "text": [
      "(214, 1)\n"
     ]
    }
   ],
   "source": [
    "ab_ours = OurAdaBoostEnsemble(T=500)\n",
    "ab_ours.fit(X_train,Y_train)\n",
    "a = ab_ours.predict_proba(X)\n",
    "print(a.shape)"
   ]
  },
  {
   "cell_type": "code",
   "execution_count": 45,
   "metadata": {},
   "outputs": [
    {
     "data": {
      "text/plain": [
       "[<matplotlib.lines.Line2D at 0x1db8b5505c8>]"
      ]
     },
     "execution_count": 45,
     "metadata": {},
     "output_type": "execute_result"
    },
    {
     "data": {
      "image/png": "[encoded data removed]",
      "text/plain": [
       "<Figure size 432x288 with 1 Axes>"
      ]
     },
     "metadata": {
      "needs_background": "light"
     },
     "output_type": "display_data"
    }
   ],
   "source": [
    "plt.plot(a)"
   ]
  },
  {
   "cell_type": "code",
   "execution_count": 37,
   "metadata": {},
   "outputs": [
    {
     "name": "stdout",
     "output_type": "stream",
     "text": [
      "110.645105392296\n",
      "(214, 1)\n",
      "[[0.39362984]\n",
      " [0.37798153]\n",
      " [0.60046148]\n",
      " [0.46865703]\n",
      " [0.39715514]\n",
      " [0.39667166]\n",
      " [0.35314687]\n",
      " [0.39196603]\n",
      " [0.36126931]\n",
      " [0.39962064]\n",
      " [0.36908676]\n",
      " [0.38354846]\n",
      " [0.39142687]\n",
      " [0.39696948]\n",
      " [0.34730252]\n",
      " [0.37519915]\n",
      " [0.39594707]\n",
      " [0.33696071]\n",
      " [0.40334569]\n",
      " [0.39516639]\n",
      " [0.37832477]\n",
      " [0.39141203]\n",
      " [0.3906933 ]\n",
      " [0.38191985]\n",
      " [0.36354434]\n",
      " [0.39545626]\n",
      " [0.39739017]\n",
      " [0.39857901]\n",
      " [0.4835309 ]\n",
      " [0.35559784]\n",
      " [0.39537912]\n",
      " [0.39352547]\n",
      " [0.36746528]\n",
      " [0.36087883]\n",
      " [0.46566959]\n",
      " [0.39440932]\n",
      " [0.36437665]\n",
      " [0.59756876]\n",
      " [0.39917476]\n",
      " [0.39347177]\n",
      " [0.39596213]\n",
      " [0.36143302]\n",
      " [0.60262785]\n",
      " [0.36325518]\n",
      " [0.38682924]\n",
      " [0.33359138]\n",
      " [0.39660577]\n",
      " [0.38008052]\n",
      " [0.38811795]\n",
      " [0.39546335]\n",
      " [0.3911763 ]\n",
      " [0.47808918]\n",
      " [0.57099182]\n",
      " [0.40261212]\n",
      " [0.39598302]\n",
      " [0.39931097]\n",
      " [0.39030715]\n",
      " [0.37737661]\n",
      " [0.39568528]\n",
      " [0.43823565]\n",
      " [0.39948479]\n",
      " [0.36699659]\n",
      " [0.39574226]\n",
      " [0.39849431]\n",
      " [0.39329836]\n",
      " [0.37734058]\n",
      " [0.39603867]\n",
      " [0.39559115]\n",
      " [0.38678298]\n",
      " [0.38501234]\n",
      " [0.45248564]\n",
      " [0.39168243]\n",
      " [0.40639935]\n",
      " [0.39775013]\n",
      " [0.36397712]\n",
      " [0.39487139]\n",
      " [0.39154774]\n",
      " [0.43350926]\n",
      " [0.39757083]\n",
      " [0.39637668]\n",
      " [0.39881276]\n",
      " [0.39788945]\n",
      " [0.41697795]\n",
      " [0.39810102]\n",
      " [0.38779367]\n",
      " [0.38121213]\n",
      " [0.3855756 ]\n",
      " [0.42819164]\n",
      " [0.41759236]\n",
      " [0.35218514]\n",
      " [0.39534919]\n",
      " [0.37733508]\n",
      " [0.39458287]\n",
      " [0.38926659]\n",
      " [0.39285729]\n",
      " [0.3966149 ]\n",
      " [0.39634968]\n",
      " [0.39346148]\n",
      " [0.39525412]\n",
      " [0.38650523]\n",
      " [0.44894859]\n",
      " [0.59982906]\n",
      " [0.60441905]\n",
      " [0.39325982]\n",
      " [0.60295286]\n",
      " [0.50189423]\n",
      " [0.5985651 ]\n",
      " [0.6029149 ]\n",
      " [0.60372174]\n",
      " [0.41038626]\n",
      " [0.40053898]\n",
      " [0.59845717]\n",
      " [0.39870439]\n",
      " [0.47534384]\n",
      " [0.55393898]\n",
      " [0.39511769]\n",
      " [0.39088972]\n",
      " [0.38197178]\n",
      " [0.48361627]\n",
      " [0.59678326]\n",
      " [0.33998456]\n",
      " [0.39349841]\n",
      " [0.60190265]\n",
      " [0.38933213]\n",
      " [0.60016669]\n",
      " [0.39121313]\n",
      " [0.60308775]\n",
      " [0.39495433]\n",
      " [0.61693694]\n",
      " [0.60021384]\n",
      " [0.60478933]\n",
      " [0.61500296]\n",
      " [0.54666493]\n",
      " [0.41031705]\n",
      " [0.60072103]\n",
      " [0.45053176]\n",
      " [0.60103959]\n",
      " [0.39754839]\n",
      " [0.60223529]\n",
      " [0.60593844]\n",
      " [0.44050733]\n",
      " [0.60267051]\n",
      " [0.39843714]\n",
      " [0.47572684]\n",
      " [0.60276268]\n",
      " [0.38240378]\n",
      " [0.38953603]\n",
      " [0.60259892]\n",
      " [0.59815076]\n",
      " [0.3975904 ]\n",
      " [0.60067909]\n",
      " [0.37363899]\n",
      " [0.4005017 ]\n",
      " [0.60262604]\n",
      " [0.61098938]\n",
      " [0.39101198]\n",
      " [0.60081358]\n",
      " [0.60873887]\n",
      " [0.59954881]\n",
      " [0.40243521]\n",
      " [0.39426704]\n",
      " [0.60057273]\n",
      " [0.59840645]\n",
      " [0.50495619]\n",
      " [0.40033145]\n",
      " [0.4282032 ]\n",
      " [0.33938498]\n",
      " [0.60139383]\n",
      " [0.39037184]\n",
      " [0.42260802]\n",
      " [0.59806246]\n",
      " [0.60228658]\n",
      " [0.3535127 ]\n",
      " [0.60565763]\n",
      " [0.60268546]\n",
      " [0.39743327]\n",
      " [0.46122127]\n",
      " [0.39693745]\n",
      " [0.3971844 ]\n",
      " [0.39604483]\n",
      " [0.38348619]\n",
      " [0.59884933]\n",
      " [0.39714185]\n",
      " [0.51845185]\n",
      " [0.60223413]\n",
      " [0.61864816]\n",
      " [0.59942761]\n",
      " [0.6001842 ]\n",
      " [0.39174536]\n",
      " [0.37964188]\n",
      " [0.60771092]\n",
      " [0.36975036]\n",
      " [0.39813675]\n",
      " [0.3739693 ]\n",
      " [0.39196281]\n",
      " [0.39545119]\n",
      " [0.39626222]\n",
      " [0.39255648]\n",
      " [0.39215035]\n",
      " [0.4021279 ]\n",
      " [0.37601414]\n",
      " [0.37709997]\n",
      " [0.42337909]\n",
      " [0.39844755]\n",
      " [0.37954604]\n",
      " [0.60279774]\n",
      " [0.39583712]\n",
      " [0.30631849]\n",
      " [0.39643538]\n",
      " [0.60169455]\n",
      " [0.39378274]\n",
      " [0.44529629]\n",
      " [0.43156008]\n",
      " [0.38442922]]\n"
     ]
    }
   ],
   "source": [
    "b = np.sum(list_of_best_clfs_list[0][0].alpha)\n",
    "print(b)\n",
    "\n",
    "c = a / b\n",
    "print(c.shape)\n",
    "print(c)"
   ]
  },
  {
   "cell_type": "code",
   "execution_count": 40,
   "metadata": {},
   "outputs": [
    {
     "name": "stdout",
     "output_type": "stream",
     "text": [
      "0.9753536693191865\n",
      "0.9753536693191865\n"
     ]
    }
   ],
   "source": [
    "from sklearn.metrics import roc_curve\n",
    "fpr,tpr,_ = roc_auc_score(Y,a)\n",
    "print(z1)\n",
    "z2 = roc_auc_score(Y,c)\n",
    "print(z2)"
   ]
  },
  {
   "cell_type": "code",
   "execution_count": null,
   "metadata": {},
   "outputs": [],
   "source": []
  },
  {
   "cell_type": "code",
   "execution_count": null,
   "metadata": {},
   "outputs": [],
   "source": []
  },
  {
   "cell_type": "code",
   "execution_count": null,
   "metadata": {},
   "outputs": [],
   "source": []
  },
  {
   "cell_type": "code",
   "execution_count": null,
   "metadata": {},
   "outputs": [],
   "source": []
  },
  {
   "cell_type": "markdown",
   "metadata": {},
   "source": [
    "# Generate final results in CSV format\n",
    "From \"Jagger_4_GenerateCSV_v2\""
   ]
  },
  {
   "cell_type": "code",
   "execution_count": 59,
   "metadata": {},
   "outputs": [],
   "source": [
    "def get_unique_spectre(spectre, df):\n",
    "  # Include the ID_sample column for the group_by\n",
    "  spectre['ID_sample'] = df.ID_sample\n",
    "  # MEAN OF THE SPECTRE\n",
    "  spectre = spectre.groupby('ID_sample').mean().reset_index()\n",
    "  return spectre\n",
    "\n",
    "# to be applyied to each category\n",
    "def apply_l1_feature_selection(spectrum_train,vect): # vect is l1_feat_list[c]\n",
    "    new_spectrum = spectrum_train.copy(deep=True).iloc[:,vect]   \n",
    "    return new_spectrum\n",
    "\n",
    "def generate_csv_from_clf(clf_list, path, path_results, file_name, L1_FEATURE_SELECTION=False, feature_vector_list = None):\n",
    "  # classifiers must be provided with parameters, and in a list [clf_antibiotic0, clf_antibiotic1, ...]\n",
    "  # spectrum and targets full train (containing all training points) will be used for training the clfs in clf list\n",
    "  # df_test must be provided as loaded from the file\n",
    "\n",
    "  # read all data from files\n",
    "  zf = zipfile.ZipFile(path+'zipped_TrainData.zip', 'r')\n",
    "  df_full_train = _pickle.loads(zf.open('TrainData.pkl').read());   zf.close()\n",
    "\n",
    "  zf = zipfile.ZipFile(path+'zipped_TestDataUnlabeled.zip', 'r')\n",
    "  df_test = _pickle.loads(zf.open('TestDataUnlabeled.pkl').read());   zf.close()\n",
    "\n",
    "  # Process test df to get UNIQUE samples and convert to spectrum\n",
    "\n",
    "  # df_unique_test = df_test.drop_duplicates(subset='ID_sample')\n",
    "\n",
    "  spectrum_test_forcsv = spectrum_in_bins(df_test,m,M,bin_size)\n",
    "  spectrum_test_forcsv = get_unique_spectre(spectrum_test_forcsv, df_test)\n",
    "    \n",
    "  # Process train set to later train the clfs\n",
    "  spectrum_full_train = spectrum_in_bins(df_full_train.iloc[:,-2:],m,M,bin_size)\n",
    "  targets_full_train  = df_full_train.iloc[:,1:-2]  \n",
    "\n",
    "  # read the submission example file\n",
    "  df_submission = pd.read_csv(path+'SubmissionSample.csv') \n",
    "  categories = df_submission.columns[1:]\n",
    "  df_submission['ID']= spectrum_test_forcsv['ID_sample'].values\n",
    "  # To eliminate the ID_sample from the spectrum\n",
    "  spectrum_test_forcsv = spectrum_test_forcsv.drop(columns=['ID_sample'])\n",
    "  for c, cat in enumerate(categories): \n",
    "      # clean NaN values\n",
    "      X_train, Y_train = clean_nan_samples(spectrum_full_train,targets_full_train, c, cat)\n",
    "\n",
    "      if L1_FEATURE_SELECTION: # a boolean that decides whether to apply L1 feature selection (L1 feature list has to be already defined, and input to the function)\n",
    "        X_train= apply_l1_feature_selection(X_train,feature_vector_list[c])\n",
    "        X_test = apply_l1_feature_selection(spectrum_test_forcsv,feature_vector_list[c])\n",
    "\n",
    "      # fit the classifier\n",
    "      clf_base = clf_list[c].fit(X_train,Y_train)\n",
    "      # Compute its test prestiction and save this output\n",
    "    \n",
    "    \n",
    "#       o_test = clf_base.predict_proba(spectrum_test_forcsv)[:,1]\n",
    "      o_test = clf_base.predict_proba(X_test)\n",
    "        \n",
    "      df_submission[cat] = o_test\n",
    "\n",
    "  # Save the dataframe with the predicted outputs\n",
    "  df_submission = df_submission.set_index('ID')\n",
    "  df_submission.to_csv(path_results + file_name + '.csv')\n",
    "  print('DONE!')\n",
    "  return df_submission"
   ]
  },
  {
   "cell_type": "code",
   "execution_count": 51,
   "metadata": {},
   "outputs": [
    {
     "name": "stdout",
     "output_type": "stream",
     "text": [
      "DONE!\n",
      "File: OurAdaBoost_bs5 has been successfully generated\n"
     ]
    }
   ],
   "source": [
    "clf_list = [OurAdaBoostEnsemble(T=500)]*9\n",
    "name = 'OurAdaBoost_bs5'\n",
    "df_submission = generate_csv_from_clf(clf_list,path,path_results, name)\n",
    "print('File: '+name+' has been successfully generated')"
   ]
  },
  {
   "cell_type": "code",
   "execution_count": null,
   "metadata": {},
   "outputs": [],
   "source": []
  },
  {
   "cell_type": "code",
   "execution_count": null,
   "metadata": {},
   "outputs": [],
   "source": []
  },
  {
   "cell_type": "code",
   "execution_count": 52,
   "metadata": {},
   "outputs": [],
   "source": [
    "with open(savepath+'l1_best_clfs_nodup.data', 'rb') as filehandle:\n",
    "    l1_best_clfs = pickle.load(filehandle)\n",
    "with open(savepath+'l1_feat_list_nodup.data', 'rb') as filehandle:\n",
    "    l1_feat_list = pickle.load(filehandle)"
   ]
  },
  {
   "cell_type": "code",
   "execution_count": 60,
   "metadata": {},
   "outputs": [
    {
     "name": "stdout",
     "output_type": "stream",
     "text": [
      "DONE!\n",
      "File: OurAdaBoost_bs5_withL1FeatSelect has been successfully generated\n"
     ]
    }
   ],
   "source": [
    "clf_list = [OurAdaBoostEnsemble(T=500)]*9\n",
    "name = 'OurAdaBoost_bs5_withL1FeatSelect'\n",
    "df_submission = generate_csv_from_clf(clf_list,path,path_results, name, True, l1_feat_list)\n",
    "print('File: '+name+' has been successfully generated')"
   ]
  },
  {
   "cell_type": "code",
   "execution_count": null,
   "metadata": {},
   "outputs": [],
   "source": []
  }
 ],
 "metadata": {
  "kernelspec": {
   "display_name": "Python 3",
   "language": "python",
   "name": "python3"
  },
  "language_info": {
   "codemirror_mode": {
    "name": "ipython",
    "version": 3
   },
   "file_extension": ".py",
   "mimetype": "text/x-python",
   "name": "python",
   "nbconvert_exporter": "python",
   "pygments_lexer": "ipython3",
   "version": "3.7.4"
  }
 },
 "nbformat": 4,
 "nbformat_minor": 2
}
