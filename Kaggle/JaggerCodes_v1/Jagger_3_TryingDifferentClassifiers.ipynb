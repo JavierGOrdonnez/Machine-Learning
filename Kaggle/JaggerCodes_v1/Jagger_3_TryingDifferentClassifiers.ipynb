{
 "cells": [
  {
   "cell_type": "markdown",
   "metadata": {},
   "source": [
    "# Imports"
   ]
  },
  {
   "cell_type": "code",
   "execution_count": 1,
   "metadata": {
    "scrolled": true
   },
   "outputs": [],
   "source": [
    "import matplotlib.pyplot as plt\n",
    "import numpy as np\n",
    "import pandas as pd\n",
    "import zipfile\n",
    "import _pickle\n",
    "from sklearn.model_selection import train_test_split\n",
    "from sklearn.model_selection import GridSearchCV\n",
    "from sklearn.ensemble import RandomForestClassifier\n",
    "from sklearn.metrics import roc_curve, auc, roc_auc_score\n",
    "import time"
   ]
  },
  {
   "cell_type": "markdown",
   "metadata": {},
   "source": [
    "# Data loading\n",
    "Remember to change path if needed"
   ]
  },
  {
   "cell_type": "code",
   "execution_count": 2,
   "metadata": {
    "scrolled": true
   },
   "outputs": [],
   "source": [
    "# path = \"D:/GitHub/Machine-Learning/Kaggle/\"\n",
    "path = \"C:/Users/Javi/Documents/GitHub/Machine-Learning/Kaggle/\"\n",
    "\n",
    "zf = zipfile.ZipFile(path+'zipped_TrainData.zip', 'r')\n",
    "df_train = _pickle.loads(zf.open('TrainData.pkl').read())\n",
    "zf.close()\n",
    "\n",
    "zf = zipfile.ZipFile(path+'zipped_TestDataUnlabeled.zip', 'r')\n",
    "df_test = _pickle.loads(zf.open('TestDataUnlabeled.pkl').read())\n",
    "zf.close()"
   ]
  },
  {
   "cell_type": "markdown",
   "metadata": {},
   "source": [
    "# Data split & Spectrum in regular bins\n",
    "Data is split between a proper training set (later used in cross-validation), and a test_train set, which will help us in determining under/overfitting as we do have labels for them.\n",
    "\n",
    "Spectrums are divided in regular size bins, always the same, so that we can treat them as features, not worrying about different mz scales. According to the literature the peaks contain the relevant information, then we only save the maximum value in the bin (range of mz coordinates) so that peak information is never lost. Moreover, by performing this regularization in bins, peaks at very close mz values (same compound, small mz differences due to experimental uncertainty) are seen by the machine as belonging to the same bin and therefore the same feature. Therefore, it facilitates to use peaks as values.\n",
    "\n",
    "Also, peak values are normalized by the maximum peak value of the spectrum, as specific values are experiment-dependent and do not carry information, only the relation between peak sizes does."
   ]
  },
  {
   "cell_type": "code",
   "execution_count": 3,
   "metadata": {
    "scrolled": true
   },
   "outputs": [],
   "source": [
    "def spectrum_in_bins(df,m,M,bin_size):\n",
    "    # Now, let's define the mz ranges, and the label associated to each of them (the mean of the limiting values of each bin)\n",
    "    range_min = []; range_max = []; range_label = [];\n",
    "    for mz in range(m,M,bin_size):\n",
    "        range_min.append(mz)\n",
    "        range_max.append(mz+bin_size)\n",
    "        range_label.append(np.mean([range_min[-1],range_max[-1]]).astype(int))\n",
    "\n",
    "\n",
    "    N = len(df)  # number of samples\n",
    "    L = len(range_min)  # length of new spectrum (number of bins)\n",
    "    all_data = np.zeros((N,L))\n",
    "    for idx in range(N): \n",
    "        intensity = df[['intensity']].iloc[idx].values[0]\n",
    "        mzcoord   = df[['coord_mz']].iloc[idx].values[0]\n",
    "        idx_data_in_bins = np.zeros((1,L))\n",
    "        for i,mz in enumerate(range_min):\n",
    "            intensity_range = intensity[(mzcoord > mz) & (mzcoord < (mz+bin_size))]\n",
    "            if len(intensity_range) > 0 :\n",
    "                idx_data_in_bins[0,i] = np.max(intensity_range)\n",
    "            else: # if those mz coordinates are not in that spectrum\n",
    "                idx_data_in_bins[0,i] = 0   \n",
    "\n",
    "        # Normalize the amplitude of the spectrum\n",
    "        idx_data_in_bins[0,:] = idx_data_in_bins[0,:] / np.max(idx_data_in_bins[0,:])\n",
    "        \n",
    "        \n",
    "        all_data[idx,:] = idx_data_in_bins\n",
    "    new_df = pd.DataFrame(data=all_data, columns = range_label, index = df.index)\n",
    "    return new_df"
   ]
  },
  {
   "cell_type": "code",
   "execution_count": 4,
   "metadata": {
    "scrolled": true
   },
   "outputs": [
    {
     "name": "stdout",
     "output_type": "stream",
     "text": [
      "Training samples: 412 and test_train samples: 104\n",
      "Spectrum regularized!\n"
     ]
    }
   ],
   "source": [
    "# Extract data (spectra) and targets of the df_train set\n",
    "data = df_train.iloc[:,-2:]\n",
    "targets = df_train.iloc[:,1:-2]\n",
    "\n",
    "m = 2000; M = 20000; \n",
    "bin_size = 50;\n",
    "\n",
    "# Then, split into a train and test_train set\n",
    "data_train, data_test_train, targets_train, targets_test_train = train_test_split(data, targets, test_size=0.2, random_state=42) # split the data\n",
    "print('Training samples: '+str(len(data_train))+' and test_train samples: ' + str(len(data_test_train)) )\n",
    "\n",
    "# apply the bins to all spectra, so that our feature space becomes the same for all samples (make them regular, all the same)\n",
    "spectrum_train = spectrum_in_bins(data_train,m,M,bin_size)\n",
    "spectrum_test_train = spectrum_in_bins(data_test_train,m,M,bin_size)\n",
    "print('Spectrum regularized!')\n",
    "# these spectrum_... are our X for training"
   ]
  },
  {
   "cell_type": "markdown",
   "metadata": {},
   "source": [
    "# Try different classifiers\n",
    "The try_clf function has been built for, given a classifier and a parameter dictionary (for hyperparameter cross-validation), create a classifier for each antibiotic, and return the results. This enables for fast testing of different classifiers. Moreover, the function also takes charge of suppressing NaN values in the targets ocurring for amikacina, levofloxacino and tobramicina."
   ]
  },
  {
   "cell_type": "code",
   "execution_count": null,
   "metadata": {
    "scrolled": true
   },
   "outputs": [],
   "source": [
    "def try_clf(clf,params,n_cv=5):\n",
    "    t1 = time.time()\n",
    "    \n",
    "    best_classifiers = [];\n",
    "    accuracies_train = []; accuracies_test_train = [];\n",
    "    AUC_train = []; AUC_test_train = [];\n",
    "    \n",
    "    # Selection of train and test data (depending on whether there are NaN target values)\n",
    "    for antibiotic_idx in range(len(targets_train.columns.values)):\n",
    "        column_name = [df_train.columns.values[1+antibiotic_idx]]\n",
    "        \n",
    "        print()\n",
    "        print(column_name) # indicate in which antibiotic we are\n",
    "        \n",
    "        if (df_train[column_name].isnull().sum() > 0).all(): # if there are NaN values, we should remove those samples\n",
    "#             print('There are NaN values in',column_name)\n",
    "            merged_train = pd.concat([spectrum_train , targets_train],axis=1,copy=True)\n",
    "            merged_test_train = pd.concat([spectrum_test_train, targets_test_train],axis=1)\n",
    "            clean_train = merged_train.dropna(subset=column_name)\n",
    "#             print('Dropped ',len(merged_train)-len(clean_train),' from training set')\n",
    "            clean_test_train = merged_test_train.dropna(subset=column_name)\n",
    "#             print('Dropped ',len(merged_test_train)-len(clean_test_train),' from test_training set')\n",
    "\n",
    "            Y_train = clean_train.iloc[:,-9+antibiotic_idx].to_numpy().reshape(-1,)\n",
    "            Y_test_train = clean_test_train.iloc[:,-9+antibiotic_idx].to_numpy().reshape(-1,)\n",
    "            X_train = clean_train.iloc[:,:-9]\n",
    "            X_test_train = clean_test_train.iloc[:,:-9]\n",
    "        else:\n",
    "            Y_train = targets_train.iloc[:,antibiotic_idx].to_numpy().reshape(-1,)\n",
    "            Y_test_train = targets_test_train.iloc[:,antibiotic_idx].to_numpy().reshape(-1,)\n",
    "            X_train = spectrum_train.copy(deep=True)\n",
    "            X_test_train = spectrum_test_train.copy(deep=True)\n",
    "            \n",
    "        # perform a GridSearchCV in order to train a classifier for this antibiotic\n",
    "        grid = GridSearchCV(clf,param_grid=params, cv=n_cv, iid=False)\n",
    "        grid.fit(X_train, Y_train)\n",
    "\n",
    "        # print the best parameters (to detect edge values), and save that classifier\n",
    "        print('The best parameters are: ',grid.best_params_)\n",
    "        best_clf = grid.best_estimator_\n",
    "        best_classifiers.append(best_clf)\n",
    "        \n",
    "        # compute the accuracy of the classifier\n",
    "        acc_train = best_clf.score(X_train, Y_train)\n",
    "        acc_test = best_clf.score(X_test_train, Y_test_train)\n",
    "        print('Train accuracy: ',np.round(acc_train,4),' and test_train accuracy: ',np.round(acc_test,4))\n",
    "        accuracies_train.append(acc_train)\n",
    "        accuracies_test_train.append(acc_test)\n",
    "        \n",
    "        # compute the AUC of the classifier\n",
    "        if callable(getattr(best_clf,\"predict_proba\",None)):\n",
    "            pred_train = best_clf.predict_proba(X_train)[:,-1] # only take last column, the prob of Y = +1\n",
    "            pred_test = best_clf.predict_proba(X_test_train)[:,-1]\n",
    "        else:\n",
    "            print('Using decision_function instead of predict_proba')\n",
    "            pred_train = best_clf.decision_function(X_train)\n",
    "            pred_test = best_clf.decision_function(X_test_train)            \n",
    "        auc_score_train = roc_auc_score(Y_train, pred_train)\n",
    "        auc_score_test = roc_auc_score(Y_test_train, pred_test)\n",
    "        print('Train AUC: ',np.round(auc_score_train,4),' and test_train AUC: ',np.round(auc_score_test,4))\n",
    "        AUC_train.append(auc_score_train)\n",
    "        AUC_test_train.append(auc_score_test)\n",
    "        \n",
    "    avg_AUC_train = np.mean(AUC_train)\n",
    "    avg_AUC_test_train = np.mean(AUC_test_train)\n",
    "    print('\\n\\nThe average train AUC is',np.round(avg_AUC_train,4),'and the avg test_train AUC is',np.round(avg_AUC_test_train,4))\n",
    "    \n",
    "    t2 = time.time()\n",
    "    print('\\nFull execution took ',np.round(t2-t1,1),'seconds')\n",
    "    print('\\nDONE!')\n",
    "    return best_classifiers, accuracies_train, accuracies_test_train, AUC_train, AUC_test_train"
   ]
  },
  {
   "cell_type": "markdown",
   "metadata": {},
   "source": [
    "## Logistic regressor classifier"
   ]
  },
  {
   "cell_type": "code",
   "execution_count": 14,
   "metadata": {
    "scrolled": true
   },
   "outputs": [
    {
     "name": "stdout",
     "output_type": "stream",
     "text": [
      "\n",
      "['OXACILINA']\n",
      "The best parameters are:  {'C': 100.0}\n",
      "Train accuracy:  0.8228  and test_train accuracy:  0.75\n",
      "Train AUC:  0.9086  and test_train AUC:  0.7906\n",
      "\n",
      "['AMIKACINA']\n",
      "The best parameters are:  {'C': 100.0}\n",
      "Train accuracy:  0.8468  and test_train accuracy:  0.7683\n",
      "Train AUC:  0.8959  and test_train AUC:  0.706\n",
      "\n",
      "['AMOXI/CLAV']\n",
      "The best parameters are:  {'C': 100.0}\n",
      "Train accuracy:  0.8301  and test_train accuracy:  0.75\n",
      "Train AUC:  0.9062  and test_train AUC:  0.7771\n",
      "\n",
      "['CIPROFLOXACINO']\n",
      "The best parameters are:  {'C': 100.0}\n",
      "Train accuracy:  0.835  and test_train accuracy:  0.7692\n",
      "Train AUC:  0.8871  and test_train AUC:  0.7741\n",
      "\n",
      "['CLINDAMICINA']\n",
      "The best parameters are:  {'C': 1e-05}\n",
      "Train accuracy:  0.7961  and test_train accuracy:  0.7788\n",
      "Train AUC:  0.6269  and test_train AUC:  0.6991\n",
      "\n",
      "['ERITROMICINA']\n",
      "The best parameters are:  {'C': 1000.0}\n",
      "Train accuracy:  0.8544  and test_train accuracy:  0.6827\n",
      "Train AUC:  0.9017  and test_train AUC:  0.7049\n",
      "\n",
      "['LEVOFLOXACINO']\n",
      "The best parameters are:  {'C': 100.0}\n",
      "Train accuracy:  0.8195  and test_train accuracy:  0.7647\n",
      "Train AUC:  0.8989  and test_train AUC:  0.7667\n",
      "\n",
      "['PENICILINA']\n",
      "The best parameters are:  {'C': 100.0}\n",
      "Train accuracy:  0.915  and test_train accuracy:  0.9135\n",
      "Train AUC:  0.8948  and test_train AUC:  0.816\n",
      "\n",
      "['TOBRAMICINA']\n",
      "The best parameters are:  {'C': 100.0}\n",
      "Train accuracy:  0.8462  and test_train accuracy:  0.747\n",
      "Train AUC:  0.8976  and test_train AUC:  0.7547\n",
      "The average train AUC is 0.8686 and the avg test_train AUC is  0.7544\n",
      "DONE!\n"
     ]
    }
   ],
   "source": [
    "from sklearn.linear_model import LogisticRegression\n",
    "clf = LogisticRegression(max_iter=1e6, solver='lbfgs')\n",
    "params = {'C':10.**np.arange(-5,5)}\n",
    "lr_best_clfs, _, _, lr_AUC_train, lr_AUC_test_train = try_clf(clf,params)"
   ]
  },
  {
   "cell_type": "code",
   "execution_count": 36,
   "metadata": {
    "collapsed": true,
    "scrolled": true
   },
   "outputs": [
    {
     "name": "stdout",
     "output_type": "stream",
     "text": [
      "\n",
      "['OXACILINA']\n",
      "The best parameters are:  {'C': 1000.0}\n",
      "Train accuracy:  0.8932  and test_train accuracy:  0.7404\n",
      "Train AUC:  0.9554  and test_train AUC:  0.8335\n",
      "\n",
      "['AMIKACINA']\n",
      "The best parameters are:  {'C': 100.0}\n",
      "Train accuracy:  0.8324  and test_train accuracy:  0.6829\n",
      "Train AUC:  0.9032  and test_train AUC:  0.7294\n",
      "\n",
      "['AMOXI/CLAV']\n",
      "The best parameters are:  {'C': 1000.0}\n",
      "Train accuracy:  0.8859  and test_train accuracy:  0.7404\n",
      "Train AUC:  0.9543  and test_train AUC:  0.8102\n",
      "\n",
      "['CIPROFLOXACINO']\n",
      "The best parameters are:  {'C': 100.0}\n",
      "Train accuracy:  0.8034  and test_train accuracy:  0.7404\n",
      "Train AUC:  0.8902  and test_train AUC:  0.7793\n",
      "\n",
      "['CLINDAMICINA']\n",
      "The best parameters are:  {'C': 10000.0}\n",
      "Train accuracy:  0.9126  and test_train accuracy:  0.6923\n",
      "Train AUC:  0.9762  and test_train AUC:  0.6621\n",
      "\n",
      "['ERITROMICINA']\n",
      "The best parameters are:  {'C': 1000.0}\n",
      "Train accuracy:  0.8155  and test_train accuracy:  0.6827\n",
      "Train AUC:  0.905  and test_train AUC:  0.7122\n",
      "\n",
      "['LEVOFLOXACINO']\n",
      "The best parameters are:  {'C': 100.0}\n",
      "Train accuracy:  0.8268  and test_train accuracy:  0.7157\n",
      "Train AUC:  0.9013  and test_train AUC:  0.7725\n",
      "\n",
      "['PENICILINA']\n",
      "The best parameters are:  {'C': 1e-05}\n",
      "Train accuracy:  0.8932  and test_train accuracy:  0.9038\n",
      "Train AUC:  0.6252  and test_train AUC:  0.6213\n",
      "\n",
      "['TOBRAMICINA']\n",
      "The best parameters are:  {'C': 10000.0}\n",
      "Train accuracy:  0.9345  and test_train accuracy:  0.7711\n",
      "Train AUC:  0.9862  and test_train AUC:  0.7938\n",
      "\n",
      "\n",
      "The average train AUC is 0.8997 and the avg test_train AUC is 0.746\n",
      "\n",
      "DONE!\n"
     ]
    }
   ],
   "source": [
    "# let's now try with balanced class weights\n",
    "clf = LogisticRegression(max_iter=1e6, solver='lbfgs',class_weight='balanced')\n",
    "params = {'C':10.**np.arange(-5,5)}\n",
    "lr_balanced_best_clfs, _, _, lr_balanced_AUC_train, lr_balanced_AUC_test_train = try_clf(clf,params,3)"
   ]
  },
  {
   "cell_type": "code",
   "execution_count": 43,
   "metadata": {
    "collapsed": true,
    "scrolled": true
   },
   "outputs": [
    {
     "name": "stdout",
     "output_type": "stream",
     "text": [
      "\n",
      "['OXACILINA']\n",
      "The best parameters are:  {'C': 1000.0}\n",
      "Train accuracy:  0.8932  and test_train accuracy:  0.7404\n",
      "Train AUC:  0.9554  and test_train AUC:  0.8335\n",
      "\n",
      "['AMIKACINA']\n",
      "The best parameters are:  {'C': 10000.0}\n",
      "Train accuracy:  0.9335  and test_train accuracy:  0.7439\n",
      "Train AUC:  0.9861  and test_train AUC:  0.7544\n",
      "\n",
      "['AMOXI/CLAV']\n",
      "The best parameters are:  {'C': 1000.0}\n",
      "Train accuracy:  0.8859  and test_train accuracy:  0.7404\n",
      "Train AUC:  0.9543  and test_train AUC:  0.8102\n",
      "\n",
      "['CIPROFLOXACINO']\n",
      "The best parameters are:  {'C': 10000.0}\n",
      "Train accuracy:  0.9005  and test_train accuracy:  0.75\n",
      "Train AUC:  0.973  and test_train AUC:  0.8179\n",
      "\n",
      "['CLINDAMICINA']\n",
      "The best parameters are:  {'C': 1e-05}\n",
      "Train accuracy:  0.7961  and test_train accuracy:  0.7788\n",
      "Train AUC:  0.627  and test_train AUC:  0.6986\n",
      "\n",
      "['ERITROMICINA']\n",
      "The best parameters are:  {'C': 1000.0}\n",
      "Train accuracy:  0.8155  and test_train accuracy:  0.6827\n",
      "Train AUC:  0.905  and test_train AUC:  0.7122\n",
      "\n",
      "['LEVOFLOXACINO']\n",
      "The best parameters are:  {'C': 10000.0}\n",
      "Train accuracy:  0.9415  and test_train accuracy:  0.7647\n",
      "Train AUC:  0.9824  and test_train AUC:  0.8176\n",
      "\n",
      "['PENICILINA']\n",
      "The best parameters are:  {'C': 1e-05}\n",
      "Train accuracy:  0.8932  and test_train accuracy:  0.9038\n",
      "Train AUC:  0.6252  and test_train AUC:  0.6213\n",
      "\n",
      "['TOBRAMICINA']\n",
      "The best parameters are:  {'C': 10000.0}\n",
      "Train accuracy:  0.9345  and test_train accuracy:  0.7711\n",
      "Train AUC:  0.9862  and test_train AUC:  0.7938\n",
      "\n",
      "\n",
      "The average train AUC is 0.8883 and the avg test_train AUC is 0.7622\n",
      "\n",
      "DONE!\n"
     ]
    }
   ],
   "source": [
    "# let's now try with balanced class weights\n",
    "clf = LogisticRegression(max_iter=1e6, solver='lbfgs',class_weight='balanced')\n",
    "params = {'C':10.**np.arange(-5,5)}\n",
    "lr_balanced_best_clfs, _, _, lr_balanced_AUC_train, lr_balanced_AUC_test_train = try_clf(clf,params,10)"
   ]
  },
  {
   "cell_type": "code",
   "execution_count": 44,
   "metadata": {
    "collapsed": true,
    "scrolled": false
   },
   "outputs": [
    {
     "name": "stdout",
     "output_type": "stream",
     "text": [
      "\n",
      "['OXACILINA']\n",
      "The best parameters are:  {'C': 1000.0}\n",
      "Train accuracy:  0.8932  and test_train accuracy:  0.7404\n",
      "Train AUC:  0.9554  and test_train AUC:  0.8335\n",
      "\n",
      "['AMIKACINA']\n",
      "The best parameters are:  {'C': 10000.0}\n",
      "Train accuracy:  0.9335  and test_train accuracy:  0.7439\n",
      "Train AUC:  0.9861  and test_train AUC:  0.7544\n",
      "\n",
      "['AMOXI/CLAV']\n",
      "The best parameters are:  {'C': 1000.0}\n",
      "Train accuracy:  0.8859  and test_train accuracy:  0.7404\n",
      "Train AUC:  0.9543  and test_train AUC:  0.8102\n",
      "\n",
      "['CIPROFLOXACINO']\n",
      "The best parameters are:  {'C': 1000.0}\n",
      "Train accuracy:  0.8495  and test_train accuracy:  0.7692\n",
      "Train AUC:  0.9361  and test_train AUC:  0.814\n",
      "\n",
      "['CLINDAMICINA']\n",
      "The best parameters are:  {'C': 100000.0}\n",
      "Train accuracy:  0.9757  and test_train accuracy:  0.7019\n",
      "Train AUC:  0.9988  and test_train AUC:  0.6449\n",
      "\n",
      "['ERITROMICINA']\n",
      "The best parameters are:  {'C': 1000.0}\n",
      "Train accuracy:  0.8155  and test_train accuracy:  0.6827\n",
      "Train AUC:  0.905  and test_train AUC:  0.7122\n",
      "\n",
      "['LEVOFLOXACINO']\n",
      "The best parameters are:  {'C': 10000.0}\n",
      "Train accuracy:  0.9415  and test_train accuracy:  0.7647\n",
      "Train AUC:  0.9824  and test_train AUC:  0.8176\n",
      "\n",
      "['PENICILINA']\n",
      "The best parameters are:  {'C': 10000.0}\n",
      "Train accuracy:  0.966  and test_train accuracy:  0.8462\n",
      "Train AUC:  0.9997  and test_train AUC:  0.7883\n",
      "\n",
      "['TOBRAMICINA']\n",
      "The best parameters are:  {'C': 1000.0}\n",
      "Train accuracy:  0.8803  and test_train accuracy:  0.759\n",
      "Train AUC:  0.9548  and test_train AUC:  0.775\n",
      "\n",
      "\n",
      "The average train AUC is 0.9636 and the avg test_train AUC is 0.7722\n",
      "\n",
      "DONE!\n"
     ]
    }
   ],
   "source": [
    "# let's now try with balanced class weights\n",
    "clf = LogisticRegression(max_iter=1e6, solver='lbfgs',class_weight='balanced')\n",
    "params = {'C':10.**np.arange(-2,6)}\n",
    "lr_balanced_best_clfs, _, _, lr_balanced_AUC_train, lr_balanced_AUC_test_train = try_clf(clf,params,5)"
   ]
  },
  {
   "cell_type": "code",
   "execution_count": 45,
   "metadata": {
    "collapsed": true
   },
   "outputs": [
    {
     "name": "stdout",
     "output_type": "stream",
     "text": [
      "\n",
      "['OXACILINA']\n",
      "The best parameters are:  {'C': 1000.0}\n",
      "Train accuracy:  0.8932  and test_train accuracy:  0.7404\n",
      "Train AUC:  0.9554  and test_train AUC:  0.8335\n",
      "\n",
      "['AMIKACINA']\n",
      "The best parameters are:  {'C': 10000.0}\n",
      "Train accuracy:  0.9335  and test_train accuracy:  0.7439\n",
      "Train AUC:  0.9861  and test_train AUC:  0.7544\n",
      "\n",
      "['AMOXI/CLAV']\n",
      "The best parameters are:  {'C': 1000.0}\n",
      "Train accuracy:  0.8859  and test_train accuracy:  0.7404\n",
      "Train AUC:  0.9543  and test_train AUC:  0.8102\n",
      "\n",
      "['CIPROFLOXACINO']\n",
      "The best parameters are:  {'C': 10000.0}\n",
      "Train accuracy:  0.9005  and test_train accuracy:  0.75\n",
      "Train AUC:  0.973  and test_train AUC:  0.8179\n",
      "\n",
      "['CLINDAMICINA']\n",
      "The best parameters are:  {'C': 1000.0}\n",
      "Train accuracy:  0.835  and test_train accuracy:  0.6635\n",
      "Train AUC:  0.9277  and test_train AUC:  0.6906\n",
      "\n",
      "['ERITROMICINA']\n",
      "The best parameters are:  {'C': 1000.0}\n",
      "Train accuracy:  0.8155  and test_train accuracy:  0.6827\n",
      "Train AUC:  0.905  and test_train AUC:  0.7122\n",
      "\n",
      "['LEVOFLOXACINO']\n",
      "The best parameters are:  {'C': 10000.0}\n",
      "Train accuracy:  0.9415  and test_train accuracy:  0.7647\n",
      "Train AUC:  0.9824  and test_train AUC:  0.8176\n",
      "\n",
      "['PENICILINA']\n",
      "The best parameters are:  {'C': 100000.0}\n",
      "Train accuracy:  1.0  and test_train accuracy:  0.8558\n",
      "Train AUC:  1.0  and test_train AUC:  0.8064\n",
      "\n",
      "['TOBRAMICINA']\n",
      "The best parameters are:  {'C': 10000.0}\n",
      "Train accuracy:  0.9345  and test_train accuracy:  0.7711\n",
      "Train AUC:  0.9862  and test_train AUC:  0.7938\n",
      "\n",
      "\n",
      "The average train AUC is 0.9633 and the avg test_train AUC is 0.7819\n",
      "\n",
      "DONE!\n"
     ]
    }
   ],
   "source": [
    "# let's now try with balanced class weights\n",
    "clf = LogisticRegression(max_iter=1e6, solver='lbfgs',class_weight='balanced')\n",
    "params = {'C':10.**np.arange(-2,6)}\n",
    "lr_balanced_best_clfs, _, _, lr_balanced_AUC_train, lr_balanced_AUC_test_train = try_clf(clf,params,10)"
   ]
  },
  {
   "cell_type": "code",
   "execution_count": null,
   "metadata": {},
   "outputs": [],
   "source": [
    "plt.figure(figsize=(20,10))\n",
    "col_names = targets_train.columns.values\n",
    "plt.plot(col_names,lr_AUC_test_train,label='Unbalanced LR')\n",
    "plt.plot(col_names,lr_balanced_AUC_test_train,label='Balanced LR')\n",
    "plt.title('AUC for test_train set')\n",
    "plt.legend()\n",
    "plt.show()"
   ]
  },
  {
   "cell_type": "markdown",
   "metadata": {},
   "source": [
    "### Important note\n",
    "It is better to use balanced class weights (in general), and also a 10-fold cross-validation instead of 5."
   ]
  },
  {
   "cell_type": "markdown",
   "metadata": {},
   "source": [
    "## KNN"
   ]
  },
  {
   "cell_type": "code",
   "execution_count": null,
   "metadata": {
    "scrolled": true
   },
   "outputs": [],
   "source": [
    "from sklearn.neighbors import KNeighborsClassifier\n",
    "clf = KNeighborsClassifier()\n",
    "params = {'n_neighbors':np.arange(1,40)}\n",
    "knn_best_clfs, _, _, knn_AUC_train, knn_AUC_test_train = try_clf(clf,params,10)"
   ]
  },
  {
   "cell_type": "markdown",
   "metadata": {},
   "source": [
    "## SVM - Linear"
   ]
  },
  {
   "cell_type": "code",
   "execution_count": 65,
   "metadata": {
    "scrolled": true
   },
   "outputs": [
    {
     "name": "stdout",
     "output_type": "stream",
     "text": [
      "\n",
      "['OXACILINA']\n",
      "The best parameters are:  {'C': 1000.0}\n",
      "Train accuracy:  0.9126  and test_train accuracy:  0.7788\n",
      "Train AUC:  0.9623  and test_train AUC:  0.8462\n",
      "\n",
      "['AMIKACINA']\n",
      "The best parameters are:  {'C': 100.0}\n",
      "Train accuracy:  0.8497  and test_train accuracy:  0.7317\n",
      "Train AUC:  0.9164  and test_train AUC:  0.7157\n",
      "\n",
      "['AMOXI/CLAV']\n",
      "The best parameters are:  {'C': 10000.0}\n",
      "Train accuracy:  0.9563  and test_train accuracy:  0.7115\n",
      "Train AUC:  0.9869  and test_train AUC:  0.8187\n",
      "\n",
      "['CIPROFLOXACINO']\n",
      "The best parameters are:  {'C': 100.0}\n",
      "Train accuracy:  0.8252  and test_train accuracy:  0.7788\n",
      "Train AUC:  0.8995  and test_train AUC:  0.8023\n",
      "\n",
      "['CLINDAMICINA']\n",
      "The best parameters are:  {'C': 100000.0}\n",
      "Train accuracy:  0.9903  and test_train accuracy:  0.7404\n",
      "Train AUC:  0.9963  and test_train AUC:  0.6653\n",
      "\n",
      "['ERITROMICINA']\n",
      "The best parameters are:  {'C': 100.0}\n",
      "Train accuracy:  0.7913  and test_train accuracy:  0.6827\n",
      "Train AUC:  0.8565  and test_train AUC:  0.7251\n",
      "\n",
      "['LEVOFLOXACINO']\n",
      "The best parameters are:  {'C': 1000.0}\n",
      "Train accuracy:  0.8951  and test_train accuracy:  0.7549\n",
      "Train AUC:  0.9543  and test_train AUC:  0.7797\n",
      "\n",
      "['PENICILINA']\n",
      "The best parameters are:  {'C': 1000.0}\n",
      "Train accuracy:  0.9417  and test_train accuracy:  0.8462\n",
      "Train AUC:  0.9827  and test_train AUC:  0.7617\n",
      "\n",
      "['TOBRAMICINA']\n",
      "The best parameters are:  {'C': 100.0}\n",
      "Train accuracy:  0.8348  and test_train accuracy:  0.7349\n",
      "Train AUC:  0.9148  and test_train AUC:  0.7692\n",
      "\n",
      "\n",
      "The average train AUC is 0.9411 and the avg test_train AUC is 0.7649\n",
      "\n",
      "DONE!\n"
     ]
    }
   ],
   "source": [
    "from sklearn.svm import SVC\n",
    "clf = SVC(kernel='linear', class_weight='balanced')\n",
    "params = {'C':10.**np.arange(-3,7)}\n",
    "linear_SVM_best_clfs, _, _, linear_SVM_AUC_train, linear_SVM_AUC_test_train = try_clf(clf,params,10)"
   ]
  },
  {
   "cell_type": "code",
   "execution_count": 59,
   "metadata": {
    "scrolled": true
   },
   "outputs": [
    {
     "data": {
      "image/png": "[encoded data removed]",
      "text/plain": [
       "<Figure size 432x288 with 1 Axes>"
      ]
     },
     "metadata": {
      "needs_background": "light"
     },
     "output_type": "display_data"
    },
    {
     "name": "stdout",
     "output_type": "stream",
     "text": [
      "0.6995506535947713\n"
     ]
    }
   ],
   "source": [
    "clf = SVC(kernel='linear', class_weight='balanced').fit(spectrum_train,targets_train.iloc[:,0].to_numpy().reshape(-1,))\n",
    "plt.plot(clf.decision_function(spectrum_train))\n",
    "plt.show()\n",
    "\n",
    "antibiotic_idx = 0\n",
    "Y_test_train = targets_test_train.iloc[:,antibiotic_idx].to_numpy().reshape(-1,)\n",
    "X_test_train = spectrum_test_train.copy(deep=True)\n",
    "\n",
    "pred_test_train = clf.decision_function(X_test_train)\n",
    "print(roc_auc_score(Y_test_train,pred_test_train))"
   ]
  },
  {
   "cell_type": "markdown",
   "metadata": {},
   "source": [
    "I don't really know what SVC.decision_function is returning, because as we can see in the plot above, it is btw -2 and 4, not between 0 and 1. Therefore, it is not probabilities.\n",
    "\n",
    "Now, let's try with the option \"probability\" = True, than although making it slower, it enables predict_proba."
   ]
  },
  {
   "cell_type": "code",
   "execution_count": 70,
   "metadata": {
    "scrolled": true
   },
   "outputs": [
    {
     "name": "stdout",
     "output_type": "stream",
     "text": [
      "\n",
      "['OXACILINA']\n",
      "The best parameters are:  {'C': 1000.0}\n",
      "Train accuracy:  0.9126  and test_train accuracy:  0.7788\n",
      "Train AUC:  0.9623  and test_train AUC:  0.8464\n",
      "\n",
      "['AMIKACINA']\n",
      "The best parameters are:  {'C': 100.0}\n",
      "Train accuracy:  0.8497  and test_train accuracy:  0.7317\n",
      "Train AUC:  0.9163  and test_train AUC:  0.7157\n",
      "\n",
      "['AMOXI/CLAV']\n",
      "The best parameters are:  {'C': 10000.0}\n",
      "Train accuracy:  0.9563  and test_train accuracy:  0.7115\n",
      "Train AUC:  0.9869  and test_train AUC:  0.8187\n",
      "\n",
      "['CIPROFLOXACINO']\n",
      "The best parameters are:  {'C': 100.0}\n",
      "Train accuracy:  0.8252  and test_train accuracy:  0.7788\n",
      "Train AUC:  0.8994  and test_train AUC:  0.8023\n",
      "\n",
      "['CLINDAMICINA']\n",
      "The best parameters are:  {'C': 100000.0}\n",
      "Train accuracy:  0.9903  and test_train accuracy:  0.7404\n",
      "Train AUC:  0.9963  and test_train AUC:  0.6653\n",
      "\n",
      "['ERITROMICINA']\n",
      "The best parameters are:  {'C': 100.0}\n",
      "Train accuracy:  0.7913  and test_train accuracy:  0.6827\n",
      "Train AUC:  0.8565  and test_train AUC:  0.7251\n",
      "\n",
      "['LEVOFLOXACINO']\n",
      "The best parameters are:  {'C': 1000.0}\n",
      "Train accuracy:  0.8951  and test_train accuracy:  0.7549\n",
      "Train AUC:  0.9545  and test_train AUC:  0.7797\n",
      "\n",
      "['PENICILINA']\n",
      "The best parameters are:  {'C': 1000.0}\n",
      "Train accuracy:  0.9417  and test_train accuracy:  0.8462\n",
      "Train AUC:  0.9827  and test_train AUC:  0.7617\n",
      "\n",
      "['TOBRAMICINA']\n",
      "The best parameters are:  {'C': 100.0}\n",
      "Train accuracy:  0.8348  and test_train accuracy:  0.7349\n",
      "Train AUC:  0.9148  and test_train AUC:  0.7692\n",
      "\n",
      "\n",
      "The average train AUC is 0.9411 and the avg test_train AUC is 0.7649\n",
      "\n",
      "DONE!\n"
     ]
    }
   ],
   "source": [
    "clf = SVC(kernel='linear', class_weight='balanced', probability=True)\n",
    "params = {'C':10.**np.arange(-3,7)} \n",
    "linear_SVM_prob_best_clfs, _, _, linear_SVM_prob_AUC_train, linear_SVM_prob_AUC_test_train = try_clf(clf,params,10)"
   ]
  },
  {
   "cell_type": "code",
   "execution_count": 76,
   "metadata": {
    "scrolled": true
   },
   "outputs": [
    {
     "data": {
      "image/png": "[encoded data removed]",
      "text/plain": [
       "<Figure size 432x288 with 1 Axes>"
      ]
     },
     "metadata": {
      "needs_background": "light"
     },
     "output_type": "display_data"
    }
   ],
   "source": [
    "plt.figure()\n",
    "col_names = targets_train.columns.values\n",
    "plt.plot(col_names,linear_SVM_AUC_test_train,label='Decision function')\n",
    "plt.plot(col_names,linear_SVM_prob_AUC_test_train,label='Predict proba')\n",
    "plt.title('AUC for test_train set')\n",
    "plt.legend()\n",
    "plt.show()"
   ]
  },
  {
   "cell_type": "code",
   "execution_count": null,
   "metadata": {},
   "outputs": [],
   "source": [
    "np.asarray(linear_SVM_AUC_test_train) - np.asarray(linear_SVM_prob_AUC_test_train)"
   ]
  },
  {
   "cell_type": "markdown",
   "metadata": {},
   "source": [
    "Ok, it looks like both are yielding the same results, and using probability = True takes much more time. So, it will not be used from now on."
   ]
  },
  {
   "cell_type": "markdown",
   "metadata": {},
   "source": [
    "## SVM - Polynomial"
   ]
  },
  {
   "cell_type": "code",
   "execution_count": null,
   "metadata": {
    "scrolled": true
   },
   "outputs": [],
   "source": [
    "clf = SVC(kernel='poly', class_weight='balanced')\n",
    "\n",
    "C_vector = 10. ** np.arange(-6,3)\n",
    "gamma_vector = 10. ** np.arange(-4,4)\n",
    "degree_vector = [1,2,3]\n",
    "params = {'C':C_vector, 'gamma':gamma_vector, 'degree':degree_vector}\n",
    "\n",
    "poly_SVM_best_clfs, _, _, poly_SVM_AUC_train, poly_SVM_AUC_test_train = try_clf(clf,params,10)"
   ]
  },
  {
   "cell_type": "markdown",
   "metadata": {},
   "source": [
    "## SVM - RBF"
   ]
  },
  {
   "cell_type": "code",
   "execution_count": null,
   "metadata": {
    "scrolled": true
   },
   "outputs": [],
   "source": [
    "clf = SVC(kernel='rbf', class_weight='balanced')\n",
    "\n",
    "C_vector = 10. ** np.arange(-4,4)\n",
    "gamma_vector = 10. ** np.arange(-4,4)\n",
    "params = {'C':C_vector, 'gamma':gamma_vector}\n",
    "\n",
    "poly_SVM_best_clfs, _, _, rbf_SVM_AUC_train, rbf_SVM_AUC_test_train = try_clf(clf,params,10)"
   ]
  },
  {
   "cell_type": "code",
   "execution_count": null,
   "metadata": {
    "scrolled": true
   },
   "outputs": [],
   "source": []
  },
  {
   "cell_type": "code",
   "execution_count": null,
   "metadata": {
    "scrolled": true
   },
   "outputs": [],
   "source": []
  }
 ],
 "metadata": {
  "kernelspec": {
   "display_name": "Python 3",
   "language": "python",
   "name": "python3"
  },
  "language_info": {
   "codemirror_mode": {
    "name": "ipython",
    "version": 3
   },
   "file_extension": ".py",
   "mimetype": "text/x-python",
   "name": "python",
   "nbconvert_exporter": "python",
   "pygments_lexer": "ipython3",
   "version": "3.7.3"
  }
 },
 "nbformat": 4,
 "nbformat_minor": 2
}
