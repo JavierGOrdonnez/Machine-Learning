{
 "cells": [
  {
   "cell_type": "code",
   "execution_count": null,
   "metadata": {},
   "outputs": [],
   "source": [
    "import GPy\n",
    "import numpy as np\n",
    "import matplotlib.pyplot as plt\n",
    "\n",
    "import warnings\n",
    "warnings.filterwarnings('ignore')\n",
    "\n",
    "from IPython.display import display\n",
    "\n",
    "%matplotlib inline\n",
    "%config InlineBackend.figure_format = 'retina'   ##QUALITY FIGURES!!\n",
    "plt.rcParams[\"figure.figsize\"] = [8,8]"
   ]
  },
  {
   "cell_type": "markdown",
   "metadata": {},
   "source": [
    "### Generate a GP model"
   ]
  },
  {
   "cell_type": "code",
   "execution_count": null,
   "metadata": {},
   "outputs": [],
   "source": [
    "kernel = GPy.kern.RBF(input_dim=1, variance=1., lengthscale=1)\n",
    "# Many kernels are already implemented in GPy. \n",
    "# A comprehensive list can be list can be found but typing GPy.kern.<tab>)\n",
    "# Also, kernels can be combined: https://nbviewer.jupyter.org/github/SheffieldML/notebook/blob/master/GPy/basic_kernels.ipynb\n",
    "\n",
    "m = GPy.models.GPRegression(X,Y,kernel)\n",
    "m.optimize(messages=True)\n",
    "# or, with several random initializations\n",
    "m.optimize_restarts(num_restarts = 10)\n",
    "\n",
    "display(m)\n",
    "fig = m.plot(plot_density=True)"
   ]
  },
  {
   "cell_type": "markdown",
   "metadata": {},
   "source": [
    "### Generate samples of f(x) i.e. functions"
   ]
  },
  {
   "cell_type": "code",
   "execution_count": null,
   "metadata": {},
   "outputs": [],
   "source": [
    "X_true = np.linspace(-5,5,1000)[:,None]\n",
    "posteriorYtest = m.posterior_samples_f(X_true, full_cov=True, size=nsamples).reshape([-1,nsamples]"
   ]
  },
  {
   "cell_type": "markdown",
   "metadata": {},
   "source": [
    "### Automatic Relevance Determination in RBF kernel (ARD-RBF)\n",
    "**Automatic Relevance Determination** kernel: In the RBF-ARD kernel,  each input dimension has a different lengthscale, hence enabling interpretability:\n",
    "\n",
    "\\begin{align}\n",
    "k(\\mathbf{x},\\mathbf{x}^*) = \\sigma^2 \\exp \\left(- \\sum_{d=1}^{D} \\frac{(x_d-x_d^*)^2}{2\\ell_d^2}\\right)\n",
    "\\end{align}\n",
    "\n",
    "*That is, larger $\\ell_d$ means that feature d decays faster and therefore shows less correlation between close-by points.*\n",
    "\n",
    "*In short, larger $\\ell_d$ means that feature d is less relevant.*\n",
    "\n"
   ]
  },
  {
   "cell_type": "code",
   "execution_count": null,
   "metadata": {},
   "outputs": [],
   "source": [
    "ker4 = GPy.kern.RBF(2,ARD=True)\n",
    "m4 = GPy.models.GPRegression(X,Y,ker4)\n",
    "m4.optimize(messages=True,max_f_eval = 1000)\n",
    "\n",
    "# Let's get a list of all kernel hyperparameters and their values\n",
    "print(ker4.parameter_names())\n",
    "print(ker4.rbf.variance.values)\n",
    "print(ker4.rbf.lengthscale.values)\n",
    "print(ker4.white.variance.values)"
   ]
  },
  {
   "cell_type": "markdown",
   "metadata": {},
   "source": [
    "### GP classification"
   ]
  },
  {
   "cell_type": "code",
   "execution_count": null,
   "metadata": {},
   "outputs": [],
   "source": []
  },
  {
   "cell_type": "markdown",
   "metadata": {},
   "source": [
    "### Sparse GPs\n",
    "GPs are kernelized methods that involve the inversion of the full kernel matrix (size NxN, where N is the number of training points) in order to make predictions. This is a computationally expensive procedure ( $\\mathcal{O}(N^3)$ ).\n",
    "\n",
    "Therefore, sparse GPs try to select a subset of points N' that represent the full GP, and make the K matrix much smaller ($N' << N$)."
   ]
  },
  {
   "cell_type": "code",
   "execution_count": null,
   "metadata": {},
   "outputs": [],
   "source": [
    "Z = np.random.rand(npoints,1)\n",
    "m = GPy.models.SparseGPRegression(X,y,Z=Z)\n",
    "\n",
    "m.optimize('bfgs')\n",
    "m.plot()\n",
    "m_full.plot()\n",
    "print(m.log_likelihood(), m_full.log_likelihood())"
   ]
  }
 ],
 "metadata": {
  "kernelspec": {
   "display_name": "Python 3",
   "language": "python",
   "name": "python3"
  },
  "language_info": {
   "codemirror_mode": {
    "name": "ipython",
    "version": 3
   },
   "file_extension": ".py",
   "mimetype": "text/x-python",
   "name": "python",
   "nbconvert_exporter": "python",
   "pygments_lexer": "ipython3",
   "version": "3.7.3"
  }
 },
 "nbformat": 4,
 "nbformat_minor": 2
}
